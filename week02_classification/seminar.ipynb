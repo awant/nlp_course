{
 "cells": [
  {
   "cell_type": "markdown",
   "metadata": {},
   "source": [
    "# Large scale text analysis with deep learning (3 points)\n",
    "\n",
    "Today we're gonna apply the newly learned tools for the task of predicting job salary.\n",
    "\n",
    "<img src=\"https://kaggle2.blob.core.windows.net/competitions/kaggle/3342/media/salary%20prediction%20engine%20v2.png\" width=400px>\n",
    "\n",
    "_Special thanks to [Oleg Vasilev](https://github.com/Omrigan/) for the core assignment idea._"
   ]
  },
  {
   "cell_type": "code",
   "execution_count": 1,
   "metadata": {
    "collapsed": true
   },
   "outputs": [],
   "source": [
    "import numpy as np\n",
    "import pandas as pd\n",
    "import matplotlib.pyplot as plt\n",
    "%matplotlib inline"
   ]
  },
  {
   "cell_type": "markdown",
   "metadata": {},
   "source": [
    "### About the challenge\n",
    "For starters, let's download and unpack the data from [here](https://www.dropbox.com/s/5msc5ix7ndyba10/Train_rev1.csv.tar.gz?dl=0). \n",
    "\n",
    "You can also get it from [yadisk url](https://yadi.sk/d/vVEOWPFY3NruT7) the competition [page](https://www.kaggle.com/c/job-salary-prediction/data) (pick `Train_rev1.*`)."
   ]
  },
  {
   "cell_type": "code",
   "execution_count": 2,
   "metadata": {},
   "outputs": [
    {
     "data": {
      "text/plain": [
       "(244768, 12)"
      ]
     },
     "execution_count": 2,
     "metadata": {},
     "output_type": "execute_result"
    }
   ],
   "source": [
    "# !curl -L https://www.dropbox.com/s/5msc5ix7ndyba10/Train_rev1.csv.tar.gz?dl=1 -o Train_rev1.csv.tar.gz\n",
    "# !tar -xvzf ./Train_rev1.csv.tar.gz\n",
    "data = pd.read_csv(\"./Train_rev1.csv\", index_col=None)\n",
    "data.shape"
   ]
  },
  {
   "cell_type": "markdown",
   "metadata": {},
   "source": [
    "One problem with salary prediction is that it's oddly distributed: there are many people who are paid standard salaries and a few that get tons o money. The distribution is fat-tailed on the right side, which is inconvenient for MSE minimization.\n",
    "\n",
    "There are several techniques to combat this: using a different loss function, predicting log-target instead of raw target or even replacing targets with their percentiles among all salaries in the training set. We gonna use logarithm for now.\n",
    "\n",
    "_You can read more [in the official description](https://www.kaggle.com/c/job-salary-prediction#description)._"
   ]
  },
  {
   "cell_type": "code",
   "execution_count": 3,
   "metadata": {},
   "outputs": [
    {
     "data": {
      "image/png": "[encoded data removed]",
      "text/plain": [
       "<matplotlib.figure.Figure at 0x121107f60>"
      ]
     },
     "metadata": {},
     "output_type": "display_data"
    }
   ],
   "source": [
    "data['Log1pSalary'] = np.log1p(data['SalaryNormalized']).astype('float32')\n",
    "\n",
    "plt.figure(figsize=[8, 4])\n",
    "plt.subplot(1, 2, 1)\n",
    "plt.hist(data[\"SalaryNormalized\"], bins=20);\n",
    "\n",
    "plt.subplot(1, 2, 2)\n",
    "plt.hist(data['Log1pSalary'], bins=20);"
   ]
  },
  {
   "cell_type": "markdown",
   "metadata": {},
   "source": [
    "Our task is to predict one number, __Log1pSalary__.\n",
    "\n",
    "To do so, our model can access a number of features:\n",
    "* Free text: __`Title`__ and  __`FullDescription`__\n",
    "* Categorical: __`Category`__, __`Company`__, __`LocationNormalized`__, __`ContractType`__, and __`ContractTime`__."
   ]
  },
  {
   "cell_type": "code",
   "execution_count": 4,
   "metadata": {},
   "outputs": [
    {
     "data": {
      "text/html": [
       "<div>\n",
       "<style>\n",
       "    .dataframe thead tr:only-child th {\n",
       "        text-align: right;\n",
       "    }\n",
       "\n",
       "    .dataframe thead th {\n",
       "        text-align: left;\n",
       "    }\n",
       "\n",
       "    .dataframe tbody tr th {\n",
       "        vertical-align: top;\n",
       "    }\n",
       "</style>\n",
       "<table border=\"1\" class=\"dataframe\">\n",
       "  <thead>\n",
       "    <tr style=\"text-align: right;\">\n",
       "      <th></th>\n",
       "      <th>Id</th>\n",
       "      <th>Title</th>\n",
       "      <th>FullDescription</th>\n",
       "      <th>LocationRaw</th>\n",
       "      <th>LocationNormalized</th>\n",
       "      <th>ContractType</th>\n",
       "      <th>ContractTime</th>\n",
       "      <th>Company</th>\n",
       "      <th>Category</th>\n",
       "      <th>SalaryRaw</th>\n",
       "      <th>SalaryNormalized</th>\n",
       "      <th>SourceName</th>\n",
       "      <th>Log1pSalary</th>\n",
       "    </tr>\n",
       "  </thead>\n",
       "  <tbody>\n",
       "    <tr>\n",
       "      <th>63489</th>\n",
       "      <td>68704215</td>\n",
       "      <td>Quality Standards Assistant</td>\n",
       "      <td>Skills Attributes Essential: Level 3 Computer ...</td>\n",
       "      <td>Gloucester Gloucestershire South West</td>\n",
       "      <td>Gloucester</td>\n",
       "      <td>NaN</td>\n",
       "      <td>permanent</td>\n",
       "      <td>Serco</td>\n",
       "      <td>Teaching Jobs</td>\n",
       "      <td>23000 - 28000 per annum + benefits</td>\n",
       "      <td>25500</td>\n",
       "      <td>totaljobs.com</td>\n",
       "      <td>10.146473</td>\n",
       "    </tr>\n",
       "    <tr>\n",
       "      <th>154479</th>\n",
       "      <td>71013179</td>\n",
       "      <td>EXCITING OPPORTUNITIES FOR 2013 REGISTER NOW</td>\n",
       "      <td>Founded in **** Law Professionals forms part o...</td>\n",
       "      <td>London</td>\n",
       "      <td>London</td>\n",
       "      <td>full_time</td>\n",
       "      <td>contract</td>\n",
       "      <td>Law Professionals</td>\n",
       "      <td>Legal Jobs</td>\n",
       "      <td>From 200 to 450 per day</td>\n",
       "      <td>78000</td>\n",
       "      <td>TotallyLegal</td>\n",
       "      <td>11.264477</td>\n",
       "    </tr>\n",
       "    <tr>\n",
       "      <th>219061</th>\n",
       "      <td>72339443</td>\n",
       "      <td>Foundation Stage Coordinator</td>\n",
       "      <td>Do you have a broad understanding of the EYFS ...</td>\n",
       "      <td>London</td>\n",
       "      <td>London</td>\n",
       "      <td>NaN</td>\n",
       "      <td>permanent</td>\n",
       "      <td>Edustaff London Ltd</td>\n",
       "      <td>Teaching Jobs</td>\n",
       "      <td>27000 - 45351/annum MPS/UPS + TLR</td>\n",
       "      <td>36175</td>\n",
       "      <td>cv-library.co.uk</td>\n",
       "      <td>10.496151</td>\n",
       "    </tr>\n",
       "  </tbody>\n",
       "</table>\n",
       "</div>"
      ],
      "text/plain": [
       "              Id                                         Title  \\\n",
       "63489   68704215                   Quality Standards Assistant   \n",
       "154479  71013179  EXCITING OPPORTUNITIES FOR 2013 REGISTER NOW   \n",
       "219061  72339443                  Foundation Stage Coordinator   \n",
       "\n",
       "                                          FullDescription  \\\n",
       "63489   Skills Attributes Essential: Level 3 Computer ...   \n",
       "154479  Founded in **** Law Professionals forms part o...   \n",
       "219061  Do you have a broad understanding of the EYFS ...   \n",
       "\n",
       "                                  LocationRaw LocationNormalized ContractType  \\\n",
       "63489   Gloucester Gloucestershire South West         Gloucester          NaN   \n",
       "154479                                 London             London    full_time   \n",
       "219061                                 London             London          NaN   \n",
       "\n",
       "       ContractTime              Company       Category  \\\n",
       "63489     permanent                Serco  Teaching Jobs   \n",
       "154479     contract    Law Professionals     Legal Jobs   \n",
       "219061    permanent  Edustaff London Ltd  Teaching Jobs   \n",
       "\n",
       "                                 SalaryRaw  SalaryNormalized  \\\n",
       "63489   23000 - 28000 per annum + benefits             25500   \n",
       "154479             From 200 to 450 per day             78000   \n",
       "219061   27000 - 45351/annum MPS/UPS + TLR             36175   \n",
       "\n",
       "              SourceName  Log1pSalary  \n",
       "63489      totaljobs.com    10.146473  \n",
       "154479      TotallyLegal    11.264477  \n",
       "219061  cv-library.co.uk    10.496151  "
      ]
     },
     "execution_count": 4,
     "metadata": {},
     "output_type": "execute_result"
    }
   ],
   "source": [
    "text_columns = [\"Title\", \"FullDescription\"]\n",
    "categorical_columns = [\"Category\", \"Company\", \"LocationNormalized\", \"ContractType\", \"ContractTime\"]\n",
    "target_column = \"Log1pSalary\"\n",
    "\n",
    "data[categorical_columns] = data[categorical_columns].fillna('NaN') # cast missing values to string \"NaN\"\n",
    "\n",
    "data.sample(3)"
   ]
  },
  {
   "cell_type": "markdown",
   "metadata": {},
   "source": [
    "### Preprocessing text data\n",
    "\n",
    "Just like last week, applying NLP to a problem begins from tokenization: splitting raw text into sequences of tokens (words, punctuation, etc).\n",
    "\n",
    "__Your task__ is to lowercase and tokenize all texts under `Title` and `FullDescription` columns. Store the tokenized data as a __space-separated__ string of tokens for performance reasons.\n",
    "\n",
    "It's okay to use nltk tokenizers. Assertions were designed for WordPunctTokenizer, slight deviations are okay."
   ]
  },
  {
   "cell_type": "code",
   "execution_count": 5,
   "metadata": {},
   "outputs": [
    {
     "name": "stdout",
     "output_type": "stream",
     "text": [
      "Raw text:\n",
      "2         Mathematical Modeller / Simulation Analyst / O...\n",
      "100002    A successful and high achieving specialist sch...\n",
      "200002    Web Designer  HTML, CSS, JavaScript, Photoshop...\n",
      "Name: FullDescription, dtype: object\n"
     ]
    }
   ],
   "source": [
    "print(\"Raw text:\")\n",
    "print(data[\"FullDescription\"][2::100000])"
   ]
  },
  {
   "cell_type": "code",
   "execution_count": 15,
   "metadata": {},
   "outputs": [],
   "source": [
    "import nltk\n",
    "tokenizer = nltk.tokenize.WordPunctTokenizer()\n",
    "\n",
    "for col in text_columns:\n",
    "    data[col] = data[col].astype(str).apply(lambda x: ' '.join(tokenizer.tokenize(x.lower())))"
   ]
  },
  {
   "cell_type": "markdown",
   "metadata": {},
   "source": [
    "Now we can assume that our text is a space-separated list of tokens:"
   ]
  },
  {
   "cell_type": "code",
   "execution_count": 16,
   "metadata": {},
   "outputs": [
    {
     "name": "stdout",
     "output_type": "stream",
     "text": [
      "Tokenized:\n",
      "2         mathematical modeller / simulation analyst / o...\n",
      "100002    a successful and high achieving specialist sch...\n",
      "200002    web designer html , css , javascript , photosh...\n",
      "Name: FullDescription, dtype: object\n"
     ]
    }
   ],
   "source": [
    "print(\"Tokenized:\")\n",
    "print(data[\"FullDescription\"][2::100000])\n",
    "assert data[\"FullDescription\"][2][:50] == 'mathematical modeller / simulation analyst / opera'\n",
    "assert data[\"Title\"][54321] == 'international digital account manager ( german )'"
   ]
  },
  {
   "cell_type": "markdown",
   "metadata": {},
   "source": [
    "Not all words are equally useful. Some of them are typos or rare words that are only present a few times. \n",
    "\n",
    "Let's count how many times is each word present in the data so that we can build a \"white list\" of known words."
   ]
  },
  {
   "cell_type": "code",
   "execution_count": 17,
   "metadata": {
    "collapsed": true
   },
   "outputs": [],
   "source": [
    "# Count how many times does each token occur in both \"Title\" and \"FullDescription\" in total\n",
    "# build a dictionary { token -> it's count }\n",
    "from collections import Counter\n",
    "import itertools\n",
    "\n",
    "all_tokens = []\n",
    "for column in text_columns:\n",
    "    all_tokens += [sentence.split(' ') for sentence in data[column]]\n",
    "\n",
    "token_counts = Counter(itertools.chain(*all_tokens))"
   ]
  },
  {
   "cell_type": "code",
   "execution_count": 18,
   "metadata": {},
   "outputs": [
    {
     "name": "stdout",
     "output_type": "stream",
     "text": [
      "Total unique tokens : 202704\n",
      "('and', 2657388)\n",
      "('.', 2523216)\n",
      "(',', 2318606)\n",
      "('the', 2080994)\n",
      "('to', 2019884)\n",
      "...\n",
      "('stephanietraveltraderecruitmnt', 1)\n",
      "('ruabon', 1)\n",
      "('lowehays', 1)\n",
      "Correct!\n"
     ]
    }
   ],
   "source": [
    "print(\"Total unique tokens :\", len(token_counts))\n",
    "print('\\n'.join(map(str, token_counts.most_common(n=5))))\n",
    "print('...')\n",
    "print('\\n'.join(map(str, token_counts.most_common()[-3:])))\n",
    "\n",
    "assert token_counts.most_common(1)[0][1] in  range(2600000, 2700000)\n",
    "assert len(token_counts) in range(200000, 210000)\n",
    "print('Correct!')"
   ]
  },
  {
   "cell_type": "code",
   "execution_count": 19,
   "metadata": {},
   "outputs": [
    {
     "data": {
      "image/png": "[encoded data removed]",
      "text/plain": [
       "<matplotlib.figure.Figure at 0x12a085780>"
      ]
     },
     "metadata": {},
     "output_type": "display_data"
    }
   ],
   "source": [
    "# Let's see how many words are there for each count\n",
    "plt.hist(list(token_counts.values()), range=[0, 10**4], bins=50, log=True)\n",
    "plt.xlabel(\"Word counts\");"
   ]
  },
  {
   "cell_type": "markdown",
   "metadata": {},
   "source": [
    "Zipf's law works! :)"
   ]
  },
  {
   "cell_type": "markdown",
   "metadata": {},
   "source": [
    "Now filter tokens a list of all tokens that occur at least 10 times."
   ]
  },
  {
   "cell_type": "code",
   "execution_count": 20,
   "metadata": {
    "collapsed": true
   },
   "outputs": [],
   "source": [
    "min_count = 10\n",
    "\n",
    "# tokens from token_counts keys that had at least min_count occurrences throughout the dataset\n",
    "tokens = [token for token, count in token_counts.items() if count >= min_count]"
   ]
  },
  {
   "cell_type": "code",
   "execution_count": 21,
   "metadata": {},
   "outputs": [
    {
     "name": "stdout",
     "output_type": "stream",
     "text": [
      "Vocabulary size: 34158\n",
      "Correct!\n"
     ]
    }
   ],
   "source": [
    "# Add a special tokens for unknown and empty words\n",
    "UNK, PAD = \"UNK\", \"PAD\"\n",
    "tokens = [UNK, PAD] + sorted(tokens)\n",
    "print(\"Vocabulary size:\", len(tokens))\n",
    "\n",
    "assert type(tokens) == list\n",
    "assert len(tokens) in range(32000, 35000)\n",
    "assert 'me' in tokens\n",
    "assert UNK in tokens\n",
    "print(\"Correct!\")"
   ]
  },
  {
   "cell_type": "markdown",
   "metadata": {},
   "source": [
    "Build an inverse token index: a dictionary from token(string) to it's index in `tokens` (int)"
   ]
  },
  {
   "cell_type": "code",
   "execution_count": 22,
   "metadata": {
    "collapsed": true
   },
   "outputs": [],
   "source": [
    "token_to_id = {token: idx for idx, token in enumerate(tokens)}"
   ]
  },
  {
   "cell_type": "code",
   "execution_count": 23,
   "metadata": {},
   "outputs": [
    {
     "name": "stdout",
     "output_type": "stream",
     "text": [
      "Correct!\n"
     ]
    }
   ],
   "source": [
    "assert isinstance(token_to_id, dict)\n",
    "assert len(token_to_id) == len(tokens)\n",
    "for tok in tokens:\n",
    "    assert tokens[token_to_id[tok]] == tok\n",
    "\n",
    "print(\"Correct!\")"
   ]
  },
  {
   "cell_type": "markdown",
   "metadata": {},
   "source": [
    "And finally, let's use the vocabulary you've built to map text lines into neural network-digestible matrices."
   ]
  },
  {
   "cell_type": "code",
   "execution_count": 24,
   "metadata": {
    "collapsed": true
   },
   "outputs": [],
   "source": [
    "UNK_IX, PAD_IX = map(token_to_id.get, [UNK, PAD])\n",
    "\n",
    "def as_matrix(sequences, max_len=None):\n",
    "    \"\"\" Convert a list of tokens into a matrix with padding \"\"\"\n",
    "    if isinstance(sequences[0], str):\n",
    "        sequences = list(map(str.split, sequences))\n",
    "        \n",
    "    max_len = min(max(map(len, sequences)), max_len or float('inf'))\n",
    "    \n",
    "    matrix = np.full((len(sequences), max_len), np.int32(PAD_IX))\n",
    "    for i,seq in enumerate(sequences):\n",
    "        row_ix = [token_to_id.get(word, UNK_IX) for word in seq[:max_len]]\n",
    "        matrix[i, :len(row_ix)] = row_ix\n",
    "    \n",
    "    return matrix"
   ]
  },
  {
   "cell_type": "code",
   "execution_count": 25,
   "metadata": {},
   "outputs": [
    {
     "name": "stdout",
     "output_type": "stream",
     "text": [
      "Lines:\n",
      "engineering systems analyst\n",
      "hr assistant\n",
      "senior ec & i engineer\n",
      "\n",
      "Matrix:\n",
      "[[10807 30161  2166     1     1]\n",
      " [15020  2844     1     1     1]\n",
      " [27645 10201    16 15215 10804]]\n"
     ]
    }
   ],
   "source": [
    "print(\"Lines:\")\n",
    "print('\\n'.join(data[\"Title\"][::100000].values), end='\\n\\n')\n",
    "print(\"Matrix:\")\n",
    "print(as_matrix(data[\"Title\"][::100000]))"
   ]
  },
  {
   "cell_type": "markdown",
   "metadata": {},
   "source": [
    "Now let's  encode the categirical data we have.\n",
    "\n",
    "As usual, we shall use one-hot encoding for simplicity. Kudos if you implement more advanced encodings: tf-idf, pseudo-time-series, etc."
   ]
  },
  {
   "cell_type": "code",
   "execution_count": 26,
   "metadata": {},
   "outputs": [
    {
     "data": {
      "text/plain": [
       "DictVectorizer(dtype=<class 'numpy.float32'>, separator='=', sort=True,\n",
       "        sparse=False)"
      ]
     },
     "execution_count": 26,
     "metadata": {},
     "output_type": "execute_result"
    }
   ],
   "source": [
    "from sklearn.feature_extraction import DictVectorizer\n",
    "\n",
    "# we only consider top-1k most frequent companies to minimize memory usage\n",
    "top_companies, top_counts = zip(*Counter(data['Company']).most_common(1000))\n",
    "recognized_companies = set(top_companies)\n",
    "data[\"Company\"] = data[\"Company\"].apply(lambda comp: comp if comp in recognized_companies else \"Other\")\n",
    "\n",
    "categorical_vectorizer = DictVectorizer(dtype=np.float32, sparse=False)\n",
    "categorical_vectorizer.fit(data[categorical_columns].apply(dict, axis=1))"
   ]
  },
  {
   "cell_type": "markdown",
   "metadata": {},
   "source": [
    "### The deep learning part\n",
    "\n",
    "Once we've learned to tokenize the data, let's design a machine learning experiment.\n",
    "\n",
    "As before, we won't focus too much on validation, opting for a simple train-test split.\n",
    "\n",
    "__To be completely rigorous,__ we've comitted a small crime here: we used the whole data for tokenization and vocabulary building. A more strict way would be to do that part on training set only. You may want to do that and measure the magnitude of changes."
   ]
  },
  {
   "cell_type": "code",
   "execution_count": 27,
   "metadata": {},
   "outputs": [
    {
     "name": "stdout",
     "output_type": "stream",
     "text": [
      "Train size =  195814\n",
      "Validation size =  48954\n"
     ]
    }
   ],
   "source": [
    "from sklearn.model_selection import train_test_split\n",
    "\n",
    "data_train, data_val = train_test_split(data, test_size=0.2, random_state=42)\n",
    "data_train.index = range(len(data_train))\n",
    "data_val.index = range(len(data_val))\n",
    "\n",
    "print(\"Train size = \", len(data_train))\n",
    "print(\"Validation size = \", len(data_val))"
   ]
  },
  {
   "cell_type": "code",
   "execution_count": 28,
   "metadata": {
    "collapsed": true
   },
   "outputs": [],
   "source": [
    "def make_batch(data, max_len=None, word_dropout=0):\n",
    "    \"\"\"\n",
    "    Creates a keras-friendly dict from the batch data.\n",
    "    :param word_dropout: replaces token index with UNK_IX with this probability\n",
    "    :returns: a dict with {'title' : int64[batch, title_max_len]\n",
    "    \"\"\"\n",
    "    batch = {}\n",
    "    batch[\"Title\"] = as_matrix(data[\"Title\"].values, max_len)\n",
    "    batch[\"FullDescription\"] = as_matrix(data[\"FullDescription\"].values, max_len)\n",
    "    batch['Categorical'] = categorical_vectorizer.transform(data[categorical_columns].apply(dict, axis=1))\n",
    "    \n",
    "    if word_dropout != 0:\n",
    "        batch[\"FullDescription\"] = apply_word_dropout(batch[\"FullDescription\"], 1. - word_dropout)\n",
    "    \n",
    "    if target_column in data.columns:\n",
    "        batch[target_column] = data[target_column].values\n",
    "    \n",
    "    return batch\n",
    "\n",
    "def apply_word_dropout(matrix, keep_prop, replace_with=UNK_IX, pad_ix=PAD_IX,):\n",
    "    dropout_mask = np.random.choice(2, np.shape(matrix), p=[keep_prop, 1 - keep_prop])\n",
    "    dropout_mask &= matrix != pad_ix\n",
    "    return np.choose(dropout_mask, [matrix, np.full_like(matrix, replace_with)])"
   ]
  },
  {
   "cell_type": "code",
   "execution_count": 29,
   "metadata": {},
   "outputs": [
    {
     "data": {
      "text/plain": [
       "{'Categorical': array([[0., 0., 0., ..., 0., 0., 0.],\n",
       "        [0., 0., 0., ..., 0., 0., 0.],\n",
       "        [0., 0., 0., ..., 0., 0., 0.]], dtype=float32),\n",
       " 'FullDescription': array([[27645, 29893, 33674, 32939,   982, 27645, 29893, 33674, 16451,\n",
       "         32939],\n",
       "        [29239,   197, 19175, 20042, 15554, 23162,  4051, 25511,   907,\n",
       "            82],\n",
       "        [30746, 21956, 20601,  6409, 16451,  8165, 27493,   982, 30412,\n",
       "         17746]], dtype=int32),\n",
       " 'Log1pSalary': array([ 9.71154 , 10.463132, 10.71444 ], dtype=float32),\n",
       " 'Title': array([[27645, 29893, 33674,     1,     1,     1,     1],\n",
       "        [29239,   197, 19175, 20042, 15554, 23162,  4051],\n",
       "        [10609, 30412, 17746,    33,  8705, 29157,    65]], dtype=int32)}"
      ]
     },
     "execution_count": 29,
     "metadata": {},
     "output_type": "execute_result"
    }
   ],
   "source": [
    "make_batch(data_train[:3], max_len=10)"
   ]
  },
  {
   "cell_type": "markdown",
   "metadata": {},
   "source": [
    "#### Architecture\n",
    "\n",
    "Our basic model consists of three branches:\n",
    "* Title encoder\n",
    "* Description encoder\n",
    "* Categorical features encoder\n",
    "\n",
    "We will then feed all 3 branches into one common network that predicts salary.\n",
    "\n",
    "<img src=\"https://github.com/yandexdataschool/nlp_course/raw/master/resources/w2_conv_arch.png\" width=600px>"
   ]
  },
  {
   "cell_type": "markdown",
   "metadata": {},
   "source": [
    "This clearly doesn't fit into keras' __Sequential__ interface. To build such a network, one will have to use __[Keras Functional API](https://keras.io/models/model/)__."
   ]
  },
  {
   "cell_type": "code",
   "execution_count": 30,
   "metadata": {},
   "outputs": [
    {
     "name": "stderr",
     "output_type": "stream",
     "text": [
      "/Users/romanmarakulin/anaconda3/lib/python3.6/site-packages/h5py/__init__.py:34: FutureWarning: Conversion of the second argument of issubdtype from `float` to `np.floating` is deprecated. In future, it will be treated as `np.float64 == np.dtype(float).type`.\n",
      "  from ._conv import register_converters as _register_converters\n",
      "Using TensorFlow backend.\n"
     ]
    }
   ],
   "source": [
    "import keras\n",
    "import keras.layers as L"
   ]
  },
  {
   "cell_type": "code",
   "execution_count": 39,
   "metadata": {
    "collapsed": true
   },
   "outputs": [],
   "source": [
    "def build_model(n_tokens=len(tokens), n_cat_features=len(categorical_vectorizer.vocabulary_), hid_size=64):\n",
    "    \"\"\" Build a model that maps three data sources to a single linear output: predicted log1p(salary) \"\"\"\n",
    "    \n",
    "    l_title = L.Input(shape=[None], name=\"Title\")\n",
    "    l_descr = L.Input(shape=[None], name=\"FullDescription\")\n",
    "    l_categ = L.Input(shape=[n_cat_features], name=\"Categorical\")\n",
    "    \n",
    "    emb = L.Embedding(n_tokens, hid_size)\n",
    "    l_title_emb = emb(l_title)\n",
    "    l_title_conv = L.Conv1D(filters=hid_size, kernel_size=2, activation='relu')(l_title_emb)\n",
    "    l_title_out = L.GlobalMaxPool1D()(l_title_conv)\n",
    "    \n",
    "    emb2 = L.Embedding(n_tokens, hid_size)\n",
    "    l_descr_emb = emb2(l_descr)\n",
    "    l_descr_conv = L.Conv1D(filters=hid_size, kernel_size=3, activation='relu')(l_descr_emb)\n",
    "    l_descr_out = L.GlobalMaxPool1D()(l_descr_conv)\n",
    "    \n",
    "    # Make here 2 dense layers\n",
    "    l_categ_out0 = L.Dense(8*hid_size, activation='softmax')(l_categ)\n",
    "    l_categ_out = L.Dense(hid_size)(l_categ_out0)\n",
    "    \n",
    "    l_combined = L.Concatenate()([l_title_out, l_descr_out, l_categ_out])\n",
    "    l_combined_dense = L.Dense(2 * hid_size, activation='relu')(l_combined)\n",
    "    \n",
    "    output_layer = L.Dense(1)(l_combined_dense)\n",
    "    \n",
    "    model = keras.models.Model(inputs=[l_title, l_descr, l_categ], outputs=[output_layer])\n",
    "    model.compile('adam', 'mean_squared_error', metrics=['mean_absolute_error'])\n",
    "    return model"
   ]
  },
  {
   "cell_type": "code",
   "execution_count": 40,
   "metadata": {
    "scrolled": true
   },
   "outputs": [
    {
     "name": "stdout",
     "output_type": "stream",
     "text": [
      "__________________________________________________________________________________________________\n",
      "Layer (type)                    Output Shape         Param #     Connected to                     \n",
      "==================================================================================================\n",
      "Title (InputLayer)              (None, None)         0                                            \n",
      "__________________________________________________________________________________________________\n",
      "FullDescription (InputLayer)    (None, None)         0                                            \n",
      "__________________________________________________________________________________________________\n",
      "embedding_7 (Embedding)         (None, None, 64)     2186112     Title[0][0]                      \n",
      "__________________________________________________________________________________________________\n",
      "embedding_8 (Embedding)         (None, None, 64)     2186112     FullDescription[0][0]            \n",
      "__________________________________________________________________________________________________\n",
      "Categorical (InputLayer)        (None, 3768)         0                                            \n",
      "__________________________________________________________________________________________________\n",
      "conv1d_7 (Conv1D)               (None, None, 64)     8256        embedding_7[0][0]                \n",
      "__________________________________________________________________________________________________\n",
      "conv1d_8 (Conv1D)               (None, None, 64)     12352       embedding_8[0][0]                \n",
      "__________________________________________________________________________________________________\n",
      "dense_10 (Dense)                (None, 512)          1929728     Categorical[0][0]                \n",
      "__________________________________________________________________________________________________\n",
      "global_max_pooling1d_7 (GlobalM (None, 64)           0           conv1d_7[0][0]                   \n",
      "__________________________________________________________________________________________________\n",
      "global_max_pooling1d_8 (GlobalM (None, 64)           0           conv1d_8[0][0]                   \n",
      "__________________________________________________________________________________________________\n",
      "dense_11 (Dense)                (None, 64)           32832       dense_10[0][0]                   \n",
      "__________________________________________________________________________________________________\n",
      "concatenate_4 (Concatenate)     (None, 192)          0           global_max_pooling1d_7[0][0]     \n",
      "                                                                 global_max_pooling1d_8[0][0]     \n",
      "                                                                 dense_11[0][0]                   \n",
      "__________________________________________________________________________________________________\n",
      "dense_12 (Dense)                (None, 128)          24704       concatenate_4[0][0]              \n",
      "__________________________________________________________________________________________________\n",
      "dense_13 (Dense)                (None, 1)            129         dense_12[0][0]                   \n",
      "==================================================================================================\n",
      "Total params: 6,380,225\n",
      "Trainable params: 6,380,225\n",
      "Non-trainable params: 0\n",
      "__________________________________________________________________________________________________\n"
     ]
    }
   ],
   "source": [
    "model = build_model()\n",
    "model.summary()\n",
    "\n",
    "dummy_pred = model.predict(make_batch(data_train[:100]))\n",
    "dummy_loss = model.train_on_batch(make_batch(data_train[:100]), data_train['Log1pSalary'][:100])[0]\n",
    "assert dummy_pred.shape == (100, 1)\n",
    "assert len(np.unique(dummy_pred)) > 20, \"model returns suspiciously few unique outputs. Check your initialization\"\n",
    "assert np.ndim(dummy_loss) == 0 and 0. <= dummy_loss <= 250., \"make sure you minimize MSE\""
   ]
  },
  {
   "cell_type": "markdown",
   "metadata": {},
   "source": [
    "#### Training and evaluation\n",
    "\n",
    "As usual, we gonna feed our monster with random minibatches of data. \n",
    "\n",
    "As we train, we want to monitor not only loss function, which is computed in log-space, but also the actual error measured in dollars."
   ]
  },
  {
   "cell_type": "code",
   "execution_count": 41,
   "metadata": {
    "collapsed": true
   },
   "outputs": [],
   "source": [
    "def iterate_minibatches(data, batch_size=256, shuffle=True, cycle=False, **kwargs):\n",
    "    \"\"\" iterates minibatches of data in random order \"\"\"\n",
    "    while True:\n",
    "        indices = np.arange(len(data))\n",
    "        if shuffle:\n",
    "            indices = np.random.permutation(indices)\n",
    "\n",
    "        for start in range(0, len(indices), batch_size):\n",
    "            batch = make_batch(data.iloc[indices[start : start + batch_size]], **kwargs)\n",
    "            target = batch.pop(target_column)\n",
    "            yield batch, target\n",
    "        \n",
    "        if not cycle: break"
   ]
  },
  {
   "cell_type": "markdown",
   "metadata": {},
   "source": [
    "### Model training\n",
    "\n",
    "We can now fit our model the usual minibatch way. The interesting part is that we train on an infinite stream of minibatches, produced by `iterate_minibatches` function."
   ]
  },
  {
   "cell_type": "code",
   "execution_count": 42,
   "metadata": {
    "scrolled": true
   },
   "outputs": [
    {
     "name": "stdout",
     "output_type": "stream",
     "text": [
      "Epoch 1/10\n",
      "100/100 [==============================] - 90s 897ms/step - loss: 21.4442 - mean_absolute_error: 3.0124 - val_loss: 0.3676 - val_mean_absolute_error: 0.4759\n",
      "Epoch 2/10\n",
      "100/100 [==============================] - 88s 877ms/step - loss: 0.2865 - mean_absolute_error: 0.4152 - val_loss: 0.2254 - val_mean_absolute_error: 0.3649\n",
      "Epoch 3/10\n",
      "100/100 [==============================] - 95s 945ms/step - loss: 0.1936 - mean_absolute_error: 0.3377 - val_loss: 0.1572 - val_mean_absolute_error: 0.3028\n",
      "Epoch 4/10\n",
      "100/100 [==============================] - 90s 896ms/step - loss: 0.1415 - mean_absolute_error: 0.2848 - val_loss: 0.1185 - val_mean_absolute_error: 0.2610\n",
      "Epoch 5/10\n",
      "100/100 [==============================] - 84s 842ms/step - loss: 0.1182 - mean_absolute_error: 0.2573 - val_loss: 0.1039 - val_mean_absolute_error: 0.2420\n",
      "Epoch 6/10\n",
      "100/100 [==============================] - 93s 926ms/step - loss: 0.1025 - mean_absolute_error: 0.2398 - val_loss: 0.0976 - val_mean_absolute_error: 0.2353\n",
      "Epoch 7/10\n",
      "100/100 [==============================] - 91s 911ms/step - loss: 0.0986 - mean_absolute_error: 0.2344 - val_loss: 0.0923 - val_mean_absolute_error: 0.2252\n",
      "Epoch 8/10\n",
      "100/100 [==============================] - 95s 950ms/step - loss: 0.0890 - mean_absolute_error: 0.2211 - val_loss: 0.0876 - val_mean_absolute_error: 0.2192\n",
      "Epoch 9/10\n",
      "100/100 [==============================] - 96s 957ms/step - loss: 0.0828 - mean_absolute_error: 0.2111 - val_loss: 0.0844 - val_mean_absolute_error: 0.2155\n",
      "Epoch 10/10\n",
      "100/100 [==============================] - 92s 921ms/step - loss: 0.0810 - mean_absolute_error: 0.2095 - val_loss: 0.0818 - val_mean_absolute_error: 0.2104\n"
     ]
    },
    {
     "data": {
      "text/plain": [
       "<keras.callbacks.History at 0x215bcfda0>"
      ]
     },
     "execution_count": 42,
     "metadata": {},
     "output_type": "execute_result"
    }
   ],
   "source": [
    "batch_size = 256\n",
    "epochs = 10            # definitely too small\n",
    "steps_per_epoch = 100  # for full pass over data: (len(data_train) - 1) // batch_size + 1\n",
    "\n",
    "model = build_model()\n",
    "\n",
    "model.fit_generator(iterate_minibatches(data_train, batch_size, cycle=True, word_dropout=0.05), \n",
    "                    epochs=epochs, steps_per_epoch=steps_per_epoch,\n",
    "                    \n",
    "                    validation_data=iterate_minibatches(data_val, batch_size, cycle=True),\n",
    "                    validation_steps=data_val.shape[0] // batch_size\n",
    "                   )"
   ]
  },
  {
   "cell_type": "code",
   "execution_count": 43,
   "metadata": {
    "scrolled": true
   },
   "outputs": [
    {
     "name": "stdout",
     "output_type": "stream",
     "text": [
      "Train results:\n",
      "Mean square error: 0.07332\n",
      "Mean absolute error: 0.19791\n",
      "Val results:\n",
      "Mean square error: 0.08115\n",
      "Mean absolute error: 0.20993\n"
     ]
    }
   ],
   "source": [
    "def print_metrics(model, data, batch_size=batch_size, name=\"\", **kw):\n",
    "    squared_error = abs_error = num_samples = 0.0\n",
    "    for batch_x, batch_y in iterate_minibatches(data, batch_size=batch_size, shuffle=False, **kw):\n",
    "        batch_pred = model.predict(batch_x)[:, 0]\n",
    "        squared_error += np.sum(np.square(batch_pred - batch_y))\n",
    "        abs_error += np.sum(np.abs(batch_pred - batch_y))\n",
    "        num_samples += len(batch_y)\n",
    "    print(\"%s results:\" % (name or \"\"))\n",
    "    print(\"Mean square error: %.5f\" % (squared_error / num_samples))\n",
    "    print(\"Mean absolute error: %.5f\" % (abs_error / num_samples))\n",
    "    return squared_error, abs_error\n",
    "    \n",
    "print_metrics(model, data_train, name='Train')\n",
    "print_metrics(model, data_val, name='Val');"
   ]
  },
  {
   "cell_type": "markdown",
   "metadata": {},
   "source": [
    "### Bonus part: explaining model predictions\n",
    "\n",
    "It's usually a good idea to understand how your model works before you let it make actual decisions. It's simple for linear models: just see which words learned positive or negative weights. However, its much harder for neural networks that learn complex nonlinear dependencies.\n",
    "\n",
    "There are, however, some ways to look inside the black box:\n",
    "* Seeing how model responds to input perturbations\n",
    "* Finding inputs that maximize/minimize activation of some chosen neurons (_read more [on distill.pub](https://distill.pub/2018/building-blocks/)_)\n",
    "* Building local linear approximations to your neural network: [article](https://arxiv.org/abs/1602.04938), [eli5 library](https://github.com/TeamHG-Memex/eli5/tree/master/eli5/formatters)\n",
    "\n",
    "Today we gonna try the first method just because it's the simplest one."
   ]
  },
  {
   "cell_type": "code",
   "execution_count": 47,
   "metadata": {
    "collapsed": true
   },
   "outputs": [],
   "source": [
    "def explain(model, sample, col_name='Title'):\n",
    "    \"\"\" Computes the effect each word had on model predictions \"\"\"\n",
    "    sample = dict(sample)\n",
    "    sample_col_tokens = [tokens[token_to_id.get(tok, 0)] for tok in sample[col_name].split()]\n",
    "    data_drop_one_token = pd.DataFrame([sample] * (len(sample_col_tokens) + 1))\n",
    "\n",
    "    for drop_i in range(len(sample_col_tokens)):\n",
    "        data_drop_one_token.loc[drop_i, col_name] = ' '.join(UNK if i == drop_i else tok\n",
    "                                                   for i, tok in enumerate(sample_col_tokens)) \n",
    "\n",
    "    *predictions_drop_one_token, baseline_pred = model.predict(make_batch(data_drop_one_token))[:, 0]\n",
    "    diffs = baseline_pred - predictions_drop_one_token\n",
    "    return list(zip(sample_col_tokens, diffs))"
   ]
  },
  {
   "cell_type": "code",
   "execution_count": 48,
   "metadata": {
    "collapsed": true
   },
   "outputs": [],
   "source": [
    "from IPython.display import HTML, display_html\n",
    "\n",
    "def draw_html(tokens_and_weights, cmap=plt.get_cmap(\"bwr\"), display=True,\n",
    "              token_template=\"\"\"<span style=\"background-color: {color_hex}\">{token}</span>\"\"\",\n",
    "              font_style=\"font-size:14px;\"\n",
    "             ):\n",
    "    \n",
    "    def get_color_hex(weight):\n",
    "        rgba = cmap(1. / (1 + np.exp(weight)), bytes=True)\n",
    "        return '#%02X%02X%02X' % rgba[:3]\n",
    "    \n",
    "    tokens_html = [\n",
    "        token_template.format(token=token, color_hex=get_color_hex(weight))\n",
    "        for token, weight in tokens_and_weights\n",
    "    ]\n",
    "    \n",
    "    \n",
    "    raw_html = \"\"\"<p style=\"{}\">{}</p>\"\"\".format(font_style, ' '.join(tokens_html))\n",
    "    if display:\n",
    "        display_html(HTML(raw_html))\n",
    "        \n",
    "    return raw_html\n",
    "    "
   ]
  },
  {
   "cell_type": "code",
   "execution_count": 49,
   "metadata": {},
   "outputs": [
    {
     "data": {
      "text/html": [
       "<p style=\"font-size:20px;\"><span style=\"background-color: #FFC0C0\">sales</span> <span style=\"background-color: #9E9EFF\">specialist</span> <span style=\"background-color: #FF9898\">iv</span> <span style=\"background-color: #FF8A8A\">access</span> <span style=\"background-color: #FF8E8E\">and</span> <span style=\"background-color: #FFD8D8\">infusion</span></p>"
      ]
     },
     "metadata": {},
     "output_type": "display_data"
    },
    {
     "data": {
      "text/html": [
       "<p style=\"font-size:14px;\"><span style=\"background-color: #FFFEFE\">sales</span> <span style=\"background-color: #FFFEFE\">representative</span> <span style=\"background-color: #FFFAFA\">medical</span> <span style=\"background-color: #FFFEFE\">sales</span> <span style=\"background-color: #FEFEFF\">iv</span> <span style=\"background-color: #FFEEEE\">access</span> <span style=\"background-color: #FFFEFE\">and</span> <span style=\"background-color: #FFFEFE\">infusion</span> <span style=\"background-color: #F8F8FF\">an</span> <span style=\"background-color: #F8F8FF\">opportunity</span> <span style=\"background-color: #FFFAFA\">to</span> <span style=\"background-color: #FFFEFE\">work</span> <span style=\"background-color: #FFFEFE\">for</span> <span style=\"background-color: #FCFCFF\">the</span> <span style=\"background-color: #FFF4F4\">industry</span> <span style=\"background-color: #F8F8FF\">leading</span> <span style=\"background-color: #F0F0FF\">manufacturer</span> <span style=\"background-color: #FFFCFC\">of</span> <span style=\"background-color: #FFFEFE\">iv</span> <span style=\"background-color: #FFEEEE\">access</span> <span style=\"background-color: #FFFEFE\">and</span> <span style=\"background-color: #FFFEFE\">infusion</span> <span style=\"background-color: #FFF6F6\">solutions</span> <span style=\"background-color: #FFFCFC\">.</span> <span style=\"background-color: #FFFEFE\">formally</span> <span style=\"background-color: #FFFEFE\">recognised</span> <span style=\"background-color: #FFFEFE\">as</span> <span style=\"background-color: #FFFEFE\">the</span> <span style=\"background-color: #FFF0F0\">number</span> <span style=\"background-color: #FFFEFE\">****</span> <span style=\"background-color: #FFE8E8\">company</span> <span style=\"background-color: #FCFCFF\">in</span> <span style=\"background-color: #F3F3FF\">this</span> <span style=\"background-color: #FCFCFF\">market</span> <span style=\"background-color: #FFFEFE\">space</span> <span style=\"background-color: #FFFEFE\">,</span> <span style=\"background-color: #FEFEFF\">our</span> <span style=\"background-color: #FEFEFF\">client</span> <span style=\"background-color: #FEFEFF\">are</span> <span style=\"background-color: #FFF6F6\">an</span> <span style=\"background-color: #FFFEFE\">ethical</span> <span style=\"background-color: #FFFEFE\">and</span> <span style=\"background-color: #FFFEFE\">dynamic</span> <span style=\"background-color: #FFFEFE\">organisation</span> <span style=\"background-color: #FFFEFE\">absolutely</span> <span style=\"background-color: #FFF6F6\">committed</span> <span style=\"background-color: #FFFEFE\">to</span> <span style=\"background-color: #FFFEFE\">the</span> <span style=\"background-color: #FFECEC\">advancement</span> <span style=\"background-color: #E0E0FF\">of</span> <span style=\"background-color: #FFFCFC\">innovative</span> <span style=\"background-color: #D8D8FF\">technologies</span> <span style=\"background-color: #F8F8FF\">.</span> <span style=\"background-color: #FEFEFF\">job</span> <span style=\"background-color: #FFEEEE\">title</span> <span style=\"background-color: #FCFCFF\">:</span> <span style=\"background-color: #FFFAFA\">sales</span> <span style=\"background-color: #FFFEFE\">specialist</span> <span style=\"background-color: #FFFCFC\">iv</span> <span style=\"background-color: #FFEEEE\">access</span> <span style=\"background-color: #FFFEFE\">and</span> <span style=\"background-color: #FFFEFE\">infusion</span> <span style=\"background-color: #FFFAFA\">selling</span> <span style=\"background-color: #FFFEFE\">:</span> <span style=\"background-color: #FFEEEE\">medication</span> <span style=\"background-color: #F2F2FF\">delivery</span> <span style=\"background-color: #F2F2FF\">solutions</span> <span style=\"background-color: #FFEAEA\">selling</span> <span style=\"background-color: #F8F8FF\">to</span> <span style=\"background-color: #F6F6FF\">:</span> <span style=\"background-color: #FFE6E6\">iv</span> <span style=\"background-color: #FFFCFC\">teams</span> <span style=\"background-color: #FFFEFE\">,</span> <span style=\"background-color: #FFFEFE\">infection</span> <span style=\"background-color: #EEEEFF\">control</span> <span style=\"background-color: #F6F6FF\">,</span> <span style=\"background-color: #E0E0FF\">lead</span> <span style=\"background-color: #FFFCFC\">intensive</span> <span style=\"background-color: #FFFEFE\">care</span> <span style=\"background-color: #FFFEFE\">nurse</span> <span style=\"background-color: #FFFEFE\">specialists</span> <span style=\"background-color: #FFFEFE\">,</span> <span style=\"background-color: #FFFEFE\">ward</span> <span style=\"background-color: #FFFEFE\">managers</span> <span style=\"background-color: #FFFAFA\">territory</span> <span style=\"background-color: #FFF2F2\">:</span> <span style=\"background-color: #FFF6F6\">east</span> <span style=\"background-color: #F8F8FF\">midlands</span> <span style=\"background-color: #F8F8FF\">location</span> <span style=\"background-color: #FFF8F8\">:</span> <span style=\"background-color: #FFF6F6\">east</span> <span style=\"background-color: #FFFAFA\">midlands</span> <span style=\"background-color: #FFFEFE\">package</span> <span style=\"background-color: #FFFEFE\">:</span> <span style=\"background-color: #FFE8E8\">basic</span> <span style=\"background-color: #FFF4F4\">:</span> <span style=\"background-color: #FFFEFE\">****</span> <span style=\"background-color: #FFFEFE\">k</span> <span style=\"background-color: #FFF2F2\">****</span> <span style=\"background-color: #D3D3FF\">k</span> <span style=\"background-color: #C8C8FF\">,</span> <span style=\"background-color: #DCDCFF\">uncapped</span> <span style=\"background-color: #FFFEFE\">bonus</span> <span style=\"background-color: #F2F2FF\">in</span> <span style=\"background-color: #FFE8E8\">addition</span> <span style=\"background-color: #EEEEFF\">,</span> <span style=\"background-color: #FFFCFC\">full</span> <span style=\"background-color: #FCFCFF\">corporate</span> <span style=\"background-color: #FCFCFF\">benefits</span> <span style=\"background-color: #FFF6F6\">company</span> <span style=\"background-color: #FFFAFA\">information</span> <span style=\"background-color: #FFF2F2\">hugely</span> <span style=\"background-color: #FFF8F8\">ethical</span> <span style=\"background-color: #FFF4F4\">and</span> <span style=\"background-color: #FCFCFF\">professional</span> <span style=\"background-color: #C3C3FF\">global</span> <span style=\"background-color: #D6D6FF\">organisation</span> <span style=\"background-color: #D6D6FF\">extremely</span> <span style=\"background-color: #FEFEFF\">well</span> <span style=\"background-color: #FFF2F2\">established</span> <span style=\"background-color: #FFFEFE\">in</span> <span style=\"background-color: #FFFEFE\">the</span> <span style=\"background-color: #FFFCFC\">uk</span> <span style=\"background-color: #FFF0F0\">the</span> <span style=\"background-color: #FFFEFE\">market</span> <span style=\"background-color: #FFFEFE\">leader</span> <span style=\"background-color: #FFF6F6\">across</span> <span style=\"background-color: #FFF4F4\">all</span> <span style=\"background-color: #E8E8FF\">of</span> <span style=\"background-color: #F0F0FF\">their</span> <span style=\"background-color: #F3F3FF\">core</span> <span style=\"background-color: #FFFCFC\">business</span> <span style=\"background-color: #FFFEFE\">areas</span> <span style=\"background-color: #FFFEFE\">focus</span> <span style=\"background-color: #FFFEFE\">on</span> <span style=\"background-color: #FCFCFF\">providing</span> <span style=\"background-color: #FFFAFA\">cutting</span> <span style=\"background-color: #F3F3FF\">edge</span> <span style=\"background-color: #FFEEEE\">solutions</span> <span style=\"background-color: #FFFEFE\">along</span> <span style=\"background-color: #FFFEFE\">with</span> <span style=\"background-color: #FFFEFE\">outstanding</span> <span style=\"background-color: #FFE6E6\">service</span> <span style=\"background-color: #FFFEFE\">and</span> <span style=\"background-color: #FCFCFF\">support</span> <span style=\"background-color: #F8F8FF\">a</span> <span style=\"background-color: #FCFCFF\">business</span> <span style=\"background-color: #FAFAFF\">that</span> <span style=\"background-color: #FFFEFE\">retain</span> <span style=\"background-color: #FFFEFE\">talented</span> <span style=\"background-color: #FFFEFE\">personnel</span> <span style=\"background-color: #FFFEFE\">by</span> <span style=\"background-color: #FFF2F2\">offering</span> <span style=\"background-color: #FFFEFE\">a</span> <span style=\"background-color: #FFFAFA\">strong</span> <span style=\"background-color: #FFEAEA\">platform</span> <span style=\"background-color: #FFE4E4\">for</span> <span style=\"background-color: #E3E3FF\">career</span> <span style=\"background-color: #DEDEFF\">development</span> <span style=\"background-color: #FFFEFE\">sales</span> <span style=\"background-color: #FFFEFE\">specialist</span> <span style=\"background-color: #FFFCFC\">iv</span> <span style=\"background-color: #FFEEEE\">access</span> <span style=\"background-color: #FFFEFE\">and</span> <span style=\"background-color: #FFFEFE\">infusion</span> <span style=\"background-color: #FFFCFC\">you</span> <span style=\"background-color: #FEFEFF\">must</span> <span style=\"background-color: #FEFEFF\">have</span> <span style=\"background-color: #FEFEFF\">/</span> <span style=\"background-color: #FFFEFE\">be</span> <span style=\"background-color: #FFFEFE\">the</span> <span style=\"background-color: #FFFEFE\">following</span> <span style=\"background-color: #FFFEFE\">at</span> <span style=\"background-color: #EEEEFF\">least</span> <span style=\"background-color: #FFEEEE\">2</span> <span style=\"background-color: #ECECFF\">years</span> <span style=\"background-color: #FEFEFF\">medical</span> <span style=\"background-color: #FFFEFE\">device</span> <span style=\"background-color: #FFE8E8\">sales</span> <span style=\"background-color: #FFF8F8\">experience</span> <span style=\"background-color: #FFFEFE\">.</span> <span style=\"background-color: #FFFEFE\">candidates</span> <span style=\"background-color: #FFFEFE\">who</span> <span style=\"background-color: #FFFEFE\">have</span> <span style=\"background-color: #FFFEFE\">sold</span> <span style=\"background-color: #FFFEFE\">disposables</span> <span style=\"background-color: #FAFAFF\">/</span> <span style=\"background-color: #FCFCFF\">consumables</span> <span style=\"background-color: #FFFEFE\">or</span> <span style=\"background-color: #FFFEFE\">similar</span> <span style=\"background-color: #FFFEFE\">into</span> <span style=\"background-color: #FEFEFF\">hospitals</span> <span style=\"background-color: #FEFEFF\">would</span> <span style=\"background-color: #FFF4F4\">be</span> <span style=\"background-color: #FCFCFF\">of</span> <span style=\"background-color: #FCFCFF\">particular</span> <span style=\"background-color: #FFFAFA\">interest</span> <span style=\"background-color: #FFFEFE\">.</span> <span style=\"background-color: #FFFEFE\">candidates</span> <span style=\"background-color: #D8D8FF\">must</span> <span style=\"background-color: #E3E3FF\">have</span> <span style=\"background-color: #D8D8FF\">sold</span> <span style=\"background-color: #FFFCFC\">into</span> <span style=\"background-color: #F6F6FF\">hospitals</span> <span style=\"background-color: #E0E0FF\">demonstrable</span> <span style=\"background-color: #FFFCFC\">performance</span> <span style=\"background-color: #FFFCFC\">and</span> <span style=\"background-color: #FFFEFE\">achievements</span> <span style=\"background-color: #FFFEFE\">so</span> <span style=\"background-color: #FFFEFE\">far</span> <span style=\"background-color: #FFFEFE\">personable</span> <span style=\"background-color: #FFFAFA\">,</span> <span style=\"background-color: #FFF8F8\">adaptable</span> <span style=\"background-color: #FFFEFE\">and</span> <span style=\"background-color: #FFFEFE\">willing</span> <span style=\"background-color: #FFFEFE\">to</span> <span style=\"background-color: #FFFEFE\">learn</span> <span style=\"background-color: #FFFCFC\">keen</span> <span style=\"background-color: #FFFAFA\">and</span> <span style=\"background-color: #FFFEFE\">eager</span> <span style=\"background-color: #FFFEFE\">to</span> <span style=\"background-color: #FFF4F4\">be</span> <span style=\"background-color: #FFFEFE\">a</span> <span style=\"background-color: #FFFEFE\">success</span> <span style=\"background-color: #FFFEFE\">candidates</span> <span style=\"background-color: #FFFEFE\">must</span> <span style=\"background-color: #FFFEFE\">have</span> <span style=\"background-color: #FFFEFE\">a</span> <span style=\"background-color: #FFF0F0\">degree</span> <span style=\"background-color: #FFFEFE\">or</span> <span style=\"background-color: #F2F2FF\">at</span> <span style=\"background-color: #F3F3FF\">least</span> <span style=\"background-color: #EEEEFF\">be</span> <span style=\"background-color: #ECECFF\">able</span> <span style=\"background-color: #F8F8FF\">to</span> <span style=\"background-color: #FFECEC\">show</span> <span style=\"background-color: #FCFCFF\">a</span> <span style=\"background-color: #FFFEFE\">strong</span> <span style=\"background-color: #FFF0F0\">ability</span> <span style=\"background-color: #FFFEFE\">to</span> <span style=\"background-color: #FFFEFE\">learn</span> <span style=\"background-color: #FFFEFE\">role</span> <span style=\"background-color: #FFFEFE\">information</span> <span style=\"background-color: #FFFEFE\">managing</span> <span style=\"background-color: #FFFAFA\">the</span> <span style=\"background-color: #FFFAFA\">east</span> <span style=\"background-color: #FFFEFE\">midlands</span> <span style=\"background-color: #FFFEFE\">region</span> <span style=\"background-color: #FFFEFE\">selling</span> <span style=\"background-color: #FFFEFE\">across</span> <span style=\"background-color: #FFFEFE\">the</span> <span style=\"background-color: #FFFEFE\">company</span> <span style=\"background-color: #FFFCFC\">'</span> <span style=\"background-color: #FFF2F2\">s</span> <span style=\"background-color: #FFF4F4\">range</span> <span style=\"background-color: #FFFEFE\">of</span> <span style=\"background-color: #FFFAFA\">iv</span> <span style=\"background-color: #FFFEFE\">and</span> <span style=\"background-color: #FFFEFE\">infusion</span> <span style=\"background-color: #FFFEFE\">solutions</span> <span style=\"background-color: #FFFEFE\">portfolio</span> <span style=\"background-color: #FFFCFC\">selling</span> <span style=\"background-color: #FEFEFF\">into</span> <span style=\"background-color: #FFF8F8\">lead</span> <span style=\"background-color: #FFFCFC\">intensive</span> <span style=\"background-color: #FFFEFE\">care</span> <span style=\"background-color: #FFFEFE\">nurse</span> <span style=\"background-color: #FFFEFE\">specialists</span> <span style=\"background-color: #FFFEFE\">,</span> <span style=\"background-color: #FFFEFE\">ward</span> <span style=\"background-color: #FFFAFA\">managers</span> <span style=\"background-color: #FCFCFF\">,</span> <span style=\"background-color: #FFF4F4\">iv</span> <span style=\"background-color: #FFFCFC\">teams</span> <span style=\"background-color: #FFFEFE\">,</span> <span style=\"background-color: #FFFEFE\">infection</span> <span style=\"background-color: #FFF8F8\">control</span> <span style=\"background-color: #FFD3D3\">teams</span> <span style=\"background-color: #ECECFF\">,</span> <span style=\"background-color: #F0F0FF\">procurement</span> <span style=\"background-color: #FFFEFE\">sales</span> <span style=\"background-color: #FFFEFE\">specialist</span> <span style=\"background-color: #FFFCFC\">iv</span> <span style=\"background-color: #FFEEEE\">access</span> <span style=\"background-color: #FFFEFE\">and</span> <span style=\"background-color: #FFFEFE\">infusion</span> <span style=\"background-color: #FFFCFC\">candidates</span> <span style=\"background-color: #FFECEC\">must</span> <span style=\"background-color: #FCFCFF\">be</span> <span style=\"background-color: #FCFCFF\">eligible</span> <span style=\"background-color: #F6F6FF\">to</span> <span style=\"background-color: #FEFEFF\">work</span> <span style=\"background-color: #FCFCFF\">and</span> <span style=\"background-color: #FFF4F4\">live</span> <span style=\"background-color: #FEFEFF\">in</span> <span style=\"background-color: #FFFEFE\">the</span> <span style=\"background-color: #FFECEC\">uk</span> <span style=\"background-color: #FFFEFE\">.</span> <span style=\"background-color: #FEFEFF\">please</span> <span style=\"background-color: #FEFEFF\">contact</span> <span style=\"background-color: #FEFEFF\">allan</span> <span style=\"background-color: #FFFEFE\">waller</span> <span style=\"background-color: #FFE0E0\">on</span> <span style=\"background-color: #FFFCFC\">****</span> <span style=\"background-color: #FEFEFF\">****</span> <span style=\"background-color: #FEFEFF\">****</span> <span style=\"background-color: #FFFEFE\">or</span> <span style=\"background-color: #FFF4F4\">please</span> <span style=\"background-color: #EEEEFF\">hit</span> <span style=\"background-color: #EEEEFF\">the</span> <span style=\"background-color: #FFFEFE\">apply</span> <span style=\"background-color: #FFF0F0\">button</span> <span style=\"background-color: #FFFAFA\">.</span> <span style=\"background-color: #FFFEFE\">this</span> <span style=\"background-color: #FFFEFE\">job</span> <span style=\"background-color: #FFF0F0\">was</span> <span style=\"background-color: #FFFEFE\">originally</span> <span style=\"background-color: #F0F0FF\">posted</span> <span style=\"background-color: #EAEAFF\">as</span> <span style=\"background-color: #ECECFF\">www</span> <span style=\"background-color: #ECECFF\">.</span> <span style=\"background-color: #CCCCFF\">salestarget</span> <span style=\"background-color: #FFFEFE\">.</span> <span style=\"background-color: #FCFCFF\">co</span> <span style=\"background-color: #E8E8FF\">.</span> <span style=\"background-color: #FAFAFF\">uk</span> <span style=\"background-color: #FAFAFF\">/</span> <span style=\"background-color: #FFFEFE\">jobseeking</span> <span style=\"background-color: #FFFAFA\">/</span> <span style=\"background-color: #FFFEFE\">UNK</span> <span style=\"background-color: #FFFEFE\">****</span></p>"
      ]
     },
     "metadata": {},
     "output_type": "display_data"
    }
   ],
   "source": [
    "i = 36605\n",
    "tokens_and_weights = explain(model, data.loc[i], \"Title\")\n",
    "draw_html([(tok, weight * 5) for tok, weight in tokens_and_weights], font_style='font-size:20px;');\n",
    "\n",
    "tokens_and_weights = explain(model, data.loc[i], \"FullDescription\")\n",
    "draw_html([(tok, weight * 10) for tok, weight in tokens_and_weights]);"
   ]
  },
  {
   "cell_type": "code",
   "execution_count": 51,
   "metadata": {},
   "outputs": [
    {
     "data": {
      "text/html": [
       "<p style=\"font-size:20px;\"><span style=\"background-color: #FF2E2E\">cleaning</span> <span style=\"background-color: #FF5959\">operative</span></p>"
      ]
     },
     "metadata": {},
     "output_type": "display_data"
    },
    {
     "data": {
      "text/html": [
       "<p style=\"font-size:14px;\"><span style=\"background-color: #FFE2E2\">12</span> <span style=\"background-color: #FFF2F2\">.</span> <span style=\"background-color: #E8E8FF\">5</span> <span style=\"background-color: #FFECEC\">hours</span> <span style=\"background-color: #F6F6FF\">per</span> <span style=\"background-color: #FFD3D3\">week</span> <span style=\"background-color: #FFFAFA\">monday</span> <span style=\"background-color: #FFFCFC\">friday</span> <span style=\"background-color: #FFEAEA\">9am</span> <span style=\"background-color: #FFCECE\">11</span> <span style=\"background-color: #F0F0FF\">.</span> <span style=\"background-color: #FFFAFA\">30am</span> <span style=\"background-color: #C6C6FF\">duties</span> <span style=\"background-color: #B6B6FF\">to</span> <span style=\"background-color: #EEEEFF\">include</span> <span style=\"background-color: #FAFAFF\">sweeping</span> <span style=\"background-color: #DEDEFF\">,</span> <span style=\"background-color: #C2C2FF\">mopping</span> <span style=\"background-color: #CECEFF\">,</span> <span style=\"background-color: #FFF4F4\">vacuuming</span> <span style=\"background-color: #FFF2F2\">,</span> <span style=\"background-color: #FFD6D6\">buffing</span> <span style=\"background-color: #FFF8F8\">,</span> <span style=\"background-color: #FFE4E4\">cleaning</span> <span style=\"background-color: #FFFEFE\">staff</span> <span style=\"background-color: #FFDEDE\">toilets</span> <span style=\"background-color: #F6F6FF\">and</span> <span style=\"background-color: #FFFCFC\">rest</span> <span style=\"background-color: #FFBEBE\">room</span> <span style=\"background-color: #FFFAFA\">.</span> <span style=\"background-color: #FEFEFF\">must</span> <span style=\"background-color: #FFDEDE\">be</span> <span style=\"background-color: #D6D6FF\">able</span> <span style=\"background-color: #DCDCFF\">to</span> <span style=\"background-color: #FFF8F8\">read</span> <span style=\"background-color: #FFE2E2\">as</span> <span style=\"background-color: #F2F2FF\">they</span> <span style=\"background-color: #F6F6FF\">will</span> <span style=\"background-color: #F3F3FF\">be</span> <span style=\"background-color: #FFE4E4\">using</span> <span style=\"background-color: #FFFEFE\">UNK</span> <span style=\"background-color: #FFE4E4\">which</span> <span style=\"background-color: #FFF4F4\">need</span> <span style=\"background-color: #FFFEFE\">UNK</span> <span style=\"background-color: #FFF6F6\">as</span> <span style=\"background-color: #FFECEC\">per</span> <span style=\"background-color: #FFD3D3\">instructions</span> <span style=\"background-color: #F6F6FF\">on</span> <span style=\"background-color: #E8E8FF\">the</span> <span style=\"background-color: #E8E8FF\">containers</span> <span style=\"background-color: #A2A2FF\">.</span> <span style=\"background-color: #FFEAEA\">sucessfull</span> <span style=\"background-color: #FFFCFC\">applicants</span> <span style=\"background-color: #FFF4F4\">will</span> <span style=\"background-color: #FFFEFE\">be</span> <span style=\"background-color: #FFE0E0\">trained</span> <span style=\"background-color: #FFF6F6\">on</span> <span style=\"background-color: #F8F8FF\">all</span> <span style=\"background-color: #FFF4F4\">electrical</span> <span style=\"background-color: #FFD6D6\">appliances</span> <span style=\"background-color: #FFFCFC\">and</span> <span style=\"background-color: #FFFEFE\">UNK</span> <span style=\"background-color: #DCDCFF\">of</span> <span style=\"background-color: #FFE8E8\">cleaning</span> <span style=\"background-color: #FFAAAA\">materials</span> <span style=\"background-color: #EEEEFF\">.</span></p>"
      ]
     },
     "metadata": {},
     "output_type": "display_data"
    }
   ],
   "source": [
    "i = 12077\n",
    "tokens_and_weights = explain(model, data.loc[i], \"Title\")\n",
    "draw_html([(tok, weight * 5) for tok, weight in tokens_and_weights], font_style='font-size:20px;');\n",
    "\n",
    "tokens_and_weights = explain(model, data.loc[i], \"FullDescription\")\n",
    "draw_html([(tok, weight * 10) for tok, weight in tokens_and_weights]);"
   ]
  },
  {
   "cell_type": "code",
   "execution_count": 60,
   "metadata": {},
   "outputs": [
    {
     "name": "stdout",
     "output_type": "stream",
     "text": [
      "Index: 123676\n",
      "Salary (gbp): 9471.904\n"
     ]
    },
    {
     "data": {
      "text/html": [
       "<p style=\"font-size:20px;\"><span style=\"background-color: #FFD2D2\">customer</span> <span style=\"background-color: #F2F2FF\">product</span> <span style=\"background-color: #7070FF\">manager</span> <span style=\"background-color: #7C7CFF\">fluent</span> <span style=\"background-color: #FFDCDC\">in</span> <span style=\"background-color: #FFE6E6\">french</span></p>"
      ]
     },
     "metadata": {},
     "output_type": "display_data"
    },
    {
     "data": {
      "text/html": [
       "<p style=\"font-size:14px;\"><span style=\"background-color: #FFFEFE\">hays</span> <span style=\"background-color: #FAFAFF\">marketing</span> <span style=\"background-color: #F8F8FF\">is</span> <span style=\"background-color: #FFEEEE\">recruiting</span> <span style=\"background-color: #FFFCFC\">a</span> <span style=\"background-color: #FFFEFE\">customer</span> <span style=\"background-color: #FFFEFE\">product</span> <span style=\"background-color: #FFFEFE\">manager</span> <span style=\"background-color: #FFFEFE\">(</span> <span style=\"background-color: #FFFEFE\">french</span> <span style=\"background-color: #FFFEFE\">speaking</span> <span style=\"background-color: #FFF0F0\">),</span> <span style=\"background-color: #FFFEFE\">to</span> <span style=\"background-color: #FFF0F0\">join</span> <span style=\"background-color: #FFFCFC\">a</span> <span style=\"background-color: #FFFAFA\">fast</span> <span style=\"background-color: #FFFAFA\">paced</span> <span style=\"background-color: #FFFEFE\">,</span> <span style=\"background-color: #FFFEFE\">dynamic</span> <span style=\"background-color: #FFFEFE\">company</span> <span style=\"background-color: #FEFEFF\">based</span> <span style=\"background-color: #FEFEFF\">in</span> <span style=\"background-color: #FFD3D3\">manchester</span> <span style=\"background-color: #FFFAFA\">.</span> <span style=\"background-color: #FFFEFE\">this</span> <span style=\"background-color: #FFFEFE\">position</span> <span style=\"background-color: #FFEAEA\">will</span> <span style=\"background-color: #FFFEFE\">be</span> <span style=\"background-color: #FFFEFE\">responsible</span> <span style=\"background-color: #FFFEFE\">for</span> <span style=\"background-color: #FFFEFE\">the</span> <span style=\"background-color: #FFECEC\">management</span> <span style=\"background-color: #FFF6F6\">of</span> <span style=\"background-color: #FCFCFF\">the</span> <span style=\"background-color: #FFFEFE\">trade</span> <span style=\"background-color: #FFFEFE\">marketing</span> <span style=\"background-color: #FFFEFE\">activities</span> <span style=\"background-color: #FFFEFE\">across</span> <span style=\"background-color: #FFD6D6\">france</span> <span style=\"background-color: #FFFEFE\">.</span> <span style=\"background-color: #F3F3FF\">the</span> <span style=\"background-color: #F3F3FF\">role</span> <span style=\"background-color: #F3F3FF\">will</span> <span style=\"background-color: #FFF4F4\">consist</span> <span style=\"background-color: #FFF4F4\">of</span> <span style=\"background-color: #FFFEFE\">:</span> <span style=\"background-color: #FFECEC\">preparation</span> <span style=\"background-color: #FFFEFE\">of</span> <span style=\"background-color: #F8F8FF\">tender</span> <span style=\"background-color: #FFFAFA\">documentation</span> <span style=\"background-color: #FFFEFE\">in</span> <span style=\"background-color: #FFF6F6\">conjunction</span> <span style=\"background-color: #FFFEFE\">with</span> <span style=\"background-color: #FFFAFA\">the</span> <span style=\"background-color: #FFFEFE\">relevant</span> <span style=\"background-color: #FFFAFA\">functions</span> <span style=\"background-color: #FAFAFF\">manage</span> <span style=\"background-color: #FFF4F4\">&</span> <span style=\"background-color: #FEFEFF\">develop</span> <span style=\"background-color: #FFF8F8\">relevant</span> <span style=\"background-color: #FEFEFF\">products</span> <span style=\"background-color: #F6F6FF\">from</span> <span style=\"background-color: #F6F6FF\">conception</span> <span style=\"background-color: #FFF8F8\">to</span> <span style=\"background-color: #FFFEFE\">launch</span> <span style=\"background-color: #FFFEFE\">(</span> <span style=\"background-color: #FFECEC\">inc</span> <span style=\"background-color: #FFFEFE\">.</span> <span style=\"background-color: #FFFEFE\">briefing</span> <span style=\"background-color: #FFF2F2\">products</span> <span style=\"background-color: #FFFEFE\">through</span> <span style=\"background-color: #FFFEFE\">to</span> <span style=\"background-color: #FFFEFE\">loading</span> <span style=\"background-color: #FFFEFE\">on</span> <span style=\"background-color: #FFFEFE\">internal</span> <span style=\"background-color: #FFE2E2\">systems</span> <span style=\"background-color: #F6F6FF\">)</span> <span style=\"background-color: #F2F2FF\">working</span> <span style=\"background-color: #FFFAFA\">with</span> <span style=\"background-color: #F8F8FF\">project</span> <span style=\"background-color: #FFE4E4\">leaders</span> <span style=\"background-color: #FFF6F6\">to</span> <span style=\"background-color: #FFFEFE\">ensure</span> <span style=\"background-color: #FFFEFE\">on</span> <span style=\"background-color: #FFFAFA\">time</span> <span style=\"background-color: #FFFEFE\">and</span> <span style=\"background-color: #FFFEFE\">profitable</span> <span style=\"background-color: #FFFEFE\">launches</span> <span style=\"background-color: #FFFEFE\">responsible</span> <span style=\"background-color: #FFCECE\">for</span> <span style=\"background-color: #C2C2FF\">analysis</span> <span style=\"background-color: #CCCCFF\">of</span> <span style=\"background-color: #FFFEFE\">sales</span> <span style=\"background-color: #F3F3FF\">/</span> <span style=\"background-color: #F3F3FF\">profitability</span> <span style=\"background-color: #F3F3FF\">and</span> <span style=\"background-color: #FFFEFE\">management</span> <span style=\"background-color: #FFFEFE\">of</span> <span style=\"background-color: #FFFEFE\">current</span> <span style=\"background-color: #FFFEFE\">product</span> <span style=\"background-color: #FCFCFF\">listings</span> <span style=\"background-color: #FFFAFA\">(</span> <span style=\"background-color: #FFFEFE\">throughout</span> <span style=\"background-color: #FFFEFE\">the</span> <span style=\"background-color: #FFFEFE\">products</span> <span style=\"background-color: #FFFEFE\">'</span> <span style=\"background-color: #FFDCDC\">lifecycle</span> <span style=\"background-color: #FFFAFA\">)</span> <span style=\"background-color: #FFFEFE\">ensure</span> <span style=\"background-color: #FFFEFE\">ranges</span> <span style=\"background-color: #FFF8F8\">are</span> <span style=\"background-color: #FFF6F6\">compliant</span> <span style=\"background-color: #FCFCFF\">with</span> <span style=\"background-color: #CCCCFF\">regulatory</span> <span style=\"background-color: #FFF2F2\">controls</span> <span style=\"background-color: #FAFAFF\">in</span> <span style=\"background-color: #FFFEFE\">conjunction</span> <span style=\"background-color: #FFFEFE\">with</span> <span style=\"background-color: #FFFAFA\">account</span> <span style=\"background-color: #FFFAFA\">managers</span> <span style=\"background-color: #FFFEFE\">and</span> <span style=\"background-color: #FFFEFE\">customers</span> <span style=\"background-color: #FFFEFE\">undertake</span> <span style=\"background-color: #FEFEFF\">regular</span> <span style=\"background-color: #FFFEFE\">visits</span> <span style=\"background-color: #FEFEFF\">to</span> <span style=\"background-color: #FFF8F8\">current</span> <span style=\"background-color: #FFF2F2\">and</span> <span style=\"background-color: #FFFEFE\">potential</span> <span style=\"background-color: #FFFCFC\">customers</span> <span style=\"background-color: #FFFEFE\">(</span> <span style=\"background-color: #FFECEC\">france</span> <span style=\"background-color: #FFFEFE\">)</span> <span style=\"background-color: #FFFCFC\">creation</span> <span style=\"background-color: #FFFEFE\">and</span> <span style=\"background-color: #FFFEFE\">implementation</span> <span style=\"background-color: #FFEEEE\">of</span> <span style=\"background-color: #FFFEFE\">promotional</span> <span style=\"background-color: #FFFAFA\">activities</span> <span style=\"background-color: #FFFEFE\">and</span> <span style=\"background-color: #FFFEFE\">supporting</span> <span style=\"background-color: #FFFEFE\">marketing</span> <span style=\"background-color: #FFF8F8\">initiatives</span> <span style=\"background-color: #FFF2F2\">to</span> <span style=\"background-color: #FFFEFE\">grow</span> <span style=\"background-color: #FFFCFC\">the</span> <span style=\"background-color: #FFFAFA\">range</span> <span style=\"background-color: #FFFEFE\">working</span> <span style=\"background-color: #FFFEFE\">with</span> <span style=\"background-color: #FFFEFE\">local</span> <span style=\"background-color: #FEFEFF\">french</span> <span style=\"background-color: #FFFEFE\">team</span> <span style=\"background-color: #FFFAFA\">to</span> <span style=\"background-color: #FFCACA\">manage</span> <span style=\"background-color: #FFE6E6\">the</span> <span style=\"background-color: #FFEAEA\">development</span> <span style=\"background-color: #FFFEFE\">of</span> <span style=\"background-color: #FFFEFE\">the</span> <span style=\"background-color: #FFFEFE\">annual</span> <span style=\"background-color: #FFFEFE\">french</span> <span style=\"background-color: #FFFEFE\">plan</span> <span style=\"background-color: #FFFAFA\">analysising</span> <span style=\"background-color: #FFFEFE\">proposed</span> <span style=\"background-color: #FFFAFA\">promotions</span> <span style=\"background-color: #FFFEFE\">,</span> <span style=\"background-color: #FFF6F6\">creation</span> <span style=\"background-color: #FFFEFE\">of</span> <span style=\"background-color: #FFFEFE\">customer</span> <span style=\"background-color: #FFFCFC\">literature</span> <span style=\"background-color: #FFFEFE\">,</span> <span style=\"background-color: #FFF6F6\">communication</span> <span style=\"background-color: #FEFEFF\">via</span> <span style=\"background-color: #F6F6FF\">the</span> <span style=\"background-color: #FFFEFE\">customer</span> <span style=\"background-color: #FFFEFE\">database</span> <span style=\"background-color: #FFFEFE\">and</span> <span style=\"background-color: #FFFEFE\">acquisition</span> <span style=\"background-color: #FFFEFE\">of</span> <span style=\"background-color: #FFFEFE\">promotional</span> <span style=\"background-color: #FFF0F0\">items</span> <span style=\"background-color: #FFFEFE\">.</span> <span style=\"background-color: #FFFEFE\">completed</span> <span style=\"background-color: #FFFEFE\">promotions</span> <span style=\"background-color: #FCFCFF\">will</span> <span style=\"background-color: #FFF8F8\">require</span> <span style=\"background-color: #FFF0F0\">analysis</span> <span style=\"background-color: #FEFEFF\">and</span> <span style=\"background-color: #FFFEFE\">fulfilment</span> <span style=\"background-color: #F3F3FF\">of</span> <span style=\"background-color: #FFF6F6\">incentives</span> <span style=\"background-color: #F3F3FF\">.</span> <span style=\"background-color: #FFF8F8\">develop</span> <span style=\"background-color: #FFFEFE\">a</span> <span style=\"background-color: #FFFCFC\">full</span> <span style=\"background-color: #FFF8F8\">promotional</span> <span style=\"background-color: #FFFEFE\">/</span> <span style=\"background-color: #FFEAEA\">marcomms</span> <span style=\"background-color: #FEFEFF\">plan</span> <span style=\"background-color: #FEFEFF\">,</span> <span style=\"background-color: #FFECEC\">in</span> <span style=\"background-color: #FFE4E4\">conjunction</span> <span style=\"background-color: #FFFEFE\">with</span> <span style=\"background-color: #FFFAFA\">the</span> <span style=\"background-color: #FFFEFE\">various</span> <span style=\"background-color: #FFFEFE\">sales</span> <span style=\"background-color: #FFFCFC\">/</span> <span style=\"background-color: #FEFEFF\">trade</span> <span style=\"background-color: #DEDEFF\">marketers</span> <span style=\"background-color: #FFFEFE\">,</span> <span style=\"background-color: #FFF4F4\">for</span> <span style=\"background-color: #FFFEFE\">all</span> <span style=\"background-color: #FFFCFC\">products</span> <span style=\"background-color: #FFF6F6\">and</span> <span style=\"background-color: #FFFCFC\">brief</span> <span style=\"background-color: #FFFCFC\">to</span> <span style=\"background-color: #F8F8FF\">design</span> <span style=\"background-color: #F2F2FF\">agency</span> <span style=\"background-color: #FCFCFF\">.</span> <span style=\"background-color: #FFFEFE\">organise</span> <span style=\"background-color: #FFF6F6\">and</span> <span style=\"background-color: #FFFEFE\">attend</span> <span style=\"background-color: #FFFEFE\">french</span> <span style=\"background-color: #FFFEFE\">exhibitions</span> <span style=\"background-color: #FFF2F2\">develop</span> <span style=\"background-color: #FFFEFE\">a</span> <span style=\"background-color: #FFFEFE\">full</span> <span style=\"background-color: #FFF0F0\">understanding</span> <span style=\"background-color: #CECEFF\">of</span> <span style=\"background-color: #DEDEFF\">the</span> <span style=\"background-color: #E0E0FF\">french</span> <span style=\"background-color: #FFE4E4\">market</span> <span style=\"background-color: #FCFCFF\">,</span> <span style=\"background-color: #FEFEFF\">analyse</span> <span style=\"background-color: #FEFEFF\">customers</span> <span style=\"background-color: #FEFEFF\">/</span> <span style=\"background-color: #FFFEFE\">end</span> <span style=\"background-color: #FFFEFE\">users</span> <span style=\"background-color: #FFFEFE\">and</span> <span style=\"background-color: #FFFEFE\">competitors</span> <span style=\"background-color: #FFF0F0\">through</span> <span style=\"background-color: #FFDEDE\">market</span> <span style=\"background-color: #FCFCFF\">data</span> <span style=\"background-color: #FFFAFA\">acquisition</span> <span style=\"background-color: #FFFEFE\">,</span> <span style=\"background-color: #FFF6F6\">primary</span> <span style=\"background-color: #FFFEFE\">or</span> <span style=\"background-color: #FFF4F4\">secondary</span> <span style=\"background-color: #FEFEFF\">identify</span> <span style=\"background-color: #FFF6F6\">market</span> <span style=\"background-color: #FEFEFF\">trends</span> <span style=\"background-color: #FFFEFE\">to</span> <span style=\"background-color: #FFF4F4\">find</span> <span style=\"background-color: #F6F6FF\">and</span> <span style=\"background-color: #FCFCFF\">implement</span> <span style=\"background-color: #FFF6F6\">growth</span> <span style=\"background-color: #FFFEFE\">opportunities</span> <span style=\"background-color: #FFF8F8\">in</span> <span style=\"background-color: #FFFCFC\">partnership</span> <span style=\"background-color: #FFFEFE\">with</span> <span style=\"background-color: #FFFEFE\">category</span> <span style=\"background-color: #FFEAEA\">manager</span> <span style=\"background-color: #FFE6E6\">,</span> <span style=\"background-color: #FFFEFE\">develop</span> <span style=\"background-color: #FFF8F8\">strategies</span> <span style=\"background-color: #FFF8F8\">and</span> <span style=\"background-color: #FFE6E6\">initiatives</span> <span style=\"background-color: #FFFEFE\">to</span> <span style=\"background-color: #FFFEFE\">drive</span> <span style=\"background-color: #FFFEFE\">local</span> <span style=\"background-color: #FFFEFE\">channel</span> <span style=\"background-color: #FFE4E4\">growth</span> <span style=\"background-color: #FFFEFE\">.</span> <span style=\"background-color: #FFFEFE\">spend</span> <span style=\"background-color: #FFFEFE\">time</span> <span style=\"background-color: #FFFEFE\">in</span> <span style=\"background-color: #FFFEFE\">market</span> <span style=\"background-color: #FFFEFE\">with</span> <span style=\"background-color: #FFEEEE\">customers</span> <span style=\"background-color: #FFFEFE\">and</span> <span style=\"background-color: #FCFCFF\">local</span> <span style=\"background-color: #FFECEC\">sales</span> <span style=\"background-color: #FFFEFE\">teams</span> <span style=\"background-color: #FFFEFE\">to</span> <span style=\"background-color: #FFFCFC\">present</span> <span style=\"background-color: #FFF6F6\">product</span> <span style=\"background-color: #FFFEFE\">and</span> <span style=\"background-color: #FEFEFF\">marketing</span> <span style=\"background-color: #FEFEFF\">initiatives</span> <span style=\"background-color: #FEFEFF\">(</span> <span style=\"background-color: #FFE8E8\">sales</span> <span style=\"background-color: #FFFEFE\">meetings</span> <span style=\"background-color: #FFF0F0\">etc</span> <span style=\"background-color: #FFFEFE\">)</span> <span style=\"background-color: #FCFCFF\">skills</span> <span style=\"background-color: #FFFEFE\">required</span> <span style=\"background-color: #FCFCFF\">:</span> <span style=\"background-color: #FFECEC\">educated</span> <span style=\"background-color: #FFFEFE\">to</span> <span style=\"background-color: #FFF4F4\">degree</span> <span style=\"background-color: #F2F2FF\">level</span> <span style=\"background-color: #FCFCFF\">(</span> <span style=\"background-color: #FFFEFE\">business</span> <span style=\"background-color: #FFFEFE\">studies</span> <span style=\"background-color: #FEFEFF\">/</span> <span style=\"background-color: #FEFEFF\">marketing</span> <span style=\"background-color: #FEFEFF\">/</span> <span style=\"background-color: #FFF8F8\">french</span> <span style=\"background-color: #FFFEFE\">)</span> <span style=\"background-color: #FFFCFC\">possess</span> <span style=\"background-color: #FFFCFC\">relevant</span> <span style=\"background-color: #FFFEFE\">and</span> <span style=\"background-color: #FFEEEE\">strong</span> <span style=\"background-color: #FFFEFE\">commercial</span> <span style=\"background-color: #FFF6F6\">experience</span> <span style=\"background-color: #FFFCFC\">within</span> <span style=\"background-color: #FFF2F2\">a</span> <span style=\"background-color: #FAFAFF\">commercial</span> <span style=\"background-color: #FFF2F2\">marketing</span> <span style=\"background-color: #FFFEFE\">role</span> <span style=\"background-color: #FFFEFE\">have</span> <span style=\"background-color: #FFFEFE\">experience</span> <span style=\"background-color: #FFFEFE\">in</span> <span style=\"background-color: #FFFCFC\">bringing</span> <span style=\"background-color: #FFFEFE\">consumer</span> <span style=\"background-color: #FFF6F6\">goods</span> <span style=\"background-color: #FFDEDE\">products</span> <span style=\"background-color: #F2F2FF\">to</span> <span style=\"background-color: #F6F6FF\">market</span> <span style=\"background-color: #FFFEFE\">&</span> <span style=\"background-color: #FFFEFE\">creating</span> <span style=\"background-color: #FFFAFA\">supportive</span> <span style=\"background-color: #FFFCFC\">activities</span> <span style=\"background-color: #FFFEFE\">to</span> <span style=\"background-color: #FFFEFE\">drive</span> <span style=\"background-color: #FFFEFE\">sales</span> <span style=\"background-color: #FFFCFC\">fluent</span> <span style=\"background-color: #F8F8FF\">in</span> <span style=\"background-color: #FFE4E4\">french</span> <span style=\"background-color: #F3F3FF\">,</span> <span style=\"background-color: #FFE8E8\">capable</span> <span style=\"background-color: #FFFEFE\">of</span> <span style=\"background-color: #FFFCFC\">communicating</span> <span style=\"background-color: #FEFEFF\">with</span> <span style=\"background-color: #FFFAFA\">french</span> <span style=\"background-color: #FFFEFE\">speaking</span> <span style=\"background-color: #FFFEFE\">customers</span> <span style=\"background-color: #FFFEFE\">&</span> <span style=\"background-color: #FFFEFE\">suppliers</span> <span style=\"background-color: #FFFEFE\">must</span> <span style=\"background-color: #FFCACA\">have</span> <span style=\"background-color: #FFFEFE\">product</span> <span style=\"background-color: #FFEEEE\">development</span> <span style=\"background-color: #FFFEFE\">and</span> <span style=\"background-color: #FFFEFE\">product</span> <span style=\"background-color: #FFDADA\">marketing</span> <span style=\"background-color: #ECECFF\">experience</span> <span style=\"background-color: #E3E3FF\">.</span> <span style=\"background-color: #F6F6FF\">please</span> <span style=\"background-color: #FFFEFE\">only</span> <span style=\"background-color: #FFFEFE\">apply</span> <span style=\"background-color: #E6E6FF\">if</span> <span style=\"background-color: #F0F0FF\">you</span> <span style=\"background-color: #F2F2FF\">fit</span> <span style=\"background-color: #FFFCFC\">the</span> <span style=\"background-color: #FFFEFE\">full</span> <span style=\"background-color: #FFFEFE\">skills</span> <span style=\"background-color: #FFEAEA\">criteria</span> <span style=\"background-color: #FFF4F4\">.</span> <span style=\"background-color: #FFFEFE\">hays</span> <span style=\"background-color: #FFFEFE\">specialist</span> <span style=\"background-color: #FFFEFE\">recruitment</span> <span style=\"background-color: #F8F8FF\">limited</span> <span style=\"background-color: #F2F2FF\">acts</span> <span style=\"background-color: #F8F8FF\">as</span> <span style=\"background-color: #FFFEFE\">an</span> <span style=\"background-color: #FFFEFE\">employment</span> <span style=\"background-color: #FFFEFE\">agency</span> <span style=\"background-color: #FFFEFE\">for</span> <span style=\"background-color: #FFFEFE\">permanent</span> <span style=\"background-color: #FFFAFA\">recruitment</span> <span style=\"background-color: #FFFCFC\">and</span> <span style=\"background-color: #FFFEFE\">employment</span> <span style=\"background-color: #FFFEFE\">business</span> <span style=\"background-color: #FFFEFE\">for</span> <span style=\"background-color: #FFFEFE\">the</span> <span style=\"background-color: #FFECEC\">supply</span> <span style=\"background-color: #FFFEFE\">of</span> <span style=\"background-color: #FFFEFE\">temporary</span> <span style=\"background-color: #FFF2F2\">workers</span> <span style=\"background-color: #FFFEFE\">.</span> <span style=\"background-color: #FFFEFE\">by</span> <span style=\"background-color: #FFFEFE\">applying</span> <span style=\"background-color: #FFF4F4\">for</span> <span style=\"background-color: #FFFEFE\">this</span> <span style=\"background-color: #FFE2E2\">job</span> <span style=\"background-color: #FFFAFA\">you</span> <span style=\"background-color: #FEFEFF\">accept</span> <span style=\"background-color: #FFEEEE\">the</span> <span style=\"background-color: #EAEAFF\">t</span> <span style=\"background-color: #D8D8FF\">&</span> <span style=\"background-color: #D6D6FF\">c</span> <span style=\"background-color: #FFE0E0\">'</span> <span style=\"background-color: #FEFEFF\">s</span> <span style=\"background-color: #FEFEFF\">,</span> <span style=\"background-color: #E6E6FF\">privacy</span> <span style=\"background-color: #DEDEFF\">policy</span> <span style=\"background-color: #E2E2FF\">and</span> <span style=\"background-color: #EEEEFF\">disclaimers</span> <span style=\"background-color: #F6F6FF\">which</span> <span style=\"background-color: #F6F6FF\">can</span> <span style=\"background-color: #F6F6FF\">be</span> <span style=\"background-color: #FFFCFC\">found</span> <span style=\"background-color: #FFF6F6\">at</span> <span style=\"background-color: #FFECEC\">hays</span> <span style=\"background-color: #EAEAFF\">.</span> <span style=\"background-color: #F6F6FF\">co</span> <span style=\"background-color: #F8F8FF\">.</span> <span style=\"background-color: #FFFEFE\">uk</span></p>"
      ]
     },
     "metadata": {},
     "output_type": "display_data"
    }
   ],
   "source": [
    "i = np.random.randint(len(data))\n",
    "print(\"Index:\", i)\n",
    "print(\"Salary (gbp):\", np.expm1(model.predict(make_batch(data.iloc[i: i+1]))[0, 0]))\n",
    "\n",
    "tokens_and_weights = explain(model, data.loc[i], \"Title\")\n",
    "draw_html([(tok, weight * 5) for tok, weight in tokens_and_weights], font_style='font-size:20px;');\n",
    "\n",
    "tokens_and_weights = explain(model, data.loc[i], \"FullDescription\")\n",
    "draw_html([(tok, weight * 10) for tok, weight in tokens_and_weights]);"
   ]
  },
  {
   "cell_type": "markdown",
   "metadata": {},
   "source": [
    "__Terrible start-up idea #1962:__ make a tool that automaticaly rephrases your job description (or CV) to meet salary expectations :)"
   ]
  }
 ],
 "metadata": {
  "kernelspec": {
   "display_name": "Python 3",
   "language": "python",
   "name": "python3"
  },
  "language_info": {
   "codemirror_mode": {
    "name": "ipython",
    "version": 3
   },
   "file_extension": ".py",
   "mimetype": "text/x-python",
   "name": "python",
   "nbconvert_exporter": "python",
   "pygments_lexer": "ipython3",
   "version": "3.6.3"
  }
 },
 "nbformat": 4,
 "nbformat_minor": 2
}
