{
 "cells": [
  {
   "cell_type": "code",
   "execution_count": 3,
   "metadata": {
    "collapsed": true
   },
   "outputs": [],
   "source": [
    "import numpy as np\n",
    "import matplotlib.pyplot as plt\n",
    "%matplotlib inline"
   ]
  },
  {
   "cell_type": "markdown",
   "metadata": {},
   "source": [
    "### Homework part I: Prohibited Comment Classification (3 points)\n",
    "\n",
    "![img](https://github.com/yandexdataschool/nlp_course/raw/master/resources/banhammer.jpg)\n",
    "\n",
    "__In this notebook__ you will build an algorithm that classifies social media comments into normal or toxic.\n",
    "Like in many real-world cases, you only have a small (10^3) dataset of hand-labeled examples to work with. We'll tackle this problem using both classical nlp methods and embedding-based approach."
   ]
  },
  {
   "cell_type": "code",
   "execution_count": 4,
   "metadata": {},
   "outputs": [
    {
     "data": {
      "text/html": [
       "<div>\n",
       "<style>\n",
       "    .dataframe thead tr:only-child th {\n",
       "        text-align: right;\n",
       "    }\n",
       "\n",
       "    .dataframe thead th {\n",
       "        text-align: left;\n",
       "    }\n",
       "\n",
       "    .dataframe tbody tr th {\n",
       "        vertical-align: top;\n",
       "    }\n",
       "</style>\n",
       "<table border=\"1\" class=\"dataframe\">\n",
       "  <thead>\n",
       "    <tr style=\"text-align: right;\">\n",
       "      <th></th>\n",
       "      <th>should_ban</th>\n",
       "      <th>comment_text</th>\n",
       "    </tr>\n",
       "  </thead>\n",
       "  <tbody>\n",
       "    <tr>\n",
       "      <th>50</th>\n",
       "      <td>0</td>\n",
       "      <td>\"Those who're in advantageous positions are th...</td>\n",
       "    </tr>\n",
       "    <tr>\n",
       "      <th>250</th>\n",
       "      <td>1</td>\n",
       "      <td>Fartsalot56 says f**k you motherclucker!!</td>\n",
       "    </tr>\n",
       "    <tr>\n",
       "      <th>450</th>\n",
       "      <td>1</td>\n",
       "      <td>Are you a fool? \\n\\nI am sorry, but you seem t...</td>\n",
       "    </tr>\n",
       "    <tr>\n",
       "      <th>650</th>\n",
       "      <td>1</td>\n",
       "      <td>I AM NOT A VANDAL!!!!!!!!!!!!!!!!!!!!!!!!!!!!!!</td>\n",
       "    </tr>\n",
       "    <tr>\n",
       "      <th>850</th>\n",
       "      <td>0</td>\n",
       "      <td>Citing sources\\n\\nCheck out the Wikipedia:Citi...</td>\n",
       "    </tr>\n",
       "  </tbody>\n",
       "</table>\n",
       "</div>"
      ],
      "text/plain": [
       "     should_ban                                       comment_text\n",
       "50            0  \"Those who're in advantageous positions are th...\n",
       "250           1          Fartsalot56 says f**k you motherclucker!!\n",
       "450           1  Are you a fool? \\n\\nI am sorry, but you seem t...\n",
       "650           1    I AM NOT A VANDAL!!!!!!!!!!!!!!!!!!!!!!!!!!!!!!\n",
       "850           0  Citing sources\\n\\nCheck out the Wikipedia:Citi..."
      ]
     },
     "execution_count": 4,
     "metadata": {},
     "output_type": "execute_result"
    }
   ],
   "source": [
    "import pandas as pd\n",
    "data = pd.read_csv(\"comments.tsv\", sep='\\t')\n",
    "\n",
    "texts = data['comment_text'].values\n",
    "target = data['should_ban'].values\n",
    "data[50::200]"
   ]
  },
  {
   "cell_type": "code",
   "execution_count": 5,
   "metadata": {
    "collapsed": true
   },
   "outputs": [],
   "source": [
    "from sklearn.model_selection import train_test_split\n",
    "texts_train, texts_test, y_train, y_test = train_test_split(texts, target, test_size=0.5, random_state=42)"
   ]
  },
  {
   "cell_type": "markdown",
   "metadata": {},
   "source": [
    "__Note:__ it is generally a good idea to split data into train/test before anything is done to them.\n",
    "\n",
    "It guards you against possible data leakage in the preprocessing stage. For example, should you decide to select words present in obscene tweets as features, you should only count those words over the training set. Otherwise your algoritm can cheat evaluation."
   ]
  },
  {
   "cell_type": "markdown",
   "metadata": {},
   "source": [
    "### Preprocessing and tokenization\n",
    "\n",
    "Comments contain raw text with punctuation, upper/lowercase letters and even newline symbols.\n",
    "\n",
    "To simplify all further steps, we'll split text into space-separated tokens using one of nltk tokenizers."
   ]
  },
  {
   "cell_type": "code",
   "execution_count": 6,
   "metadata": {},
   "outputs": [
    {
     "name": "stdout",
     "output_type": "stream",
     "text": [
      "before: How to be a grown-up at work: replace \"fuck you\" with \"Ok, great!\".\n",
      "after: how to be a grown-up at work : replace \" fuck you \" with \" ok , great ! \" .\n"
     ]
    }
   ],
   "source": [
    "from nltk.tokenize import TweetTokenizer\n",
    "tokenizer = TweetTokenizer()\n",
    "preprocess = lambda text: ' '.join(tokenizer.tokenize(text.lower()))\n",
    "\n",
    "text = 'How to be a grown-up at work: replace \"fuck you\" with \"Ok, great!\".'\n",
    "print(\"before:\", text,)\n",
    "print(\"after:\", preprocess(text),)"
   ]
  },
  {
   "cell_type": "code",
   "execution_count": 8,
   "metadata": {
    "collapsed": true
   },
   "outputs": [],
   "source": [
    "# task: preprocess each comment in train and test\n",
    "\n",
    "texts_train = list(map(preprocess, texts_train))\n",
    "texts_test = list(map(preprocess, texts_test))"
   ]
  },
  {
   "cell_type": "code",
   "execution_count": 9,
   "metadata": {
    "collapsed": true
   },
   "outputs": [],
   "source": [
    "assert texts_train[5] ==  'who cares anymore . they attack with impunity .'\n",
    "assert texts_test[89] == 'hey todds ! quick q ? why are you so gay'\n",
    "assert len(texts_test) == len(y_test)"
   ]
  },
  {
   "cell_type": "markdown",
   "metadata": {},
   "source": [
    "### Solving it: bag of words\n",
    "\n",
    "![img](http://www.novuslight.com/uploads/n/BagofWords.jpg)\n",
    "\n",
    "One traditional approach to such problem is to use bag of words features:\n",
    "1. build a vocabulary of frequent words (use train data only)\n",
    "2. for each training sample, count the number of times a word occurs in it (for each word in vocabulary).\n",
    "3. consider this count a feature for some classifier\n",
    "\n",
    "__Note:__ in practice, you can compute such features using sklearn. Please don't do that in the current assignment, though.\n",
    "* `from sklearn.feature_extraction.text import CountVectorizer, TfidfVectorizer`"
   ]
  },
  {
   "cell_type": "code",
   "execution_count": 25,
   "metadata": {},
   "outputs": [
    {
     "name": "stdout",
     "output_type": "stream",
     "text": [
      "example features: ['!', 'came', 'faggot', 'lets', 'punctuation', 'theoretical']\n"
     ]
    }
   ],
   "source": [
    "# task: find up to k most frequent tokens in texts_train,\n",
    "# sort them by number of occurences (highest first)\n",
    "k = 10000\n",
    "\n",
    "from collections import Counter\n",
    "\n",
    "c = Counter()\n",
    "for train_sentence in texts_train:\n",
    "    c.update(train_sentence.split())\n",
    "\n",
    "bow_vocabulary = [token for token, _ in c.most_common(k)]\n",
    "\n",
    "print('example features:', sorted(bow_vocabulary)[::1000])"
   ]
  },
  {
   "cell_type": "code",
   "execution_count": 208,
   "metadata": {
    "collapsed": true
   },
   "outputs": [],
   "source": [
    "def text_to_bow(text):\n",
    "    \"\"\" convert text string to an array of token counts. Use bow_vocabulary. \"\"\"\n",
    "    counter = Counter(text.split())\n",
    "    vec = [counter[token] for token in bow_vocabulary]\n",
    "    return np.array(vec, 'float32')"
   ]
  },
  {
   "cell_type": "code",
   "execution_count": 209,
   "metadata": {
    "collapsed": true
   },
   "outputs": [],
   "source": [
    "X_train_bow = np.stack(list(map(text_to_bow, texts_train)))\n",
    "X_test_bow = np.stack(list(map(text_to_bow, texts_test)))"
   ]
  },
  {
   "cell_type": "code",
   "execution_count": 210,
   "metadata": {
    "collapsed": true
   },
   "outputs": [],
   "source": [
    "k_max = len(set(' '.join(texts_train).split()))\n",
    "assert X_train_bow.shape == (len(texts_train), min(k, k_max))\n",
    "assert X_test_bow.shape == (len(texts_test), min(k, k_max))\n",
    "assert np.all(X_train_bow[5:10].sum(-1) == np.array([len(s.split()) for s in  texts_train[5:10]]))\n",
    "assert len(bow_vocabulary) <= min(k, k_max)\n",
    "assert X_train_bow[6, bow_vocabulary.index('.')] == texts_train[6].split().count('.')"
   ]
  },
  {
   "cell_type": "markdown",
   "metadata": {},
   "source": [
    "Machine learning stuff: fit, predict, evaluate. You know the drill."
   ]
  },
  {
   "cell_type": "code",
   "execution_count": 211,
   "metadata": {
    "collapsed": true
   },
   "outputs": [],
   "source": [
    "from sklearn.linear_model import LogisticRegression\n",
    "bow_model = LogisticRegression().fit(X_train_bow, y_train)"
   ]
  },
  {
   "cell_type": "code",
   "execution_count": 31,
   "metadata": {},
   "outputs": [
    {
     "data": {
      "image/png": "iVBORw0KGgoAAAANSUhEUgAAAXcAAAD8CAYAAACMwORRAAAABHNCSVQICAgIfAhkiAAAAAlwSFlz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\nSUVORK5CYII=\n",
      "text/plain": [
       "<matplotlib.figure.Figure at 0x11614f0b8>"
      ]
     },
     "metadata": {},
     "output_type": "display_data"
    }
   ],
   "source": [
    "from sklearn.metrics import roc_auc_score, roc_curve\n",
    "\n",
    "for name, X, y, model in [\n",
    "    ('train', X_train_bow, y_train, bow_model),\n",
    "    ('test ', X_test_bow, y_test, bow_model)\n",
    "]:\n",
    "    proba = model.predict_proba(X)[:, 1]\n",
    "    auc = roc_auc_score(y, proba)\n",
    "    plt.plot(*roc_curve(y, proba)[:2], label='%s AUC=%.4f' % (name, auc))\n",
    "\n",
    "plt.plot([0, 1], [0, 1], '--', color='black',)\n",
    "plt.legend(fontsize='large')\n",
    "plt.grid()"
   ]
  },
  {
   "cell_type": "markdown",
   "metadata": {},
   "source": [
    "### Task: implement TF-IDF features\n",
    "\n",
    "Not all words are equally useful. One can prioritize rare words and downscale words like \"and\"/\"or\" by using __tf-idf features__. This abbreviation stands for __text frequency/inverse document frequence__ and means exactly that:\n",
    "\n",
    "$$ feature_i = { Count(word_i \\in x) \\times { log {N \\over Count(word_i \\in D) + \\alpha} }} $$\n",
    "\n",
    "\n",
    ", where x is a single text, D is your dataset (a collection of texts), N is a total number of documents and $\\alpha$ is a smoothing hyperparameter (typically 1). \n",
    "And $Count(word_i \\in D)$ is the number of documents where $word_i$ appears.\n",
    "\n",
    "It may also be a good idea to normalize each data sample after computing tf-idf features.\n",
    "\n",
    "__Your task:__ implement tf-idf features, train a model and evaluate ROC curve. Compare it with basic BagOfWords model from above.\n",
    "\n",
    "Please don't use sklearn/nltk builtin tf-idf vectorizers in your solution :) You can still use 'em for debugging though."
   ]
  },
  {
   "cell_type": "markdown",
   "metadata": {},
   "source": [
    "**Remark**: N is total number of documents"
   ]
  },
  {
   "cell_type": "markdown",
   "metadata": {},
   "source": [
    "Let's start!\n",
    "```\n",
    "1) implement tf-idf features\n",
    "2) train a model\n",
    "3) evaluate ROC curve\n",
    "4) compare with BagOfWords\n",
    "```"
   ]
  },
  {
   "cell_type": "code",
   "execution_count": 166,
   "metadata": {
    "collapsed": true
   },
   "outputs": [],
   "source": [
    "class CustomTfidfVectorizer(object):\n",
    "    \"\"\" Simple version of TfidfVectorizer for our purposes \"\"\"\n",
    "    def __init__(self, vocab, alpha=1., smoothing_idf=False):\n",
    "        self._vocab = vocab\n",
    "        self._alpha = alpha\n",
    "        self._smoothing_idf = smoothing_idf\n",
    "        self._idf = None\n",
    "\n",
    "    def _compute_word_in_text_freq(self, texts):\n",
    "        words_freqs = np.zeros(len(self._vocab))\n",
    "        for text in texts:\n",
    "            occurences = Counter(text.split())\n",
    "            for i, token in enumerate(self._vocab):\n",
    "                if token in occurences:\n",
    "                    words_freqs[i] += 1\n",
    "        return words_freqs\n",
    "    \n",
    "    def _tf(self, text):\n",
    "        counter = Counter(text.split())\n",
    "        return np.array([counter[token] for token in self._vocab], 'float32')\n",
    "    \n",
    "    def fit(self, texts):\n",
    "        words_freqs = self._compute_word_in_text_freq(texts)\n",
    "        if self._smoothing_idf:  # exactly like from TfidfVectorizer\n",
    "            self._idf = np.log((1.+len(texts)) / (words_freqs + 1.)) + 1.\n",
    "            return\n",
    "        self._idf = np.log(len(texts) / (words_freqs + self._alpha))\n",
    "\n",
    "    def transform(self, text):\n",
    "        if not isinstance(text, str):\n",
    "            raise RuntimeError(\"Not implemented\")\n",
    "        assert(self._idf is not None)\n",
    "        result = self._tf(text) * self._idf\n",
    "        norm = np.linalg.norm(result)\n",
    "        return result / np.maximum(norm, 1e-40)"
   ]
  },
  {
   "cell_type": "markdown",
   "metadata": {},
   "source": [
    "Check on the second sentence, that our custom tf-idf vectorizer works almost equally to TfidfVectorizer from sklearn:"
   ]
  },
  {
   "cell_type": "code",
   "execution_count": 150,
   "metadata": {},
   "outputs": [
    {
     "name": "stdout",
     "output_type": "stream",
     "text": [
      "['henry lee lucas was my dad im pretty sure i know the information better than you do .']\n"
     ]
    }
   ],
   "source": [
    "sentence_to_check = texts_train[2:3]\n",
    "print(sentence_to_check)"
   ]
  },
  {
   "cell_type": "code",
   "execution_count": 167,
   "metadata": {},
   "outputs": [],
   "source": [
    "# Default TfidfVectorizer:\n",
    "from sklearn.feature_extraction.text import TfidfVectorizer\n",
    "\n",
    "tfidf_vectorizer = TfidfVectorizer(norm='l2', vocabulary=bow_vocabulary, tokenizer=lambda x: x.split())\n",
    "tfidf_vectorizer.fit(texts_train)\n",
    "vec1 = np.asarray(tfidf_vectorizer.transform(sentence_to_check).todense())[0]\n",
    "\n",
    "# Custom TfidfVectorizer:\n",
    "custom_tfidf_vectorizer = CustomTfidfVectorizer(bow_vocabulary, smoothing_idf=True)\n",
    "custom_tfidf_vectorizer.fit(texts_train)\n",
    "vec2 = custom_tfidf_vectorizer.transform(sentence_to_check[0])\n",
    "\n",
    "# Check:\n",
    "assert np.all(vec1 == vec2)\n",
    "assert np.all(tfidf_vectorizer.idf_ == custom_tfidf_vectorizer._idf)"
   ]
  },
  {
   "cell_type": "markdown",
   "metadata": {},
   "source": [
    "Let's check with **smoothing_idf**: *off* and *on*"
   ]
  },
  {
   "cell_type": "code",
   "execution_count": 172,
   "metadata": {},
   "outputs": [
    {
     "data": {
      "image/png": "iVBORw0KGgoAAAANSUhEUgAAAYUAAAEICAYAAACwDehOAAAABHNCSVQICAgIfAhkiAAAAAlwSFlz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\nCiGEELqiKYQQQuj6F+8uNMjpHHilAAAAAElFTkSuQmCC\n",
      "text/plain": [
       "<matplotlib.figure.Figure at 0x1178e7cc0>"
      ]
     },
     "metadata": {},
     "output_type": "display_data"
    }
   ],
   "source": [
    "tfidf_vectorizer = CustomTfidfVectorizer(bow_vocabulary, smoothing_idf=False)\n",
    "tfidf_vectorizer.fit(texts_train)\n",
    "\n",
    "X_train_bow = np.stack(list(map(tfidf_vectorizer.transform, texts_train)))\n",
    "X_test_bow = np.stack(list(map(tfidf_vectorizer.transform, texts_test)))\n",
    "\n",
    "model = LogisticRegression().fit(X_train_bow, y_train)\n",
    "\n",
    "for name, X, y, model in [\n",
    "    ('train', X_train_bow, y_train, model),\n",
    "    ('test ', X_test_bow, y_test, model)\n",
    "]:\n",
    "    proba = model.predict_proba(X)[:, 1]\n",
    "    auc = roc_auc_score(y, proba)\n",
    "    plt.plot(*roc_curve(y, proba)[:2], label='%s AUC=%.4f' % (name, auc))\n",
    "\n",
    "\n",
    "plt.title('Linear regression with TF-IDF features without IDF smoothing')\n",
    "plt.plot([0, 1], [0, 1], '--', color='black',)\n",
    "plt.legend(fontsize='large')\n",
    "plt.grid()"
   ]
  },
  {
   "cell_type": "code",
   "execution_count": 173,
   "metadata": {},
   "outputs": [
    {
     "data": {
      "image/png": "iVBORw0KGgoAAAANSUhEUgAAAXsAAAEICAYAAAC+iFRkAAAABHNCSVQICAgIfAhkiAAAAAlwSFlz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\n",
      "text/plain": [
       "<matplotlib.figure.Figure at 0x11a15acc0>"
      ]
     },
     "metadata": {},
     "output_type": "display_data"
    }
   ],
   "source": [
    "tfidf_vectorizer = CustomTfidfVectorizer(bow_vocabulary, smoothing_idf=True)\n",
    "tfidf_vectorizer.fit(texts_train)\n",
    "\n",
    "X_train_bow = np.stack(list(map(tfidf_vectorizer.transform, texts_train)))\n",
    "X_test_bow = np.stack(list(map(tfidf_vectorizer.transform, texts_test)))\n",
    "\n",
    "model = LogisticRegression().fit(X_train_bow, y_train)\n",
    "\n",
    "for name, X, y, model in [\n",
    "    ('train', X_train_bow, y_train, model),\n",
    "    ('test ', X_test_bow, y_test, model)\n",
    "]:\n",
    "    proba = model.predict_proba(X)[:, 1]\n",
    "    auc = roc_auc_score(y, proba)\n",
    "    plt.plot(*roc_curve(y, proba)[:2], label='%s AUC=%.4f' % (name, auc))\n",
    "\n",
    "plt.title('Linear regression with TF-IDF features with IDF smoothing')\n",
    "plt.plot([0, 1], [0, 1], '--', color='black',)\n",
    "plt.legend(fontsize='large')\n",
    "plt.grid()"
   ]
  },
  {
   "cell_type": "markdown",
   "metadata": {},
   "source": [
    "Got way better results!\n",
    "\n",
    "AUC ~ 0.87 in both cases, but in the simple model with words counters we got: AUC ~ 0.84"
   ]
  },
  {
   "cell_type": "markdown",
   "metadata": {},
   "source": [
    "IDF normalization helps to increase importance of rare words in documents.\n",
    "\n",
    "Also, it is interesting to see which words got which idf weights"
   ]
  },
  {
   "cell_type": "code",
   "execution_count": 187,
   "metadata": {
    "collapsed": true
   },
   "outputs": [],
   "source": [
    "tfidf_vectorizer = CustomTfidfVectorizer(bow_vocabulary, smoothing_idf=True)\n",
    "tfidf_vectorizer.fit(texts_train)"
   ]
  },
  {
   "cell_type": "code",
   "execution_count": 188,
   "metadata": {
    "collapsed": true
   },
   "outputs": [],
   "source": [
    "sorted_words_by_idf = sorted(zip(tfidf_vectorizer._idf, bow_vocabulary))"
   ]
  },
  {
   "cell_type": "code",
   "execution_count": 189,
   "metadata": {
    "collapsed": true
   },
   "outputs": [],
   "source": [
    "import pprint"
   ]
  },
  {
   "cell_type": "code",
   "execution_count": 194,
   "metadata": {},
   "outputs": [
    {
     "name": "stdout",
     "output_type": "stream",
     "text": [
      "less important tokens:\n",
      "[(1.2633627667970806, '.'),\n",
      " (1.5432828339133724, ','),\n",
      " (1.5501794129724327, 'the'),\n",
      " (1.6792718340663284, 'to'),\n",
      " (1.6871770135734416, 'you')]\n",
      "the most important tokens:\n",
      "[(6.523458920524919, 'zeus'),\n",
      " (6.523458920524919, 'zinta'),\n",
      " (6.523458920524919, 'zionism'),\n",
      " (6.523458920524919, 'zionists'),\n",
      " (6.523458920524919, 'zoey'),\n",
      " (6.523458920524919, 'zone'),\n",
      " (6.523458920524919, 'zoroastrianism'),\n",
      " (6.523458920524919, 'zu'),\n",
      " (6.523458920524919, '}:'),\n",
      " (6.523458920524919, '\\x95')]\n",
      "...\n",
      "[(6.523458920524919, '♩'),\n",
      " (6.523458920524919, '♬'),\n",
      " (6.523458920524919, '✍'),\n",
      " (6.523458920524919, '❤'),\n",
      " (6.523458920524919, '𒁳')]\n"
     ]
    }
   ],
   "source": [
    "print('less important tokens:')\n",
    "pprint.pprint(sorted_words_by_idf[:5])\n",
    "print('the most important tokens:')\n",
    "pprint.pprint(sorted_words_by_idf[-80:-70])\n",
    "print('...')\n",
    "pprint.pprint(sorted_words_by_idf[-5:])"
   ]
  },
  {
   "cell_type": "markdown",
   "metadata": {},
   "source": [
    "We can see, that idfs of the most important tokens are the same because of formula and there is a room to improve this model even further."
   ]
   "version": "3.5.6"
  }
 },
 "nbformat": 4,
 "nbformat_minor": 2
}
