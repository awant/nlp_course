{
 "cells": [
  {
   "cell_type": "code",
   "execution_count": 3,
   "metadata": {
    "collapsed": true
   },
   "outputs": [],
   "source": [
    "import numpy as np\n",
    "import matplotlib.pyplot as plt\n",
    "%matplotlib inline"
   ]
  },
  {
   "cell_type": "markdown",
   "metadata": {},
   "source": [
    "### Homework part I: Prohibited Comment Classification (3 points)\n",
    "\n",
    "![img](https://github.com/yandexdataschool/nlp_course/raw/master/resources/banhammer.jpg)\n",
    "\n",
    "__In this notebook__ you will build an algorithm that classifies social media comments into normal or toxic.\n",
    "Like in many real-world cases, you only have a small (10^3) dataset of hand-labeled examples to work with. We'll tackle this problem using both classical nlp methods and embedding-based approach."
   ]
  },
  {
   "cell_type": "code",
   "execution_count": 4,
   "metadata": {},
   "outputs": [
    {
     "data": {
      "text/html": [
       "<div>\n",
       "<style>\n",
       "    .dataframe thead tr:only-child th {\n",
       "        text-align: right;\n",
       "    }\n",
       "\n",
       "    .dataframe thead th {\n",
       "        text-align: left;\n",
       "    }\n",
       "\n",
       "    .dataframe tbody tr th {\n",
       "        vertical-align: top;\n",
       "    }\n",
       "</style>\n",
       "<table border=\"1\" class=\"dataframe\">\n",
       "  <thead>\n",
       "    <tr style=\"text-align: right;\">\n",
       "      <th></th>\n",
       "      <th>should_ban</th>\n",
       "      <th>comment_text</th>\n",
       "    </tr>\n",
       "  </thead>\n",
       "  <tbody>\n",
       "    <tr>\n",
       "      <th>50</th>\n",
       "      <td>0</td>\n",
       "      <td>\"Those who're in advantageous positions are th...</td>\n",
       "    </tr>\n",
       "    <tr>\n",
       "      <th>250</th>\n",
       "      <td>1</td>\n",
       "      <td>Fartsalot56 says f**k you motherclucker!!</td>\n",
       "    </tr>\n",
       "    <tr>\n",
       "      <th>450</th>\n",
       "      <td>1</td>\n",
       "      <td>Are you a fool? \\n\\nI am sorry, but you seem t...</td>\n",
       "    </tr>\n",
       "    <tr>\n",
       "      <th>650</th>\n",
       "      <td>1</td>\n",
       "      <td>I AM NOT A VANDAL!!!!!!!!!!!!!!!!!!!!!!!!!!!!!!</td>\n",
       "    </tr>\n",
       "    <tr>\n",
       "      <th>850</th>\n",
       "      <td>0</td>\n",
       "      <td>Citing sources\\n\\nCheck out the Wikipedia:Citi...</td>\n",
       "    </tr>\n",
       "  </tbody>\n",
       "</table>\n",
       "</div>"
      ],
      "text/plain": [
       "     should_ban                                       comment_text\n",
       "50            0  \"Those who're in advantageous positions are th...\n",
       "250           1          Fartsalot56 says f**k you motherclucker!!\n",
       "450           1  Are you a fool? \\n\\nI am sorry, but you seem t...\n",
       "650           1    I AM NOT A VANDAL!!!!!!!!!!!!!!!!!!!!!!!!!!!!!!\n",
       "850           0  Citing sources\\n\\nCheck out the Wikipedia:Citi..."
      ]
     },
     "execution_count": 4,
     "metadata": {},
     "output_type": "execute_result"
    }
   ],
   "source": [
    "import pandas as pd\n",
    "data = pd.read_csv(\"comments.tsv\", sep='\\t')\n",
    "\n",
    "texts = data['comment_text'].values\n",
    "target = data['should_ban'].values\n",
    "data[50::200]"
   ]
  },
  {
   "cell_type": "code",
   "execution_count": 5,
   "metadata": {
    "collapsed": true
   },
   "outputs": [],
   "source": [
    "from sklearn.model_selection import train_test_split\n",
    "texts_train, texts_test, y_train, y_test = train_test_split(texts, target, test_size=0.5, random_state=42)"
   ]
  },
  {
   "cell_type": "markdown",
   "metadata": {},
   "source": [
    "__Note:__ it is generally a good idea to split data into train/test before anything is done to them.\n",
    "\n",
    "It guards you against possible data leakage in the preprocessing stage. For example, should you decide to select words present in obscene tweets as features, you should only count those words over the training set. Otherwise your algoritm can cheat evaluation."
   ]
  },
  {
   "cell_type": "markdown",
   "metadata": {},
   "source": [
    "### Preprocessing and tokenization\n",
    "\n",
    "Comments contain raw text with punctuation, upper/lowercase letters and even newline symbols.\n",
    "\n",
    "To simplify all further steps, we'll split text into space-separated tokens using one of nltk tokenizers."
   ]
  },
  {
   "cell_type": "code",
   "execution_count": 6,
   "metadata": {},
   "outputs": [
    {
     "name": "stdout",
     "output_type": "stream",
     "text": [
      "before: How to be a grown-up at work: replace \"fuck you\" with \"Ok, great!\".\n",
      "after: how to be a grown-up at work : replace \" fuck you \" with \" ok , great ! \" .\n"
     ]
    }
   ],
   "source": [
    "from nltk.tokenize import TweetTokenizer\n",
    "tokenizer = TweetTokenizer()\n",
    "preprocess = lambda text: ' '.join(tokenizer.tokenize(text.lower()))\n",
    "\n",
    "text = 'How to be a grown-up at work: replace \"fuck you\" with \"Ok, great!\".'\n",
    "print(\"before:\", text,)\n",
    "print(\"after:\", preprocess(text),)"
   ]
  },
  {
   "cell_type": "code",
   "execution_count": 8,
   "metadata": {
    "collapsed": true
   },
   "outputs": [],
   "source": [
    "# task: preprocess each comment in train and test\n",
    "\n",
    "texts_train = list(map(preprocess, texts_train))\n",
    "texts_test = list(map(preprocess, texts_test))"
   ]
  },
  {
   "cell_type": "code",
   "execution_count": 9,
   "metadata": {
    "collapsed": true
   },
   "outputs": [],
   "source": [
    "assert texts_train[5] ==  'who cares anymore . they attack with impunity .'\n",
    "assert texts_test[89] == 'hey todds ! quick q ? why are you so gay'\n",
    "assert len(texts_test) == len(y_test)"
   ]
  },
  {
   "cell_type": "markdown",
   "metadata": {},
   "source": [
    "### Solving it: bag of words\n",
    "\n",
    "![img](http://www.novuslight.com/uploads/n/BagofWords.jpg)\n",
    "\n",
    "One traditional approach to such problem is to use bag of words features:\n",
    "1. build a vocabulary of frequent words (use train data only)\n",
    "2. for each training sample, count the number of times a word occurs in it (for each word in vocabulary).\n",
    "3. consider this count a feature for some classifier\n",
    "\n",
    "__Note:__ in practice, you can compute such features using sklearn. Please don't do that in the current assignment, though.\n",
    "* `from sklearn.feature_extraction.text import CountVectorizer, TfidfVectorizer`"
   ]
  },
  {
   "cell_type": "code",
   "execution_count": 25,
   "metadata": {},
   "outputs": [
    {
     "name": "stdout",
     "output_type": "stream",
     "text": [
      "example features: ['!', 'came', 'faggot', 'lets', 'punctuation', 'theoretical']\n"
     ]
    }
   ],
   "source": [
    "# task: find up to k most frequent tokens in texts_train,\n",
    "# sort them by number of occurences (highest first)\n",
    "k = 10000\n",
    "\n",
    "from collections import Counter\n",
    "\n",
    "c = Counter()\n",
    "for train_sentence in texts_train:\n",
    "    c.update(train_sentence.split())\n",
    "\n",
    "bow_vocabulary = [token for token, _ in c.most_common(k)]\n",
    "\n",
    "print('example features:', sorted(bow_vocabulary)[::1000])"
   ]
  },
  {
   "cell_type": "code",
   "execution_count": 208,
   "metadata": {
    "collapsed": true
   },
   "outputs": [],
   "source": [
    "def text_to_bow(text):\n",
    "    \"\"\" convert text string to an array of token counts. Use bow_vocabulary. \"\"\"\n",
    "    counter = Counter(text.split())\n",
    "    vec = [counter[token] for token in bow_vocabulary]\n",
    "    return np.array(vec, 'float32')"
   ]
  },
  {
   "cell_type": "code",
   "execution_count": 209,
   "metadata": {
    "collapsed": true
   },
   "outputs": [],
   "source": [
    "X_train_bow = np.stack(list(map(text_to_bow, texts_train)))\n",
    "X_test_bow = np.stack(list(map(text_to_bow, texts_test)))"
   ]
  },
  {
   "cell_type": "code",
   "execution_count": 210,
   "metadata": {
    "collapsed": true
   },
   "outputs": [],
   "source": [
    "k_max = len(set(' '.join(texts_train).split()))\n",
    "assert X_train_bow.shape == (len(texts_train), min(k, k_max))\n",
    "assert X_test_bow.shape == (len(texts_test), min(k, k_max))\n",
    "assert np.all(X_train_bow[5:10].sum(-1) == np.array([len(s.split()) for s in  texts_train[5:10]]))\n",
    "assert len(bow_vocabulary) <= min(k, k_max)\n",
    "assert X_train_bow[6, bow_vocabulary.index('.')] == texts_train[6].split().count('.')"
   ]
  },
  {
   "cell_type": "markdown",
   "metadata": {},
   "source": [
    "Machine learning stuff: fit, predict, evaluate. You know the drill."
   ]
  },
  {
   "cell_type": "code",
   "execution_count": 211,
   "metadata": {
    "collapsed": true
   },
   "outputs": [],
   "source": [
    "from sklearn.linear_model import LogisticRegression\n",
    "bow_model = LogisticRegression().fit(X_train_bow, y_train)"
   ]
  },
  {
   "cell_type": "code",
   "execution_count": 31,
   "metadata": {},
   "outputs": [
    {
     "data": {
      "image/png": "[encoded data removed]",
      "text/plain": [
       "<matplotlib.figure.Figure at 0x11614f0b8>"
      ]
     },
     "metadata": {},
     "output_type": "display_data"
    }
   ],
   "source": [
    "from sklearn.metrics import roc_auc_score, roc_curve\n",
    "\n",
    "for name, X, y, model in [\n",
    "    ('train', X_train_bow, y_train, bow_model),\n",
    "    ('test ', X_test_bow, y_test, bow_model)\n",
    "]:\n",
    "    proba = model.predict_proba(X)[:, 1]\n",
    "    auc = roc_auc_score(y, proba)\n",
    "    plt.plot(*roc_curve(y, proba)[:2], label='%s AUC=%.4f' % (name, auc))\n",
    "\n",
    "plt.plot([0, 1], [0, 1], '--', color='black',)\n",
    "plt.legend(fontsize='large')\n",
    "plt.grid()"
   ]
  },
  {
   "cell_type": "markdown",
   "metadata": {},
   "source": [
    "### Task: implement TF-IDF features\n",
    "\n",
    "Not all words are equally useful. One can prioritize rare words and downscale words like \"and\"/\"or\" by using __tf-idf features__. This abbreviation stands for __text frequency/inverse document frequence__ and means exactly that:\n",
    "\n",
    "$$ feature_i = { Count(word_i \\in x) \\times { log {N \\over Count(word_i \\in D) + \\alpha} }} $$\n",
    "\n",
    "\n",
    ", where x is a single text D is your dataset (a collection of texts), N is total number of words and $\\alpha$ is a smoothing hyperparameter (typically 1).\n",
    "\n",
    "It may also be a good idea to normalize each data sample after computing tf-idf features.\n",
    "\n",
    "__Your task:__ implement tf-idf features, train a model and evaluate ROC curve. Compare it with basic BagOfWords model from above.\n",
    "\n",
    "Please don't use sklearn/nltk builtin tf-idf vectorizers in your solution :) You can still use 'em for debugging though."
   ]
  },
  {
   "cell_type": "markdown",
   "metadata": {},
   "source": [
    "**Remark**: N is total number of documents"
   ]
  },
  {
   "cell_type": "markdown",
   "metadata": {},
   "source": [
    "Let's start!\n",
    "```\n",
    "1) implement tf-idf features\n",
    "2) train a model\n",
    "3) evaluate ROC curve\n",
    "4) compare with BagOfWords\n",
    "```"
   ]
  },
  {
   "cell_type": "code",
   "execution_count": 166,
   "metadata": {
    "collapsed": true
   },
   "outputs": [],
   "source": [
    "class CustomTfidfVectorizer(object):\n",
    "    \"\"\" Simple version of TfidfVectorizer for our purposes \"\"\"\n",
    "    def __init__(self, vocab, alpha=1., smoothing_idf=False):\n",
    "        self._vocab = vocab\n",
    "        self._alpha = alpha\n",
    "        self._smoothing_idf = smoothing_idf\n",
    "        self._idf = None\n",
    "\n",
    "    def _compute_word_in_text_freq(self, texts):\n",
    "        words_freqs = np.zeros(len(self._vocab))\n",
    "        for text in texts:\n",
    "            occurences = Counter(text.split())\n",
    "            for i, token in enumerate(self._vocab):\n",
    "                if token in occurences:\n",
    "                    words_freqs[i] += 1\n",
    "        return words_freqs\n",
    "    \n",
    "    def _tf(self, text):\n",
    "        counter = Counter(text.split())\n",
    "        return np.array([counter[token] for token in self._vocab], 'float32')\n",
    "    \n",
    "    def fit(self, texts):\n",
    "        words_freqs = self._compute_word_in_text_freq(texts)\n",
    "        if self._smoothing_idf:  # exactly like from TfidfVectorizer\n",
    "            self._idf = np.log((1.+len(texts)) / (words_freqs + 1.)) + 1.\n",
    "            return\n",
    "        self._idf = np.log(len(texts) / (words_freqs + self._alpha))\n",
    "\n",
    "    def transform(self, text):\n",
    "        if not isinstance(text, str):\n",
    "            raise RuntimeError(\"Not implemented\")\n",
    "        assert(self._idf is not None)\n",
    "        result = self._tf(text) * self._idf\n",
    "        norm = np.linalg.norm(result)\n",
    "        return result / np.maximum(norm, 1e-40)"
   ]
  },
  {
   "cell_type": "markdown",
   "metadata": {},
   "source": [
    "Check on the second sentence, that our custom tf-idf vectorizer works almost equally to TfidfVectorizer from sklearn:"
   ]
  },
  {
   "cell_type": "code",
   "execution_count": 150,
   "metadata": {},
   "outputs": [
    {
     "name": "stdout",
     "output_type": "stream",
     "text": [
      "['henry lee lucas was my dad im pretty sure i know the information better than you do .']\n"
     ]
    }
   ],
   "source": [
    "sentence_to_check = texts_train[2:3]\n",
    "print(sentence_to_check)"
   ]
  },
  {
   "cell_type": "code",
   "execution_count": 167,
   "metadata": {},
   "outputs": [],
   "source": [
    "# Default TfidfVectorizer:\n",
    "from sklearn.feature_extraction.text import TfidfVectorizer\n",
    "\n",
    "tfidf_vectorizer = TfidfVectorizer(norm='l2', vocabulary=bow_vocabulary, tokenizer=lambda x: x.split())\n",
    "tfidf_vectorizer.fit(texts_train)\n",
    "vec1 = np.asarray(tfidf_vectorizer.transform(sentence_to_check).todense())[0]\n",
    "\n",
    "# Custom TfidfVectorizer:\n",
    "custom_tfidf_vectorizer = CustomTfidfVectorizer(bow_vocabulary, smoothing_idf=True)\n",
    "custom_tfidf_vectorizer.fit(texts_train)\n",
    "vec2 = custom_tfidf_vectorizer.transform(sentence_to_check[0])\n",
    "\n",
    "# Check:\n",
    "assert np.all(vec1 == vec2)\n",
    "assert np.all(tfidf_vectorizer.idf_ == custom_tfidf_vectorizer._idf)"
   ]
  },
  {
   "cell_type": "markdown",
   "metadata": {},
   "source": [
    "Let's check with **smoothing_idf**: *off* and *on*"
   ]
  },
  {
   "cell_type": "code",
   "execution_count": 172,
   "metadata": {},
   "outputs": [
    {
     "data": {
      "image/png": "[encoded data removed]",
      "text/plain": [
       "<matplotlib.figure.Figure at 0x1178e7cc0>"
      ]
     },
     "metadata": {},
     "output_type": "display_data"
    }
   ],
   "source": [
    "tfidf_vectorizer = CustomTfidfVectorizer(bow_vocabulary, smoothing_idf=False)\n",
    "tfidf_vectorizer.fit(texts_train)\n",
    "\n",
    "X_train_bow = np.stack(list(map(tfidf_vectorizer.transform, texts_train)))\n",
    "X_test_bow = np.stack(list(map(tfidf_vectorizer.transform, texts_test)))\n",
    "\n",
    "model = LogisticRegression().fit(X_train_bow, y_train)\n",
    "\n",
    "for name, X, y, model in [\n",
    "    ('train', X_train_bow, y_train, model),\n",
    "    ('test ', X_test_bow, y_test, model)\n",
    "]:\n",
    "    proba = model.predict_proba(X)[:, 1]\n",
    "    auc = roc_auc_score(y, proba)\n",
    "    plt.plot(*roc_curve(y, proba)[:2], label='%s AUC=%.4f' % (name, auc))\n",
    "\n",
    "\n",
    "plt.title('Linear regression with TF-IDF features without IDF smoothing')\n",
    "plt.plot([0, 1], [0, 1], '--', color='black',)\n",
    "plt.legend(fontsize='large')\n",
    "plt.grid()"
   ]
  },
  {
   "cell_type": "code",
   "execution_count": 173,
   "metadata": {},
   "outputs": [
    {
     "data": {
      "image/png": "[encoded data removed]",
      "text/plain": [
       "<matplotlib.figure.Figure at 0x11a15acc0>"
      ]
     },
     "metadata": {},
     "output_type": "display_data"
    }
   ],
   "source": [
    "tfidf_vectorizer = CustomTfidfVectorizer(bow_vocabulary, smoothing_idf=True)\n",
    "tfidf_vectorizer.fit(texts_train)\n",
    "\n",
    "X_train_bow = np.stack(list(map(tfidf_vectorizer.transform, texts_train)))\n",
    "X_test_bow = np.stack(list(map(tfidf_vectorizer.transform, texts_test)))\n",
    "\n",
    "model = LogisticRegression().fit(X_train_bow, y_train)\n",
    "\n",
    "for name, X, y, model in [\n",
    "    ('train', X_train_bow, y_train, model),\n",
    "    ('test ', X_test_bow, y_test, model)\n",
    "]:\n",
    "    proba = model.predict_proba(X)[:, 1]\n",
    "    auc = roc_auc_score(y, proba)\n",
    "    plt.plot(*roc_curve(y, proba)[:2], label='%s AUC=%.4f' % (name, auc))\n",
    "\n",
    "plt.title('Linear regression with TF-IDF features with IDF smoothing')\n",
    "plt.plot([0, 1], [0, 1], '--', color='black',)\n",
    "plt.legend(fontsize='large')\n",
    "plt.grid()"
   ]
  },
  {
   "cell_type": "markdown",
   "metadata": {},
   "source": [
    "Got way better results!\n",
    "\n",
    "AUC ~ 0.87 in both cases, but in the simple model with words counters we got: AUC ~ 0.84"
   ]
  },
  {
   "cell_type": "markdown",
   "metadata": {},
   "source": [
    "IDF normalization helps to increase importance of rare words in documents.\n",
    "\n",
    "Also, it is interesting to see which words got which idf weights"
   ]
  },
  {
   "cell_type": "code",
   "execution_count": 187,
   "metadata": {
    "collapsed": true
   },
   "outputs": [],
   "source": [
    "tfidf_vectorizer = CustomTfidfVectorizer(bow_vocabulary, smoothing_idf=True)\n",
    "tfidf_vectorizer.fit(texts_train)"
   ]
  },
  {
   "cell_type": "code",
   "execution_count": 188,
   "metadata": {
    "collapsed": true
   },
   "outputs": [],
   "source": [
    "sorted_words_by_idf = sorted(zip(tfidf_vectorizer._idf, bow_vocabulary))"
   ]
  },
  {
   "cell_type": "code",
   "execution_count": 189,
   "metadata": {
    "collapsed": true
   },
   "outputs": [],
   "source": [
    "import pprint"
   ]
  },
  {
   "cell_type": "code",
   "execution_count": 194,
   "metadata": {},
   "outputs": [
    {
     "name": "stdout",
     "output_type": "stream",
     "text": [
      "less important tokens:\n",
      "[(1.2633627667970806, '.'),\n",
      " (1.5432828339133724, ','),\n",
      " (1.5501794129724327, 'the'),\n",
      " (1.6792718340663284, 'to'),\n",
      " (1.6871770135734416, 'you')]\n",
      "the most important tokens:\n",
      "[(6.523458920524919, 'zeus'),\n",
      " (6.523458920524919, 'zinta'),\n",
      " (6.523458920524919, 'zionism'),\n",
      " (6.523458920524919, 'zionists'),\n",
      " (6.523458920524919, 'zoey'),\n",
      " (6.523458920524919, 'zone'),\n",
      " (6.523458920524919, 'zoroastrianism'),\n",
      " (6.523458920524919, 'zu'),\n",
      " (6.523458920524919, '}:'),\n",
      " (6.523458920524919, '\\x95')]\n",
      "...\n",
      "[(6.523458920524919, '♩'),\n",
      " (6.523458920524919, '♬'),\n",
      " (6.523458920524919, '✍'),\n",
      " (6.523458920524919, '❤'),\n",
      " (6.523458920524919, '𒁳')]\n"
     ]
    }
   ],
   "source": [
    "print('less important tokens:')\n",
    "pprint.pprint(sorted_words_by_idf[:5])\n",
    "print('the most important tokens:')\n",
    "pprint.pprint(sorted_words_by_idf[-80:-70])\n",
    "print('...')\n",
    "pprint.pprint(sorted_words_by_idf[-5:])"
   ]
  },
  {
   "cell_type": "markdown",
   "metadata": {},
   "source": [
    "We can see, that idfs of the most important tokens are the same because of formula and there is a room to improve this model even further."
   ]
  },
  {
   "cell_type": "markdown",
   "metadata": {},
   "source": [
    "```\n",
    "\n",
    "```\n",
    "\n",
    "```\n",
    "\n",
    "```\n",
    "\n",
    "```\n",
    "\n",
    "```\n",
    "\n",
    "```\n",
    "\n",
    "```\n",
    "\n",
    "```\n",
    "\n",
    "```\n",
    "\n",
    "```\n",
    "\n",
    "```\n",
    "\n",
    "```\n",
    "\n",
    "```\n",
    "\n",
    "```\n",
    "\n",
    "```\n",
    "\n",
    "\n",
    "### Solving it better: word vectors\n",
    "\n",
    "Let's try another approach: instead of counting per-word frequencies, we shall map all words to pre-trained word vectors and average over them to get text features.\n",
    "\n",
    "This should give us two key advantages: (1) we now have 10^2 features instead of 10^4 and (2) our model can generalize to word that are not in training dataset.\n",
    "\n",
    "We begin with a standard approach with pre-trained word vectors. However, you may also try\n",
    "* training embeddings from scratch on relevant (unlabeled) data\n",
    "* multiplying word vectors by inverse word frequency in dataset (like tf-idf).\n",
    "* concatenating several embeddings\n",
    "    * call `gensim.downloader.info()['models'].keys()` to get a list of available models\n",
    "* clusterizing words by their word-vectors and try bag of cluster_ids\n",
    "\n",
    "__Note:__ loading pre-trained model may take a while. It's a perfect opportunity to refill your cup of tea/coffee and grab some extra cookies. Or binge-watch some tv series if you're slow on internet connection"
   ]
  },
  {
   "cell_type": "code",
   "execution_count": 195,
   "metadata": {
    "scrolled": false
   },
   "outputs": [
    {
     "name": "stdout",
     "output_type": "stream",
     "text": [
      "[==================================================] 100.0% 958.5/958.4MB downloaded\n"
     ]
    }
   ],
   "source": [
    "import gensim.downloader \n",
    "embeddings = gensim.downloader.load(\"fasttext-wiki-news-subwords-300\")\n",
    "\n",
    "# If you're low on RAM or download speed, use \"glove-wiki-gigaword-100\" instead. Ignore all further asserts."
   ]
  },
  {
   "cell_type": "code",
   "execution_count": 205,
   "metadata": {},
   "outputs": [],
   "source": [
    "def vectorize_sum(comment):\n",
    "    \"\"\"\n",
    "    implement a function that converts preprocessed comment to a sum of token vectors\n",
    "    \"\"\"\n",
    "    embedding_dim = embeddings.vectors.shape[1]\n",
    "    features = np.zeros([embedding_dim], dtype='float32')\n",
    "    for token in comment.split():\n",
    "        if token in embeddings:\n",
    "            features += embeddings[token]    \n",
    "    return features\n",
    "\n",
    "assert np.allclose(\n",
    "    vectorize_sum(\"who cares anymore . they attack with impunity .\")[::70],\n",
    "    np.array([ 0.0108616 ,  0.0261663 ,  0.13855131, -0.18510573, -0.46380025])\n",
    ")"
   ]
  },
  {
   "cell_type": "code",
   "execution_count": 206,
   "metadata": {
    "collapsed": true
   },
   "outputs": [],
   "source": [
    "X_train_wv = np.stack([vectorize_sum(text) for text in texts_train])\n",
    "X_test_wv = np.stack([vectorize_sum(text) for text in texts_test])"
   ]
  },
  {
   "cell_type": "code",
   "execution_count": 212,
   "metadata": {},
   "outputs": [
    {
     "data": {
      "image/png": "[encoded data removed]",
      "text/plain": [
       "<matplotlib.figure.Figure at 0x180d8cc18>"
      ]
     },
     "metadata": {},
     "output_type": "display_data"
    }
   ],
   "source": [
    "wv_model = LogisticRegression().fit(X_train_wv, y_train)\n",
    "\n",
    "for name, X, y, model in [\n",
    "    ('bow train', X_train_bow, y_train, bow_model),\n",
    "    ('bow test ', X_test_bow, y_test, bow_model),\n",
    "    ('vec train', X_train_wv, y_train, wv_model),\n",
    "    ('vec test ', X_test_wv, y_test, wv_model)\n",
    "]:\n",
    "    proba = model.predict_proba(X)[:, 1]\n",
    "    auc = roc_auc_score(y, proba)\n",
    "    plt.plot(*roc_curve(y, proba)[:2], label='%s AUC=%.4f' % (name, auc))\n",
    "\n",
    "plt.plot([0, 1], [0, 1], '--', color='black',)\n",
    "plt.legend(fontsize='large')\n",
    "plt.grid()\n",
    "\n",
    "assert roc_auc_score(y_test, wv_model.predict_proba(X_test_wv)[:, 1]) > 0.92, \"something's wrong with your features\""
   ]
  },
  {
   "cell_type": "markdown",
   "metadata": {},
   "source": [
    "If everything went right, you've just managed to reduce misclassification rate by a factor of two.\n",
    "This trick is very useful when you're dealing with small datasets. However, if you have hundreds of thousands of samples, there's a whole different range of methods for that. We'll get there in the second part."
   ]
  },
  {
   "cell_type": "markdown",
   "metadata": {},
   "source": [
    "Let's check another approaches - multiplying word vectors by words importance.\n",
    "\n",
    "But we have at least one problem: we should hypothesize about unseen tokens.\n",
    "\n",
    "Let's take this formula:\n",
    "\n",
    "$$ weight_i = (0.5 + 0.5 * \\frac{Count(word_i \\in x)}{\\max(Count(word_i \\in x)}) \\times (\\log(\\frac{N + 1}{Count(word_i \\in D) + 1}) + 1)$$\n",
    "\n",
    "and normalize afterwards. So we can now compute the weight for every word in document $x$"
   ]
  },
  {
   "cell_type": "code",
   "execution_count": 281,
   "metadata": {
    "collapsed": true
   },
   "outputs": [],
   "source": [
    "class ImportanceEvaluator(object):\n",
    "    def __init__(self, vocab):\n",
    "        self._vocab = vocab\n",
    "\n",
    "        self._train_texts_count = None\n",
    "        self._tokens_freqs = None\n",
    "\n",
    "    def _compute_word_in_text_freq(self, texts):\n",
    "        words_freqs = np.zeros(len(self._vocab))\n",
    "        for text in texts:\n",
    "            occurences = Counter(text.split())\n",
    "            for i, token in enumerate(self._vocab):\n",
    "                if token in occurences:\n",
    "                    words_freqs[i] += 1\n",
    "        return words_freqs\n",
    "    \n",
    "    def _double_normalized_tf(self, text):\n",
    "        tokens = text.split()\n",
    "        counter = Counter(tokens)\n",
    "        max_freq = counter.most_common(1)[0][1]\n",
    "        \n",
    "        # augmented frequency\n",
    "        term_in_doc_freq = lambda token: 0.5 + 0.5 * counter[token] / max_freq\n",
    "        \n",
    "        return np.array(list(map(term_in_doc_freq, tokens)), 'float32')\n",
    "    \n",
    "    def _get_token_freq(self, token):\n",
    "        return np.log((self._train_texts_count + 1) / (self._tokens_freqs.get(token, 0) + 1)) + 1\n",
    "    \n",
    "    def fit(self, texts):\n",
    "        tokens_freqs = self._compute_word_in_text_freq(texts)\n",
    "        self._train_texts_count = len(texts)\n",
    "        self._tokens_freqs = {token: freq for token, freq in zip(self._vocab, tokens_freqs)}\n",
    "\n",
    "    def transform(self, text):\n",
    "        if not isinstance(text, str):\n",
    "            raise RuntimeError(\"Not implemented\")\n",
    "        \n",
    "        weights = self._double_normalized_tf(text)\n",
    "        result = weights * np.array(list(map(self._get_token_freq, text.split())))\n",
    "        norm = np.linalg.norm(result)\n",
    "        return result / np.maximum(norm, 1e-40)"
   ]
  },
  {
   "cell_type": "code",
   "execution_count": 282,
   "metadata": {},
   "outputs": [],
   "source": [
    "imp_evaluator = ImportanceEvaluator(bow_vocabulary)\n",
    "imp_evaluator.fit(texts_train)"
   ]
  },
  {
   "cell_type": "code",
   "execution_count": 283,
   "metadata": {
    "collapsed": true
   },
   "outputs": [],
   "source": [
    "def vectorize(comment):\n",
    "    \"\"\"\n",
    "    implement a function that converts preprocessed comment to a weighted sum of token vectors\n",
    "    \"\"\"\n",
    "    embedding_dim = embeddings.vectors.shape[1]\n",
    "    features = np.zeros([embedding_dim], dtype='float32')\n",
    "    \n",
    "    tokens_imps = imp_evaluator.transform(comment)\n",
    "\n",
    "    for i, token in enumerate(comment.split()):\n",
    "        if token in embeddings:\n",
    "            features += embeddings[token] * tokens_imps[i]\n",
    "    return features\n",
    "\n",
    "X_train_wv = np.stack([vectorize(text) for text in texts_train])\n",
    "X_test_wv = np.stack([vectorize(text) for text in texts_test])"
   ]
  },
  {
   "cell_type": "code",
   "execution_count": 284,
   "metadata": {},
   "outputs": [
    {
     "data": {
      "image/png": "[encoded data removed]",
      "text/plain": [
       "<matplotlib.figure.Figure at 0x1828abe48>"
      ]
     },
     "metadata": {},
     "output_type": "display_data"
    }
   ],
   "source": [
    "wv_model = LogisticRegression().fit(X_train_wv, y_train)\n",
    "\n",
    "for name, X, y, model in [\n",
    "    ('vec train', X_train_wv, y_train, wv_model),\n",
    "    ('vec test ', X_test_wv, y_test, wv_model)\n",
    "]:\n",
    "    proba = model.predict_proba(X)[:, 1]\n",
    "    auc = roc_auc_score(y, proba)\n",
    "    plt.plot(*roc_curve(y, proba)[:2], label='%s AUC=%.4f' % (name, auc))\n",
    "\n",
    "plt.plot([0, 1], [0, 1], '--', color='black',)\n",
    "plt.legend(fontsize='large')\n",
    "plt.grid()\n",
    "\n",
    "assert roc_auc_score(y_test, wv_model.predict_proba(X_test_wv)[:, 1]) > 0.92, \"something's wrong with your features\""
   ]
  },
  {
   "cell_type": "markdown",
   "metadata": {},
   "source": [
    "With weights we get even better results: AUC = 0.94 (only sum give 0.93)"
   ]
  },
  {
   "cell_type": "code",
   "execution_count": null,
   "metadata": {
    "collapsed": true
   },
   "outputs": [],
   "source": []
  }
 ],
 "metadata": {
  "kernelspec": {
   "display_name": "Python 3",
   "language": "python",
   "name": "python3"
  },
  "language_info": {
   "codemirror_mode": {
    "name": "ipython",
    "version": 3
   },
   "file_extension": ".py",
   "mimetype": "text/x-python",
   "name": "python",
   "nbconvert_exporter": "python",
   "pygments_lexer": "ipython3",
   "version": "3.6.3"
  }
 },
 "nbformat": 4,
 "nbformat_minor": 2
}
