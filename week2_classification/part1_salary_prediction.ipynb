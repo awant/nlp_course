{
 "cells": [
  {
   "cell_type": "markdown",
   "metadata": {},
   "source": [
    "# Natural Language Processing with Deep Learning\n",
    "\n",
    "__This is exactly the same notebook as in `../week10_textconv/.`__\n",
    "\n",
    "__Feel free submit the seminar notebook, just make sure you read the assignments at the end.__\n",
    "\n",
    "Today we're gonna apply the newly learned DL tools for sequence processing to the task of predicting job salary.\n",
    "\n",
    "Special thanks to [Oleg Vasilev](https://github.com/Omrigan/) for the assignment core (orignally written for theano/tensorflow)."
   ]
  },
  {
   "cell_type": "code",
   "execution_count": 71,
   "metadata": {},
   "outputs": [],
   "source": [
    "import numpy as np\n",
    "import pandas as pd\n",
    "import matplotlib.pyplot as plt\n",
    "%matplotlib inline"
   ]
  },
  {
   "cell_type": "markdown",
   "metadata": {},
   "source": [
    "### About the challenge\n",
    "For starters, let's download the data from __[here](https://yadi.sk/d/vVEOWPFY3NruT7)__.\n",
    "\n",
    "You can also get it from the competition [page](https://www.kaggle.com/c/job-salary-prediction/data) (in that case, pick `Train_rev1.*`).\n",
    "\n",
    "\n",
    "Our task is to predict one number, __SalaryNormalized__, in the sense of minimizing __Mean Absolute Error__.\n",
    "\n",
    "<img src=\"https://kaggle2.blob.core.windows.net/competitions/kaggle/3342/media/salary%20prediction%20engine%20v2.png\" width=400px>\n",
    "\n",
    "To do so, our model ca access a number of features:\n",
    "* Free text: __`Title`__ and  __`FullDescription`__\n",
    "* Categorical: __`Category`__, __`Company`__, __`LocationNormalized`__, __`ContractType`__, and __`ContractTime`__.\n",
    "\n",
    "\n",
    "You can read more [in the official description](https://www.kaggle.com/c/job-salary-prediction#description)."
   ]
  },
  {
   "cell_type": "code",
   "execution_count": 2,
   "metadata": {},
   "outputs": [
    {
     "data": {
      "text/html": [
       "<div>\n",
       "<style scoped>\n",
       "    .dataframe tbody tr th:only-of-type {\n",
       "        vertical-align: middle;\n",
       "    }\n",
       "\n",
       "    .dataframe tbody tr th {\n",
       "        vertical-align: top;\n",
       "    }\n",
       "\n",
       "    .dataframe thead th {\n",
       "        text-align: right;\n",
       "    }\n",
       "</style>\n",
       "<table border=\"1\" class=\"dataframe\">\n",
       "  <thead>\n",
       "    <tr style=\"text-align: right;\">\n",
       "      <th></th>\n",
       "      <th>Id</th>\n",
       "      <th>Title</th>\n",
       "      <th>FullDescription</th>\n",
       "      <th>LocationRaw</th>\n",
       "      <th>LocationNormalized</th>\n",
       "      <th>ContractType</th>\n",
       "      <th>ContractTime</th>\n",
       "      <th>Company</th>\n",
       "      <th>Category</th>\n",
       "      <th>SalaryRaw</th>\n",
       "      <th>SalaryNormalized</th>\n",
       "      <th>SourceName</th>\n",
       "      <th>Log1pSalary</th>\n",
       "    </tr>\n",
       "  </thead>\n",
       "  <tbody>\n",
       "    <tr>\n",
       "      <th>219067</th>\n",
       "      <td>72339468</td>\n",
       "      <td>Work Based Learning Manager</td>\n",
       "      <td>Fairstaff Recruitment are looking to recruit o...</td>\n",
       "      <td>Newcastle upon Tyne, North East</td>\n",
       "      <td>Newcastle Upon Tyne</td>\n",
       "      <td>NaN</td>\n",
       "      <td>permanent</td>\n",
       "      <td>HCL Fairstaff</td>\n",
       "      <td>Teaching Jobs</td>\n",
       "      <td>0 - 30000/annum</td>\n",
       "      <td>15000</td>\n",
       "      <td>cv-library.co.uk</td>\n",
       "      <td>9.615872</td>\n",
       "    </tr>\n",
       "    <tr>\n",
       "      <th>33019</th>\n",
       "      <td>68177661</td>\n",
       "      <td>Finance Manager, Financial Control</td>\n",
       "      <td>The Finance Manager, Financial Control is alig...</td>\n",
       "      <td>City of London</td>\n",
       "      <td>The City</td>\n",
       "      <td>full_time</td>\n",
       "      <td>permanent</td>\n",
       "      <td>Investigo</td>\n",
       "      <td>Accounting &amp; Finance Jobs</td>\n",
       "      <td>55000.00 - 60000 per annum + car+bonus+30days ...</td>\n",
       "      <td>57500</td>\n",
       "      <td>icaewjobs.com</td>\n",
       "      <td>10.959558</td>\n",
       "    </tr>\n",
       "    <tr>\n",
       "      <th>213422</th>\n",
       "      <td>72236652</td>\n",
       "      <td>BDM  Corporate/Business Travel solutions  ****...</td>\n",
       "      <td>An exceptional opportunity has arisen for a Bu...</td>\n",
       "      <td>London South East</td>\n",
       "      <td>South East London</td>\n",
       "      <td>NaN</td>\n",
       "      <td>NaN</td>\n",
       "      <td>H2 Recruit</td>\n",
       "      <td>Sales Jobs</td>\n",
       "      <td>30000.00 - 40000.00 per annum + uncapped OTE (...</td>\n",
       "      <td>35000</td>\n",
       "      <td>salestarget.co.uk</td>\n",
       "      <td>10.463132</td>\n",
       "    </tr>\n",
       "  </tbody>\n",
       "</table>\n",
       "</div>"
      ],
      "text/plain": [
       "              Id                                              Title  \\\n",
       "219067  72339468                        Work Based Learning Manager   \n",
       "33019   68177661                 Finance Manager, Financial Control   \n",
       "213422  72236652  BDM  Corporate/Business Travel solutions  ****...   \n",
       "\n",
       "                                          FullDescription  \\\n",
       "219067  Fairstaff Recruitment are looking to recruit o...   \n",
       "33019   The Finance Manager, Financial Control is alig...   \n",
       "213422  An exceptional opportunity has arisen for a Bu...   \n",
       "\n",
       "                            LocationRaw   LocationNormalized ContractType  \\\n",
       "219067  Newcastle upon Tyne, North East  Newcastle Upon Tyne          NaN   \n",
       "33019                    City of London             The City    full_time   \n",
       "213422                London South East    South East London          NaN   \n",
       "\n",
       "       ContractTime        Company                   Category  \\\n",
       "219067    permanent  HCL Fairstaff              Teaching Jobs   \n",
       "33019     permanent      Investigo  Accounting & Finance Jobs   \n",
       "213422          NaN     H2 Recruit                 Sales Jobs   \n",
       "\n",
       "                                                SalaryRaw  SalaryNormalized  \\\n",
       "219067                                    0 - 30000/annum             15000   \n",
       "33019   55000.00 - 60000 per annum + car+bonus+30days ...             57500   \n",
       "213422  30000.00 - 40000.00 per annum + uncapped OTE (...             35000   \n",
       "\n",
       "               SourceName  Log1pSalary  \n",
       "219067   cv-library.co.uk     9.615872  \n",
       "33019       icaewjobs.com    10.959558  \n",
       "213422  salestarget.co.uk    10.463132  "
      ]
     },
     "execution_count": 2,
     "metadata": {},
     "output_type": "execute_result"
    }
   ],
   "source": [
    "train_data_path = '/data/rimarakulin/dl_data/Train_rev1.csv'\n",
    "\n",
    "data = pd.read_csv(train_data_path, index_col=None)\n",
    "data['Log1pSalary'] = np.log1p(data['SalaryNormalized']).astype('float32')\n",
    "\n",
    "text_columns = [\"Title\", \"FullDescription\"]\n",
    "categorical_columns = [\"Category\", \"Company\", \"LocationNormalized\", \"ContractType\", \"ContractTime\"]\n",
    "target_column = \"Log1pSalary\"\n",
    "data[categorical_columns] = data[categorical_columns].fillna('NaN') # cast nan to string\n",
    "\n",
    "data.sample(3)"
   ]
  },
  {
   "cell_type": "markdown",
   "metadata": {},
   "source": [
    "### The NLP part\n",
    "\n",
    "To even begin training our neural network, we're gonna need to preprocess the text features: tokenize it and build the token vocabularies.\n",
    "\n",
    "Since it is not an NLP course, we're gonna use simple built-in NLTK tokenization."
   ]
  },
  {
   "cell_type": "code",
   "execution_count": 3,
   "metadata": {},
   "outputs": [
    {
     "name": "stdout",
     "output_type": "stream",
     "text": [
      "Before\n",
      "0         Engineering Systems Analyst\n",
      "100000                   HR Assistant\n",
      "200000           Senior EC&I Engineer\n",
      "Name: Title, dtype: object\n"
     ]
    }
   ],
   "source": [
    "print(\"Before\")\n",
    "print(data[\"Title\"][::100000])"
   ]
  },
  {
   "cell_type": "code",
   "execution_count": 4,
   "metadata": {},
   "outputs": [],
   "source": [
    "import nltk\n",
    "tokenizer = nltk.tokenize.WordPunctTokenizer()\n",
    "\n",
    "for col in text_columns:\n",
    "    data[col] = data[col].apply(lambda l: ' '.join(tokenizer.tokenize(str(l).lower())))"
   ]
  },
  {
   "cell_type": "markdown",
   "metadata": {},
   "source": [
    "Now we can assume that our text is a space-separated list of tokens:"
   ]
  },
  {
   "cell_type": "code",
   "execution_count": 5,
   "metadata": {},
   "outputs": [
    {
     "name": "stdout",
     "output_type": "stream",
     "text": [
      "After\n",
      "0         engineering systems analyst\n",
      "100000                   hr assistant\n",
      "200000         senior ec & i engineer\n",
      "Name: Title, dtype: object\n"
     ]
    }
   ],
   "source": [
    "print(\"After\")\n",
    "print(data[\"Title\"][::100000])"
   ]
  },
  {
   "cell_type": "markdown",
   "metadata": {},
   "source": [
    "Not all words are equally useful. Some of them are typos or rare words that are only present a few times. \n",
    "\n",
    "Let's see how many times is each word present in the data so that we can build a \"white list\" of known words."
   ]
  },
  {
   "cell_type": "code",
   "execution_count": 6,
   "metadata": {},
   "outputs": [
    {
     "name": "stdout",
     "output_type": "stream",
     "text": [
      "engineering systems analyst\n",
      "stress engineer glasgow\n",
      "modelling and simulation analyst\n",
      "engineering systems analyst / mathematical modeller\n",
      "pioneer , miser engineering systems analyst\n"
     ]
    }
   ],
   "source": [
    "for x in data['Title'].head():\n",
    "    print(x)"
   ]
  },
  {
   "cell_type": "code",
   "execution_count": 7,
   "metadata": {},
   "outputs": [],
   "source": [
    "from collections import Counter\n",
    "token_counts = Counter()\n",
    "\n",
    "# Count how many times does each token occur in both \"Title\" and \"FullDescription\" fields\n",
    "for col in text_columns:\n",
    "    for line in data[col].values:\n",
    "        token_counts.update(line.split())"
   ]
  },
  {
   "cell_type": "code",
   "execution_count": 8,
   "metadata": {},
   "outputs": [
    {
     "name": "stdout",
     "output_type": "stream",
     "text": [
      "Total unique tokens : 202704\n",
      "('and', 2657388)\n",
      "('.', 2523216)\n",
      "(',', 2318606)\n",
      "('the', 2080994)\n",
      "('to', 2019884)\n",
      "...\n",
      "('vacancieslfha', 1)\n",
      "('claimsserviceadvisor_job', 1)\n",
      "('accountspayablesupervisorteamleader_job', 1)\n",
      "Correct!\n"
     ]
    }
   ],
   "source": [
    "print(\"Total unique tokens :\", len(token_counts))\n",
    "print('\\n'.join(map(str, token_counts.most_common(n=5))))\n",
    "print('...')\n",
    "print('\\n'.join(map(str, token_counts.most_common()[-3:])))\n",
    "\n",
    "assert token_counts.most_common(1)[0][1] in  range(2600000, 2700000)\n",
    "assert len(token_counts) in range(200000, 210000)\n",
    "print('Correct!')"
   ]
  },
  {
   "cell_type": "code",
   "execution_count": 9,
   "metadata": {},
   "outputs": [
    {
     "data": {
      "text/plain": [
       "Text(0.5,0,'Counts')"
      ]
     },
     "execution_count": 9,
     "metadata": {},
     "output_type": "execute_result"
    },
    {
     "data": {
      "image/png": "[encoded data removed]",
      "text/plain": [
       "<Figure size 432x288 with 1 Axes>"
      ]
     },
     "metadata": {},
     "output_type": "display_data"
    }
   ],
   "source": [
    "# Let's see how many words are there for each count\n",
    "\n",
    "_=plt.hist(list(token_counts.values()), range=[0, 10**4], bins=50, log=True)\n",
    "plt.xlabel(\"Counts\")"
   ]
  },
  {
   "cell_type": "markdown",
   "metadata": {},
   "source": [
    "__Task 1.1__ Get a list of all tokens that occur at least 10 times."
   ]
  },
  {
   "cell_type": "code",
   "execution_count": 10,
   "metadata": {},
   "outputs": [],
   "source": [
    "min_count = 10\n",
    "\n",
    "# tokens from token_counts keys that had at least min_count occurrences throughout the dataset\n",
    "tokens = [token for token in token_counts if token_counts[token] >= min_count]\n",
    "\n",
    "# Add a special tokens for unknown and empty words\n",
    "UNK, PAD = \"UNK\", \"PAD\"\n",
    "tokens = [UNK, PAD] + tokens"
   ]
  },
  {
   "cell_type": "code",
   "execution_count": 11,
   "metadata": {},
   "outputs": [
    {
     "name": "stdout",
     "output_type": "stream",
     "text": [
      "Tokens left: 34158\n",
      "Correct!\n"
     ]
    }
   ],
   "source": [
    "print(\"Tokens left:\", len(tokens))\n",
    "assert type(tokens)==list\n",
    "assert len(tokens) in range(32000,35000)\n",
    "assert 'me' in tokens\n",
    "assert UNK in tokens\n",
    "print(\"Correct!\")"
   ]
  },
  {
   "cell_type": "markdown",
   "metadata": {},
   "source": [
    "__Task 1.2__ Build an inverse token index: a dictionary from token(string) to it's index in `tokens` (int)"
   ]
  },
  {
   "cell_type": "code",
   "execution_count": 12,
   "metadata": {},
   "outputs": [],
   "source": [
    "token_to_id = {token: index for index, token in enumerate(tokens)}"
   ]
  },
  {
   "cell_type": "code",
   "execution_count": 13,
   "metadata": {},
   "outputs": [
    {
     "name": "stdout",
     "output_type": "stream",
     "text": [
      "Correct!\n"
     ]
    }
   ],
   "source": [
    "assert isinstance(token_to_id, dict)\n",
    "assert len(token_to_id) == len(tokens)\n",
    "for tok in tokens:\n",
    "    assert tokens[token_to_id[tok]] == tok\n",
    "\n",
    "print(\"Correct!\")"
   ]
  },
  {
   "cell_type": "markdown",
   "metadata": {},
   "source": [
    "And finally, let's use the vocabulary you've built to map text lines into torch-digestible matrices."
   ]
  },
  {
   "cell_type": "code",
   "execution_count": 14,
   "metadata": {},
   "outputs": [],
   "source": [
    "UNK_IX, PAD_IX = map(token_to_id.get, [UNK, PAD])\n",
    "\n",
    "def as_matrix(sequences, max_len=None):\n",
    "    \"\"\" Convert a list of tokens into a matrix with padding \"\"\"\n",
    "    if isinstance(sequences[0], str):\n",
    "        sequences = list(map(str.split, sequences))\n",
    "        \n",
    "    max_len = min(max(map(len, sequences)), max_len or float('inf'))\n",
    "    \n",
    "    matrix = np.full((len(sequences), max_len), np.int32(PAD_IX))\n",
    "    for i,seq in enumerate(sequences):\n",
    "        row_ix = [token_to_id.get(word, UNK_IX) for word in seq[:max_len]]\n",
    "        matrix[i, :len(row_ix)] = row_ix\n",
    "    \n",
    "    return matrix"
   ]
  },
  {
   "cell_type": "code",
   "execution_count": 15,
   "metadata": {},
   "outputs": [
    {
     "name": "stdout",
     "output_type": "stream",
     "text": [
      "engineering systems analyst\n",
      "hr assistant\n",
      "senior ec & i engineer\n",
      "\n",
      "Matrix:\n",
      "[[ 5413 26883 31550     1     1]\n",
      " [22480 20292     1     1     1]\n",
      " [25416  2513  8932  9304 33605]]\n"
     ]
    }
   ],
   "source": [
    "#### print(\"Lines:\")\n",
    "print('\\n'.join(data[\"Title\"][::100000].values), end='\\n\\n')\n",
    "print(\"Matrix:\")\n",
    "print(as_matrix(data[\"Title\"][::100000]))"
   ]
  },
  {
   "cell_type": "markdown",
   "metadata": {},
   "source": [
    "Now let's  encode the categirical data we have.\n",
    "\n",
    "As usual, we shall use one-hot encoding for simplicity. Kudos if you implement tf-idf, target averaging or pseudo-counter-based encoding."
   ]
  },
  {
   "cell_type": "code",
   "execution_count": 16,
   "metadata": {},
   "outputs": [
    {
     "data": {
      "text/plain": [
       "DictVectorizer(dtype=<class 'numpy.float32'>, separator='=', sort=True,\n",
       "        sparse=False)"
      ]
     },
     "execution_count": 16,
     "metadata": {},
     "output_type": "execute_result"
    }
   ],
   "source": [
    "from sklearn.feature_extraction import DictVectorizer\n",
    "\n",
    "# we only consider top-1k most frequent companies to minimize memory usage\n",
    "top_companies, top_counts = zip(*Counter(data['Company']).most_common(1000))\n",
    "recognized_companies = set(top_companies)\n",
    "data[\"Company\"] = data[\"Company\"].apply(lambda comp: comp if comp in recognized_companies else \"Other\")\n",
    "\n",
    "categorical_vectorizer = DictVectorizer(dtype=np.float32, sparse=False)\n",
    "categorical_vectorizer.fit(data[categorical_columns].apply(dict, axis=1))"
   ]
  },
  {
   "cell_type": "markdown",
   "metadata": {},
   "source": [
    "### The data science part\n",
    "\n",
    "Once we've learned to tokenize the data, let's design a machine learning experiment.\n",
    "\n",
    "As before, we won't focus too much on validation, opting for a simple train-test split.\n",
    "\n",
    "__To be completely rigorous,__ we've comitted a small crime here: we used the whole data for tokenization and vocabulary building. A more strict way would be to do that part on training set only. You may want to do that and measure the magnitude of changes."
   ]
  },
  {
   "cell_type": "code",
   "execution_count": 17,
   "metadata": {},
   "outputs": [
    {
     "name": "stdout",
     "output_type": "stream",
     "text": [
      "Train size =  220291\n",
      "Validation size =  24477\n"
     ]
    }
   ],
   "source": [
    "from sklearn.model_selection import train_test_split\n",
    "\n",
    "data_train, data_val = train_test_split(data, test_size=0.1, random_state=42)\n",
    "\n",
    "print(\"Train size = \", len(data_train))\n",
    "print(\"Validation size = \", len(data_val))"
   ]
  },
  {
   "cell_type": "code",
   "execution_count": 18,
   "metadata": {},
   "outputs": [],
   "source": [
    "def generate_batch(data, batch_size=None, replace=True, max_len=None):\n",
    "    \"\"\"\n",
    "    Creates a pytorch-friendly dict from the batch data.\n",
    "    :returns: a dict with {'title' : int64[batch, title_max_len]\n",
    "    \"\"\"\n",
    "    if batch_size is not None:\n",
    "        data = data.sample(batch_size, replace=replace)\n",
    "    \n",
    "    batch = {}\n",
    "    for col in text_columns:\n",
    "        batch[col] = as_matrix(data[col].values, max_len)\n",
    "    \n",
    "    batch['Categorical'] = categorical_vectorizer.transform(data[categorical_columns].apply(dict, axis=1))\n",
    "    \n",
    "    if target_column in data.columns:\n",
    "        batch[target_column] = data[target_column].values\n",
    "    \n",
    "    return batch"
   ]
  },
  {
   "cell_type": "code",
   "execution_count": 19,
   "metadata": {},
   "outputs": [
    {
     "data": {
      "text/plain": [
       "{'Categorical': array([[0., 0., 0., ..., 0., 0., 0.],\n",
       "        [0., 0., 0., ..., 0., 0., 0.],\n",
       "        [0., 0., 0., ..., 0., 0., 0.]], dtype=float32),\n",
       " 'FullDescription': array([[24987, 21858, 11912, 13511, 24987, 13377,  2960, 13377,  9238,\n",
       "         11912],\n",
       "        [18405, 25416, 20602,  8263,     0,     0,  4344, 11049, 11049,\n",
       "         31527],\n",
       "        [17730, 12621, 12771,  8263,  6187,  5026, 28395, 22314,    45,\n",
       "         25552]], dtype=int32),\n",
       " 'Log1pSalary': array([11.042938, 10.389026, 10.389026], dtype=float32),\n",
       " 'Title': array([[24987, 21858, 11912, 13511, 24987, 13377,  2960, 13377,  9238],\n",
       "        [25416, 20602,  8263,   315,  1669,     1,     1,     1,     1],\n",
       "        [12409, 17730, 12621, 25552,     1,     1,     1,     1,     1]],\n",
       "       dtype=int32)}"
      ]
     },
     "execution_count": 19,
     "metadata": {},
     "output_type": "execute_result"
    }
   ],
   "source": [
    "generate_batch(data_train, 3, max_len=10)"
   ]
  },
  {
   "cell_type": "markdown",
   "metadata": {},
   "source": [
    "### Finally, let's talk deep learning\n",
    "\n",
    "Out model consists of three branches:\n",
    "* Title encoder\n",
    "* Description encoder\n",
    "* Categorical features encoder\n",
    "\n",
    "We will then feed all 3 branches into one common network that predicts salary.\n",
    "\n",
    "![scheme](https://github.com/yandexdataschool/Practical_DL/raw/master/homework04/conv_salary_architecture.png)"
   ]
  },
  {
   "cell_type": "markdown",
   "metadata": {},
   "source": [
    "By default, both text vectorizers shall use 1d convolutions, followed by global pooling over time."
   ]
  },
  {
   "cell_type": "code",
   "execution_count": 320,
   "metadata": {},
   "outputs": [],
   "source": [
    "import torch, torch.nn as nn\n",
    "import torch.nn.functional as F\n",
    "from torch.autograd import Variable\n",
    "\n",
    "class GlobalMaxPooling(nn.Module):\n",
    "    def __init__(self, dim=-1):\n",
    "        super(self.__class__, self).__init__()\n",
    "        self.dim = dim\n",
    "        \n",
    "    def forward(self, x):\n",
    "        return x.max(dim=self.dim)[0]\n",
    "\n",
    "class GlobalAvgPooling(nn.Module):\n",
    "    def __init__(self, dim=-1, use_gpu=False):\n",
    "        super(self.__class__, self).__init__()\n",
    "        self.use_gpu = use_gpu\n",
    "        self.dim = dim\n",
    "        \n",
    "    def forward(self, x, text_ix):\n",
    "        if self.use_gpu:\n",
    "            mask = (text_ix != 1).type(torch.cuda.FloatTensor).unsqueeze(1)\n",
    "        else:\n",
    "            mask = (text_ix != 1).type(torch.FloatTensor).unsqueeze(1)\n",
    "        return torch.sum(x * mask, dim=self.dim) / mask.sum(self.dim)\n",
    "\n",
    "class GlobalSoftmaxPooling(nn.Module):\n",
    "    def __init__(self, dim=-1):\n",
    "        super(self.__class__, self).__init__()\n",
    "        self.dim = dim\n",
    "        self.sm = torch.nn.Softmax(dim=dim)\n",
    "    \n",
    "    def forward(self, x):\n",
    "        return torch.sum(self.sm(x) * x, dim=self.dim)\n",
    "\n",
    "class GlobalAttentivePooling(nn.Module):\n",
    "    def __init__(self, dim=-1, n_cat_features=64, use_gpu=False):\n",
    "        super(self.__class__, self).__init__()\n",
    "        self.use_gpu = use_gpu\n",
    "        self.dim = dim\n",
    "        self.attn_nn = nn.Sequential(\n",
    "            nn.Linear(n_cat_features, 64),\n",
    "            nn.ReLU(),\n",
    "            nn.Linear(64, 1)\n",
    "        )\n",
    "        if self.use_gpu:\n",
    "            self.attn_nn = self.attn_nn.cuda()\n",
    "        self.sm = torch.nn.Softmax(dim=1)\n",
    "    \n",
    "    def forward(self, x):\n",
    "        h = self.attn_nn(torch.transpose(x, 1, 2))\n",
    "        return torch.sum(x * torch.transpose(sm(h), 1, 2), self.dim)"
   ]
  },
  {
   "cell_type": "code",
   "execution_count": 358,
   "metadata": {},
   "outputs": [],
   "source": [
    "class TitleEncoder(nn.Module):\n",
    "    def __init__(self, n_tokens=len(tokens), out_size=64, use_gpu=False):\n",
    "        \"\"\"\n",
    "        A simple sequential encoder for titles.\n",
    "        x -> emb -> conv -> global_max -> relu -> dense\n",
    "        \"\"\"\n",
    "        super(self.__class__, self).__init__()\n",
    "        one_pool_size = out_size // 2\n",
    "        self.emb = nn.Embedding(n_tokens, 128, padding_idx=PAD_IX)\n",
    "        self.conv1 = nn.Conv1d(128, one_pool_size, kernel_size=3, padding=1)\n",
    "        self.conv2 = nn.Conv1d(128, one_pool_size, kernel_size=5)\n",
    "        \n",
    "        self.bn1 = nn.BatchNorm1d(one_pool_size)\n",
    "        self.bn2 = nn.BatchNorm1d(one_pool_size)\n",
    "        \n",
    "        self.pool1 = GlobalSoftmaxPooling()\n",
    "        self.pool2 = GlobalAttentivePooling(dim=-1, n_cat_features=one_pool_size, use_gpu=use_gpu)\n",
    "        self.dense = nn.Linear(out_size, out_size)\n",
    "        self.dropout = nn.Dropout(0.5)\n",
    "\n",
    "    def forward(self, text_ix):\n",
    "        \"\"\"\n",
    "        :param text_ix: int64 Variable of shape [batch_size, max_len]\n",
    "        :returns: float32 Variable of shape [batch_size, out_size]\n",
    "        \"\"\"\n",
    "        h = self.emb(text_ix)\n",
    "\n",
    "        # we transpose from [batch, time, units] to [batch, units, time] to fit Conv1d dim order\n",
    "        h = torch.transpose(h, 1, 2)\n",
    "        \n",
    "        # Apply the layers as defined above. Add some ReLUs before dense.\n",
    "        h1 = self.bn1(self.conv1(h))\n",
    "        h2 = self.bn2(self.conv2(h))\n",
    "        h = F.relu(torch.cat([h1, h2], dim=-1))\n",
    "\n",
    "        h1 = self.pool1(h)\n",
    "        h2 = self.pool2(h)\n",
    "        \n",
    "        h = F.relu(torch.cat([h1, h2], dim=1))\n",
    "\n",
    "        return self.dense(self.dropout(h))"
   ]
  },
  {
   "cell_type": "code",
   "execution_count": 359,
   "metadata": {
    "scrolled": true
   },
   "outputs": [
    {
     "name": "stdout",
     "output_type": "stream",
     "text": [
      "Seems fine\n"
     ]
    }
   ],
   "source": [
    "title_encoder = TitleEncoder(out_size=64*4, use_gpu=False)\n",
    "\n",
    "dummy_x = Variable(torch.LongTensor(generate_batch(data_train, 3)['Title']))\n",
    "dummy_v = title_encoder(dummy_x)\n",
    "\n",
    "assert isinstance(dummy_v, Variable)\n",
    "assert tuple(dummy_v.shape) == (dummy_x.shape[0], 64*4)\n",
    "\n",
    "del title_encoder\n",
    "print(\"Seems fine\")"
   ]
  },
  {
   "cell_type": "markdown",
   "metadata": {},
   "source": [
    "__Task 2.1__ Create description encoder"
   ]
  },
  {
   "cell_type": "code",
   "execution_count": 366,
   "metadata": {},
   "outputs": [],
   "source": [
    "# Define an encoder for job descriptions.\n",
    "# Use any means you want so long as it's torch.nn.Module.\n",
    "class DescEncoder(nn.Module):\n",
    "    def __init__(self, n_tokens=len(tokens), out_size=64*4, use_gpu=False):\n",
    "        \"\"\" \n",
    "        A simple sequential encoder for titles.\n",
    "        x -> emb -> conv -> global_max -> relu -> dense\n",
    "        \"\"\"\n",
    "        super(self.__class__, self).__init__()\n",
    "        one_pool_size = out_size // 2\n",
    "        self.emb = nn.Embedding(n_tokens, 256, padding_idx=PAD_IX)\n",
    "        self.conv1 = nn.Conv1d(256, 200, kernel_size=3, padding=1)\n",
    "        self.conv2 = nn.Conv1d(200, one_pool_size, kernel_size=8, padding=1)\n",
    "        \n",
    "        self.bn1 = nn.BatchNorm1d(200)\n",
    "        self.bn2 = nn.BatchNorm1d(one_pool_size)\n",
    "        \n",
    "        self.pool1 = GlobalSoftmaxPooling()\n",
    "        self.pool2 = GlobalAttentivePooling(dim=-1, n_cat_features=one_pool_size, use_gpu=use_gpu)\n",
    "        \n",
    "        self.dropout = nn.Dropout(0.5)\n",
    "        self.dense = nn.Linear(out_size, out_size)\n",
    "\n",
    "    def forward(self, text_ix):\n",
    "        \"\"\"\n",
    "        :param text_ix: int64 Variable of shape [batch_size, max_len]\n",
    "        :returns: float32 Variable of shape [batch_size, out_size]\n",
    "        \"\"\"\n",
    "        h = self.emb(text_ix)\n",
    "        h = torch.transpose(h, 1, 2)\n",
    "        \n",
    "        h1 = self.bn1(self.conv1(h))\n",
    "        h2 = self.bn2(self.conv2(h1))\n",
    "        h = F.relu(h2)\n",
    "\n",
    "        h1 = self.pool1(h)\n",
    "        h2 = self.pool2(h)\n",
    "        \n",
    "        h = F.relu(torch.cat([h1, h2], dim=1))\n",
    "\n",
    "        return self.dense(self.dropout(h))"
   ]
  },
  {
   "cell_type": "code",
   "execution_count": 367,
   "metadata": {},
   "outputs": [
    {
     "name": "stdout",
     "output_type": "stream",
     "text": [
      "Seems fine too\n"
     ]
    }
   ],
   "source": [
    "desc_encoder = DescEncoder(out_size=64*4, use_gpu=False)\n",
    "\n",
    "dummy_x = Variable(torch.LongTensor(generate_batch(data_train, 3)['FullDescription']))\n",
    "dummy_v = desc_encoder(dummy_x)\n",
    "\n",
    "assert isinstance(dummy_v, Variable)\n",
    "assert tuple(dummy_v.shape) == (dummy_x.shape[0], 64*4)\n",
    "del desc_encoder\n",
    "print(\"Seems fine too\")"
   ]
  },
  {
   "cell_type": "markdown",
   "metadata": {},
   "source": [
    "__ Task 2.2__ Build one network ~~to rule them all~~"
   ]
  },
  {
   "cell_type": "code",
   "execution_count": 368,
   "metadata": {},
   "outputs": [],
   "source": [
    "class FullNetwork(nn.Module):\n",
    "    \"\"\"\n",
    "    This class does all the steps from (title, desc, categorical) features -> predicted target\n",
    "    It unites title & desc encoders you defined above as long as some layers for head and categorical branch.\n",
    "    \"\"\"\n",
    "    \n",
    "    def __init__(self, n_tokens=len(tokens), n_cat_features=len(categorical_vectorizer.vocabulary_)):\n",
    "        super(self.__class__, self).__init__()\n",
    "        \n",
    "        self.title_encoder = TitleEncoder(out_size=64*4, use_gpu=True)\n",
    "        self.desc_encoder = DescEncoder(out_size=64*4, use_gpu=True)\n",
    "        \n",
    "        # define layers for categorical features. A few dense layers would do.\n",
    "        self.cat_encoder = nn.Sequential(\n",
    "            nn.Linear(n_cat_features, 512),\n",
    "            nn.ReLU(),\n",
    "            nn.Linear(512, 64*4)\n",
    "        )\n",
    "        \n",
    "        # define \"output\" layers that process depend the three encoded vectors into answer\n",
    "        self.mixer = nn.Sequential(\n",
    "            nn.Linear(64*12, 1024),\n",
    "            nn.ReLU(),\n",
    "            nn.Dropout(0.3),\n",
    "            nn.Linear(1024, 1)\n",
    "        )\n",
    "        \n",
    "    def forward(self, title_ix, desc_ix, cat_features):\n",
    "        \"\"\"\n",
    "        :param title_ix: int32 Variable [batch, title_len], job titles encoded by as_matrix\n",
    "        :param desc_ix:  int32 Variable [batch, desc_len] , job descriptions encoded by as_matrix\n",
    "        :param cat_features: float32 Variable [batch, n_cat_features]\n",
    "        :returns: float32 Variable 1d [batch], predicted log1p-salary\n",
    "        \"\"\"\n",
    "        \n",
    "        # process each data source with it's respective encoder\n",
    "        title_h = self.title_encoder(title_ix)\n",
    "        desc_h = self.desc_encoder(desc_ix)\n",
    "        \n",
    "        # apply categorical encoder\n",
    "        cat_h = self.cat_encoder(cat_features)\n",
    "        \n",
    "        # concatenate all vectors together...\n",
    "        joint_h = torch.cat([title_h, desc_h, cat_h], dim=1)\n",
    "        \n",
    "        # ... and stack a few more layers at the top\n",
    "        out = self.mixer(joint_h)\n",
    "        \n",
    "        # Note 1: do not forget to select first columns, [:, 0], to get to 1d outputs\n",
    "        # Note 2: please do not use output nonlinearities.\n",
    "        \n",
    "        return out[:, 0]"
   ]
  },
  {
   "cell_type": "code",
   "execution_count": 404,
   "metadata": {},
   "outputs": [],
   "source": [
    "model = FullNetwork().cuda()\n",
    "opt = torch.optim.Adam(model.parameters(), lr=1e-3)"
   ]
  },
  {
   "cell_type": "code",
   "execution_count": 405,
   "metadata": {
    "scrolled": true
   },
   "outputs": [],
   "source": [
    "# test it on one batch\n",
    "\n",
    "batch = generate_batch(data_train, 32)\n",
    "\n",
    "title_ix = Variable(torch.LongTensor(batch[\"Title\"])).cuda()\n",
    "desc_ix = Variable(torch.LongTensor(batch[\"FullDescription\"])).cuda()\n",
    "cat_features = Variable(torch.FloatTensor(batch[\"Categorical\"])).cuda()\n",
    "reference = Variable(torch.FloatTensor(batch[target_column])).cuda()\n",
    "\n",
    "prediction = model(title_ix, desc_ix, cat_features)\n",
    "\n",
    "assert len(prediction.shape) == 1 and prediction.shape[0] == title_ix.shape[0]"
   ]
  },
  {
   "cell_type": "code",
   "execution_count": 406,
   "metadata": {},
   "outputs": [],
   "source": [
    "def compute_loss(reference, prediction):\n",
    "    \"\"\"\n",
    "    Computes objective for minimization.\n",
    "    By deafult we minimize MSE, but you are encouraged to try mix up MSE, MAE, huber loss, etc.\n",
    "    \"\"\"\n",
    "    return torch.mean((prediction - reference) ** 2)\n",
    "\n",
    "def compute_mae(reference, prediction):\n",
    "    \"\"\" Compute MAE on actual salary, assuming your model outputs log1p(salary)\"\"\"\n",
    "    return torch.abs(torch.exp(reference - 1) - torch.exp(prediction - 1)).mean()"
   ]
  },
  {
   "cell_type": "code",
   "execution_count": 407,
   "metadata": {},
   "outputs": [],
   "source": [
    "loss = compute_loss(reference, prediction)\n",
    "dummy_grads = torch.autograd.grad(loss, model.parameters(), retain_graph=True)\n",
    "for grad in dummy_grads:\n",
    "    assert grad is not None and not (grad == 0).all(), \"Some model parameters received zero grads. \" \\\n",
    "                                                       \"Double-check that your model uses all it's layers.\""
   ]
  },
  {
   "cell_type": "markdown",
   "metadata": {},
   "source": [
    "### Let's train it!"
   ]
  },
  {
   "cell_type": "code",
   "execution_count": 408,
   "metadata": {},
   "outputs": [],
   "source": [
    "from tqdm import tnrange\n",
    "def iterate_minibatches(data, batch_size=32, max_len=None,\n",
    "                        max_batches=None, shuffle=True, verbose=True):\n",
    "    indices = np.arange(len(data))\n",
    "    if shuffle:\n",
    "        indices = np.random.permutation(indices)\n",
    "    if max_batches is not None:\n",
    "        indices = indices[: batch_size * max_batches]\n",
    "        \n",
    "    irange = tnrange if verbose else range\n",
    "    \n",
    "    for start in irange(0, len(indices), batch_size):\n",
    "        yield generate_batch(data.iloc[indices[start : start + batch_size]], max_len=max_len)"
   ]
  },
  {
   "cell_type": "code",
   "execution_count": 409,
   "metadata": {},
   "outputs": [],
   "source": [
    "num_epochs = 100 + 32\n",
    "max_len = 100\n",
    "batch_size = 32\n",
    "batches_per_epoch = 1000"
   ]
  },
  {
   "cell_type": "code",
   "execution_count": 410,
   "metadata": {},
   "outputs": [],
   "source": [
    "from IPython.display import clear_output"
   ]
  },
  {
   "cell_type": "code",
   "execution_count": 411,
   "metadata": {},
   "outputs": [],
   "source": [
    "def plot_learning_curves(train_loss_history, val_loss_history,\n",
    "                         train_mae_history, val_mae_history):\n",
    "    clear_output(True)\n",
    "\n",
    "    plt.figure(figsize=(12,4))\n",
    "    plt.subplot(121)\n",
    "    plt.title('training MAE')\n",
    "    plt.plot(train_mae_history)\n",
    "    plt.grid()\n",
    "    plt.subplot(122)\n",
    "    plt.title('validation MAE')\n",
    "    plt.plot(val_mae_history)\n",
    "    plt.grid()\n",
    "    plt.show()\n",
    "    \n",
    "    print(\"Training:\\tLoss:\\t%.5f\\tMAE:\\t%.5f\" % (train_loss_history[-1], train_mae_history[-1]))\n",
    "    print(\"Validation:\\tLoss:\\t%.5f\\tMAE:\\t%.5f\" % (val_loss_history[-1], val_mae_history[-1]))"
   ]
  },
  {
   "cell_type": "code",
   "execution_count": 412,
   "metadata": {},
   "outputs": [],
   "source": [
    "class EarlyStopping(object):\n",
    "    def __init__(self, patience):\n",
    "        self.patience = patience\n",
    "        self.wait = 0\n",
    "        self.best_score = None\n",
    "        self.best_state_dict = None\n",
    "\n",
    "    def on_epoch_end(self, score, state_dict):\n",
    "        if self.best_score is None or score < self.best_score:\n",
    "            self.wait = 0\n",
    "            self.best_score = score\n",
    "            self.best_state_dict = state_dict\n",
    "        if self.wait >= self.patience:\n",
    "            print('Early stopping occured, best score: {}'.format(score))\n",
    "            return True\n",
    "        self.wait += 1\n",
    "        return False"
   ]
  },
  {
   "cell_type": "code",
   "execution_count": 413,
   "metadata": {
    "scrolled": false
   },
   "outputs": [
    {
     "data": {
      "image/png": "[encoded data removed]",
      "text/plain": [
       "<Figure size 864x288 with 2 Axes>"
      ]
     },
     "metadata": {},
     "output_type": "display_data"
    },
    {
     "name": "stdout",
     "output_type": "stream",
     "text": [
      "Training:\tLoss:\t0.03380\tMAE:\t1809.69270\n",
      "Validation:\tLoss:\t0.05090\tMAE:\t2052.15564\n"
     ]
    }
   ],
   "source": [
    "train_loss_history, train_mae_history = [], []\n",
    "val_loss_history, val_mae_history = [], []\n",
    "early_stopping = EarlyStopping(patience=100)\n",
    "\n",
    "for epoch_i in range(num_epochs):\n",
    "    \n",
    "    print(\"Training:\")\n",
    "    train_loss = train_mae = train_batches = 0    \n",
    "    model.train(True)\n",
    "    \n",
    "    for batch in iterate_minibatches(data_train, max_batches=batches_per_epoch):\n",
    "\n",
    "        title_ix = Variable(torch.LongTensor(batch[\"Title\"])).cuda()\n",
    "        desc_ix = Variable(torch.LongTensor(batch[\"FullDescription\"])).cuda()\n",
    "        cat_features = Variable(torch.FloatTensor(batch[\"Categorical\"])).cuda()\n",
    "        reference = Variable(torch.FloatTensor(batch[target_column])).cuda()\n",
    "\n",
    "        prediction = model(title_ix, desc_ix, cat_features)\n",
    "\n",
    "        loss = compute_loss(reference, prediction)\n",
    "        loss.backward()\n",
    "        opt.step()\n",
    "        opt.zero_grad()\n",
    "\n",
    "        train_loss += loss.data.cpu().numpy()[0]\n",
    "        train_mae += compute_mae(reference, prediction).data.cpu().numpy()[0]\n",
    "        train_batches += 1\n",
    "    \n",
    "    train_loss_history.append(train_loss / train_batches)\n",
    "    train_mae_history.append(train_mae / train_batches)\n",
    "    \n",
    "    print(\"Validation:\")\n",
    "    val_loss = val_mae = val_batches = 0\n",
    "    model.train(False)\n",
    "    \n",
    "    for batch in iterate_minibatches(data_val, shuffle=False):\n",
    "        title_ix = Variable(torch.LongTensor(batch[\"Title\"]), volatile=True).cuda()\n",
    "        desc_ix = Variable(torch.LongTensor(batch[\"FullDescription\"]), volatile=True).cuda()\n",
    "        cat_features = Variable(torch.FloatTensor(batch[\"Categorical\"]), volatile=True).cuda()\n",
    "        reference = Variable(torch.FloatTensor(batch[target_column]), volatile=True).cuda()\n",
    "\n",
    "        prediction = model(title_ix, desc_ix, cat_features)\n",
    "        loss = compute_loss(reference, prediction)\n",
    "\n",
    "        val_loss += loss.data.cpu().numpy()[0]\n",
    "        val_mae += compute_mae(reference, prediction).data.cpu().numpy()[0]\n",
    "        val_batches += 1\n",
    "    \n",
    "    val_loss_history.append(val_loss / val_batches)\n",
    "    val_mae_history.append(val_mae / val_batches)\n",
    "    \n",
    "    # change mae vals if too big:\n",
    "    val_mae_history[-1] = min(val_mae_history[-1], 10000)\n",
    "    train_mae_history[-1] = min(train_mae_history[-1], 10000)\n",
    "    \n",
    "    plot_learning_curves(train_loss_history, val_loss_history,\n",
    "                         train_mae_history, val_mae_history)\n",
    "    \n",
    "    if early_stopping.on_epoch_end(score=val_mae_history[-1], state_dict=model.state_dict()):\n",
    "        break"
   ]
  },
  {
   "cell_type": "code",
   "execution_count": 414,
   "metadata": {},
   "outputs": [
    {
     "name": "stdout",
     "output_type": "stream",
     "text": [
      "Final eval:\n"
     ]
    },
    {
     "data": {
      "application/vnd.jupyter.widget-view+json": {
       "model_id": "7c9a5fae88fe4acdbb9f2ebb9fe066d4",
       "version_major": 2,
       "version_minor": 0
      },
      "text/plain": [
       "HBox(children=(IntProgress(value=0, max=765), HTML(value='')))"
      ]
     },
     "metadata": {},
     "output_type": "display_data"
    },
    {
     "name": "stdout",
     "output_type": "stream",
     "text": [
      "\n",
      "\tLoss:\t0.05090\n",
      "\tMAE:\t2052.15564\n",
      "\n",
      "\n",
      "\n"
     ]
    }
   ],
   "source": [
    "print(\"Final eval:\")\n",
    "model.load_state_dict(early_stopping.best_state_dict)\n",
    "val_loss = val_mae = val_batches = 0\n",
    "\n",
    "for batch in iterate_minibatches(data_val, shuffle=False):\n",
    "    title_ix = Variable(torch.LongTensor(batch[\"Title\"]), volatile=True).cuda()\n",
    "    desc_ix = Variable(torch.LongTensor(batch[\"FullDescription\"]), volatile=True).cuda()\n",
    "    cat_features = Variable(torch.FloatTensor(batch[\"Categorical\"]), volatile=True).cuda()\n",
    "    reference = Variable(torch.FloatTensor(batch[target_column]), volatile=True).cuda()\n",
    "\n",
    "    prediction = model(title_ix, desc_ix, cat_features)\n",
    "    loss = compute_loss(reference, prediction)\n",
    "\n",
    "    val_loss += loss.data.cpu().numpy()[0]\n",
    "    val_mae += compute_mae(reference, prediction).data.cpu().numpy()[0]\n",
    "    val_batches += 1\n",
    "\n",
    "print(\"\\tLoss:\\t%.5f\" % (val_loss / val_batches))\n",
    "print(\"\\tMAE:\\t%.5f\" % (val_mae / val_batches))\n",
    "print('\\n\\n')"
   ]
  },
  {
   "cell_type": "markdown",
   "metadata": {},
   "source": [
    "### Task 3.2: Actually make it work\n",
    "\n",
    "Your main task is to use some of the tricks you've learned on the network and analyze if you can improve __validation MAE__.\n",
    "\n",
    "Try __at least 3 options__ from the list below for a passing grade. If you're into \n",
    "\n",
    "#### A) CNN architecture\n",
    "\n",
    "All the tricks you know about dense and convolutional neural networks apply here as well.\n",
    "* Dropout. Nuff said.\n",
    "* Batch Norm. This time it's `nn.BatchNorm1d`\n",
    "* Parallel convolution layers. The idea is that you apply several nn.Conv1d to the same embeddings and concatenate output channels.\n",
    "* More layers, more neurons, ya know...\n",
    "\n",
    "\n",
    "#### B) Play with pooling\n",
    "\n",
    "There's more than one way to do max pooling:\n",
    "* Max over time - our `GlobalMaxPooling`\n",
    "* Average over time (excluding PAD)\n",
    "* Softmax-pooling:\n",
    "$$ out_{i, t} = \\sum_t {h_{i,t} \\cdot {{e ^ {h_{i, t}}} \\over \\sum_\\tau e ^ {h_{j, \\tau}} } }$$\n",
    "\n",
    "* Attentive pooling\n",
    "$$ out_{i, t} = \\sum_t {h_{i,t} \\cdot Attn(h_t)}$$\n",
    "\n",
    ", where $$ Attn(h_t) = {{e ^ {NN_{attn}(h_t)}} \\over \\sum_\\tau e ^ {NN_{attn}(h_\\tau)}}  $$\n",
    "and $NN_{attn}$ is a small neural network\n",
    "\n",
    "\n",
    "The optimal score is usually achieved by concatenating several different poolings, including several attentive pooling with different $NN_{attn}$\n",
    "\n",
    "#### C) Fun with embeddings\n",
    "\n",
    "It's not always a good idea to train embeddings from scratch. Here's a few tricks:\n",
    "\n",
    "* Use a pre-trained word2vec from [here](http://ahogrammer.com/2017/01/20/the-list-of-pretrained-word-embeddings/) or [here](http://mccormickml.com/2016/04/12/googles-pretrained-word2vec-model-in-python/).\n",
    "* Start with pre-trained embeddings, then fine-tune them with gradient descent\n",
    "* Use the same embedding matrix in title and desc vectorizer\n",
    "\n",
    "#### D) Going recurrent\n",
    "\n",
    "We've already learned that recurrent networks can do cool stuff in sequence modelling. Turns out, they're not useless for classification as well. With some tricks of course..\n",
    "\n",
    "* Like convolutional layers, LSTM should be pooled into a fixed-size vector with some of the poolings.\n",
    "  * Please bear in mind that while convolution uses [batch, units, time] dim order, \n",
    "    recurrent units are built for [batch, time, unit]. You may need to `torch.transpose`.\n",
    "\n",
    "* Since you know all the text in advance, use bidirectional RNN\n",
    "  * Run one LSTM from left to right\n",
    "  * Run another in parallel from right to left \n",
    "  * Concatenate their output sequences along unit axis (dim=-1)\n",
    "\n",
    "* It might be good idea to mix convolutions and recurrent layers differently for title and description\n",
    "\n",
    "\n",
    "#### E) Optimizing seriously\n",
    "\n",
    "* You don't necessarily need 100 epochs. Use early stopping. If you've never done this before, take a look at [keras](https://github.com/keras-team/keras/blob/master/keras/callbacks.py#L461) for inspiration.\n",
    "  * In short, train until you notice that validation\n",
    "  * Maintain the best-on-validation snapshot via `model.state_dict`\n",
    "  * Plotting learning curves is usually a good idea"
   ]
  },
  {
   "cell_type": "markdown",
   "metadata": {},
   "source": [
    "### A short report\n",
    "\n",
    "First model: score: MAE: 2225. Took DescEncoder almost equals TitleEncoder (128 layer size)\n",
    "\n",
    "1) make E: should add learning curves plotting and early stopping\n",
    "\n",
    "Set early stop after 10 epochs (in 3 point changed to 100, because validation isn't stable)\n",
    "\n",
    "2) make B: First of all we will create Avg, Softmax and Attn Pooling and check with TitleEncoder that it is working.\n",
    "Then, we will concatenate pooling in different ways trying to get best score. It should be mentioned that using all poolings doesn't get best result.\n",
    "\n",
    "Also checked that all other poolings work correctly\n",
    "\n",
    "3) Make A: increase size of layers, number of layers, add BatchNorm1d and parallel conv1d to the same embedding\n",
    "\n",
    "Best found architecture in this ipynb. More layers, more units in layers, in TitleEncoder use parallel conv1d, in DescEncoder - 2 conv1d. Best score: 2052. It can be seen that with more epochs result would be slightly better."
   ]
  },
  {
   "cell_type": "code",
   "execution_count": null,
   "metadata": {},
   "outputs": [],
   "source": []
  }
 ],
 "metadata": {
  "kernelspec": {
   "display_name": "Python 2",
   "language": "python",
   "name": "python2"
  },
  "language_info": {
   "codemirror_mode": {
    "name": "ipython",
    "version": 2
   },
   "file_extension": ".py",
   "mimetype": "text/x-python",
   "name": "python",
   "nbconvert_exporter": "python",
   "pygments_lexer": "ipython2",
   "version": "2.7.6"
  }
 },
 "nbformat": 4,
 "nbformat_minor": 2
}
