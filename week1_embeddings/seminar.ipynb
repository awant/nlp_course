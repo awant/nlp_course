{
 "cells": [
  {
   "cell_type": "markdown",
   "metadata": {},
   "source": [
    "## Seminar 1: Fun with Word Embeddings (3 points)\n",
    "\n",
    "Today we gonna play with word embeddings: train our own little embedding, load one from   gensim model zoo and use it to visualize text corpora.\n",
    "\n",
    "This whole thing is gonna happen on top of embedding dataset.\n",
    "\n",
    "__Requirements:__  `pip install --upgrade nltk gensim bokeh` , but only if you're running locally."
   ]
  },
  {
   "cell_type": "code",
   "execution_count": 1,
   "metadata": {},
   "outputs": [
    {
     "name": "stdout",
     "output_type": "stream",
     "text": [
      "--2018-09-23 12:05:30--  https://www.dropbox.com/s/obaitrix9jyu84r/quora.txt?dl=1\n",
      "Распознаётся www.dropbox.com (www.dropbox.com)… 162.125.66.1\n",
      "Подключение к www.dropbox.com (www.dropbox.com)|162.125.66.1|:443... соединение установлено.\n",
      "HTTP-запрос отправлен. Ожидание ответа… 301 Moved Permanently\n",
      "Адрес: /s/dl/obaitrix9jyu84r/quora.txt [переход]\n",
      "--2018-09-23 12:05:30--  https://www.dropbox.com/s/dl/obaitrix9jyu84r/quora.txt\n",
      "Повторное использование соединения с www.dropbox.com:443.\n",
      "HTTP-запрос отправлен. Ожидание ответа… 302 Found\n",
      "Адрес: https://uc52ad093cffe97b15d450b23938.dl.dropboxusercontent.com/cd/0/get/ARNoOksp8eaYu-Ior2yA0-xpWCkTC7oacRNX7LG4rTLpBsMoFL67YRbBPkNmrRRW1Uv5FbFgDjHrqWlIPW8wsIaOOoilRWukWgjeLp2u4w9AgZrbgKG5rOlwFQzaASuFURl4Fo1SCZ7f1UFHCYAvieDibDb8J_zHaHm26jxglweYt81iQrNaHYSpRIt1HGew1jI/file?dl=1 [переход]\n",
      "--2018-09-23 12:05:31--  https://uc52ad093cffe97b15d450b23938.dl.dropboxusercontent.com/cd/0/get/ARNoOksp8eaYu-Ior2yA0-xpWCkTC7oacRNX7LG4rTLpBsMoFL67YRbBPkNmrRRW1Uv5FbFgDjHrqWlIPW8wsIaOOoilRWukWgjeLp2u4w9AgZrbgKG5rOlwFQzaASuFURl4Fo1SCZ7f1UFHCYAvieDibDb8J_zHaHm26jxglweYt81iQrNaHYSpRIt1HGew1jI/file?dl=1\n",
      "Распознаётся uc52ad093cffe97b15d450b23938.dl.dropboxusercontent.com (uc52ad093cffe97b15d450b23938.dl.dropboxusercontent.com)… 162.125.66.6\n",
      "Подключение к uc52ad093cffe97b15d450b23938.dl.dropboxusercontent.com (uc52ad093cffe97b15d450b23938.dl.dropboxusercontent.com)|162.125.66.6|:443... соединение установлено.\n",
      "HTTP-запрос отправлен. Ожидание ответа… 200 OK\n",
      "Длина: 33813903 (32M) [application/binary]\n",
      "Сохранение в: «./quora.txt»\n",
      "\n",
      "./quora.txt         100%[===================>]  32,25M  5,55MB/s    за 6,1s    \n",
      "\n",
      "2018-09-23 12:05:38 (5,25 MB/s) - «./quora.txt» сохранён [33813903/33813903]\n",
      "\n"
     ]
    }
   ],
   "source": [
    "# download the data:\n",
    "!wget https://www.dropbox.com/s/obaitrix9jyu84r/quora.txt?dl=1 -O ./quora.txt\n",
    "# alternative download link: https://yadi.sk/i/BPQrUu1NaTduEw"
   ]
  },
  {
   "cell_type": "code",
   "execution_count": 2,
   "metadata": {
    "scrolled": false
   },
   "outputs": [
    {
     "data": {
      "text/plain": [
       "\"What TV shows or books help you read people's body language?\\n\""
      ]
     },
     "execution_count": 2,
     "metadata": {},
     "output_type": "execute_result"
    }
   ],
   "source": [
    "import numpy as np\n",
    "\n",
    "data = list(open(\"./quora.txt\"))\n",
    "data[50]"
   ]
  },
  {
   "cell_type": "markdown",
   "metadata": {},
   "source": [
    "__Tokenization:__ a typical first step for an nlp task is to split raw data into words.\n",
    "The text we're working with is in raw format: with all the punctuation and smiles attached to some words, so a simple str.split won't do.\n",
    "\n",
    "Let's use __`nltk`__ - a library that handles many nlp tasks like tokenization, stemming or part-of-speech tagging."
   ]
  },
  {
   "cell_type": "code",
   "execution_count": 3,
   "metadata": {},
   "outputs": [
    {
     "name": "stdout",
     "output_type": "stream",
     "text": [
      "['What', 'TV', 'shows', 'or', 'books', 'help', 'you', 'read', 'people', \"'\", 's', 'body', 'language', '?']\n"
     ]
    }
   ],
   "source": [
    "from nltk.tokenize import WordPunctTokenizer\n",
    "tokenizer = WordPunctTokenizer()\n",
    "\n",
    "print(tokenizer.tokenize(data[50]))"
   ]
  },
  {
   "cell_type": "code",
   "execution_count": 4,
   "metadata": {},
   "outputs": [
    {
     "name": "stdout",
     "output_type": "stream",
     "text": [
      "['what', 'tv', 'shows', 'or', 'books', 'help', 'you', 'read', 'people', \"'\", 's', 'body', 'language', '?']\n"
     ]
    }
   ],
   "source": [
    "# TASK: lowercase everything and extract tokens with tokenizer. \n",
    "# data_tok should be a list of lists of tokens for each line in data.\n",
    "\n",
    "data_tok = [tokenizer.tokenize(string.lower()) for string in data]\n",
    "print(data_tok[50])"
   ]
  },
  {
   "cell_type": "code",
   "execution_count": 5,
   "metadata": {
    "collapsed": true
   },
   "outputs": [],
   "source": [
    "assert all(isinstance(row, (list, tuple)) for row in data_tok), \"please convert each line into a list of tokens (strings)\"\n",
    "assert all(all(isinstance(tok, str) for tok in row) for row in data_tok), \"please convert each line into a list of tokens (strings)\"\n",
    "is_latin = lambda tok: all('a' <= x.lower() <= 'z' for x in tok)\n",
    "assert all(map(lambda l: not is_latin(l) or l.islower(), map(' '.join, data_tok))), \"please make sure to lowercase the data\""
   ]
  },
  {
   "cell_type": "code",
   "execution_count": 6,
   "metadata": {},
   "outputs": [
    {
     "name": "stdout",
     "output_type": "stream",
     "text": [
      "[\"can i get back with my ex even though she is pregnant with another guy ' s baby ?\", 'what are some ways to overcome a fast food addiction ?']\n"
     ]
    }
   ],
   "source": [
    "print([' '.join(row) for row in data_tok[:2]])"
   ]
  },
  {
   "cell_type": "markdown",
   "metadata": {},
   "source": [
    "__Word vectors:__ as the saying goes, there's more than one way to train word embeddings. There's Word2Vec and GloVe with different objective functions. Then there's fasttext that uses character-level models to train word embeddings. \n",
    "\n",
    "The choice is huge, so let's start someplace small: __gensim__ is another nlp library that features many vector-based models incuding word2vec."
   ]
  },
  {
   "cell_type": "code",
   "execution_count": 7,
   "metadata": {},
   "outputs": [
    {
     "data": {
      "text/plain": [
       "537272"
      ]
     },
     "execution_count": 7,
     "metadata": {},
     "output_type": "execute_result"
    }
   ],
   "source": [
    "len(data_tok)"
   ]
  },
  {
   "cell_type": "code",
   "execution_count": 19,
   "metadata": {
    "collapsed": true
   },
   "outputs": [],
   "source": [
    "from gensim.models import Word2Vec\n",
    "model = Word2Vec(data_tok, \n",
    "                 size=32,      # embedding vector size\n",
    "                 min_count=5,  # consider words that occured at least 5 times\n",
    "                 window=5).wv  # define context as a 5-word window around the target word"
   ]
  },
  {
   "cell_type": "code",
   "execution_count": 20,
   "metadata": {},
   "outputs": [
    {
     "data": {
      "text/plain": [
       "array([ 1.2068808 ,  0.5594116 , -2.3684304 , -0.805223  , -0.44294024,\n",
       "       -0.9624045 ,  3.5702102 ,  1.6651751 , -1.3845338 ,  0.28192145,\n",
       "        2.5823526 ,  0.14318708,  0.6058058 , -2.2541125 , -1.6897236 ,\n",
       "        4.8350787 , -4.49005   , -0.6664193 ,  1.306786  ,  1.2508442 ,\n",
       "       -2.0612147 , -0.95687133,  0.32010427,  1.0718659 , -0.16227345,\n",
       "        0.75969017,  3.030435  ,  1.3498498 , -0.01887888, -2.568705  ,\n",
       "       -2.9857345 ,  1.404426  ], dtype=float32)"
      ]
     },
     "execution_count": 20,
     "metadata": {},
     "output_type": "execute_result"
    }
   ],
   "source": [
    "# now you can get word vectors !\n",
    "model.get_vector('anything')"
   ]
  },
  {
   "cell_type": "code",
   "execution_count": 21,
   "metadata": {},
   "outputs": [
    {
     "name": "stderr",
     "output_type": "stream",
     "text": [
      "/Users/romanmarakulin/anaconda3/lib/python3.6/site-packages/gensim/matutils.py:737: FutureWarning: Conversion of the second argument of issubdtype from `int` to `np.signedinteger` is deprecated. In future, it will be treated as `np.int64 == np.dtype(int).type`.\n",
      "  if np.issubdtype(vec.dtype, np.int):\n"
     ]
    },
    {
     "data": {
      "text/plain": [
       "[('bitsat', 0.8125330209732056),\n",
       " ('gmat', 0.7982620596885681),\n",
       " ('gre', 0.7935650944709778),\n",
       " ('usmle', 0.7860528230667114),\n",
       " ('ielts', 0.7828070521354675),\n",
       " ('sat', 0.7823654413223267),\n",
       " ('xat', 0.7798899412155151),\n",
       " ('percentile', 0.7787757515907288),\n",
       " ('toefl', 0.7715185880661011),\n",
       " ('aipmt', 0.7609981298446655)]"
      ]
     },
     "execution_count": 21,
     "metadata": {},
     "output_type": "execute_result"
    }
   ],
   "source": [
    "# or query similar words directly. Go play with it!\n",
    "model.most_similar('cat')"
   ]
  },
  {
   "cell_type": "markdown",
   "metadata": {},
   "source": [
    "### Using pre-trained model\n",
    "\n",
    "Took it a while, huh? Now imagine training life-sized (100~300D) word embeddings on gigabytes of text: wikipedia articles or twitter posts. \n",
    "\n",
    "Thankfully, nowadays you can get a pre-trained word embedding model in 2 lines of code (no sms required, promise)."
   ]
  },
  {
   "cell_type": "code",
   "execution_count": 22,
   "metadata": {
    "collapsed": true
   },
   "outputs": [],
   "source": [
    "import gensim.downloader as api\n",
    "model = api.load('glove-twitter-100')"
   ]
  },
  {
   "cell_type": "code",
   "execution_count": 23,
   "metadata": {},
   "outputs": [
    {
     "name": "stderr",
     "output_type": "stream",
     "text": [
      "/Users/romanmarakulin/anaconda3/lib/python3.6/site-packages/gensim/matutils.py:737: FutureWarning: Conversion of the second argument of issubdtype from `int` to `np.signedinteger` is deprecated. In future, it will be treated as `np.int64 == np.dtype(int).type`.\n",
      "  if np.issubdtype(vec.dtype, np.int):\n"
     ]
    },
    {
     "data": {
      "text/plain": [
       "[('dog', 0.875208854675293),\n",
       " ('kitty', 0.8015091419219971),\n",
       " ('pet', 0.7986468076705933),\n",
       " ('cats', 0.7979425191879272),\n",
       " ('kitten', 0.7936833500862122),\n",
       " ('puppy', 0.7702749371528625),\n",
       " ('monkey', 0.7584263682365417),\n",
       " ('bear', 0.7507943511009216),\n",
       " ('dogs', 0.7460063695907593),\n",
       " ('pig', 0.7117345929145813)]"
      ]
     },
     "execution_count": 23,
     "metadata": {},
     "output_type": "execute_result"
    }
   ],
   "source": [
    "model.most_similar('cat')"
   ]
  },
  {
   "cell_type": "code",
   "execution_count": 24,
   "metadata": {},
   "outputs": [
    {
     "name": "stderr",
     "output_type": "stream",
     "text": [
      "/Users/romanmarakulin/anaconda3/lib/python3.6/site-packages/gensim/matutils.py:737: FutureWarning: Conversion of the second argument of issubdtype from `int` to `np.signedinteger` is deprecated. In future, it will be treated as `np.int64 == np.dtype(int).type`.\n",
      "  if np.issubdtype(vec.dtype, np.int):\n"
     ]
    },
    {
     "data": {
      "text/plain": [
       "[('broker', 0.5820155739784241),\n",
       " ('bonuses', 0.5424473285675049),\n",
       " ('banker', 0.5385112762451172),\n",
       " ('designer', 0.5197198987007141),\n",
       " ('merchandising', 0.4964233338832855),\n",
       " ('treet', 0.49220195412635803),\n",
       " ('shopper', 0.4920561611652374),\n",
       " ('part-time', 0.4912828207015991),\n",
       " ('freelance', 0.4843311905860901),\n",
       " ('aupair', 0.4796452522277832)]"
      ]
     },
     "execution_count": 24,
     "metadata": {},
     "output_type": "execute_result"
    }
   ],
   "source": [
    "model.most_similar(positive=[\"coder\", \"money\"], negative=[\"brain\"])"
   ]
  },
  {
   "cell_type": "markdown",
   "metadata": {},
   "source": [
    "### Visualizing word vectors\n",
    "\n",
    "One way to see if our vectors are any good is to plot them. Thing is, those vectors are in 30D+ space and we humans are more used to 2-3D.\n",
    "\n",
    "Luckily, we machine learners know about __dimensionality reduction__ methods.\n",
    "\n",
    "Let's use that to plot 1000 most frequent words"
   ]
  },
  {
   "cell_type": "code",
   "execution_count": 25,
   "metadata": {},
   "outputs": [
    {
     "name": "stdout",
     "output_type": "stream",
     "text": [
      "['<user>', '_', 'please', 'apa', 'justin', 'text', 'hari', 'playing', 'once', 'sei']\n"
     ]
    }
   ],
   "source": [
    "words = sorted(model.vocab.keys(), \n",
    "               key=lambda word: model.vocab[word].count,\n",
    "               reverse=True)[:1000]\n",
    "\n",
    "print(words[::100])"
   ]
  },
  {
   "cell_type": "code",
   "execution_count": 28,
   "metadata": {
    "collapsed": true
   },
   "outputs": [],
   "source": [
    "# for each word, compute it's vector with model\n",
    "word_vectors = np.array([model.get_vector(word) for word in words])"
   ]
  },
  {
   "cell_type": "code",
   "execution_count": 29,
   "metadata": {
    "collapsed": true
   },
   "outputs": [],
   "source": [
    "assert isinstance(word_vectors, np.ndarray)\n",
    "assert word_vectors.shape == (len(words), 100)\n",
    "assert np.isfinite(word_vectors).all()"
   ]
  },
  {
   "cell_type": "markdown",
   "metadata": {},
   "source": [
    "#### Linear projection: PCA\n",
    "\n",
    "The simplest linear dimensionality reduction method is __P__rincipial __C__omponent __A__nalysis.\n",
    "\n",
    "In geometric terms, PCA tries to find axes along which most of the variance occurs. The \"natural\" axes, if you wish.\n",
    "\n",
    "<img src=\"https://github.com/yandexdataschool/Practical_RL/raw/master/yet_another_week/_resource/pca_fish.png\" style=\"width:30%\">\n",
    "\n",
    "\n",
    "Under the hood, it attempts to decompose object-feature matrix $X$ into two smaller matrices: $W$ and $\\hat W$ minimizing _mean squared error_:\n",
    "\n",
    "$$\\|(X W) \\hat{W} - X\\|^2_2 \\to_{W, \\hat{W}} \\min$$\n",
    "- $X \\in \\mathbb{R}^{n \\times m}$ - object matrix (**centered**);\n",
    "- $W \\in \\mathbb{R}^{m \\times d}$ - matrix of direct transformation;\n",
    "- $\\hat{W} \\in \\mathbb{R}^{d \\times m}$ - matrix of reverse transformation;\n",
    "- $n$ samples, $m$ original dimensions and $d$ target dimensions;\n",
    "\n"
   ]
  },
  {
   "cell_type": "code",
   "execution_count": 30,
   "metadata": {
    "collapsed": true
   },
   "outputs": [],
   "source": [
    "from sklearn.decomposition import PCA\n",
    "\n",
    "# map word vectors onto 2d plane with PCA. Use good old sklearn api (fit, transform)\n",
    "# after that, normalize vectors to make sure they have zero mean and unit variance\n",
    "word_vectors_pca = PCA(n_components=2).fit_transform(word_vectors)\n",
    "\n",
    "# and maybe MORE OF YOUR CODE here :)"
   ]
  },
  {
   "cell_type": "code",
   "execution_count": 31,
   "metadata": {
    "collapsed": true
   },
   "outputs": [],
   "source": [
    "assert word_vectors_pca.shape == (len(word_vectors), 2), \"there must be a 2d vector for each word\"\n",
    "assert max(abs(word_vectors_pca.mean(0))) < 1e-5, \"points must be zero-centered\"\n",
    "assert max(abs(1 - word_vectors_pca.std(0) < 1e-5)), \"points must have unit variance\""
   ]
  },
  {
   "cell_type": "markdown",
   "metadata": {},
   "source": [
    "#### Let's draw it!"
   ]
  },
  {
   "cell_type": "code",
   "execution_count": 32,
   "metadata": {},
   "outputs": [
    {
     "data": {
      "text/html": [
       "\n",
       "    <div class=\"bk-root\">\n",
       "        <a href=\"https://bokeh.pydata.org\" target=\"_blank\" class=\"bk-logo bk-logo-small bk-logo-notebook\"></a>\n",
       "        <span id=\"bdc3a29f-4379-46d2-8972-869ae83da40b\">Loading BokehJS ...</span>\n",
       "    </div>"
      ]
     },
     "metadata": {},
     "output_type": "display_data"
    },
    {
     "data": {
      "application/javascript": [
       "\n",
       "(function(root) {\n",
       "  function now() {\n",
       "    return new Date();\n",
       "  }\n",
       "\n",
       "  var force = true;\n",
       "\n",
       "  if (typeof (root._bokeh_onload_callbacks) === \"undefined\" || force === true) {\n",
       "    root._bokeh_onload_callbacks = [];\n",
       "    root._bokeh_is_loading = undefined;\n",
       "  }\n",
       "\n",
       "  var JS_MIME_TYPE = 'application/javascript';\n",
       "  var HTML_MIME_TYPE = 'text/html';\n",
       "  var EXEC_MIME_TYPE = 'application/vnd.bokehjs_exec.v0+json';\n",
       "  var CLASS_NAME = 'output_bokeh rendered_html';\n",
       "\n",
       "  /**\n",
       "   * Render data to the DOM node\n",
       "   */\n",
       "  function render(props, node) {\n",
       "    var script = document.createElement(\"script\");\n",
       "    node.appendChild(script);\n",
       "  }\n",
       "\n",
       "  /**\n",
       "   * Handle when an output is cleared or removed\n",
       "   */\n",
       "  function handleClearOutput(event, handle) {\n",
       "    var cell = handle.cell;\n",
       "\n",
       "    var id = cell.output_area._bokeh_element_id;\n",
       "    var server_id = cell.output_area._bokeh_server_id;\n",
       "    // Clean up Bokeh references\n",
       "    if (id !== undefined) {\n",
       "      Bokeh.index[id].model.document.clear();\n",
       "      delete Bokeh.index[id];\n",
       "    }\n",
       "\n",
       "    if (server_id !== undefined) {\n",
       "      // Clean up Bokeh references\n",
       "      var cmd = \"from bokeh.io.state import curstate; print(curstate().uuid_to_server['\" + server_id + \"'].get_sessions()[0].document.roots[0]._id)\";\n",
       "      cell.notebook.kernel.execute(cmd, {\n",
       "        iopub: {\n",
       "          output: function(msg) {\n",
       "            var element_id = msg.content.text.trim();\n",
       "            Bokeh.index[element_id].model.document.clear();\n",
       "            delete Bokeh.index[element_id];\n",
       "          }\n",
       "        }\n",
       "      });\n",
       "      // Destroy server and session\n",
       "      var cmd = \"import bokeh.io.notebook as ion; ion.destroy_server('\" + server_id + \"')\";\n",
       "      cell.notebook.kernel.execute(cmd);\n",
       "    }\n",
       "  }\n",
       "\n",
       "  /**\n",
       "   * Handle when a new output is added\n",
       "   */\n",
       "  function handleAddOutput(event, handle) {\n",
       "    var output_area = handle.output_area;\n",
       "    var output = handle.output;\n",
       "\n",
       "    // limit handleAddOutput to display_data with EXEC_MIME_TYPE content only\n",
       "    if ((output.output_type != \"display_data\") || (!output.data.hasOwnProperty(EXEC_MIME_TYPE))) {\n",
       "      return\n",
       "    }\n",
       "\n",
       "    var toinsert = output_area.element.find(`.${CLASS_NAME.split(' ')[0]}`);\n",
       "\n",
       "    if (output.metadata[EXEC_MIME_TYPE][\"id\"] !== undefined) {\n",
       "      toinsert[0].firstChild.textContent = output.data[JS_MIME_TYPE];\n",
       "      // store reference to embed id on output_area\n",
       "      output_area._bokeh_element_id = output.metadata[EXEC_MIME_TYPE][\"id\"];\n",
       "    }\n",
       "    if (output.metadata[EXEC_MIME_TYPE][\"server_id\"] !== undefined) {\n",
       "      var bk_div = document.createElement(\"div\");\n",
       "      bk_div.innerHTML = output.data[HTML_MIME_TYPE];\n",
       "      var script_attrs = bk_div.children[0].attributes;\n",
       "      for (var i = 0; i < script_attrs.length; i++) {\n",
       "        toinsert[0].firstChild.setAttribute(script_attrs[i].name, script_attrs[i].value);\n",
       "      }\n",
       "      // store reference to server id on output_area\n",
       "      output_area._bokeh_server_id = output.metadata[EXEC_MIME_TYPE][\"server_id\"];\n",
       "    }\n",
       "  }\n",
       "\n",
       "  function register_renderer(events, OutputArea) {\n",
       "\n",
       "    function append_mime(data, metadata, element) {\n",
       "      // create a DOM node to render to\n",
       "      var toinsert = this.create_output_subarea(\n",
       "        metadata,\n",
       "        CLASS_NAME,\n",
       "        EXEC_MIME_TYPE\n",
       "      );\n",
       "      this.keyboard_manager.register_events(toinsert);\n",
       "      // Render to node\n",
       "      var props = {data: data, metadata: metadata[EXEC_MIME_TYPE]};\n",
       "      render(props, toinsert[0]);\n",
       "      element.append(toinsert);\n",
       "      return toinsert\n",
       "    }\n",
       "\n",
       "    /* Handle when an output is cleared or removed */\n",
       "    events.on('clear_output.CodeCell', handleClearOutput);\n",
       "    events.on('delete.Cell', handleClearOutput);\n",
       "\n",
       "    /* Handle when a new output is added */\n",
       "    events.on('output_added.OutputArea', handleAddOutput);\n",
       "\n",
       "    /**\n",
       "     * Register the mime type and append_mime function with output_area\n",
       "     */\n",
       "    OutputArea.prototype.register_mime_type(EXEC_MIME_TYPE, append_mime, {\n",
       "      /* Is output safe? */\n",
       "      safe: true,\n",
       "      /* Index of renderer in `output_area.display_order` */\n",
       "      index: 0\n",
       "    });\n",
       "  }\n",
       "\n",
       "  // register the mime type if in Jupyter Notebook environment and previously unregistered\n",
       "  if (root.Jupyter !== undefined) {\n",
       "    var events = require('base/js/events');\n",
       "    var OutputArea = require('notebook/js/outputarea').OutputArea;\n",
       "\n",
       "    if (OutputArea.prototype.mime_types().indexOf(EXEC_MIME_TYPE) == -1) {\n",
       "      register_renderer(events, OutputArea);\n",
       "    }\n",
       "  }\n",
       "\n",
       "  \n",
       "  if (typeof (root._bokeh_timeout) === \"undefined\" || force === true) {\n",
       "    root._bokeh_timeout = Date.now() + 5000;\n",
       "    root._bokeh_failed_load = false;\n",
       "  }\n",
       "\n",
       "  var NB_LOAD_WARNING = {'data': {'text/html':\n",
       "     \"<div style='background-color: #fdd'>\\n\"+\n",
       "     \"<p>\\n\"+\n",
       "     \"BokehJS does not appear to have successfully loaded. If loading BokehJS from CDN, this \\n\"+\n",
       "     \"may be due to a slow or bad network connection. Possible fixes:\\n\"+\n",
       "     \"</p>\\n\"+\n",
       "     \"<ul>\\n\"+\n",
       "     \"<li>re-rerun `output_notebook()` to attempt to load from CDN again, or</li>\\n\"+\n",
       "     \"<li>use INLINE resources instead, as so:</li>\\n\"+\n",
       "     \"</ul>\\n\"+\n",
       "     \"<code>\\n\"+\n",
       "     \"from bokeh.resources import INLINE\\n\"+\n",
       "     \"output_notebook(resources=INLINE)\\n\"+\n",
       "     \"</code>\\n\"+\n",
       "     \"</div>\"}};\n",
       "\n",
       "  function display_loaded() {\n",
       "    var el = document.getElementById(\"bdc3a29f-4379-46d2-8972-869ae83da40b\");\n",
       "    if (el != null) {\n",
       "      el.textContent = \"BokehJS is loading...\";\n",
       "    }\n",
       "    if (root.Bokeh !== undefined) {\n",
       "      if (el != null) {\n",
       "        el.textContent = \"BokehJS \" + root.Bokeh.version + \" successfully loaded.\";\n",
       "      }\n",
       "    } else if (Date.now() < root._bokeh_timeout) {\n",
       "      setTimeout(display_loaded, 100)\n",
       "    }\n",
       "  }\n",
       "\n",
       "\n",
       "  function run_callbacks() {\n",
       "    try {\n",
       "      root._bokeh_onload_callbacks.forEach(function(callback) { callback() });\n",
       "    }\n",
       "    finally {\n",
       "      delete root._bokeh_onload_callbacks\n",
       "    }\n",
       "    console.info(\"Bokeh: all callbacks have finished\");\n",
       "  }\n",
       "\n",
       "  function load_libs(js_urls, callback) {\n",
       "    root._bokeh_onload_callbacks.push(callback);\n",
       "    if (root._bokeh_is_loading > 0) {\n",
       "      console.log(\"Bokeh: BokehJS is being loaded, scheduling callback at\", now());\n",
       "      return null;\n",
       "    }\n",
       "    if (js_urls == null || js_urls.length === 0) {\n",
       "      run_callbacks();\n",
       "      return null;\n",
       "    }\n",
       "    console.log(\"Bokeh: BokehJS not loaded, scheduling load and callback at\", now());\n",
       "    root._bokeh_is_loading = js_urls.length;\n",
       "    for (var i = 0; i < js_urls.length; i++) {\n",
       "      var url = js_urls[i];\n",
       "      var s = document.createElement('script');\n",
       "      s.src = url;\n",
       "      s.async = false;\n",
       "      s.onreadystatechange = s.onload = function() {\n",
       "        root._bokeh_is_loading--;\n",
       "        if (root._bokeh_is_loading === 0) {\n",
       "          console.log(\"Bokeh: all BokehJS libraries loaded\");\n",
       "          run_callbacks()\n",
       "        }\n",
       "      };\n",
       "      s.onerror = function() {\n",
       "        console.warn(\"failed to load library \" + url);\n",
       "      };\n",
       "      console.log(\"Bokeh: injecting script tag for BokehJS library: \", url);\n",
       "      document.getElementsByTagName(\"head\")[0].appendChild(s);\n",
       "    }\n",
       "  };var element = document.getElementById(\"bdc3a29f-4379-46d2-8972-869ae83da40b\");\n",
       "  if (element == null) {\n",
       "    console.log(\"Bokeh: ERROR: autoload.js configured with elementid 'bdc3a29f-4379-46d2-8972-869ae83da40b' but no matching script tag was found. \")\n",
       "    return false;\n",
       "  }\n",
       "\n",
       "  var js_urls = [\"https://cdn.pydata.org/bokeh/release/bokeh-0.12.10.min.js\", \"https://cdn.pydata.org/bokeh/release/bokeh-widgets-0.12.10.min.js\", \"https://cdn.pydata.org/bokeh/release/bokeh-tables-0.12.10.min.js\", \"https://cdn.pydata.org/bokeh/release/bokeh-gl-0.12.10.min.js\"];\n",
       "\n",
       "  var inline_js = [\n",
       "    function(Bokeh) {\n",
       "      Bokeh.set_log_level(\"info\");\n",
       "    },\n",
       "    \n",
       "    function(Bokeh) {\n",
       "      \n",
       "    },\n",
       "    function(Bokeh) {\n",
       "      console.log(\"Bokeh: injecting CSS: https://cdn.pydata.org/bokeh/release/bokeh-0.12.10.min.css\");\n",
       "      Bokeh.embed.inject_css(\"https://cdn.pydata.org/bokeh/release/bokeh-0.12.10.min.css\");\n",
       "      console.log(\"Bokeh: injecting CSS: https://cdn.pydata.org/bokeh/release/bokeh-widgets-0.12.10.min.css\");\n",
       "      Bokeh.embed.inject_css(\"https://cdn.pydata.org/bokeh/release/bokeh-widgets-0.12.10.min.css\");\n",
       "      console.log(\"Bokeh: injecting CSS: https://cdn.pydata.org/bokeh/release/bokeh-tables-0.12.10.min.css\");\n",
       "      Bokeh.embed.inject_css(\"https://cdn.pydata.org/bokeh/release/bokeh-tables-0.12.10.min.css\");\n",
       "    }\n",
       "  ];\n",
       "\n",
       "  function run_inline_js() {\n",
       "    \n",
       "    if ((root.Bokeh !== undefined) || (force === true)) {\n",
       "      for (var i = 0; i < inline_js.length; i++) {\n",
       "        inline_js[i].call(root, root.Bokeh);\n",
       "      }if (force === true) {\n",
       "        display_loaded();\n",
       "      }} else if (Date.now() < root._bokeh_timeout) {\n",
       "      setTimeout(run_inline_js, 100);\n",
       "    } else if (!root._bokeh_failed_load) {\n",
       "      console.log(\"Bokeh: BokehJS failed to load within specified timeout.\");\n",
       "      root._bokeh_failed_load = true;\n",
       "    } else if (force !== true) {\n",
       "      var cell = $(document.getElementById(\"bdc3a29f-4379-46d2-8972-869ae83da40b\")).parents('.cell').data().cell;\n",
       "      cell.output_area.append_execute_result(NB_LOAD_WARNING)\n",
       "    }\n",
       "\n",
       "  }\n",
       "\n",
       "  if (root._bokeh_is_loading === 0) {\n",
       "    console.log(\"Bokeh: BokehJS loaded, going straight to plotting\");\n",
       "    run_inline_js();\n",
       "  } else {\n",
       "    load_libs(js_urls, function() {\n",
       "      console.log(\"Bokeh: BokehJS plotting callback run at\", now());\n",
       "      run_inline_js();\n",
       "    });\n",
       "  }\n",
       "}(window));"
      ],
      "application/vnd.bokehjs_load.v0+json": "\n(function(root) {\n  function now() {\n    return new Date();\n  }\n\n  var force = true;\n\n  if (typeof (root._bokeh_onload_callbacks) === \"undefined\" || force === true) {\n    root._bokeh_onload_callbacks = [];\n    root._bokeh_is_loading = undefined;\n  }\n\n  \n\n  \n  if (typeof (root._bokeh_timeout) === \"undefined\" || force === true) {\n    root._bokeh_timeout = Date.now() + 5000;\n    root._bokeh_failed_load = false;\n  }\n\n  var NB_LOAD_WARNING = {'data': {'text/html':\n     \"<div style='background-color: #fdd'>\\n\"+\n     \"<p>\\n\"+\n     \"BokehJS does not appear to have successfully loaded. If loading BokehJS from CDN, this \\n\"+\n     \"may be due to a slow or bad network connection. Possible fixes:\\n\"+\n     \"</p>\\n\"+\n     \"<ul>\\n\"+\n     \"<li>re-rerun `output_notebook()` to attempt to load from CDN again, or</li>\\n\"+\n     \"<li>use INLINE resources instead, as so:</li>\\n\"+\n     \"</ul>\\n\"+\n     \"<code>\\n\"+\n     \"from bokeh.resources import INLINE\\n\"+\n     \"output_notebook(resources=INLINE)\\n\"+\n     \"</code>\\n\"+\n     \"</div>\"}};\n\n  function display_loaded() {\n    var el = document.getElementById(\"bdc3a29f-4379-46d2-8972-869ae83da40b\");\n    if (el != null) {\n      el.textContent = \"BokehJS is loading...\";\n    }\n    if (root.Bokeh !== undefined) {\n      if (el != null) {\n        el.textContent = \"BokehJS \" + root.Bokeh.version + \" successfully loaded.\";\n      }\n    } else if (Date.now() < root._bokeh_timeout) {\n      setTimeout(display_loaded, 100)\n    }\n  }\n\n\n  function run_callbacks() {\n    try {\n      root._bokeh_onload_callbacks.forEach(function(callback) { callback() });\n    }\n    finally {\n      delete root._bokeh_onload_callbacks\n    }\n    console.info(\"Bokeh: all callbacks have finished\");\n  }\n\n  function load_libs(js_urls, callback) {\n    root._bokeh_onload_callbacks.push(callback);\n    if (root._bokeh_is_loading > 0) {\n      console.log(\"Bokeh: BokehJS is being loaded, scheduling callback at\", now());\n      return null;\n    }\n    if (js_urls == null || js_urls.length === 0) {\n      run_callbacks();\n      return null;\n    }\n    console.log(\"Bokeh: BokehJS not loaded, scheduling load and callback at\", now());\n    root._bokeh_is_loading = js_urls.length;\n    for (var i = 0; i < js_urls.length; i++) {\n      var url = js_urls[i];\n      var s = document.createElement('script');\n      s.src = url;\n      s.async = false;\n      s.onreadystatechange = s.onload = function() {\n        root._bokeh_is_loading--;\n        if (root._bokeh_is_loading === 0) {\n          console.log(\"Bokeh: all BokehJS libraries loaded\");\n          run_callbacks()\n        }\n      };\n      s.onerror = function() {\n        console.warn(\"failed to load library \" + url);\n      };\n      console.log(\"Bokeh: injecting script tag for BokehJS library: \", url);\n      document.getElementsByTagName(\"head\")[0].appendChild(s);\n    }\n  };var element = document.getElementById(\"bdc3a29f-4379-46d2-8972-869ae83da40b\");\n  if (element == null) {\n    console.log(\"Bokeh: ERROR: autoload.js configured with elementid 'bdc3a29f-4379-46d2-8972-869ae83da40b' but no matching script tag was found. \")\n    return false;\n  }\n\n  var js_urls = [\"https://cdn.pydata.org/bokeh/release/bokeh-0.12.10.min.js\", \"https://cdn.pydata.org/bokeh/release/bokeh-widgets-0.12.10.min.js\", \"https://cdn.pydata.org/bokeh/release/bokeh-tables-0.12.10.min.js\", \"https://cdn.pydata.org/bokeh/release/bokeh-gl-0.12.10.min.js\"];\n\n  var inline_js = [\n    function(Bokeh) {\n      Bokeh.set_log_level(\"info\");\n    },\n    \n    function(Bokeh) {\n      \n    },\n    function(Bokeh) {\n      console.log(\"Bokeh: injecting CSS: https://cdn.pydata.org/bokeh/release/bokeh-0.12.10.min.css\");\n      Bokeh.embed.inject_css(\"https://cdn.pydata.org/bokeh/release/bokeh-0.12.10.min.css\");\n      console.log(\"Bokeh: injecting CSS: https://cdn.pydata.org/bokeh/release/bokeh-widgets-0.12.10.min.css\");\n      Bokeh.embed.inject_css(\"https://cdn.pydata.org/bokeh/release/bokeh-widgets-0.12.10.min.css\");\n      console.log(\"Bokeh: injecting CSS: https://cdn.pydata.org/bokeh/release/bokeh-tables-0.12.10.min.css\");\n      Bokeh.embed.inject_css(\"https://cdn.pydata.org/bokeh/release/bokeh-tables-0.12.10.min.css\");\n    }\n  ];\n\n  function run_inline_js() {\n    \n    if ((root.Bokeh !== undefined) || (force === true)) {\n      for (var i = 0; i < inline_js.length; i++) {\n        inline_js[i].call(root, root.Bokeh);\n      }if (force === true) {\n        display_loaded();\n      }} else if (Date.now() < root._bokeh_timeout) {\n      setTimeout(run_inline_js, 100);\n    } else if (!root._bokeh_failed_load) {\n      console.log(\"Bokeh: BokehJS failed to load within specified timeout.\");\n      root._bokeh_failed_load = true;\n    } else if (force !== true) {\n      var cell = $(document.getElementById(\"bdc3a29f-4379-46d2-8972-869ae83da40b\")).parents('.cell').data().cell;\n      cell.output_area.append_execute_result(NB_LOAD_WARNING)\n    }\n\n  }\n\n  if (root._bokeh_is_loading === 0) {\n    console.log(\"Bokeh: BokehJS loaded, going straight to plotting\");\n    run_inline_js();\n  } else {\n    load_libs(js_urls, function() {\n      console.log(\"Bokeh: BokehJS plotting callback run at\", now());\n      run_inline_js();\n    });\n  }\n}(window));"
     },
     "metadata": {},
     "output_type": "display_data"
    }
   ],
   "source": [
    "import bokeh.models as bm, bokeh.plotting as pl\n",
    "from bokeh.io import output_notebook\n",
    "output_notebook()\n",
    "\n",
    "def draw_vectors(x, y, radius=10, alpha=0.25, color='blue',\n",
    "                 width=600, height=400, show=True, **kwargs):\n",
    "    \"\"\" draws an interactive plot for data points with auxilirary info on hover \"\"\"\n",
    "    if isinstance(color, str): color = [color] * len(x)\n",
    "    data_source = bm.ColumnDataSource({ 'x' : x, 'y' : y, 'color': color, **kwargs })\n",
    "\n",
    "    fig = pl.figure(active_scroll='wheel_zoom', width=width, height=height)\n",
    "    fig.scatter('x', 'y', size=radius, color='color', alpha=alpha, source=data_source)\n",
    "\n",
    "    fig.add_tools(bm.HoverTool(tooltips=[(key, \"@\" + key) for key in kwargs.keys()]))\n",
    "    if show: pl.show(fig)\n",
    "    return fig"
   ]
  },
  {
   "cell_type": "code",
   "execution_count": 33,
   "metadata": {},
   "outputs": [
    {
     "data": {
      "text/html": [
       "\n",
       "<div class=\"bk-root\">\n",
       "    <div class=\"bk-plotdiv\" id=\"7f261aab-d05a-4767-9643-0778dfd65aee\"></div>\n",
       "</div>"
      ]
     },
     "metadata": {},
     "output_type": "display_data"
    },
    {
     "data": {
      "application/javascript": [
       "(function(root) {\n",
       "  function embed_document(root) {\n",
       "    var docs_json = {\"f183797e-e9e6-4b9e-b24d-20869cc5cf1d\":{\"roots\":{\"references\":[{\"attributes\":{\"callback\":null,\"tooltips\":[[\"token\",\"@token\"]]},\"id\":\"8b2a40d0-4f9d-407f-8a54-5786b19c8a43\",\"type\":\"HoverTool\"},{\"attributes\":{\"source\":{\"id\":\"cefe9812-9b41-4fa6-9f5e-d9f6470f5cd4\",\"type\":\"ColumnDataSource\"}},\"id\":\"cc5df256-2614-4e43-92fb-e43405ec5eef\",\"type\":\"CDSView\"},{\"attributes\":{\"bottom_units\":\"screen\",\"fill_alpha\":{\"value\":0.5},\"fill_color\":{\"value\":\"lightgrey\"},\"left_units\":\"screen\",\"level\":\"overlay\",\"line_alpha\":{\"value\":1.0},\"line_color\":{\"value\":\"black\"},\"line_dash\":[4,4],\"line_width\":{\"value\":2},\"plot\":null,\"render_mode\":\"css\",\"right_units\":\"screen\",\"top_units\":\"screen\"},\"id\":\"57dc969f-790f-4e36-bbaf-a0eebcb9e0b3\",\"type\":\"BoxAnnotation\"},{\"attributes\":{\"fill_alpha\":{\"value\":0.25},\"fill_color\":{\"field\":\"color\"},\"line_alpha\":{\"value\":0.25},\"line_color\":{\"field\":\"color\"},\"size\":{\"units\":\"screen\",\"value\":10},\"x\":{\"field\":\"x\"},\"y\":{\"field\":\"y\"}},\"id\":\"24f4a20e-3824-40d4-a0d2-a60f2b4f09d9\",\"type\":\"Circle\"},{\"attributes\":{},\"id\":\"e98f2b41-4e21-4b6c-9368-6c67112c0d04\",\"type\":\"ResetTool\"},{\"attributes\":{},\"id\":\"f7474f1d-31e4-43d3-8290-e6243b45e5ce\",\"type\":\"WheelZoomTool\"},{\"attributes\":{\"callback\":null},\"id\":\"8d1293d8-35d6-4c53-b83b-d13943e911d7\",\"type\":\"DataRange1d\"},{\"attributes\":{\"plot\":{\"id\":\"82a0c194-443d-4d59-9649-5d880f10efb9\",\"subtype\":\"Figure\",\"type\":\"Plot\"},\"ticker\":{\"id\":\"8ec8d860-92e4-49da-9281-094fb6a75af4\",\"type\":\"BasicTicker\"}},\"id\":\"e3bd84ff-5733-4207-9516-2388aed63dd0\",\"type\":\"Grid\"},{\"attributes\":{\"active_drag\":\"auto\",\"active_inspect\":\"auto\",\"active_scroll\":{\"id\":\"f7474f1d-31e4-43d3-8290-e6243b45e5ce\",\"type\":\"WheelZoomTool\"},\"active_tap\":\"auto\",\"tools\":[{\"id\":\"5785bd72-859a-4f5c-982b-19232fcc2adb\",\"type\":\"PanTool\"},{\"id\":\"f7474f1d-31e4-43d3-8290-e6243b45e5ce\",\"type\":\"WheelZoomTool\"},{\"id\":\"21acab84-cb7d-433a-be10-376bcf7336e3\",\"type\":\"BoxZoomTool\"},{\"id\":\"ca947f83-86db-48eb-b070-196c59005fda\",\"type\":\"SaveTool\"},{\"id\":\"e98f2b41-4e21-4b6c-9368-6c67112c0d04\",\"type\":\"ResetTool\"},{\"id\":\"b0b90190-fd50-4cac-b17a-df56a4d03329\",\"type\":\"HelpTool\"},{\"id\":\"8b2a40d0-4f9d-407f-8a54-5786b19c8a43\",\"type\":\"HoverTool\"}]},\"id\":\"fdb526d9-61fb-48fa-9a93-45a9e42737f4\",\"type\":\"Toolbar\"},{\"attributes\":{\"fill_alpha\":{\"value\":0.1},\"fill_color\":{\"value\":\"#1f77b4\"},\"line_alpha\":{\"value\":0.1},\"line_color\":{\"value\":\"#1f77b4\"},\"size\":{\"units\":\"screen\",\"value\":10},\"x\":{\"field\":\"x\"},\"y\":{\"field\":\"y\"}},\"id\":\"fad532c8-085f-4d0f-80eb-e7e2281d6bab\",\"type\":\"Circle\"},{\"attributes\":{\"below\":[{\"id\":\"9543dd89-9f3d-4146-aa04-cbe4aabf8def\",\"type\":\"LinearAxis\"}],\"left\":[{\"id\":\"da002c03-3227-4002-afd2-f857f6f866af\",\"type\":\"LinearAxis\"}],\"plot_height\":400,\"renderers\":[{\"id\":\"9543dd89-9f3d-4146-aa04-cbe4aabf8def\",\"type\":\"LinearAxis\"},{\"id\":\"e3bd84ff-5733-4207-9516-2388aed63dd0\",\"type\":\"Grid\"},{\"id\":\"da002c03-3227-4002-afd2-f857f6f866af\",\"type\":\"LinearAxis\"},{\"id\":\"7d0b43c9-f2de-4783-860d-9d36c08fc765\",\"type\":\"Grid\"},{\"id\":\"57dc969f-790f-4e36-bbaf-a0eebcb9e0b3\",\"type\":\"BoxAnnotation\"},{\"id\":\"80b40e75-803b-44ee-826c-920a3b938c74\",\"type\":\"GlyphRenderer\"}],\"title\":{\"id\":\"16de229b-3734-4683-ace7-0db2c74c35fe\",\"type\":\"Title\"},\"toolbar\":{\"id\":\"fdb526d9-61fb-48fa-9a93-45a9e42737f4\",\"type\":\"Toolbar\"},\"x_range\":{\"id\":\"8d1293d8-35d6-4c53-b83b-d13943e911d7\",\"type\":\"DataRange1d\"},\"x_scale\":{\"id\":\"53bb2a29-0aba-434f-ac95-0a69545e6d0a\",\"type\":\"LinearScale\"},\"y_range\":{\"id\":\"1662c970-85fe-4840-88d5-9359eb4c6e84\",\"type\":\"DataRange1d\"},\"y_scale\":{\"id\":\"97b3b247-b70d-4299-810a-15b033c436e5\",\"type\":\"LinearScale\"}},\"id\":\"82a0c194-443d-4d59-9649-5d880f10efb9\",\"subtype\":\"Figure\",\"type\":\"Plot\"},{\"attributes\":{\"data_source\":{\"id\":\"cefe9812-9b41-4fa6-9f5e-d9f6470f5cd4\",\"type\":\"ColumnDataSource\"},\"glyph\":{\"id\":\"24f4a20e-3824-40d4-a0d2-a60f2b4f09d9\",\"type\":\"Circle\"},\"hover_glyph\":null,\"muted_glyph\":null,\"nonselection_glyph\":{\"id\":\"fad532c8-085f-4d0f-80eb-e7e2281d6bab\",\"type\":\"Circle\"},\"selection_glyph\":null,\"view\":{\"id\":\"cc5df256-2614-4e43-92fb-e43405ec5eef\",\"type\":\"CDSView\"}},\"id\":\"80b40e75-803b-44ee-826c-920a3b938c74\",\"type\":\"GlyphRenderer\"},{\"attributes\":{\"plot\":null,\"text\":\"\"},\"id\":\"16de229b-3734-4683-ace7-0db2c74c35fe\",\"type\":\"Title\"},{\"attributes\":{},\"id\":\"ff0f3618-629e-4ae7-8009-bb00299e06a0\",\"type\":\"BasicTickFormatter\"},{\"attributes\":{\"overlay\":{\"id\":\"57dc969f-790f-4e36-bbaf-a0eebcb9e0b3\",\"type\":\"BoxAnnotation\"}},\"id\":\"21acab84-cb7d-433a-be10-376bcf7336e3\",\"type\":\"BoxZoomTool\"},{\"attributes\":{},\"id\":\"b2a4f757-a938-4ad5-8f80-c3367dc2fc5a\",\"type\":\"BasicTickFormatter\"},{\"attributes\":{\"formatter\":{\"id\":\"b2a4f757-a938-4ad5-8f80-c3367dc2fc5a\",\"type\":\"BasicTickFormatter\"},\"plot\":{\"id\":\"82a0c194-443d-4d59-9649-5d880f10efb9\",\"subtype\":\"Figure\",\"type\":\"Plot\"},\"ticker\":{\"id\":\"8ec8d860-92e4-49da-9281-094fb6a75af4\",\"type\":\"BasicTicker\"}},\"id\":\"9543dd89-9f3d-4146-aa04-cbe4aabf8def\",\"type\":\"LinearAxis\"},{\"attributes\":{},\"id\":\"476eb38e-fba6-41b7-9d19-f60b718fc439\",\"type\":\"BasicTicker\"},{\"attributes\":{},\"id\":\"ca947f83-86db-48eb-b070-196c59005fda\",\"type\":\"SaveTool\"},{\"attributes\":{},\"id\":\"5785bd72-859a-4f5c-982b-19232fcc2adb\",\"type\":\"PanTool\"},{\"attributes\":{},\"id\":\"b0b90190-fd50-4cac-b17a-df56a4d03329\",\"type\":\"HelpTool\"},{\"attributes\":{},\"id\":\"53bb2a29-0aba-434f-ac95-0a69545e6d0a\",\"type\":\"LinearScale\"},{\"attributes\":{\"callback\":null},\"id\":\"1662c970-85fe-4840-88d5-9359eb4c6e84\",\"type\":\"DataRange1d\"},{\"attributes\":{\"callback\":null,\"column_names\":[\"x\",\"y\",\"color\",\"token\"],\"data\":{\"color\":[\"blue\",\"blue\",\"blue\",\"blue\",\"blue\",\"blue\",\"blue\",\"blue\",\"blue\",\"blue\",\"blue\",\"blue\",\"blue\",\"blue\",\"blue\",\"blue\",\"blue\",\"blue\",\"blue\",\"blue\",\"blue\",\"blue\",\"blue\",\"blue\",\"blue\",\"blue\",\"blue\",\"blue\",\"blue\",\"blue\",\"blue\",\"blue\",\"blue\",\"blue\",\"blue\",\"blue\",\"blue\",\"blue\",\"blue\",\"blue\",\"blue\",\"blue\",\"blue\",\"blue\",\"blue\",\"blue\",\"blue\",\"blue\",\"blue\",\"blue\",\"blue\",\"blue\",\"blue\",\"blue\",\"blue\",\"blue\",\"blue\",\"blue\",\"blue\",\"blue\",\"blue\",\"blue\",\"blue\",\"blue\",\"blue\",\"blue\",\"blue\",\"blue\",\"blue\",\"blue\",\"blue\",\"blue\",\"blue\",\"blue\",\"blue\",\"blue\",\"blue\",\"blue\",\"blue\",\"blue\",\"blue\",\"blue\",\"blue\",\"blue\",\"blue\",\"blue\",\"blue\",\"blue\",\"blue\",\"blue\",\"blue\",\"blue\",\"blue\",\"blue\",\"blue\",\"blue\",\"blue\",\"blue\",\"blue\",\"blue\",\"blue\",\"blue\",\"blue\",\"blue\",\"blue\",\"blue\",\"blue\",\"blue\",\"blue\",\"blue\",\"blue\",\"blue\",\"blue\",\"blue\",\"blue\",\"blue\",\"blue\",\"blue\",\"blue\",\"blue\",\"blue\",\"blue\",\"blue\",\"blue\",\"blue\",\"blue\",\"blue\",\"blue\",\"blue\",\"blue\",\"blue\",\"blue\",\"blue\",\"blue\",\"blue\",\"blue\",\"blue\",\"blue\",\"blue\",\"blue\",\"blue\",\"blue\",\"blue\",\"blue\",\"blue\",\"blue\",\"blue\",\"blue\",\"blue\",\"blue\",\"blue\",\"blue\",\"blue\",\"blue\",\"blue\",\"blue\",\"blue\",\"blue\",\"blue\",\"blue\",\"blue\",\"blue\",\"blue\",\"blue\",\"blue\",\"blue\",\"blue\",\"blue\",\"blue\",\"blue\",\"blue\",\"blue\",\"blue\",\"blue\",\"blue\",\"blue\",\"blue\",\"blue\",\"blue\",\"blue\",\"blue\",\"blue\",\"blue\",\"blue\",\"blue\",\"blue\",\"blue\",\"blue\",\"blue\",\"blue\",\"blue\",\"blue\",\"blue\",\"blue\",\"blue\",\"blue\",\"blue\",\"blue\",\"blue\",\"blue\",\"blue\",\"blue\",\"blue\",\"blue\",\"blue\",\"blue\",\"blue\",\"blue\",\"blue\",\"blue\",\"blue\",\"blue\",\"blue\",\"blue\",\"blue\",\"blue\",\"blue\",\"blue\",\"blue\",\"blue\",\"blue\",\"blue\",\"blue\",\"blue\",\"blue\",\"blue\",\"blue\",\"blue\",\"blue\",\"blue\",\"blue\",\"blue\",\"blue\",\"blue\",\"blue\",\"blue\",\"blue\",\"blue\",\"blue\",\"blue\",\"blue\",\"blue\",\"blue\",\"blue\",\"blue\",\"blue\",\"blue\",\"blue\",\"blue\",\"blue\",\"blue\",\"blue\",\"blue\",\"blue\",\"blue\",\"blue\",\"blue\",\"blue\",\"blue\",\"blue\",\"blue\",\"blue\",\"blue\",\"blue\",\"blue\",\"blue\",\"blue\",\"blue\",\"blue\",\"blue\",\"blue\",\"blue\",\"blue\",\"blue\",\"blue\",\"blue\",\"blue\",\"blue\",\"blue\",\"blue\",\"blue\",\"blue\",\"blue\",\"blue\",\"blue\",\"blue\",\"blue\",\"blue\",\"blue\",\"blue\",\"blue\",\"blue\",\"blue\",\"blue\",\"blue\",\"blue\",\"blue\",\"blue\",\"blue\",\"blue\",\"blue\",\"blue\",\"blue\",\"blue\",\"blue\",\"blue\",\"blue\",\"blue\",\"blue\",\"blue\",\"blue\",\"blue\",\"blue\",\"blue\",\"blue\",\"blue\",\"blue\",\"blue\",\"blue\",\"blue\",\"blue\",\"blue\",\"blue\",\"blue\",\"blue\",\"blue\",\"blue\",\"blue\",\"blue\",\"blue\",\"blue\",\"blue\",\"blue\",\"blue\",\"blue\",\"blue\",\"blue\",\"blue\",\"blue\",\"blue\",\"blue\",\"blue\",\"blue\",\"blue\",\"blue\",\"blue\",\"blue\",\"blue\",\"blue\",\"blue\",\"blue\",\"blue\",\"blue\",\"blue\",\"blue\",\"blue\",\"blue\",\"blue\",\"blue\",\"blue\",\"blue\",\"blue\",\"blue\",\"blue\",\"blue\",\"blue\",\"blue\",\"blue\",\"blue\",\"blue\",\"blue\",\"blue\",\"blue\",\"blue\",\"blue\",\"blue\",\"blue\",\"blue\",\"blue\",\"blue\",\"blue\",\"blue\",\"blue\",\"blue\",\"blue\",\"blue\",\"blue\",\"blue\",\"blue\",\"blue\",\"blue\",\"blue\",\"blue\",\"blue\",\"blue\",\"blue\",\"blue\",\"blue\",\"blue\",\"blue\",\"blue\",\"blue\",\"blue\",\"blue\",\"blue\",\"blue\",\"blue\",\"blue\",\"blue\",\"blue\",\"blue\",\"blue\",\"blue\",\"blue\",\"blue\",\"blue\",\"blue\",\"blue\",\"blue\",\"blue\",\"blue\",\"blue\",\"blue\",\"blue\",\"blue\",\"blue\",\"blue\",\"blue\",\"blue\",\"blue\",\"blue\",\"blue\",\"blue\",\"blue\",\"blue\",\"blue\",\"blue\",\"blue\",\"blue\",\"blue\",\"blue\",\"blue\",\"blue\",\"blue\",\"blue\",\"blue\",\"blue\",\"blue\",\"blue\",\"blue\",\"blue\",\"blue\",\"blue\",\"blue\",\"blue\",\"blue\",\"blue\",\"blue\",\"blue\",\"blue\",\"blue\",\"blue\",\"blue\",\"blue\",\"blue\",\"blue\",\"blue\",\"blue\",\"blue\",\"blue\",\"blue\",\"blue\",\"blue\",\"blue\",\"blue\",\"blue\",\"blue\",\"blue\",\"blue\",\"blue\",\"blue\",\"blue\",\"blue\",\"blue\",\"blue\",\"blue\",\"blue\",\"blue\",\"blue\",\"blue\",\"blue\",\"blue\",\"blue\",\"blue\",\"blue\",\"blue\",\"blue\",\"blue\",\"blue\",\"blue\",\"blue\",\"blue\",\"blue\",\"blue\",\"blue\",\"blue\",\"blue\",\"blue\",\"blue\",\"blue\",\"blue\",\"blue\",\"blue\",\"blue\",\"blue\",\"blue\",\"blue\",\"blue\",\"blue\",\"blue\",\"blue\",\"blue\",\"blue\",\"blue\",\"blue\",\"blue\",\"blue\",\"blue\",\"blue\",\"blue\",\"blue\",\"blue\",\"blue\",\"blue\",\"blue\",\"blue\",\"blue\",\"blue\",\"blue\",\"blue\",\"blue\",\"blue\",\"blue\",\"blue\",\"blue\",\"blue\",\"blue\",\"blue\",\"blue\",\"blue\",\"blue\",\"blue\",\"blue\",\"blue\",\"blue\",\"blue\",\"blue\",\"blue\",\"blue\",\"blue\",\"blue\",\"blue\",\"blue\",\"blue\",\"blue\",\"blue\",\"blue\",\"blue\",\"blue\",\"blue\",\"blue\",\"blue\",\"blue\",\"blue\",\"blue\",\"blue\",\"blue\",\"blue\",\"blue\",\"blue\",\"blue\",\"blue\",\"blue\",\"blue\",\"blue\",\"blue\",\"blue\",\"blue\",\"blue\",\"blue\",\"blue\",\"blue\",\"blue\",\"blue\",\"blue\",\"blue\",\"blue\",\"blue\",\"blue\",\"blue\",\"blue\",\"blue\",\"blue\",\"blue\",\"blue\",\"blue\",\"blue\",\"blue\",\"blue\",\"blue\",\"blue\",\"blue\",\"blue\",\"blue\",\"blue\",\"blue\",\"blue\",\"blue\",\"blue\",\"blue\",\"blue\",\"blue\",\"blue\",\"blue\",\"blue\",\"blue\",\"blue\",\"blue\",\"blue\",\"blue\",\"blue\",\"blue\",\"blue\",\"blue\",\"blue\",\"blue\",\"blue\",\"blue\",\"blue\",\"blue\",\"blue\",\"blue\",\"blue\",\"blue\",\"blue\",\"blue\",\"blue\",\"blue\",\"blue\",\"blue\",\"blue\",\"blue\",\"blue\",\"blue\",\"blue\",\"blue\",\"blue\",\"blue\",\"blue\",\"blue\",\"blue\",\"blue\",\"blue\",\"blue\",\"blue\",\"blue\",\"blue\",\"blue\",\"blue\",\"blue\",\"blue\",\"blue\",\"blue\",\"blue\",\"blue\",\"blue\",\"blue\",\"blue\",\"blue\",\"blue\",\"blue\",\"blue\",\"blue\",\"blue\",\"blue\",\"blue\",\"blue\",\"blue\",\"blue\",\"blue\",\"blue\",\"blue\",\"blue\",\"blue\",\"blue\",\"blue\",\"blue\",\"blue\",\"blue\",\"blue\",\"blue\",\"blue\",\"blue\",\"blue\",\"blue\",\"blue\",\"blue\",\"blue\",\"blue\",\"blue\",\"blue\",\"blue\",\"blue\",\"blue\",\"blue\",\"blue\",\"blue\",\"blue\",\"blue\",\"blue\",\"blue\",\"blue\",\"blue\",\"blue\",\"blue\",\"blue\",\"blue\",\"blue\",\"blue\",\"blue\",\"blue\",\"blue\",\"blue\",\"blue\",\"blue\",\"blue\",\"blue\",\"blue\",\"blue\",\"blue\",\"blue\",\"blue\",\"blue\",\"blue\",\"blue\",\"blue\",\"blue\",\"blue\",\"blue\",\"blue\",\"blue\",\"blue\",\"blue\",\"blue\",\"blue\",\"blue\",\"blue\",\"blue\",\"blue\",\"blue\",\"blue\",\"blue\",\"blue\",\"blue\",\"blue\",\"blue\",\"blue\",\"blue\",\"blue\",\"blue\",\"blue\",\"blue\",\"blue\",\"blue\",\"blue\",\"blue\",\"blue\",\"blue\",\"blue\",\"blue\",\"blue\",\"blue\",\"blue\",\"blue\",\"blue\",\"blue\",\"blue\",\"blue\",\"blue\",\"blue\",\"blue\",\"blue\",\"blue\",\"blue\",\"blue\",\"blue\",\"blue\",\"blue\",\"blue\",\"blue\",\"blue\",\"blue\",\"blue\",\"blue\",\"blue\",\"blue\",\"blue\",\"blue\",\"blue\",\"blue\",\"blue\",\"blue\",\"blue\",\"blue\",\"blue\",\"blue\",\"blue\",\"blue\",\"blue\",\"blue\",\"blue\",\"blue\",\"blue\",\"blue\",\"blue\",\"blue\",\"blue\",\"blue\",\"blue\",\"blue\",\"blue\",\"blue\",\"blue\",\"blue\",\"blue\",\"blue\",\"blue\",\"blue\",\"blue\",\"blue\",\"blue\",\"blue\",\"blue\",\"blue\",\"blue\",\"blue\",\"blue\",\"blue\",\"blue\",\"blue\",\"blue\",\"blue\",\"blue\",\"blue\",\"blue\",\"blue\",\"blue\",\"blue\",\"blue\",\"blue\",\"blue\",\"blue\",\"blue\",\"blue\",\"blue\",\"blue\",\"blue\",\"blue\",\"blue\",\"blue\",\"blue\",\"blue\",\"blue\",\"blue\",\"blue\",\"blue\",\"blue\",\"blue\",\"blue\",\"blue\",\"blue\",\"blue\",\"blue\",\"blue\",\"blue\",\"blue\",\"blue\",\"blue\",\"blue\",\"blue\",\"blue\",\"blue\",\"blue\",\"blue\",\"blue\",\"blue\",\"blue\",\"blue\",\"blue\",\"blue\",\"blue\",\"blue\",\"blue\",\"blue\",\"blue\",\"blue\",\"blue\",\"blue\",\"blue\",\"blue\",\"blue\",\"blue\",\"blue\",\"blue\",\"blue\",\"blue\",\"blue\",\"blue\",\"blue\",\"blue\",\"blue\",\"blue\",\"blue\",\"blue\",\"blue\",\"blue\",\"blue\",\"blue\",\"blue\",\"blue\",\"blue\",\"blue\",\"blue\",\"blue\",\"blue\",\"blue\",\"blue\",\"blue\",\"blue\",\"blue\",\"blue\",\"blue\",\"blue\",\"blue\",\"blue\",\"blue\",\"blue\",\"blue\",\"blue\",\"blue\",\"blue\",\"blue\",\"blue\",\"blue\",\"blue\",\"blue\",\"blue\",\"blue\",\"blue\",\"blue\",\"blue\",\"blue\",\"blue\",\"blue\",\"blue\",\"blue\",\"blue\",\"blue\",\"blue\",\"blue\",\"blue\",\"blue\",\"blue\",\"blue\",\"blue\",\"blue\",\"blue\",\"blue\",\"blue\",\"blue\",\"blue\",\"blue\",\"blue\",\"blue\",\"blue\",\"blue\",\"blue\",\"blue\",\"blue\",\"blue\",\"blue\",\"blue\",\"blue\",\"blue\",\"blue\",\"blue\",\"blue\",\"blue\",\"blue\",\"blue\"],\"token\":[\"<user>\",\".\",\":\",\"rt\",\",\",\"<repeat>\",\"<hashtag>\",\"<number>\",\"<url>\",\"!\",\"i\",\"a\",\"\\\"\",\"the\",\"?\",\"you\",\"to\",\"(\",\"<allcaps>\",\"<elong>\",\")\",\"me\",\"de\",\"<smile>\",\"\\uff01\",\"que\",\"and\",\"\\u3002\",\"-\",\"my\",\"no\",\"\\u3001\",\"is\",\"it\",\"\\u2026\",\"in\",\"n\",\"for\",\"/\",\"of\",\"la\",\"'s\",\"*\",\"do\",\"n't\",\"that\",\"on\",\"y\",\"'\",\"e\",\"o\",\"u\",\"en\",\"this\",\"el\",\"so\",\"be\",\"'m\",\"with\",\"just\",\">\",\"your\",\"^\",\"like\",\"have\",\"te\",\"at\",\"\\uff1f\",\"love\",\"se\",\"are\",\"<\",\"m\",\"r\",\"if\",\"all\",\"b\",\"\\u30fb\",\"not\",\"but\",\"we\",\"es\",\"ya\",\"&\",\"follow\",\"up\",\"what\",\"get\",\"lol\",\"un\",\"\\u2665\",\"lo\",\"when\",\"was\",\"\\u201c\",\"\\u201d\",\"one\",\"por\",\"si\",\"out\",\"_\",\"mi\",\"can\",\"<sadface>\",\"\\u0645\\u0646\",\"\\u2661\",\"\\u00b4\",\"he\",\"con\",\"they\",\"now\",\"go\",\"\\u060c\",\"para\",\"los\",\"know\",\"haha\",\"good\",\"tu\",\"back\",\"~\",\"about\",\"new\",\";\",\"as\",\"day\",\"how\",\"who\",\"will\",\"want\",\"people\",\"yo\",\"eu\",\"from\",\"di\",\"time\",\"<heart>\",\"s\",\"aku\",\"da\",\"'re\",\"<lolface>\",\"una\",\"got\",\"las\",\"more\",\"x\",\"she\",\"today\",\"\\uff08\",\">>\",\"k\",\"by\",\"or\",\"\\u0641\\u064a\",\"\\uff65\",\"too\",\"le\",\"\\u00e9\",\"|\",\"[\",\"\\uff09\",\"]\",\"see\",\"why\",\"yg\",\"ca\",\"como\",\"her\",\"\\u2014\",\"q\",\"need\",\"an\",\"na\",\"\\u7b11\",\"there\",\"\\u03c9\",\"happy\",\"im\",\"mas\",\"je\",\"life\",\"really\",\"make\",\"yang\",\"shit\",\"think\",\"t\",\"\\u2764\",\"n\\u00e3o\",\"never\",\"some\",\"\\uff5e\",\"oh\",\"\\u2605\",\"did\",\"would\",\"del\",\"`\",\"d\",\"please\",\"via\",\"much\",\"fuck\",\"al\",\"dia\",\"$\",\"\\u0648\",\"right\",\"best\",\"c\",\"going\",\"\\u0627\\u0644\\u0644\\u0647\",\"pero\",\"only\",\"has\",\"\\u266a\",\"'ll\",\"twitter\",\"=\",\"hahaha\",\"its\",\"nn\",\"\\uff40\",\"\\u00bf\",\"am\",\"say\",\"<neutralface>\",\"them\",\"here\",\"\\u0644\\u0627\",\"off\",\"still\",\"dan\",\"+\",\"night\",\"w\",\"ada\",\"someone\",\"even\",\"then\",\"\\u2606\",\"ni\",\"come\",\"com\",\"always\",\"man\",\"'ve\",\"been\",\"his\",\"itu\",\"\\u0639\\u0644\\u0649\",\"-_-\",\"\\u263a\",\"over\",\"um\",\"\\u0645\\u0627\",\"hate\",\"girl\",\"ai\",\"had\",\"pra\",\"todo\",\"mais\",\"feel\",\"let\",\"ini\",\"because\",\"\\uff9f\",\"thanks\",\"ah\",\"way\",\"ever\",\"look\",\"tweet\",\"followers\",\"should\",\"our\",\"xd\",\"aja\",\"esta\",\"school\",\"him\",\"ser\",\"take\",\"than\",\"video\",\"em\",\"last\",\"wanna\",\"does\",\"us\",\"miss\",\"l\",\"ga\",\"better\",\"well\",\"could\",\"\\u25bd\",\"%\",\"apa\",\"cuando\",\"team\",\"\\u2714\",\"@\",\"ok\",\"\\u061f\",\"\\u2022\",\"vida\",\"quiero\",\"les\",\"being\",\"real\",\"down\",\"kamu\",\"everyone\",\"gonna\",\"live\",\"tonight\",\"yes\",\"work\",\"ass\",\"retweet\",\"nada\",\"sama\",\"first\",\"<<\",\"photo\",\"tomorrow\",\"where\",\"god\",\"son\",\"ke\",\"ta\",\"f\",\"home\",\"lagi\",\"thank\",\"birthday\",\"\\u2588\",\"ha\",\"great\",\"lmao\",\"omg\",\"morning\",\"m\\u00e1s\",\"mau\",\"baby\",\"dont\",\"\\uff61\",\"their\",\"p\",\"things\",\"game\",\"pas\",\"bad\",\"year\",\"yeah\",\"su\",\"bitch\",\"\\u0432\",\"stop\",\"hoy\",\"something\",\"meu\",\"tak\",\"gak\",\"world\",\"amor\",\"h\",\"\\\\\",\"ver\",\"\\uff1b\",\"porque\",\"give\",\"these\",\"\\u0627\\u0644\\u0644\\u0647\\u0645\",\"were\",\"hay\",\"sleep\",\"gue\",\"every\",\"friends\",\"uma\",\"tell\",\"amo\",\"vou\",\"bien\",\"\\u00a1\",\"again\",\"\\uff3e\",\"\\uff0f\",\"done\",\"after\",\"todos\",\"girls\",\"guys\",\"getting\",\"big\",\"wait\",\"justin\",\"eh\",\"\\u2192\",\"kan\",\"kita\",\"jajaja\",\"wish\",\"said\",\"fucking\",\"show\",\"thing\",\"next\",\"voc\\u00ea\",\"nos\",\"little\",\"tengo\",\"keep\",\"person\",\"''\",\"\\u2200\",\"hope\",\"\\u0643\\u0644\",\"hey\",\"bisa\",\"free\",\"made\",\"foto\",\"va\",\"everything\",\"iya\",\"nigga\",\"eso\",\"et\",\"watch\",\"music\",\"week\",\"talk\",\"ne\",\"solo\",\"gente\",\"udah\",\"\\uff1a\",\"--\",\"\\uff3c\",\"mejor\",\"facebook\",\"ma\",\"v\",\"phone\",\"most\",\"same\",\"okay\",\"ik\",\"before\",\"minha\",\"days\",\"g\",\"ti\",\"damn\",\"nice\",\"voy\",\"vai\",\"call\",\"long\",\"tapi\",\"http\",\"sin\",\"nunca\",\"doing\",\"other\",\"find\",\"il\",\"sa\",\"sorry\",\"nya\",\"orang\",\"\\u00b0\",\"hard\",\"mean\",\"die\",\"\\u0627\\u0644\\u0644\\u064a\",\"tem\",\"soy\",\"este\",\"kalo\",\"s\\u00f3\",\"th\",\"win\",\"nothing\",\"into\",\"face\",\"cute\",\"'d\",\"gracias\",\"lah\",\"\\u0438\",\"any\",\"play\",\"\\u2190\",\"ko\",\"text\",\"\\u2323\",\"estoy\",\"tau\",\"ur\",\"buat\",\"#\",\"cause\",\"\\u044f\",\"put\",\"kau\",\"siempre\",\"juga\",\"casa\",\"\\u0623\\u0646\",\"help\",\"start\",\"feliz\",\"old\",\"ir\",\"very\",\"care\",\"bir\",\"makes\",\"song\",\"check\",\"watching\",\"ahora\",\"jadi\",\"os\",\"may\",\"friend\",\"beautiful\",\"heart\",\"ka\",\"vc\",\"mundo\",\"\\u043d\\u0430\",\"sure\",\"tan\",\"pretty\",\"aqui\",\"\\u043d\\u0435\",\"house\",\"\\u0631\\u062a\\u0648\\u064a\\u062a\",\"\\u064a\\u0627\",\"ja\",\"true\",\"muy\",\"away\",\"already\",\"actually\",\"believe\",\"try\",\"many\",\"ma\\u00f1ana\",\"mis\",\"lu\",\"those\",\"hot\",\"qu\\u00e9\",\"mal\",\"\\u0639\\u0646\",\"though\",\"ask\",\"amazing\",\"bed\",\"}\",\"two\",\"mom\",\"d\\u00eda\",\"ve\",\"dari\",\"gameinsight\",\"stay\",\"fun\",\"around\",\"van\",\"cont\",\"ready\",\"money\",\"bu\",\"funny\",\"cool\",\"hair\",\"\\u00e0\",\"tho\",\"{\",\"wo\",\"hi\",\"name\",\"tiene\",\"hahahaha\",\"pa\",\"algo\",\"gotta\",\"\\u0648\\u0644\\u0627\",\"boy\",\"another\",\"c'est\",\"hari\",\"jajajaja\",\"having\",\"cara\",\"jaja\",\"dm\",\"looking\",\"top\",\"android\",\"dah\",\"wow\",\"\\u2591\",\"eres\",\"ben\",\"must\",\"news\",\"met\",\"est\\u00e1\",\"nih\",\"family\",\"black\",\"thought\",\"nak\",\"super\",\"end\",\"hace\",\"remember\",\"ama\",\"party\",\"cant\",\"vamos\",\"anything\",\"anyone\",\"\\u0641\\u0648\\u0644\\u0648\",\"perfect\",\"guy\",\"vez\",\"christmas\",\"dos\",\"bueno\",\"nao\",\"years\",\"vote\",\"dormir\",\"bro\",\"else\",\"quien\",\"untuk\",\"jangan\",\"myself\",\"head\",\"mind\",\"gua\",\"talking\",\"while\",\"dat\",\"food\",\"\\u0434\",\"coming\",\"wkwk\",\"trying\",\"saya\",\"mucho\",\"without\",\"wrong\",\"\\u2019s\",\"baru\",\"__\",\"hehe\",\"hacer\",\"lot\",\"followed\",\"crazy\",\"hell\",\"feeling\",\"des\",\"kok\",\"j\",\"stats\",\"j'\",\"\\u0627\\u0646\",\"tweets\",\"non\",\"cosas\",\"era\",\"high\",\"niggas\",\"change\",\"movie\",\"xx\",\"mad\",\"sih\",\"sometimes\",\"deh\",\"allah\",\"through\",\"pour\",\"ela\",\"soon\",\"gone\",\"playing\",\"smile\",\"bukan\",\"tv\",\"fans\",\"hasta\",\"akan\",\"y'\",\"looks\",\"isso\",\"\\u270c\",\"tired\",\"boys\",\"might\",\"dong\",\"lg\",\"use\",\"maybe\",\"until\",\"menos\",\"own\",\"dengan\",\"eat\",\"ou\",\"weekend\",\"\\u02d8\",\"class\",\"ele\",\"harry\",\"iphone\",\"friday\",\"single\",\"ff\",\"awesome\",\"bout\",\"muito\",\"hoje\",\"\\u00ac\",\"dios\",\"such\",\"estar\",\"j\\u00e1\",\"quando\",\"esa\",\"making\",\"\\u2501\",\"times\",\"lmfao\",\"gw\",\"moment\",\"yet\",\"aw\",\"smh\",\"banget\",\"masih\",\"qui\",\"quem\",\"\\u2013\",\"leave\",\"du\",\"une\",\"guess\",\"hit\",\"\\u0441\",\"pm\",\"since\",\"pues\",\"est\",\"job\",\"\\uff89\",\"mana\",\"bom\",\"siapa\",\"suka\",\"bieber\",\"mention\",\"lebih\",\"favorite\",\"bitches\",\"forever\",\"\\u0644\\u064a\",\"final\",\"read\",\"alguien\",\"open\",\"yourself\",\"ese\",\"che\",\"sex\",\"yaa\",\"car\",\"direction\",\"tidak\",\"seu\",\"gets\",\"left\",\"re\",\"jam\",\"enough\",\"\\u0625\\u0644\\u0627\",\"once\",\"\\u2019\",\"part\",\"cada\",\"\\u5b9a\\u671f\",\"\\u0644\\u0643\",\"een\",\"seen\",\"kak\",\"as\\u00ed\",\"nem\",\"\\u0639\\u0645\\u0644\",\"white\",\"told\",\"says\",\"esto\",\"sad\",\"mo\",\"fue\",\"yah\",\"summer\",\"\\u0647\",\"\\u2b55\",\"\\u00bb\",\"thats\",\"\\u0645\\u0639\",\"posted\",\"wants\",\"agora\",\"together\",\"fan\",\"men\",\"hear\",\"full\",\"\\u2600\",\"sigo\",\"pq\",\"dulu\",\"plus\",\"foi\",\"tudo\",\"\\u0647\\u0648\",\"ill\",\"\\u3042\",\"thinking\",\"wtf\",\"pagi\",\"mama\",\"kalau\",\"hati\",\"sexy\",\"sayang\",\"baik\",\"semua\",\"hola\",\"went\",\"vos\",\"tanto\",\"finally\",\"fb\",\"sea\",\"stupid\",\"tus\",\"seriously\",\"hora\",\"min\",\"pic\",\"estas\",\"turn\",\"hours\",\"excited\",\"nah\",\"buy\",\"saying\",\"mah\",\"break\",\"needs\",\"ce\",\"room\",\"choice\",\"far\",\"dead\",\"quero\",\"saw\",\"kids\",\"lil\",\"whole\",\"puede\",\"fall\",\"sus\",\"lost\",\"asi\",\"word\",\"\\u2639\",\"also\",\"\\u0631\\u064a\\u062a\\u0648\\u064a\\u062a\",\"probably\",\"everybody\",\"tarde\",\"run\",\"sei\",\"follback\",\"forget\",\"sweet\",\"welcome\",\"selamat\",\"\\uff3f\",\"sur\",\"place\",\"gusta\",\"sabe\",\"androidgames\",\"tp\",\"tiempo\",\"\\u0628\\u0633\",\"sou\",\"tuh\",\"vs\",\"eyes\",\"\\u0627\\u0646\\u0627\",\"picture\",\"das\",\"meet\",\"anak\",\"persona\",\"essa\",\"bored\",\"following\",\"nadie\",\"nobody\",\"dice\",\"alone\",\"sick\",\"red\",\"city\",\"cinta\",\"\\u6708\",\"linda\",\"dream\",\"story\",\"km\",\"het\",\"waiting\",\"^_^\",\"mine\",\"\\u0447\\u0442\\u043e\",\"reason\",\"kk\",\"\\u0644\\u0648\",\"online\",\"fast\",\"udh\",\"wanted\",\"op\",\"others\",\"gay\",\"n\\u2019t\",\"used\",\"sem\",\"understand\",\"moi\",\"sm\",\"aint\",\"donde\",\"bem\",\"which\",\"ng\",\"followback\",\"punya\",\"late\",\"anda\",\"tidur\",\"puedo\",\"early\",\"nd\",\"personas\",\"banyak\",\"\\u2705\",\"\\u278a\",\"trust\",\"noche\",\"tl\",\"\\uff1e\",\"\\u00ab\",\"af\",\"move\",\"pro\",\"bring\",\"ku\",\"called\",\"relationship\",\"idk\",\"hurt\",\"st\",\"pernah\",\"pessoas\",\"hello\",\"uno\",\"unfollowers\",\"cry\"],\"x\":{\"__ndarray__\":\"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\",\"dtype\":\"float32\",\"shape\":[1000]},\"y\":{\"__ndarray__\":\"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\",\"dtype\":\"float32\",\"shape\":[1000]}}},\"id\":\"cefe9812-9b41-4fa6-9f5e-d9f6470f5cd4\",\"type\":\"ColumnDataSource\"},{\"attributes\":{},\"id\":\"8ec8d860-92e4-49da-9281-094fb6a75af4\",\"type\":\"BasicTicker\"},{\"attributes\":{\"formatter\":{\"id\":\"ff0f3618-629e-4ae7-8009-bb00299e06a0\",\"type\":\"BasicTickFormatter\"},\"plot\":{\"id\":\"82a0c194-443d-4d59-9649-5d880f10efb9\",\"subtype\":\"Figure\",\"type\":\"Plot\"},\"ticker\":{\"id\":\"476eb38e-fba6-41b7-9d19-f60b718fc439\",\"type\":\"BasicTicker\"}},\"id\":\"da002c03-3227-4002-afd2-f857f6f866af\",\"type\":\"LinearAxis\"},{\"attributes\":{\"dimension\":1,\"plot\":{\"id\":\"82a0c194-443d-4d59-9649-5d880f10efb9\",\"subtype\":\"Figure\",\"type\":\"Plot\"},\"ticker\":{\"id\":\"476eb38e-fba6-41b7-9d19-f60b718fc439\",\"type\":\"BasicTicker\"}},\"id\":\"7d0b43c9-f2de-4783-860d-9d36c08fc765\",\"type\":\"Grid\"},{\"attributes\":{},\"id\":\"97b3b247-b70d-4299-810a-15b033c436e5\",\"type\":\"LinearScale\"}],\"root_ids\":[\"82a0c194-443d-4d59-9649-5d880f10efb9\"]},\"title\":\"Bokeh Application\",\"version\":\"0.12.10\"}};\n",
       "    var render_items = [{\"docid\":\"f183797e-e9e6-4b9e-b24d-20869cc5cf1d\",\"elementid\":\"7f261aab-d05a-4767-9643-0778dfd65aee\",\"modelid\":\"82a0c194-443d-4d59-9649-5d880f10efb9\"}];\n",
       "\n",
       "    root.Bokeh.embed.embed_items(docs_json, render_items);\n",
       "  }\n",
       "\n",
       "  if (root.Bokeh !== undefined) {\n",
       "    embed_document(root);\n",
       "  } else {\n",
       "    var attempts = 0;\n",
       "    var timer = setInterval(function(root) {\n",
       "      if (root.Bokeh !== undefined) {\n",
       "        embed_document(root);\n",
       "        clearInterval(timer);\n",
       "      }\n",
       "      attempts++;\n",
       "      if (attempts > 100) {\n",
       "        console.log(\"Bokeh: ERROR: Unable to embed document because BokehJS library is missing\")\n",
       "        clearInterval(timer);\n",
       "      }\n",
       "    }, 10, root)\n",
       "  }\n",
       "})(window);"
      ],
      "application/vnd.bokehjs_exec.v0+json": ""
     },
     "metadata": {
      "application/vnd.bokehjs_exec.v0+json": {
       "id": "82a0c194-443d-4d59-9649-5d880f10efb9"
      }
     },
     "output_type": "display_data"
    },
    {
     "data": {
      "text/html": [
       "<div style=\"display: table;\"><div style=\"display: table-row;\"><div style=\"display: table-cell;\"><b title=\"bokeh.plotting.figure.Figure\">Figure</b>(</div><div style=\"display: table-cell;\">id&nbsp;=&nbsp;'82a0c194-443d-4d59-9649-5d880f10efb9', <span id=\"f307c299-1c02-43b9-84b0-64c1642d5e87\" style=\"cursor: pointer;\">&hellip;)</span></div></div><div class=\"398de571-9bdb-41d9-8330-511ecd57dd5a\" style=\"display: none;\"><div style=\"display: table-cell;\"></div><div style=\"display: table-cell;\">above&nbsp;=&nbsp;[],</div></div><div class=\"398de571-9bdb-41d9-8330-511ecd57dd5a\" style=\"display: none;\"><div style=\"display: table-cell;\"></div><div style=\"display: table-cell;\">aspect_scale&nbsp;=&nbsp;1,</div></div><div class=\"398de571-9bdb-41d9-8330-511ecd57dd5a\" style=\"display: none;\"><div style=\"display: table-cell;\"></div><div style=\"display: table-cell;\">background_fill_alpha&nbsp;=&nbsp;{'value': 1.0},</div></div><div class=\"398de571-9bdb-41d9-8330-511ecd57dd5a\" style=\"display: none;\"><div style=\"display: table-cell;\"></div><div style=\"display: table-cell;\">background_fill_color&nbsp;=&nbsp;{'value': '#ffffff'},</div></div><div class=\"398de571-9bdb-41d9-8330-511ecd57dd5a\" style=\"display: none;\"><div style=\"display: table-cell;\"></div><div style=\"display: table-cell;\">below&nbsp;=&nbsp;[LinearAxis(id='9543dd89-9f3d-4146-aa04-cbe4aabf8def', ...)],</div></div><div class=\"398de571-9bdb-41d9-8330-511ecd57dd5a\" style=\"display: none;\"><div style=\"display: table-cell;\"></div><div style=\"display: table-cell;\">border_fill_alpha&nbsp;=&nbsp;{'value': 1.0},</div></div><div class=\"398de571-9bdb-41d9-8330-511ecd57dd5a\" style=\"display: none;\"><div style=\"display: table-cell;\"></div><div style=\"display: table-cell;\">border_fill_color&nbsp;=&nbsp;{'value': '#ffffff'},</div></div><div class=\"398de571-9bdb-41d9-8330-511ecd57dd5a\" style=\"display: none;\"><div style=\"display: table-cell;\"></div><div style=\"display: table-cell;\">css_classes&nbsp;=&nbsp;None,</div></div><div class=\"398de571-9bdb-41d9-8330-511ecd57dd5a\" style=\"display: none;\"><div style=\"display: table-cell;\"></div><div style=\"display: table-cell;\">disabled&nbsp;=&nbsp;False,</div></div><div class=\"398de571-9bdb-41d9-8330-511ecd57dd5a\" style=\"display: none;\"><div style=\"display: table-cell;\"></div><div style=\"display: table-cell;\">extra_x_ranges&nbsp;=&nbsp;{},</div></div><div class=\"398de571-9bdb-41d9-8330-511ecd57dd5a\" style=\"display: none;\"><div style=\"display: table-cell;\"></div><div style=\"display: table-cell;\">extra_y_ranges&nbsp;=&nbsp;{},</div></div><div class=\"398de571-9bdb-41d9-8330-511ecd57dd5a\" style=\"display: none;\"><div style=\"display: table-cell;\"></div><div style=\"display: table-cell;\">h_symmetry&nbsp;=&nbsp;True,</div></div><div class=\"398de571-9bdb-41d9-8330-511ecd57dd5a\" style=\"display: none;\"><div style=\"display: table-cell;\"></div><div style=\"display: table-cell;\">height&nbsp;=&nbsp;None,</div></div><div class=\"398de571-9bdb-41d9-8330-511ecd57dd5a\" style=\"display: none;\"><div style=\"display: table-cell;\"></div><div style=\"display: table-cell;\">hidpi&nbsp;=&nbsp;True,</div></div><div class=\"398de571-9bdb-41d9-8330-511ecd57dd5a\" style=\"display: none;\"><div style=\"display: table-cell;\"></div><div style=\"display: table-cell;\">js_event_callbacks&nbsp;=&nbsp;{},</div></div><div class=\"398de571-9bdb-41d9-8330-511ecd57dd5a\" style=\"display: none;\"><div style=\"display: table-cell;\"></div><div style=\"display: table-cell;\">js_property_callbacks&nbsp;=&nbsp;{},</div></div><div class=\"398de571-9bdb-41d9-8330-511ecd57dd5a\" style=\"display: none;\"><div style=\"display: table-cell;\"></div><div style=\"display: table-cell;\">left&nbsp;=&nbsp;[LinearAxis(id='da002c03-3227-4002-afd2-f857f6f866af', ...)],</div></div><div class=\"398de571-9bdb-41d9-8330-511ecd57dd5a\" style=\"display: none;\"><div style=\"display: table-cell;\"></div><div style=\"display: table-cell;\">lod_factor&nbsp;=&nbsp;10,</div></div><div class=\"398de571-9bdb-41d9-8330-511ecd57dd5a\" style=\"display: none;\"><div style=\"display: table-cell;\"></div><div style=\"display: table-cell;\">lod_interval&nbsp;=&nbsp;300,</div></div><div class=\"398de571-9bdb-41d9-8330-511ecd57dd5a\" style=\"display: none;\"><div style=\"display: table-cell;\"></div><div style=\"display: table-cell;\">lod_threshold&nbsp;=&nbsp;2000,</div></div><div class=\"398de571-9bdb-41d9-8330-511ecd57dd5a\" style=\"display: none;\"><div style=\"display: table-cell;\"></div><div style=\"display: table-cell;\">lod_timeout&nbsp;=&nbsp;500,</div></div><div class=\"398de571-9bdb-41d9-8330-511ecd57dd5a\" style=\"display: none;\"><div style=\"display: table-cell;\"></div><div style=\"display: table-cell;\">match_aspect&nbsp;=&nbsp;False,</div></div><div class=\"398de571-9bdb-41d9-8330-511ecd57dd5a\" style=\"display: none;\"><div style=\"display: table-cell;\"></div><div style=\"display: table-cell;\">min_border&nbsp;=&nbsp;5,</div></div><div class=\"398de571-9bdb-41d9-8330-511ecd57dd5a\" style=\"display: none;\"><div style=\"display: table-cell;\"></div><div style=\"display: table-cell;\">min_border_bottom&nbsp;=&nbsp;None,</div></div><div class=\"398de571-9bdb-41d9-8330-511ecd57dd5a\" style=\"display: none;\"><div style=\"display: table-cell;\"></div><div style=\"display: table-cell;\">min_border_left&nbsp;=&nbsp;None,</div></div><div class=\"398de571-9bdb-41d9-8330-511ecd57dd5a\" style=\"display: none;\"><div style=\"display: table-cell;\"></div><div style=\"display: table-cell;\">min_border_right&nbsp;=&nbsp;None,</div></div><div class=\"398de571-9bdb-41d9-8330-511ecd57dd5a\" style=\"display: none;\"><div style=\"display: table-cell;\"></div><div style=\"display: table-cell;\">min_border_top&nbsp;=&nbsp;None,</div></div><div class=\"398de571-9bdb-41d9-8330-511ecd57dd5a\" style=\"display: none;\"><div style=\"display: table-cell;\"></div><div style=\"display: table-cell;\">name&nbsp;=&nbsp;None,</div></div><div class=\"398de571-9bdb-41d9-8330-511ecd57dd5a\" style=\"display: none;\"><div style=\"display: table-cell;\"></div><div style=\"display: table-cell;\">outline_line_alpha&nbsp;=&nbsp;{'value': 1.0},</div></div><div class=\"398de571-9bdb-41d9-8330-511ecd57dd5a\" style=\"display: none;\"><div style=\"display: table-cell;\"></div><div style=\"display: table-cell;\">outline_line_cap&nbsp;=&nbsp;'butt',</div></div><div class=\"398de571-9bdb-41d9-8330-511ecd57dd5a\" style=\"display: none;\"><div style=\"display: table-cell;\"></div><div style=\"display: table-cell;\">outline_line_color&nbsp;=&nbsp;{'value': '#e5e5e5'},</div></div><div class=\"398de571-9bdb-41d9-8330-511ecd57dd5a\" style=\"display: none;\"><div style=\"display: table-cell;\"></div><div style=\"display: table-cell;\">outline_line_dash&nbsp;=&nbsp;[],</div></div><div class=\"398de571-9bdb-41d9-8330-511ecd57dd5a\" style=\"display: none;\"><div style=\"display: table-cell;\"></div><div style=\"display: table-cell;\">outline_line_dash_offset&nbsp;=&nbsp;0,</div></div><div class=\"398de571-9bdb-41d9-8330-511ecd57dd5a\" style=\"display: none;\"><div style=\"display: table-cell;\"></div><div style=\"display: table-cell;\">outline_line_join&nbsp;=&nbsp;'miter',</div></div><div class=\"398de571-9bdb-41d9-8330-511ecd57dd5a\" style=\"display: none;\"><div style=\"display: table-cell;\"></div><div style=\"display: table-cell;\">outline_line_width&nbsp;=&nbsp;{'value': 1},</div></div><div class=\"398de571-9bdb-41d9-8330-511ecd57dd5a\" style=\"display: none;\"><div style=\"display: table-cell;\"></div><div style=\"display: table-cell;\">output_backend&nbsp;=&nbsp;'canvas',</div></div><div class=\"398de571-9bdb-41d9-8330-511ecd57dd5a\" style=\"display: none;\"><div style=\"display: table-cell;\"></div><div style=\"display: table-cell;\">plot_height&nbsp;=&nbsp;400,</div></div><div class=\"398de571-9bdb-41d9-8330-511ecd57dd5a\" style=\"display: none;\"><div style=\"display: table-cell;\"></div><div style=\"display: table-cell;\">plot_width&nbsp;=&nbsp;600,</div></div><div class=\"398de571-9bdb-41d9-8330-511ecd57dd5a\" style=\"display: none;\"><div style=\"display: table-cell;\"></div><div style=\"display: table-cell;\">renderers&nbsp;=&nbsp;[LinearAxis(id='9543dd89-9f3d-4146-aa04-cbe4aabf8def', ...), Grid(id='e3bd84ff-5733-4207-9516-2388aed63dd0', ...), LinearAxis(id='da002c03-3227-4002-afd2-f857f6f866af', ...), Grid(id='7d0b43c9-f2de-4783-860d-9d36c08fc765', ...), BoxAnnotation(id='57dc969f-790f-4e36-bbaf-a0eebcb9e0b3', ...), GlyphRenderer(id='80b40e75-803b-44ee-826c-920a3b938c74', ...)],</div></div><div class=\"398de571-9bdb-41d9-8330-511ecd57dd5a\" style=\"display: none;\"><div style=\"display: table-cell;\"></div><div style=\"display: table-cell;\">right&nbsp;=&nbsp;[],</div></div><div class=\"398de571-9bdb-41d9-8330-511ecd57dd5a\" style=\"display: none;\"><div style=\"display: table-cell;\"></div><div style=\"display: table-cell;\">sizing_mode&nbsp;=&nbsp;'fixed',</div></div><div class=\"398de571-9bdb-41d9-8330-511ecd57dd5a\" style=\"display: none;\"><div style=\"display: table-cell;\"></div><div style=\"display: table-cell;\">subscribed_events&nbsp;=&nbsp;[],</div></div><div class=\"398de571-9bdb-41d9-8330-511ecd57dd5a\" style=\"display: none;\"><div style=\"display: table-cell;\"></div><div style=\"display: table-cell;\">tags&nbsp;=&nbsp;[],</div></div><div class=\"398de571-9bdb-41d9-8330-511ecd57dd5a\" style=\"display: none;\"><div style=\"display: table-cell;\"></div><div style=\"display: table-cell;\">title&nbsp;=&nbsp;Title(id='16de229b-3734-4683-ace7-0db2c74c35fe', ...),</div></div><div class=\"398de571-9bdb-41d9-8330-511ecd57dd5a\" style=\"display: none;\"><div style=\"display: table-cell;\"></div><div style=\"display: table-cell;\">title_location&nbsp;=&nbsp;'above',</div></div><div class=\"398de571-9bdb-41d9-8330-511ecd57dd5a\" style=\"display: none;\"><div style=\"display: table-cell;\"></div><div style=\"display: table-cell;\">toolbar&nbsp;=&nbsp;Toolbar(id='fdb526d9-61fb-48fa-9a93-45a9e42737f4', ...),</div></div><div class=\"398de571-9bdb-41d9-8330-511ecd57dd5a\" style=\"display: none;\"><div style=\"display: table-cell;\"></div><div style=\"display: table-cell;\">toolbar_location&nbsp;=&nbsp;'right',</div></div><div class=\"398de571-9bdb-41d9-8330-511ecd57dd5a\" style=\"display: none;\"><div style=\"display: table-cell;\"></div><div style=\"display: table-cell;\">toolbar_sticky&nbsp;=&nbsp;True,</div></div><div class=\"398de571-9bdb-41d9-8330-511ecd57dd5a\" style=\"display: none;\"><div style=\"display: table-cell;\"></div><div style=\"display: table-cell;\">v_symmetry&nbsp;=&nbsp;False,</div></div><div class=\"398de571-9bdb-41d9-8330-511ecd57dd5a\" style=\"display: none;\"><div style=\"display: table-cell;\"></div><div style=\"display: table-cell;\">width&nbsp;=&nbsp;None,</div></div><div class=\"398de571-9bdb-41d9-8330-511ecd57dd5a\" style=\"display: none;\"><div style=\"display: table-cell;\"></div><div style=\"display: table-cell;\">x_range&nbsp;=&nbsp;DataRange1d(id='8d1293d8-35d6-4c53-b83b-d13943e911d7', ...),</div></div><div class=\"398de571-9bdb-41d9-8330-511ecd57dd5a\" style=\"display: none;\"><div style=\"display: table-cell;\"></div><div style=\"display: table-cell;\">x_scale&nbsp;=&nbsp;LinearScale(id='53bb2a29-0aba-434f-ac95-0a69545e6d0a', ...),</div></div><div class=\"398de571-9bdb-41d9-8330-511ecd57dd5a\" style=\"display: none;\"><div style=\"display: table-cell;\"></div><div style=\"display: table-cell;\">y_range&nbsp;=&nbsp;DataRange1d(id='1662c970-85fe-4840-88d5-9359eb4c6e84', ...),</div></div><div class=\"398de571-9bdb-41d9-8330-511ecd57dd5a\" style=\"display: none;\"><div style=\"display: table-cell;\"></div><div style=\"display: table-cell;\">y_scale&nbsp;=&nbsp;LinearScale(id='97b3b247-b70d-4299-810a-15b033c436e5', ...))</div></div></div>\n",
       "<script>\n",
       "(function() {\n",
       "  var expanded = false;\n",
       "  var ellipsis = document.getElementById(\"f307c299-1c02-43b9-84b0-64c1642d5e87\");\n",
       "  ellipsis.addEventListener(\"click\", function() {\n",
       "    var rows = document.getElementsByClassName(\"398de571-9bdb-41d9-8330-511ecd57dd5a\");\n",
       "    for (var i = 0; i < rows.length; i++) {\n",
       "      var el = rows[i];\n",
       "      el.style.display = expanded ? \"none\" : \"table-row\";\n",
       "    }\n",
       "    ellipsis.innerHTML = expanded ? \"&hellip;)\" : \"&lsaquo;&lsaquo;&lsaquo;\";\n",
       "    expanded = !expanded;\n",
       "  });\n",
       "})();\n",
       "</script>\n"
      ],
      "text/plain": [
       "Figure(id='82a0c194-443d-4d59-9649-5d880f10efb9', ...)"
      ]
     },
     "execution_count": 33,
     "metadata": {},
     "output_type": "execute_result"
    }
   ],
   "source": [
    "draw_vectors(word_vectors_pca[:, 0], word_vectors_pca[:, 1], token=words)\n",
    "\n",
    "# hover a mouse over there and see if you can identify the clusters"
   ]
  },
  {
   "cell_type": "markdown",
   "metadata": {},
   "source": [
    "### Visualizing neighbors with t-SNE\n",
    "PCA is nice but it's strictly linear and thus only able to capture coarse high-level structure of the data.\n",
    "\n",
    "If we instead want to focus on keeping neighboring points near, we could use TSNE, which is itself an embedding method. Here you can read __[more on TSNE](https://distill.pub/2016/misread-tsne/)__."
   ]
  },
  {
   "cell_type": "code",
   "execution_count": 34,
   "metadata": {},
   "outputs": [
    {
     "name": "stdout",
     "output_type": "stream",
     "text": [
      "[t-SNE] Computing 91 nearest neighbors...\n",
      "[t-SNE] Indexed 1000 samples in 0.004s...\n",
      "[t-SNE] Computed neighbors for 1000 samples in 0.176s...\n",
      "[t-SNE] Computed conditional probabilities for sample 1000 / 1000\n",
      "[t-SNE] Mean sigma: 1.716134\n",
      "[t-SNE] KL divergence after 250 iterations with early exaggeration: 69.605682\n",
      "[t-SNE] Error after 1000 iterations: 1.034775\n"
     ]
    }
   ],
   "source": [
    "from sklearn.manifold import TSNE\n",
    "\n",
    "# map word vectors onto 2d plane with TSNE. hint: use verbose=100 to see what it's doing.\n",
    "# normalize them as just lke with pca\n",
    "\n",
    "\n",
    "word_tsne = TSNE(verbose=True).fit_transform(word_vectors)"
   ]
  },
  {
   "cell_type": "code",
   "execution_count": 35,
   "metadata": {
    "scrolled": false
   },
   "outputs": [
    {
     "data": {
      "text/html": [
       "\n",
       "<div class=\"bk-root\">\n",
       "    <div class=\"bk-plotdiv\" id=\"a7e91ac1-5321-41f5-bca3-f318654ac606\"></div>\n",
       "</div>"
      ]
     },
     "metadata": {},
     "output_type": "display_data"
    },
    {
     "data": {
      "application/javascript": [
       "(function(root) {\n",
       "  function embed_document(root) {\n",
       "    var docs_json = {\"70d6bd31-8f3b-4596-92ca-461506e72f3d\":{\"roots\":{\"references\":[{\"attributes\":{},\"id\":\"ab975ffe-e2f2-4fb2-9e3b-5fe65e5e4a33\",\"type\":\"BasicTicker\"},{\"attributes\":{\"below\":[{\"id\":\"94f6fcae-a217-4627-8601-cb2e61558ec4\",\"type\":\"LinearAxis\"}],\"left\":[{\"id\":\"e64df2d3-ca85-4421-898f-c080e6bb42cf\",\"type\":\"LinearAxis\"}],\"plot_height\":400,\"renderers\":[{\"id\":\"94f6fcae-a217-4627-8601-cb2e61558ec4\",\"type\":\"LinearAxis\"},{\"id\":\"614fa600-f17d-40fc-9eb3-e125b7f61865\",\"type\":\"Grid\"},{\"id\":\"e64df2d3-ca85-4421-898f-c080e6bb42cf\",\"type\":\"LinearAxis\"},{\"id\":\"a9b3e3f9-5255-48e8-afc9-50399cc4a17e\",\"type\":\"Grid\"},{\"id\":\"180eabe2-58cf-47c4-b7b4-e57d5d6ad5a1\",\"type\":\"BoxAnnotation\"},{\"id\":\"5baa4081-2933-435c-835b-d983f489c93c\",\"type\":\"GlyphRenderer\"}],\"title\":{\"id\":\"d895a350-44a6-408b-a40c-16e712652b59\",\"type\":\"Title\"},\"toolbar\":{\"id\":\"96602e95-f640-423c-b7c6-7ac72bb7087d\",\"type\":\"Toolbar\"},\"x_range\":{\"id\":\"ff165602-b278-47fc-baaa-d4ad72cb4077\",\"type\":\"DataRange1d\"},\"x_scale\":{\"id\":\"c019544a-4a50-4b0a-bc00-33596ed3b81a\",\"type\":\"LinearScale\"},\"y_range\":{\"id\":\"fdd7ac55-87f4-4dec-b222-82552d578c3e\",\"type\":\"DataRange1d\"},\"y_scale\":{\"id\":\"75887440-0372-4166-9dfc-b3d123f8bc7d\",\"type\":\"LinearScale\"}},\"id\":\"1c84a0a5-e84a-4476-af5b-7fb1432eefe1\",\"subtype\":\"Figure\",\"type\":\"Plot\"},{\"attributes\":{\"plot\":null,\"text\":\"\"},\"id\":\"d895a350-44a6-408b-a40c-16e712652b59\",\"type\":\"Title\"},{\"attributes\":{\"data_source\":{\"id\":\"7f2a7b0a-22e7-4d4c-b17b-d454d7b7853c\",\"type\":\"ColumnDataSource\"},\"glyph\":{\"id\":\"87ea0096-10b4-4026-bc89-557b68cb3962\",\"type\":\"Circle\"},\"hover_glyph\":null,\"muted_glyph\":null,\"nonselection_glyph\":{\"id\":\"29a6aa26-0b82-4035-8de1-6aa907b204e6\",\"type\":\"Circle\"},\"selection_glyph\":null,\"view\":{\"id\":\"121fc2ee-6d53-4357-a0cf-d724411e4e72\",\"type\":\"CDSView\"}},\"id\":\"5baa4081-2933-435c-835b-d983f489c93c\",\"type\":\"GlyphRenderer\"},{\"attributes\":{},\"id\":\"75887440-0372-4166-9dfc-b3d123f8bc7d\",\"type\":\"LinearScale\"},{\"attributes\":{\"callback\":null},\"id\":\"ff165602-b278-47fc-baaa-d4ad72cb4077\",\"type\":\"DataRange1d\"},{\"attributes\":{\"dimension\":1,\"plot\":{\"id\":\"1c84a0a5-e84a-4476-af5b-7fb1432eefe1\",\"subtype\":\"Figure\",\"type\":\"Plot\"},\"ticker\":{\"id\":\"ab975ffe-e2f2-4fb2-9e3b-5fe65e5e4a33\",\"type\":\"BasicTicker\"}},\"id\":\"a9b3e3f9-5255-48e8-afc9-50399cc4a17e\",\"type\":\"Grid\"},{\"attributes\":{},\"id\":\"7dcc866e-6a3c-4bc1-9a2f-3190ee81e155\",\"type\":\"BasicTickFormatter\"},{\"attributes\":{\"source\":{\"id\":\"7f2a7b0a-22e7-4d4c-b17b-d454d7b7853c\",\"type\":\"ColumnDataSource\"}},\"id\":\"121fc2ee-6d53-4357-a0cf-d724411e4e72\",\"type\":\"CDSView\"},{\"attributes\":{\"fill_alpha\":{\"value\":0.1},\"fill_color\":{\"value\":\"#1f77b4\"},\"line_alpha\":{\"value\":0.1},\"line_color\":{\"value\":\"#1f77b4\"},\"size\":{\"units\":\"screen\",\"value\":10},\"x\":{\"field\":\"x\"},\"y\":{\"field\":\"y\"}},\"id\":\"29a6aa26-0b82-4035-8de1-6aa907b204e6\",\"type\":\"Circle\"},{\"attributes\":{\"callback\":null},\"id\":\"fdd7ac55-87f4-4dec-b222-82552d578c3e\",\"type\":\"DataRange1d\"},{\"attributes\":{\"callback\":null,\"tooltips\":[[\"token\",\"@token\"]]},\"id\":\"8e78c3e6-d77d-409e-a8b2-caead37aa1ee\",\"type\":\"HoverTool\"},{\"attributes\":{},\"id\":\"e356b3ed-27df-47b8-b31d-ec8554bdf39c\",\"type\":\"BasicTickFormatter\"},{\"attributes\":{\"bottom_units\":\"screen\",\"fill_alpha\":{\"value\":0.5},\"fill_color\":{\"value\":\"lightgrey\"},\"left_units\":\"screen\",\"level\":\"overlay\",\"line_alpha\":{\"value\":1.0},\"line_color\":{\"value\":\"black\"},\"line_dash\":[4,4],\"line_width\":{\"value\":2},\"plot\":null,\"render_mode\":\"css\",\"right_units\":\"screen\",\"top_units\":\"screen\"},\"id\":\"180eabe2-58cf-47c4-b7b4-e57d5d6ad5a1\",\"type\":\"BoxAnnotation\"},{\"attributes\":{\"fill_alpha\":{\"value\":0.25},\"fill_color\":{\"field\":\"color\"},\"line_alpha\":{\"value\":0.25},\"line_color\":{\"field\":\"color\"},\"size\":{\"units\":\"screen\",\"value\":10},\"x\":{\"field\":\"x\"},\"y\":{\"field\":\"y\"}},\"id\":\"87ea0096-10b4-4026-bc89-557b68cb3962\",\"type\":\"Circle\"},{\"attributes\":{\"formatter\":{\"id\":\"e356b3ed-27df-47b8-b31d-ec8554bdf39c\",\"type\":\"BasicTickFormatter\"},\"plot\":{\"id\":\"1c84a0a5-e84a-4476-af5b-7fb1432eefe1\",\"subtype\":\"Figure\",\"type\":\"Plot\"},\"ticker\":{\"id\":\"ab975ffe-e2f2-4fb2-9e3b-5fe65e5e4a33\",\"type\":\"BasicTicker\"}},\"id\":\"e64df2d3-ca85-4421-898f-c080e6bb42cf\",\"type\":\"LinearAxis\"},{\"attributes\":{},\"id\":\"ccf98d58-c29e-4776-9110-a6daaa9873cf\",\"type\":\"PanTool\"},{\"attributes\":{},\"id\":\"c019544a-4a50-4b0a-bc00-33596ed3b81a\",\"type\":\"LinearScale\"},{\"attributes\":{},\"id\":\"aa42e36d-c918-46f9-9cbc-c50bee180c25\",\"type\":\"WheelZoomTool\"},{\"attributes\":{\"overlay\":{\"id\":\"180eabe2-58cf-47c4-b7b4-e57d5d6ad5a1\",\"type\":\"BoxAnnotation\"}},\"id\":\"8885d1a7-69e1-4ef7-a648-f0e43a8330fa\",\"type\":\"BoxZoomTool\"},{\"attributes\":{},\"id\":\"d5ffdae2-763b-473e-97ef-12a2d0ffae19\",\"type\":\"SaveTool\"},{\"attributes\":{},\"id\":\"50dfa404-4aee-4cba-aabe-84faaa74905d\",\"type\":\"ResetTool\"},{\"attributes\":{},\"id\":\"0298e451-54f8-42d2-a506-8a4817a8d34e\",\"type\":\"HelpTool\"},{\"attributes\":{\"plot\":{\"id\":\"1c84a0a5-e84a-4476-af5b-7fb1432eefe1\",\"subtype\":\"Figure\",\"type\":\"Plot\"},\"ticker\":{\"id\":\"338ecd3a-8195-417b-9de8-fd4ca351d68e\",\"type\":\"BasicTicker\"}},\"id\":\"614fa600-f17d-40fc-9eb3-e125b7f61865\",\"type\":\"Grid\"},{\"attributes\":{\"formatter\":{\"id\":\"7dcc866e-6a3c-4bc1-9a2f-3190ee81e155\",\"type\":\"BasicTickFormatter\"},\"plot\":{\"id\":\"1c84a0a5-e84a-4476-af5b-7fb1432eefe1\",\"subtype\":\"Figure\",\"type\":\"Plot\"},\"ticker\":{\"id\":\"338ecd3a-8195-417b-9de8-fd4ca351d68e\",\"type\":\"BasicTicker\"}},\"id\":\"94f6fcae-a217-4627-8601-cb2e61558ec4\",\"type\":\"LinearAxis\"},{\"attributes\":{\"callback\":null,\"column_names\":[\"x\",\"y\",\"color\",\"token\"],\"data\":{\"color\":[\"green\",\"green\",\"green\",\"green\",\"green\",\"green\",\"green\",\"green\",\"green\",\"green\",\"green\",\"green\",\"green\",\"green\",\"green\",\"green\",\"green\",\"green\",\"green\",\"green\",\"green\",\"green\",\"green\",\"green\",\"green\",\"green\",\"green\",\"green\",\"green\",\"green\",\"green\",\"green\",\"green\",\"green\",\"green\",\"green\",\"green\",\"green\",\"green\",\"green\",\"green\",\"green\",\"green\",\"green\",\"green\",\"green\",\"green\",\"green\",\"green\",\"green\",\"green\",\"green\",\"green\",\"green\",\"green\",\"green\",\"green\",\"green\",\"green\",\"green\",\"green\",\"green\",\"green\",\"green\",\"green\",\"green\",\"green\",\"green\",\"green\",\"green\",\"green\",\"green\",\"green\",\"green\",\"green\",\"green\",\"green\",\"green\",\"green\",\"green\",\"green\",\"green\",\"green\",\"green\",\"green\",\"green\",\"green\",\"green\",\"green\",\"green\",\"green\",\"green\",\"green\",\"green\",\"green\",\"green\",\"green\",\"green\",\"green\",\"green\",\"green\",\"green\",\"green\",\"green\",\"green\",\"green\",\"green\",\"green\",\"green\",\"green\",\"green\",\"green\",\"green\",\"green\",\"green\",\"green\",\"green\",\"green\",\"green\",\"green\",\"green\",\"green\",\"green\",\"green\",\"green\",\"green\",\"green\",\"green\",\"green\",\"green\",\"green\",\"green\",\"green\",\"green\",\"green\",\"green\",\"green\",\"green\",\"green\",\"green\",\"green\",\"green\",\"green\",\"green\",\"green\",\"green\",\"green\",\"green\",\"green\",\"green\",\"green\",\"green\",\"green\",\"green\",\"green\",\"green\",\"green\",\"green\",\"green\",\"green\",\"green\",\"green\",\"green\",\"green\",\"green\",\"green\",\"green\",\"green\",\"green\",\"green\",\"green\",\"green\",\"green\",\"green\",\"green\",\"green\",\"green\",\"green\",\"green\",\"green\",\"green\",\"green\",\"green\",\"green\",\"green\",\"green\",\"green\",\"green\",\"green\",\"green\",\"green\",\"green\",\"green\",\"green\",\"green\",\"green\",\"green\",\"green\",\"green\",\"green\",\"green\",\"green\",\"green\",\"green\",\"green\",\"green\",\"green\",\"green\",\"green\",\"green\",\"green\",\"green\",\"green\",\"green\",\"green\",\"green\",\"green\",\"green\",\"green\",\"green\",\"green\",\"green\",\"green\",\"green\",\"green\",\"green\",\"green\",\"green\",\"green\",\"green\",\"green\",\"green\",\"green\",\"green\",\"green\",\"green\",\"green\",\"green\",\"green\",\"green\",\"green\",\"green\",\"green\",\"green\",\"green\",\"green\",\"green\",\"green\",\"green\",\"green\",\"green\",\"green\",\"green\",\"green\",\"green\",\"green\",\"green\",\"green\",\"green\",\"green\",\"green\",\"green\",\"green\",\"green\",\"green\",\"green\",\"green\",\"green\",\"green\",\"green\",\"green\",\"green\",\"green\",\"green\",\"green\",\"green\",\"green\",\"green\",\"green\",\"green\",\"green\",\"green\",\"green\",\"green\",\"green\",\"green\",\"green\",\"green\",\"green\",\"green\",\"green\",\"green\",\"green\",\"green\",\"green\",\"green\",\"green\",\"green\",\"green\",\"green\",\"green\",\"green\",\"green\",\"green\",\"green\",\"green\",\"green\",\"green\",\"green\",\"green\",\"green\",\"green\",\"green\",\"green\",\"green\",\"green\",\"green\",\"green\",\"green\",\"green\",\"green\",\"green\",\"green\",\"green\",\"green\",\"green\",\"green\",\"green\",\"green\",\"green\",\"green\",\"green\",\"green\",\"green\",\"green\",\"green\",\"green\",\"green\",\"green\",\"green\",\"green\",\"green\",\"green\",\"green\",\"green\",\"green\",\"green\",\"green\",\"green\",\"green\",\"green\",\"green\",\"green\",\"green\",\"green\",\"green\",\"green\",\"green\",\"green\",\"green\",\"green\",\"green\",\"green\",\"green\",\"green\",\"green\",\"green\",\"green\",\"green\",\"green\",\"green\",\"green\",\"green\",\"green\",\"green\",\"green\",\"green\",\"green\",\"green\",\"green\",\"green\",\"green\",\"green\",\"green\",\"green\",\"green\",\"green\",\"green\",\"green\",\"green\",\"green\",\"green\",\"green\",\"green\",\"green\",\"green\",\"green\",\"green\",\"green\",\"green\",\"green\",\"green\",\"green\",\"green\",\"green\",\"green\",\"green\",\"green\",\"green\",\"green\",\"green\",\"green\",\"green\",\"green\",\"green\",\"green\",\"green\",\"green\",\"green\",\"green\",\"green\",\"green\",\"green\",\"green\",\"green\",\"green\",\"green\",\"green\",\"green\",\"green\",\"green\",\"green\",\"green\",\"green\",\"green\",\"green\",\"green\",\"green\",\"green\",\"green\",\"green\",\"green\",\"green\",\"green\",\"green\",\"green\",\"green\",\"green\",\"green\",\"green\",\"green\",\"green\",\"green\",\"green\",\"green\",\"green\",\"green\",\"green\",\"green\",\"green\",\"green\",\"green\",\"green\",\"green\",\"green\",\"green\",\"green\",\"green\",\"green\",\"green\",\"green\",\"green\",\"green\",\"green\",\"green\",\"green\",\"green\",\"green\",\"green\",\"green\",\"green\",\"green\",\"green\",\"green\",\"green\",\"green\",\"green\",\"green\",\"green\",\"green\",\"green\",\"green\",\"green\",\"green\",\"green\",\"green\",\"green\",\"green\",\"green\",\"green\",\"green\",\"green\",\"green\",\"green\",\"green\",\"green\",\"green\",\"green\",\"green\",\"green\",\"green\",\"green\",\"green\",\"green\",\"green\",\"green\",\"green\",\"green\",\"green\",\"green\",\"green\",\"green\",\"green\",\"green\",\"green\",\"green\",\"green\",\"green\",\"green\",\"green\",\"green\",\"green\",\"green\",\"green\",\"green\",\"green\",\"green\",\"green\",\"green\",\"green\",\"green\",\"green\",\"green\",\"green\",\"green\",\"green\",\"green\",\"green\",\"green\",\"green\",\"green\",\"green\",\"green\",\"green\",\"green\",\"green\",\"green\",\"green\",\"green\",\"green\",\"green\",\"green\",\"green\",\"green\",\"green\",\"green\",\"green\",\"green\",\"green\",\"green\",\"green\",\"green\",\"green\",\"green\",\"green\",\"green\",\"green\",\"green\",\"green\",\"green\",\"green\",\"green\",\"green\",\"green\",\"green\",\"green\",\"green\",\"green\",\"green\",\"green\",\"green\",\"green\",\"green\",\"green\",\"green\",\"green\",\"green\",\"green\",\"green\",\"green\",\"green\",\"green\",\"green\",\"green\",\"green\",\"green\",\"green\",\"green\",\"green\",\"green\",\"green\",\"green\",\"green\",\"green\",\"green\",\"green\",\"green\",\"green\",\"green\",\"green\",\"green\",\"green\",\"green\",\"green\",\"green\",\"green\",\"green\",\"green\",\"green\",\"green\",\"green\",\"green\",\"green\",\"green\",\"green\",\"green\",\"green\",\"green\",\"green\",\"green\",\"green\",\"green\",\"green\",\"green\",\"green\",\"green\",\"green\",\"green\",\"green\",\"green\",\"green\",\"green\",\"green\",\"green\",\"green\",\"green\",\"green\",\"green\",\"green\",\"green\",\"green\",\"green\",\"green\",\"green\",\"green\",\"green\",\"green\",\"green\",\"green\",\"green\",\"green\",\"green\",\"green\",\"green\",\"green\",\"green\",\"green\",\"green\",\"green\",\"green\",\"green\",\"green\",\"green\",\"green\",\"green\",\"green\",\"green\",\"green\",\"green\",\"green\",\"green\",\"green\",\"green\",\"green\",\"green\",\"green\",\"green\",\"green\",\"green\",\"green\",\"green\",\"green\",\"green\",\"green\",\"green\",\"green\",\"green\",\"green\",\"green\",\"green\",\"green\",\"green\",\"green\",\"green\",\"green\",\"green\",\"green\",\"green\",\"green\",\"green\",\"green\",\"green\",\"green\",\"green\",\"green\",\"green\",\"green\",\"green\",\"green\",\"green\",\"green\",\"green\",\"green\",\"green\",\"green\",\"green\",\"green\",\"green\",\"green\",\"green\",\"green\",\"green\",\"green\",\"green\",\"green\",\"green\",\"green\",\"green\",\"green\",\"green\",\"green\",\"green\",\"green\",\"green\",\"green\",\"green\",\"green\",\"green\",\"green\",\"green\",\"green\",\"green\",\"green\",\"green\",\"green\",\"green\",\"green\",\"green\",\"green\",\"green\",\"green\",\"green\",\"green\",\"green\",\"green\",\"green\",\"green\",\"green\",\"green\",\"green\",\"green\",\"green\",\"green\",\"green\",\"green\",\"green\",\"green\",\"green\",\"green\",\"green\",\"green\",\"green\",\"green\",\"green\",\"green\",\"green\",\"green\",\"green\",\"green\",\"green\",\"green\",\"green\",\"green\",\"green\",\"green\",\"green\",\"green\",\"green\",\"green\",\"green\",\"green\",\"green\",\"green\",\"green\",\"green\",\"green\",\"green\",\"green\",\"green\",\"green\",\"green\",\"green\",\"green\",\"green\",\"green\",\"green\",\"green\",\"green\",\"green\",\"green\",\"green\",\"green\",\"green\",\"green\",\"green\",\"green\",\"green\",\"green\",\"green\",\"green\",\"green\",\"green\",\"green\",\"green\",\"green\",\"green\",\"green\",\"green\",\"green\",\"green\",\"green\",\"green\",\"green\",\"green\",\"green\",\"green\",\"green\",\"green\",\"green\",\"green\",\"green\",\"green\",\"green\",\"green\",\"green\",\"green\",\"green\",\"green\",\"green\",\"green\",\"green\",\"green\",\"green\",\"green\",\"green\",\"green\",\"green\",\"green\",\"green\",\"green\",\"green\",\"green\",\"green\",\"green\",\"green\",\"green\",\"green\",\"green\",\"green\",\"green\",\"green\",\"green\",\"green\",\"green\",\"green\",\"green\",\"green\",\"green\",\"green\",\"green\",\"green\",\"green\",\"green\",\"green\",\"green\",\"green\",\"green\",\"green\",\"green\",\"green\",\"green\",\"green\",\"green\",\"green\",\"green\",\"green\",\"green\",\"green\",\"green\",\"green\",\"green\",\"green\",\"green\",\"green\",\"green\",\"green\",\"green\",\"green\",\"green\",\"green\",\"green\",\"green\",\"green\",\"green\",\"green\",\"green\",\"green\",\"green\",\"green\",\"green\",\"green\",\"green\",\"green\",\"green\",\"green\",\"green\",\"green\",\"green\",\"green\",\"green\",\"green\",\"green\",\"green\",\"green\",\"green\",\"green\",\"green\",\"green\",\"green\",\"green\",\"green\",\"green\",\"green\",\"green\",\"green\",\"green\",\"green\",\"green\",\"green\",\"green\",\"green\",\"green\",\"green\",\"green\",\"green\",\"green\",\"green\",\"green\",\"green\",\"green\",\"green\",\"green\",\"green\",\"green\",\"green\",\"green\",\"green\",\"green\",\"green\",\"green\",\"green\",\"green\",\"green\",\"green\",\"green\",\"green\",\"green\",\"green\",\"green\",\"green\"],\"token\":[\"<user>\",\".\",\":\",\"rt\",\",\",\"<repeat>\",\"<hashtag>\",\"<number>\",\"<url>\",\"!\",\"i\",\"a\",\"\\\"\",\"the\",\"?\",\"you\",\"to\",\"(\",\"<allcaps>\",\"<elong>\",\")\",\"me\",\"de\",\"<smile>\",\"\\uff01\",\"que\",\"and\",\"\\u3002\",\"-\",\"my\",\"no\",\"\\u3001\",\"is\",\"it\",\"\\u2026\",\"in\",\"n\",\"for\",\"/\",\"of\",\"la\",\"'s\",\"*\",\"do\",\"n't\",\"that\",\"on\",\"y\",\"'\",\"e\",\"o\",\"u\",\"en\",\"this\",\"el\",\"so\",\"be\",\"'m\",\"with\",\"just\",\">\",\"your\",\"^\",\"like\",\"have\",\"te\",\"at\",\"\\uff1f\",\"love\",\"se\",\"are\",\"<\",\"m\",\"r\",\"if\",\"all\",\"b\",\"\\u30fb\",\"not\",\"but\",\"we\",\"es\",\"ya\",\"&\",\"follow\",\"up\",\"what\",\"get\",\"lol\",\"un\",\"\\u2665\",\"lo\",\"when\",\"was\",\"\\u201c\",\"\\u201d\",\"one\",\"por\",\"si\",\"out\",\"_\",\"mi\",\"can\",\"<sadface>\",\"\\u0645\\u0646\",\"\\u2661\",\"\\u00b4\",\"he\",\"con\",\"they\",\"now\",\"go\",\"\\u060c\",\"para\",\"los\",\"know\",\"haha\",\"good\",\"tu\",\"back\",\"~\",\"about\",\"new\",\";\",\"as\",\"day\",\"how\",\"who\",\"will\",\"want\",\"people\",\"yo\",\"eu\",\"from\",\"di\",\"time\",\"<heart>\",\"s\",\"aku\",\"da\",\"'re\",\"<lolface>\",\"una\",\"got\",\"las\",\"more\",\"x\",\"she\",\"today\",\"\\uff08\",\">>\",\"k\",\"by\",\"or\",\"\\u0641\\u064a\",\"\\uff65\",\"too\",\"le\",\"\\u00e9\",\"|\",\"[\",\"\\uff09\",\"]\",\"see\",\"why\",\"yg\",\"ca\",\"como\",\"her\",\"\\u2014\",\"q\",\"need\",\"an\",\"na\",\"\\u7b11\",\"there\",\"\\u03c9\",\"happy\",\"im\",\"mas\",\"je\",\"life\",\"really\",\"make\",\"yang\",\"shit\",\"think\",\"t\",\"\\u2764\",\"n\\u00e3o\",\"never\",\"some\",\"\\uff5e\",\"oh\",\"\\u2605\",\"did\",\"would\",\"del\",\"`\",\"d\",\"please\",\"via\",\"much\",\"fuck\",\"al\",\"dia\",\"$\",\"\\u0648\",\"right\",\"best\",\"c\",\"going\",\"\\u0627\\u0644\\u0644\\u0647\",\"pero\",\"only\",\"has\",\"\\u266a\",\"'ll\",\"twitter\",\"=\",\"hahaha\",\"its\",\"nn\",\"\\uff40\",\"\\u00bf\",\"am\",\"say\",\"<neutralface>\",\"them\",\"here\",\"\\u0644\\u0627\",\"off\",\"still\",\"dan\",\"+\",\"night\",\"w\",\"ada\",\"someone\",\"even\",\"then\",\"\\u2606\",\"ni\",\"come\",\"com\",\"always\",\"man\",\"'ve\",\"been\",\"his\",\"itu\",\"\\u0639\\u0644\\u0649\",\"-_-\",\"\\u263a\",\"over\",\"um\",\"\\u0645\\u0627\",\"hate\",\"girl\",\"ai\",\"had\",\"pra\",\"todo\",\"mais\",\"feel\",\"let\",\"ini\",\"because\",\"\\uff9f\",\"thanks\",\"ah\",\"way\",\"ever\",\"look\",\"tweet\",\"followers\",\"should\",\"our\",\"xd\",\"aja\",\"esta\",\"school\",\"him\",\"ser\",\"take\",\"than\",\"video\",\"em\",\"last\",\"wanna\",\"does\",\"us\",\"miss\",\"l\",\"ga\",\"better\",\"well\",\"could\",\"\\u25bd\",\"%\",\"apa\",\"cuando\",\"team\",\"\\u2714\",\"@\",\"ok\",\"\\u061f\",\"\\u2022\",\"vida\",\"quiero\",\"les\",\"being\",\"real\",\"down\",\"kamu\",\"everyone\",\"gonna\",\"live\",\"tonight\",\"yes\",\"work\",\"ass\",\"retweet\",\"nada\",\"sama\",\"first\",\"<<\",\"photo\",\"tomorrow\",\"where\",\"god\",\"son\",\"ke\",\"ta\",\"f\",\"home\",\"lagi\",\"thank\",\"birthday\",\"\\u2588\",\"ha\",\"great\",\"lmao\",\"omg\",\"morning\",\"m\\u00e1s\",\"mau\",\"baby\",\"dont\",\"\\uff61\",\"their\",\"p\",\"things\",\"game\",\"pas\",\"bad\",\"year\",\"yeah\",\"su\",\"bitch\",\"\\u0432\",\"stop\",\"hoy\",\"something\",\"meu\",\"tak\",\"gak\",\"world\",\"amor\",\"h\",\"\\\\\",\"ver\",\"\\uff1b\",\"porque\",\"give\",\"these\",\"\\u0627\\u0644\\u0644\\u0647\\u0645\",\"were\",\"hay\",\"sleep\",\"gue\",\"every\",\"friends\",\"uma\",\"tell\",\"amo\",\"vou\",\"bien\",\"\\u00a1\",\"again\",\"\\uff3e\",\"\\uff0f\",\"done\",\"after\",\"todos\",\"girls\",\"guys\",\"getting\",\"big\",\"wait\",\"justin\",\"eh\",\"\\u2192\",\"kan\",\"kita\",\"jajaja\",\"wish\",\"said\",\"fucking\",\"show\",\"thing\",\"next\",\"voc\\u00ea\",\"nos\",\"little\",\"tengo\",\"keep\",\"person\",\"''\",\"\\u2200\",\"hope\",\"\\u0643\\u0644\",\"hey\",\"bisa\",\"free\",\"made\",\"foto\",\"va\",\"everything\",\"iya\",\"nigga\",\"eso\",\"et\",\"watch\",\"music\",\"week\",\"talk\",\"ne\",\"solo\",\"gente\",\"udah\",\"\\uff1a\",\"--\",\"\\uff3c\",\"mejor\",\"facebook\",\"ma\",\"v\",\"phone\",\"most\",\"same\",\"okay\",\"ik\",\"before\",\"minha\",\"days\",\"g\",\"ti\",\"damn\",\"nice\",\"voy\",\"vai\",\"call\",\"long\",\"tapi\",\"http\",\"sin\",\"nunca\",\"doing\",\"other\",\"find\",\"il\",\"sa\",\"sorry\",\"nya\",\"orang\",\"\\u00b0\",\"hard\",\"mean\",\"die\",\"\\u0627\\u0644\\u0644\\u064a\",\"tem\",\"soy\",\"este\",\"kalo\",\"s\\u00f3\",\"th\",\"win\",\"nothing\",\"into\",\"face\",\"cute\",\"'d\",\"gracias\",\"lah\",\"\\u0438\",\"any\",\"play\",\"\\u2190\",\"ko\",\"text\",\"\\u2323\",\"estoy\",\"tau\",\"ur\",\"buat\",\"#\",\"cause\",\"\\u044f\",\"put\",\"kau\",\"siempre\",\"juga\",\"casa\",\"\\u0623\\u0646\",\"help\",\"start\",\"feliz\",\"old\",\"ir\",\"very\",\"care\",\"bir\",\"makes\",\"song\",\"check\",\"watching\",\"ahora\",\"jadi\",\"os\",\"may\",\"friend\",\"beautiful\",\"heart\",\"ka\",\"vc\",\"mundo\",\"\\u043d\\u0430\",\"sure\",\"tan\",\"pretty\",\"aqui\",\"\\u043d\\u0435\",\"house\",\"\\u0631\\u062a\\u0648\\u064a\\u062a\",\"\\u064a\\u0627\",\"ja\",\"true\",\"muy\",\"away\",\"already\",\"actually\",\"believe\",\"try\",\"many\",\"ma\\u00f1ana\",\"mis\",\"lu\",\"those\",\"hot\",\"qu\\u00e9\",\"mal\",\"\\u0639\\u0646\",\"though\",\"ask\",\"amazing\",\"bed\",\"}\",\"two\",\"mom\",\"d\\u00eda\",\"ve\",\"dari\",\"gameinsight\",\"stay\",\"fun\",\"around\",\"van\",\"cont\",\"ready\",\"money\",\"bu\",\"funny\",\"cool\",\"hair\",\"\\u00e0\",\"tho\",\"{\",\"wo\",\"hi\",\"name\",\"tiene\",\"hahahaha\",\"pa\",\"algo\",\"gotta\",\"\\u0648\\u0644\\u0627\",\"boy\",\"another\",\"c'est\",\"hari\",\"jajajaja\",\"having\",\"cara\",\"jaja\",\"dm\",\"looking\",\"top\",\"android\",\"dah\",\"wow\",\"\\u2591\",\"eres\",\"ben\",\"must\",\"news\",\"met\",\"est\\u00e1\",\"nih\",\"family\",\"black\",\"thought\",\"nak\",\"super\",\"end\",\"hace\",\"remember\",\"ama\",\"party\",\"cant\",\"vamos\",\"anything\",\"anyone\",\"\\u0641\\u0648\\u0644\\u0648\",\"perfect\",\"guy\",\"vez\",\"christmas\",\"dos\",\"bueno\",\"nao\",\"years\",\"vote\",\"dormir\",\"bro\",\"else\",\"quien\",\"untuk\",\"jangan\",\"myself\",\"head\",\"mind\",\"gua\",\"talking\",\"while\",\"dat\",\"food\",\"\\u0434\",\"coming\",\"wkwk\",\"trying\",\"saya\",\"mucho\",\"without\",\"wrong\",\"\\u2019s\",\"baru\",\"__\",\"hehe\",\"hacer\",\"lot\",\"followed\",\"crazy\",\"hell\",\"feeling\",\"des\",\"kok\",\"j\",\"stats\",\"j'\",\"\\u0627\\u0646\",\"tweets\",\"non\",\"cosas\",\"era\",\"high\",\"niggas\",\"change\",\"movie\",\"xx\",\"mad\",\"sih\",\"sometimes\",\"deh\",\"allah\",\"through\",\"pour\",\"ela\",\"soon\",\"gone\",\"playing\",\"smile\",\"bukan\",\"tv\",\"fans\",\"hasta\",\"akan\",\"y'\",\"looks\",\"isso\",\"\\u270c\",\"tired\",\"boys\",\"might\",\"dong\",\"lg\",\"use\",\"maybe\",\"until\",\"menos\",\"own\",\"dengan\",\"eat\",\"ou\",\"weekend\",\"\\u02d8\",\"class\",\"ele\",\"harry\",\"iphone\",\"friday\",\"single\",\"ff\",\"awesome\",\"bout\",\"muito\",\"hoje\",\"\\u00ac\",\"dios\",\"such\",\"estar\",\"j\\u00e1\",\"quando\",\"esa\",\"making\",\"\\u2501\",\"times\",\"lmfao\",\"gw\",\"moment\",\"yet\",\"aw\",\"smh\",\"banget\",\"masih\",\"qui\",\"quem\",\"\\u2013\",\"leave\",\"du\",\"une\",\"guess\",\"hit\",\"\\u0441\",\"pm\",\"since\",\"pues\",\"est\",\"job\",\"\\uff89\",\"mana\",\"bom\",\"siapa\",\"suka\",\"bieber\",\"mention\",\"lebih\",\"favorite\",\"bitches\",\"forever\",\"\\u0644\\u064a\",\"final\",\"read\",\"alguien\",\"open\",\"yourself\",\"ese\",\"che\",\"sex\",\"yaa\",\"car\",\"direction\",\"tidak\",\"seu\",\"gets\",\"left\",\"re\",\"jam\",\"enough\",\"\\u0625\\u0644\\u0627\",\"once\",\"\\u2019\",\"part\",\"cada\",\"\\u5b9a\\u671f\",\"\\u0644\\u0643\",\"een\",\"seen\",\"kak\",\"as\\u00ed\",\"nem\",\"\\u0639\\u0645\\u0644\",\"white\",\"told\",\"says\",\"esto\",\"sad\",\"mo\",\"fue\",\"yah\",\"summer\",\"\\u0647\",\"\\u2b55\",\"\\u00bb\",\"thats\",\"\\u0645\\u0639\",\"posted\",\"wants\",\"agora\",\"together\",\"fan\",\"men\",\"hear\",\"full\",\"\\u2600\",\"sigo\",\"pq\",\"dulu\",\"plus\",\"foi\",\"tudo\",\"\\u0647\\u0648\",\"ill\",\"\\u3042\",\"thinking\",\"wtf\",\"pagi\",\"mama\",\"kalau\",\"hati\",\"sexy\",\"sayang\",\"baik\",\"semua\",\"hola\",\"went\",\"vos\",\"tanto\",\"finally\",\"fb\",\"sea\",\"stupid\",\"tus\",\"seriously\",\"hora\",\"min\",\"pic\",\"estas\",\"turn\",\"hours\",\"excited\",\"nah\",\"buy\",\"saying\",\"mah\",\"break\",\"needs\",\"ce\",\"room\",\"choice\",\"far\",\"dead\",\"quero\",\"saw\",\"kids\",\"lil\",\"whole\",\"puede\",\"fall\",\"sus\",\"lost\",\"asi\",\"word\",\"\\u2639\",\"also\",\"\\u0631\\u064a\\u062a\\u0648\\u064a\\u062a\",\"probably\",\"everybody\",\"tarde\",\"run\",\"sei\",\"follback\",\"forget\",\"sweet\",\"welcome\",\"selamat\",\"\\uff3f\",\"sur\",\"place\",\"gusta\",\"sabe\",\"androidgames\",\"tp\",\"tiempo\",\"\\u0628\\u0633\",\"sou\",\"tuh\",\"vs\",\"eyes\",\"\\u0627\\u0646\\u0627\",\"picture\",\"das\",\"meet\",\"anak\",\"persona\",\"essa\",\"bored\",\"following\",\"nadie\",\"nobody\",\"dice\",\"alone\",\"sick\",\"red\",\"city\",\"cinta\",\"\\u6708\",\"linda\",\"dream\",\"story\",\"km\",\"het\",\"waiting\",\"^_^\",\"mine\",\"\\u0447\\u0442\\u043e\",\"reason\",\"kk\",\"\\u0644\\u0648\",\"online\",\"fast\",\"udh\",\"wanted\",\"op\",\"others\",\"gay\",\"n\\u2019t\",\"used\",\"sem\",\"understand\",\"moi\",\"sm\",\"aint\",\"donde\",\"bem\",\"which\",\"ng\",\"followback\",\"punya\",\"late\",\"anda\",\"tidur\",\"puedo\",\"early\",\"nd\",\"personas\",\"banyak\",\"\\u2705\",\"\\u278a\",\"trust\",\"noche\",\"tl\",\"\\uff1e\",\"\\u00ab\",\"af\",\"move\",\"pro\",\"bring\",\"ku\",\"called\",\"relationship\",\"idk\",\"hurt\",\"st\",\"pernah\",\"pessoas\",\"hello\",\"uno\",\"unfollowers\",\"cry\"],\"x\":{\"__ndarray__\":\"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\",\"dtype\":\"float32\",\"shape\":[1000]},\"y\":{\"__ndarray__\":\"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\",\"dtype\":\"float32\",\"shape\":[1000]}}},\"id\":\"7f2a7b0a-22e7-4d4c-b17b-d454d7b7853c\",\"type\":\"ColumnDataSource\"},{\"attributes\":{},\"id\":\"338ecd3a-8195-417b-9de8-fd4ca351d68e\",\"type\":\"BasicTicker\"},{\"attributes\":{\"active_drag\":\"auto\",\"active_inspect\":\"auto\",\"active_scroll\":{\"id\":\"aa42e36d-c918-46f9-9cbc-c50bee180c25\",\"type\":\"WheelZoomTool\"},\"active_tap\":\"auto\",\"tools\":[{\"id\":\"ccf98d58-c29e-4776-9110-a6daaa9873cf\",\"type\":\"PanTool\"},{\"id\":\"aa42e36d-c918-46f9-9cbc-c50bee180c25\",\"type\":\"WheelZoomTool\"},{\"id\":\"8885d1a7-69e1-4ef7-a648-f0e43a8330fa\",\"type\":\"BoxZoomTool\"},{\"id\":\"d5ffdae2-763b-473e-97ef-12a2d0ffae19\",\"type\":\"SaveTool\"},{\"id\":\"50dfa404-4aee-4cba-aabe-84faaa74905d\",\"type\":\"ResetTool\"},{\"id\":\"0298e451-54f8-42d2-a506-8a4817a8d34e\",\"type\":\"HelpTool\"},{\"id\":\"8e78c3e6-d77d-409e-a8b2-caead37aa1ee\",\"type\":\"HoverTool\"}]},\"id\":\"96602e95-f640-423c-b7c6-7ac72bb7087d\",\"type\":\"Toolbar\"}],\"root_ids\":[\"1c84a0a5-e84a-4476-af5b-7fb1432eefe1\"]},\"title\":\"Bokeh Application\",\"version\":\"0.12.10\"}};\n",
       "    var render_items = [{\"docid\":\"70d6bd31-8f3b-4596-92ca-461506e72f3d\",\"elementid\":\"a7e91ac1-5321-41f5-bca3-f318654ac606\",\"modelid\":\"1c84a0a5-e84a-4476-af5b-7fb1432eefe1\"}];\n",
       "\n",
       "    root.Bokeh.embed.embed_items(docs_json, render_items);\n",
       "  }\n",
       "\n",
       "  if (root.Bokeh !== undefined) {\n",
       "    embed_document(root);\n",
       "  } else {\n",
       "    var attempts = 0;\n",
       "    var timer = setInterval(function(root) {\n",
       "      if (root.Bokeh !== undefined) {\n",
       "        embed_document(root);\n",
       "        clearInterval(timer);\n",
       "      }\n",
       "      attempts++;\n",
       "      if (attempts > 100) {\n",
       "        console.log(\"Bokeh: ERROR: Unable to embed document because BokehJS library is missing\")\n",
       "        clearInterval(timer);\n",
       "      }\n",
       "    }, 10, root)\n",
       "  }\n",
       "})(window);"
      ],
      "application/vnd.bokehjs_exec.v0+json": ""
     },
     "metadata": {
      "application/vnd.bokehjs_exec.v0+json": {
       "id": "1c84a0a5-e84a-4476-af5b-7fb1432eefe1"
      }
     },
     "output_type": "display_data"
    },
    {
     "data": {
      "text/html": [
       "<div style=\"display: table;\"><div style=\"display: table-row;\"><div style=\"display: table-cell;\"><b title=\"bokeh.plotting.figure.Figure\">Figure</b>(</div><div style=\"display: table-cell;\">id&nbsp;=&nbsp;'1c84a0a5-e84a-4476-af5b-7fb1432eefe1', <span id=\"88e3ec3c-8124-4f6a-ac74-65297abfddf3\" style=\"cursor: pointer;\">&hellip;)</span></div></div><div class=\"1196bfa4-8908-4a36-a961-eab4fabd2083\" style=\"display: none;\"><div style=\"display: table-cell;\"></div><div style=\"display: table-cell;\">above&nbsp;=&nbsp;[],</div></div><div class=\"1196bfa4-8908-4a36-a961-eab4fabd2083\" style=\"display: none;\"><div style=\"display: table-cell;\"></div><div style=\"display: table-cell;\">aspect_scale&nbsp;=&nbsp;1,</div></div><div class=\"1196bfa4-8908-4a36-a961-eab4fabd2083\" style=\"display: none;\"><div style=\"display: table-cell;\"></div><div style=\"display: table-cell;\">background_fill_alpha&nbsp;=&nbsp;{'value': 1.0},</div></div><div class=\"1196bfa4-8908-4a36-a961-eab4fabd2083\" style=\"display: none;\"><div style=\"display: table-cell;\"></div><div style=\"display: table-cell;\">background_fill_color&nbsp;=&nbsp;{'value': '#ffffff'},</div></div><div class=\"1196bfa4-8908-4a36-a961-eab4fabd2083\" style=\"display: none;\"><div style=\"display: table-cell;\"></div><div style=\"display: table-cell;\">below&nbsp;=&nbsp;[LinearAxis(id='94f6fcae-a217-4627-8601-cb2e61558ec4', ...)],</div></div><div class=\"1196bfa4-8908-4a36-a961-eab4fabd2083\" style=\"display: none;\"><div style=\"display: table-cell;\"></div><div style=\"display: table-cell;\">border_fill_alpha&nbsp;=&nbsp;{'value': 1.0},</div></div><div class=\"1196bfa4-8908-4a36-a961-eab4fabd2083\" style=\"display: none;\"><div style=\"display: table-cell;\"></div><div style=\"display: table-cell;\">border_fill_color&nbsp;=&nbsp;{'value': '#ffffff'},</div></div><div class=\"1196bfa4-8908-4a36-a961-eab4fabd2083\" style=\"display: none;\"><div style=\"display: table-cell;\"></div><div style=\"display: table-cell;\">css_classes&nbsp;=&nbsp;None,</div></div><div class=\"1196bfa4-8908-4a36-a961-eab4fabd2083\" style=\"display: none;\"><div style=\"display: table-cell;\"></div><div style=\"display: table-cell;\">disabled&nbsp;=&nbsp;False,</div></div><div class=\"1196bfa4-8908-4a36-a961-eab4fabd2083\" style=\"display: none;\"><div style=\"display: table-cell;\"></div><div style=\"display: table-cell;\">extra_x_ranges&nbsp;=&nbsp;{},</div></div><div class=\"1196bfa4-8908-4a36-a961-eab4fabd2083\" style=\"display: none;\"><div style=\"display: table-cell;\"></div><div style=\"display: table-cell;\">extra_y_ranges&nbsp;=&nbsp;{},</div></div><div class=\"1196bfa4-8908-4a36-a961-eab4fabd2083\" style=\"display: none;\"><div style=\"display: table-cell;\"></div><div style=\"display: table-cell;\">h_symmetry&nbsp;=&nbsp;True,</div></div><div class=\"1196bfa4-8908-4a36-a961-eab4fabd2083\" style=\"display: none;\"><div style=\"display: table-cell;\"></div><div style=\"display: table-cell;\">height&nbsp;=&nbsp;None,</div></div><div class=\"1196bfa4-8908-4a36-a961-eab4fabd2083\" style=\"display: none;\"><div style=\"display: table-cell;\"></div><div style=\"display: table-cell;\">hidpi&nbsp;=&nbsp;True,</div></div><div class=\"1196bfa4-8908-4a36-a961-eab4fabd2083\" style=\"display: none;\"><div style=\"display: table-cell;\"></div><div style=\"display: table-cell;\">js_event_callbacks&nbsp;=&nbsp;{},</div></div><div class=\"1196bfa4-8908-4a36-a961-eab4fabd2083\" style=\"display: none;\"><div style=\"display: table-cell;\"></div><div style=\"display: table-cell;\">js_property_callbacks&nbsp;=&nbsp;{},</div></div><div class=\"1196bfa4-8908-4a36-a961-eab4fabd2083\" style=\"display: none;\"><div style=\"display: table-cell;\"></div><div style=\"display: table-cell;\">left&nbsp;=&nbsp;[LinearAxis(id='e64df2d3-ca85-4421-898f-c080e6bb42cf', ...)],</div></div><div class=\"1196bfa4-8908-4a36-a961-eab4fabd2083\" style=\"display: none;\"><div style=\"display: table-cell;\"></div><div style=\"display: table-cell;\">lod_factor&nbsp;=&nbsp;10,</div></div><div class=\"1196bfa4-8908-4a36-a961-eab4fabd2083\" style=\"display: none;\"><div style=\"display: table-cell;\"></div><div style=\"display: table-cell;\">lod_interval&nbsp;=&nbsp;300,</div></div><div class=\"1196bfa4-8908-4a36-a961-eab4fabd2083\" style=\"display: none;\"><div style=\"display: table-cell;\"></div><div style=\"display: table-cell;\">lod_threshold&nbsp;=&nbsp;2000,</div></div><div class=\"1196bfa4-8908-4a36-a961-eab4fabd2083\" style=\"display: none;\"><div style=\"display: table-cell;\"></div><div style=\"display: table-cell;\">lod_timeout&nbsp;=&nbsp;500,</div></div><div class=\"1196bfa4-8908-4a36-a961-eab4fabd2083\" style=\"display: none;\"><div style=\"display: table-cell;\"></div><div style=\"display: table-cell;\">match_aspect&nbsp;=&nbsp;False,</div></div><div class=\"1196bfa4-8908-4a36-a961-eab4fabd2083\" style=\"display: none;\"><div style=\"display: table-cell;\"></div><div style=\"display: table-cell;\">min_border&nbsp;=&nbsp;5,</div></div><div class=\"1196bfa4-8908-4a36-a961-eab4fabd2083\" style=\"display: none;\"><div style=\"display: table-cell;\"></div><div style=\"display: table-cell;\">min_border_bottom&nbsp;=&nbsp;None,</div></div><div class=\"1196bfa4-8908-4a36-a961-eab4fabd2083\" style=\"display: none;\"><div style=\"display: table-cell;\"></div><div style=\"display: table-cell;\">min_border_left&nbsp;=&nbsp;None,</div></div><div class=\"1196bfa4-8908-4a36-a961-eab4fabd2083\" style=\"display: none;\"><div style=\"display: table-cell;\"></div><div style=\"display: table-cell;\">min_border_right&nbsp;=&nbsp;None,</div></div><div class=\"1196bfa4-8908-4a36-a961-eab4fabd2083\" style=\"display: none;\"><div style=\"display: table-cell;\"></div><div style=\"display: table-cell;\">min_border_top&nbsp;=&nbsp;None,</div></div><div class=\"1196bfa4-8908-4a36-a961-eab4fabd2083\" style=\"display: none;\"><div style=\"display: table-cell;\"></div><div style=\"display: table-cell;\">name&nbsp;=&nbsp;None,</div></div><div class=\"1196bfa4-8908-4a36-a961-eab4fabd2083\" style=\"display: none;\"><div style=\"display: table-cell;\"></div><div style=\"display: table-cell;\">outline_line_alpha&nbsp;=&nbsp;{'value': 1.0},</div></div><div class=\"1196bfa4-8908-4a36-a961-eab4fabd2083\" style=\"display: none;\"><div style=\"display: table-cell;\"></div><div style=\"display: table-cell;\">outline_line_cap&nbsp;=&nbsp;'butt',</div></div><div class=\"1196bfa4-8908-4a36-a961-eab4fabd2083\" style=\"display: none;\"><div style=\"display: table-cell;\"></div><div style=\"display: table-cell;\">outline_line_color&nbsp;=&nbsp;{'value': '#e5e5e5'},</div></div><div class=\"1196bfa4-8908-4a36-a961-eab4fabd2083\" style=\"display: none;\"><div style=\"display: table-cell;\"></div><div style=\"display: table-cell;\">outline_line_dash&nbsp;=&nbsp;[],</div></div><div class=\"1196bfa4-8908-4a36-a961-eab4fabd2083\" style=\"display: none;\"><div style=\"display: table-cell;\"></div><div style=\"display: table-cell;\">outline_line_dash_offset&nbsp;=&nbsp;0,</div></div><div class=\"1196bfa4-8908-4a36-a961-eab4fabd2083\" style=\"display: none;\"><div style=\"display: table-cell;\"></div><div style=\"display: table-cell;\">outline_line_join&nbsp;=&nbsp;'miter',</div></div><div class=\"1196bfa4-8908-4a36-a961-eab4fabd2083\" style=\"display: none;\"><div style=\"display: table-cell;\"></div><div style=\"display: table-cell;\">outline_line_width&nbsp;=&nbsp;{'value': 1},</div></div><div class=\"1196bfa4-8908-4a36-a961-eab4fabd2083\" style=\"display: none;\"><div style=\"display: table-cell;\"></div><div style=\"display: table-cell;\">output_backend&nbsp;=&nbsp;'canvas',</div></div><div class=\"1196bfa4-8908-4a36-a961-eab4fabd2083\" style=\"display: none;\"><div style=\"display: table-cell;\"></div><div style=\"display: table-cell;\">plot_height&nbsp;=&nbsp;400,</div></div><div class=\"1196bfa4-8908-4a36-a961-eab4fabd2083\" style=\"display: none;\"><div style=\"display: table-cell;\"></div><div style=\"display: table-cell;\">plot_width&nbsp;=&nbsp;600,</div></div><div class=\"1196bfa4-8908-4a36-a961-eab4fabd2083\" style=\"display: none;\"><div style=\"display: table-cell;\"></div><div style=\"display: table-cell;\">renderers&nbsp;=&nbsp;[LinearAxis(id='94f6fcae-a217-4627-8601-cb2e61558ec4', ...), Grid(id='614fa600-f17d-40fc-9eb3-e125b7f61865', ...), LinearAxis(id='e64df2d3-ca85-4421-898f-c080e6bb42cf', ...), Grid(id='a9b3e3f9-5255-48e8-afc9-50399cc4a17e', ...), BoxAnnotation(id='180eabe2-58cf-47c4-b7b4-e57d5d6ad5a1', ...), GlyphRenderer(id='5baa4081-2933-435c-835b-d983f489c93c', ...)],</div></div><div class=\"1196bfa4-8908-4a36-a961-eab4fabd2083\" style=\"display: none;\"><div style=\"display: table-cell;\"></div><div style=\"display: table-cell;\">right&nbsp;=&nbsp;[],</div></div><div class=\"1196bfa4-8908-4a36-a961-eab4fabd2083\" style=\"display: none;\"><div style=\"display: table-cell;\"></div><div style=\"display: table-cell;\">sizing_mode&nbsp;=&nbsp;'fixed',</div></div><div class=\"1196bfa4-8908-4a36-a961-eab4fabd2083\" style=\"display: none;\"><div style=\"display: table-cell;\"></div><div style=\"display: table-cell;\">subscribed_events&nbsp;=&nbsp;[],</div></div><div class=\"1196bfa4-8908-4a36-a961-eab4fabd2083\" style=\"display: none;\"><div style=\"display: table-cell;\"></div><div style=\"display: table-cell;\">tags&nbsp;=&nbsp;[],</div></div><div class=\"1196bfa4-8908-4a36-a961-eab4fabd2083\" style=\"display: none;\"><div style=\"display: table-cell;\"></div><div style=\"display: table-cell;\">title&nbsp;=&nbsp;Title(id='d895a350-44a6-408b-a40c-16e712652b59', ...),</div></div><div class=\"1196bfa4-8908-4a36-a961-eab4fabd2083\" style=\"display: none;\"><div style=\"display: table-cell;\"></div><div style=\"display: table-cell;\">title_location&nbsp;=&nbsp;'above',</div></div><div class=\"1196bfa4-8908-4a36-a961-eab4fabd2083\" style=\"display: none;\"><div style=\"display: table-cell;\"></div><div style=\"display: table-cell;\">toolbar&nbsp;=&nbsp;Toolbar(id='96602e95-f640-423c-b7c6-7ac72bb7087d', ...),</div></div><div class=\"1196bfa4-8908-4a36-a961-eab4fabd2083\" style=\"display: none;\"><div style=\"display: table-cell;\"></div><div style=\"display: table-cell;\">toolbar_location&nbsp;=&nbsp;'right',</div></div><div class=\"1196bfa4-8908-4a36-a961-eab4fabd2083\" style=\"display: none;\"><div style=\"display: table-cell;\"></div><div style=\"display: table-cell;\">toolbar_sticky&nbsp;=&nbsp;True,</div></div><div class=\"1196bfa4-8908-4a36-a961-eab4fabd2083\" style=\"display: none;\"><div style=\"display: table-cell;\"></div><div style=\"display: table-cell;\">v_symmetry&nbsp;=&nbsp;False,</div></div><div class=\"1196bfa4-8908-4a36-a961-eab4fabd2083\" style=\"display: none;\"><div style=\"display: table-cell;\"></div><div style=\"display: table-cell;\">width&nbsp;=&nbsp;None,</div></div><div class=\"1196bfa4-8908-4a36-a961-eab4fabd2083\" style=\"display: none;\"><div style=\"display: table-cell;\"></div><div style=\"display: table-cell;\">x_range&nbsp;=&nbsp;DataRange1d(id='ff165602-b278-47fc-baaa-d4ad72cb4077', ...),</div></div><div class=\"1196bfa4-8908-4a36-a961-eab4fabd2083\" style=\"display: none;\"><div style=\"display: table-cell;\"></div><div style=\"display: table-cell;\">x_scale&nbsp;=&nbsp;LinearScale(id='c019544a-4a50-4b0a-bc00-33596ed3b81a', ...),</div></div><div class=\"1196bfa4-8908-4a36-a961-eab4fabd2083\" style=\"display: none;\"><div style=\"display: table-cell;\"></div><div style=\"display: table-cell;\">y_range&nbsp;=&nbsp;DataRange1d(id='fdd7ac55-87f4-4dec-b222-82552d578c3e', ...),</div></div><div class=\"1196bfa4-8908-4a36-a961-eab4fabd2083\" style=\"display: none;\"><div style=\"display: table-cell;\"></div><div style=\"display: table-cell;\">y_scale&nbsp;=&nbsp;LinearScale(id='75887440-0372-4166-9dfc-b3d123f8bc7d', ...))</div></div></div>\n",
       "<script>\n",
       "(function() {\n",
       "  var expanded = false;\n",
       "  var ellipsis = document.getElementById(\"88e3ec3c-8124-4f6a-ac74-65297abfddf3\");\n",
       "  ellipsis.addEventListener(\"click\", function() {\n",
       "    var rows = document.getElementsByClassName(\"1196bfa4-8908-4a36-a961-eab4fabd2083\");\n",
       "    for (var i = 0; i < rows.length; i++) {\n",
       "      var el = rows[i];\n",
       "      el.style.display = expanded ? \"none\" : \"table-row\";\n",
       "    }\n",
       "    ellipsis.innerHTML = expanded ? \"&hellip;)\" : \"&lsaquo;&lsaquo;&lsaquo;\";\n",
       "    expanded = !expanded;\n",
       "  });\n",
       "})();\n",
       "</script>\n"
      ],
      "text/plain": [
       "Figure(id='1c84a0a5-e84a-4476-af5b-7fb1432eefe1', ...)"
      ]
     },
     "execution_count": 35,
     "metadata": {},
     "output_type": "execute_result"
    }
   ],
   "source": [
    "draw_vectors(word_tsne[:, 0], word_tsne[:, 1], color='green', token=words)"
   ]
  },
  {
   "cell_type": "markdown",
   "metadata": {},
   "source": [
    "### Visualizing phrases\n",
    "\n",
    "Word embeddings can also be used to represent short phrases. The simplest way is to take __an average__ of vectors for all tokens in the phrase with some weights.\n",
    "\n",
    "This trick is useful to identify what data are you working with: find if there are any outliers, clusters or other artefacts.\n",
    "\n",
    "Let's try this new hammer on our data!\n"
   ]
  },
  {
   "cell_type": "code",
   "execution_count": 38,
   "metadata": {
    "collapsed": true
   },
   "outputs": [],
   "source": [
    "def get_phrase_embedding(phrase):\n",
    "    \"\"\"\n",
    "    Convert phrase to a vector by aggregating it's word embeddings. See description above.\n",
    "    \"\"\"\n",
    "    # 1. lowercase phrase\n",
    "    # 2. tokenize phrase\n",
    "    # 3. average word vectors for all words in tokenized phrase\n",
    "    # skip words that are not in model's vocabulary\n",
    "    # if all words are missing from vocabulary, return zeros\n",
    "    \n",
    "    vector = np.zeros([model.vector_size], dtype='float32')\n",
    "    vector_count = 0\n",
    "    for token in tokenizer.tokenize(phrase.lower()):\n",
    "        if token in model.vocab:\n",
    "            vector += model.get_vector(token)\n",
    "            vector_count += 1\n",
    "    if vector_count:\n",
    "        vector = vector / vector_count\n",
    "    return vector"
   ]
  },
  {
   "cell_type": "code",
   "execution_count": 39,
   "metadata": {
    "collapsed": true
   },
   "outputs": [],
   "source": [
    "vector = get_phrase_embedding(\"I'm very sure. This never happened to me before...\")\n",
    "\n",
    "assert np.allclose(vector[::10],\n",
    "                   np.array([ 0.31807372, -0.02558171,  0.0933293 , -0.1002182 , -1.0278689 ,\n",
    "                             -0.16621883,  0.05083408,  0.17989802,  1.3701859 ,  0.08655966],\n",
    "                              dtype=np.float32))"
   ]
  },
  {
   "cell_type": "code",
   "execution_count": 42,
   "metadata": {
    "collapsed": true
   },
   "outputs": [],
   "source": [
    "# let's only consider ~5k phrases for a first run.\n",
    "chosen_phrases = data[::len(data) // 1000]\n",
    "\n",
    "# compute vectors for chosen phrases\n",
    "phrase_vectors = np.array([get_phrase_embedding(phrase) for phrase in chosen_phrases])"
   ]
  },
  {
   "cell_type": "code",
   "execution_count": 43,
   "metadata": {
    "collapsed": true
   },
   "outputs": [],
   "source": [
    "assert isinstance(phrase_vectors, np.ndarray) and np.isfinite(phrase_vectors).all()\n",
    "assert phrase_vectors.shape == (len(chosen_phrases), model.vector_size)"
   ]
  },
  {
   "cell_type": "code",
   "execution_count": 44,
   "metadata": {},
   "outputs": [
    {
     "name": "stdout",
     "output_type": "stream",
     "text": [
      "[t-SNE] Computing 91 nearest neighbors...\n",
      "[t-SNE] Indexed 1001 samples in 0.002s...\n",
      "[t-SNE] Computed neighbors for 1001 samples in 0.169s...\n",
      "[t-SNE] Computed conditional probabilities for sample 1000 / 1001\n",
      "[t-SNE] Computed conditional probabilities for sample 1001 / 1001\n",
      "[t-SNE] Mean sigma: 0.477874\n",
      "[t-SNE] Computed conditional probabilities in 0.032s\n",
      "[t-SNE] Iteration 50: error = 79.8647537, gradient norm = 0.3124800 (50 iterations in 4.666s)\n",
      "[t-SNE] Iteration 100: error = 80.4321899, gradient norm = 0.3159084 (50 iterations in 4.862s)\n",
      "[t-SNE] Iteration 150: error = 79.8531723, gradient norm = 0.3076565 (50 iterations in 4.954s)\n",
      "[t-SNE] Iteration 200: error = 81.3570328, gradient norm = 0.3026519 (50 iterations in 4.931s)\n",
      "[t-SNE] Iteration 250: error = 81.3081207, gradient norm = 0.2982652 (50 iterations in 4.841s)\n",
      "[t-SNE] KL divergence after 250 iterations with early exaggeration: 81.308121\n",
      "[t-SNE] Iteration 300: error = 2.2080016, gradient norm = 0.0037695 (50 iterations in 3.747s)\n",
      "[t-SNE] Iteration 350: error = 2.0429065, gradient norm = 0.0011269 (50 iterations in 3.035s)\n",
      "[t-SNE] Iteration 400: error = 1.9771621, gradient norm = 0.0008120 (50 iterations in 2.927s)\n",
      "[t-SNE] Iteration 450: error = 1.9370934, gradient norm = 0.0005319 (50 iterations in 2.987s)\n",
      "[t-SNE] Iteration 500: error = 1.9207864, gradient norm = 0.0002821 (50 iterations in 2.912s)\n",
      "[t-SNE] Iteration 550: error = 1.9084878, gradient norm = 0.0002752 (50 iterations in 2.806s)\n",
      "[t-SNE] Iteration 600: error = 1.8962374, gradient norm = 0.0002221 (50 iterations in 2.930s)\n",
      "[t-SNE] Iteration 650: error = 1.8896658, gradient norm = 0.0003219 (50 iterations in 2.889s)\n",
      "[t-SNE] Iteration 700: error = 1.8790876, gradient norm = 0.0002208 (50 iterations in 2.896s)\n",
      "[t-SNE] Iteration 750: error = 1.8729515, gradient norm = 0.0001606 (50 iterations in 2.858s)\n",
      "[t-SNE] Iteration 800: error = 1.8683344, gradient norm = 0.0002867 (50 iterations in 2.828s)\n",
      "[t-SNE] Iteration 850: error = 1.8637941, gradient norm = 0.0002499 (50 iterations in 2.918s)\n",
      "[t-SNE] Iteration 900: error = 1.8621047, gradient norm = 0.0000823 (50 iterations in 3.578s)\n",
      "[t-SNE] Iteration 950: error = 1.8612229, gradient norm = 0.0000724 (50 iterations in 4.041s)\n",
      "[t-SNE] Iteration 1000: error = 1.8604566, gradient norm = 0.0000738 (50 iterations in 3.693s)\n",
      "[t-SNE] Error after 1000 iterations: 1.860457\n"
     ]
    }
   ],
   "source": [
    "# map vectors into 2d space with pca, tsne or your other method of choice\n",
    "# don't forget to normalize\n",
    "\n",
    "phrase_vectors_2d = TSNE(verbose=1000).fit_transform(phrase_vectors)\n",
    "\n",
    "phrase_vectors_2d = (phrase_vectors_2d - phrase_vectors_2d.mean(axis=0)) / phrase_vectors_2d.std(axis=0)"
   ]
  },
  {
   "cell_type": "code",
   "execution_count": 45,
   "metadata": {},
   "outputs": [
    {
     "data": {
      "text/html": [
       "\n",
       "<div class=\"bk-root\">\n",
       "    <div class=\"bk-plotdiv\" id=\"76513b73-14d9-46f9-a4dc-982cc4b687fa\"></div>\n",
       "</div>"
      ]
     },
     "metadata": {},
     "output_type": "display_data"
    },
    {
     "data": {
      "application/javascript": [
       "(function(root) {\n",
       "  function embed_document(root) {\n",
       "    var docs_json = {\"5c862f92-6fa1-42d3-b412-634f2af71426\":{\"roots\":{\"references\":[{\"attributes\":{},\"id\":\"6331a0b7-5677-43ce-b3cb-1062fa8c625d\",\"type\":\"WheelZoomTool\"},{\"attributes\":{},\"id\":\"882790fa-5e67-4592-bdd4-2b58c9c31050\",\"type\":\"HelpTool\"},{\"attributes\":{},\"id\":\"7fc38be1-5509-4f1a-b48b-817778c9a590\",\"type\":\"BasicTickFormatter\"},{\"attributes\":{\"callback\":null,\"column_names\":[\"x\",\"y\",\"color\",\"phrase\"],\"data\":{\"color\":[\"blue\",\"blue\",\"blue\",\"blue\",\"blue\",\"blue\",\"blue\",\"blue\",\"blue\",\"blue\",\"blue\",\"blue\",\"blue\",\"blue\",\"blue\",\"blue\",\"blue\",\"blue\",\"blue\",\"blue\",\"blue\",\"blue\",\"blue\",\"blue\",\"blue\",\"blue\",\"blue\",\"blue\",\"blue\",\"blue\",\"blue\",\"blue\",\"blue\",\"blue\",\"blue\",\"blue\",\"blue\",\"blue\",\"blue\",\"blue\",\"blue\",\"blue\",\"blue\",\"blue\",\"blue\",\"blue\",\"blue\",\"blue\",\"blue\",\"blue\",\"blue\",\"blue\",\"blue\",\"blue\",\"blue\",\"blue\",\"blue\",\"blue\",\"blue\",\"blue\",\"blue\",\"blue\",\"blue\",\"blue\",\"blue\",\"blue\",\"blue\",\"blue\",\"blue\",\"blue\",\"blue\",\"blue\",\"blue\",\"blue\",\"blue\",\"blue\",\"blue\",\"blue\",\"blue\",\"blue\",\"blue\",\"blue\",\"blue\",\"blue\",\"blue\",\"blue\",\"blue\",\"blue\",\"blue\",\"blue\",\"blue\",\"blue\",\"blue\",\"blue\",\"blue\",\"blue\",\"blue\",\"blue\",\"blue\",\"blue\",\"blue\",\"blue\",\"blue\",\"blue\",\"blue\",\"blue\",\"blue\",\"blue\",\"blue\",\"blue\",\"blue\",\"blue\",\"blue\",\"blue\",\"blue\",\"blue\",\"blue\",\"blue\",\"blue\",\"blue\",\"blue\",\"blue\",\"blue\",\"blue\",\"blue\",\"blue\",\"blue\",\"blue\",\"blue\",\"blue\",\"blue\",\"blue\",\"blue\",\"blue\",\"blue\",\"blue\",\"blue\",\"blue\",\"blue\",\"blue\",\"blue\",\"blue\",\"blue\",\"blue\",\"blue\",\"blue\",\"blue\",\"blue\",\"blue\",\"blue\",\"blue\",\"blue\",\"blue\",\"blue\",\"blue\",\"blue\",\"blue\",\"blue\",\"blue\",\"blue\",\"blue\",\"blue\",\"blue\",\"blue\",\"blue\",\"blue\",\"blue\",\"blue\",\"blue\",\"blue\",\"blue\",\"blue\",\"blue\",\"blue\",\"blue\",\"blue\",\"blue\",\"blue\",\"blue\",\"blue\",\"blue\",\"blue\",\"blue\",\"blue\",\"blue\",\"blue\",\"blue\",\"blue\",\"blue\",\"blue\",\"blue\",\"blue\",\"blue\",\"blue\",\"blue\",\"blue\",\"blue\",\"blue\",\"blue\",\"blue\",\"blue\",\"blue\",\"blue\",\"blue\",\"blue\",\"blue\",\"blue\",\"blue\",\"blue\",\"blue\",\"blue\",\"blue\",\"blue\",\"blue\",\"blue\",\"blue\",\"blue\",\"blue\",\"blue\",\"blue\",\"blue\",\"blue\",\"blue\",\"blue\",\"blue\",\"blue\",\"blue\",\"blue\",\"blue\",\"blue\",\"blue\",\"blue\",\"blue\",\"blue\",\"blue\",\"blue\",\"blue\",\"blue\",\"blue\",\"blue\",\"blue\",\"blue\",\"blue\",\"blue\",\"blue\",\"blue\",\"blue\",\"blue\",\"blue\",\"blue\",\"blue\",\"blue\",\"blue\",\"blue\",\"blue\",\"blue\",\"blue\",\"blue\",\"blue\",\"blue\",\"blue\",\"blue\",\"blue\",\"blue\",\"blue\",\"blue\",\"blue\",\"blue\",\"blue\",\"blue\",\"blue\",\"blue\",\"blue\",\"blue\",\"blue\",\"blue\",\"blue\",\"blue\",\"blue\",\"blue\",\"blue\",\"blue\",\"blue\",\"blue\",\"blue\",\"blue\",\"blue\",\"blue\",\"blue\",\"blue\",\"blue\",\"blue\",\"blue\",\"blue\",\"blue\",\"blue\",\"blue\",\"blue\",\"blue\",\"blue\",\"blue\",\"blue\",\"blue\",\"blue\",\"blue\",\"blue\",\"blue\",\"blue\",\"blue\",\"blue\",\"blue\",\"blue\",\"blue\",\"blue\",\"blue\",\"blue\",\"blue\",\"blue\",\"blue\",\"blue\",\"blue\",\"blue\",\"blue\",\"blue\",\"blue\",\"blue\",\"blue\",\"blue\",\"blue\",\"blue\",\"blue\",\"blue\",\"blue\",\"blue\",\"blue\",\"blue\",\"blue\",\"blue\",\"blue\",\"blue\",\"blue\",\"blue\",\"blue\",\"blue\",\"blue\",\"blue\",\"blue\",\"blue\",\"blue\",\"blue\",\"blue\",\"blue\",\"blue\",\"blue\",\"blue\",\"blue\",\"blue\",\"blue\",\"blue\",\"blue\",\"blue\",\"blue\",\"blue\",\"blue\",\"blue\",\"blue\",\"blue\",\"blue\",\"blue\",\"blue\",\"blue\",\"blue\",\"blue\",\"blue\",\"blue\",\"blue\",\"blue\",\"blue\",\"blue\",\"blue\",\"blue\",\"blue\",\"blue\",\"blue\",\"blue\",\"blue\",\"blue\",\"blue\",\"blue\",\"blue\",\"blue\",\"blue\",\"blue\",\"blue\",\"blue\",\"blue\",\"blue\",\"blue\",\"blue\",\"blue\",\"blue\",\"blue\",\"blue\",\"blue\",\"blue\",\"blue\",\"blue\",\"blue\",\"blue\",\"blue\",\"blue\",\"blue\",\"blue\",\"blue\",\"blue\",\"blue\",\"blue\",\"blue\",\"blue\",\"blue\",\"blue\",\"blue\",\"blue\",\"blue\",\"blue\",\"blue\",\"blue\",\"blue\",\"blue\",\"blue\",\"blue\",\"blue\",\"blue\",\"blue\",\"blue\",\"blue\",\"blue\",\"blue\",\"blue\",\"blue\",\"blue\",\"blue\",\"blue\",\"blue\",\"blue\",\"blue\",\"blue\",\"blue\",\"blue\",\"blue\",\"blue\",\"blue\",\"blue\",\"blue\",\"blue\",\"blue\",\"blue\",\"blue\",\"blue\",\"blue\",\"blue\",\"blue\",\"blue\",\"blue\",\"blue\",\"blue\",\"blue\",\"blue\",\"blue\",\"blue\",\"blue\",\"blue\",\"blue\",\"blue\",\"blue\",\"blue\",\"blue\",\"blue\",\"blue\",\"blue\",\"blue\",\"blue\",\"blue\",\"blue\",\"blue\",\"blue\",\"blue\",\"blue\",\"blue\",\"blue\",\"blue\",\"blue\",\"blue\",\"blue\",\"blue\",\"blue\",\"blue\",\"blue\",\"blue\",\"blue\",\"blue\",\"blue\",\"blue\",\"blue\",\"blue\",\"blue\",\"blue\",\"blue\",\"blue\",\"blue\",\"blue\",\"blue\",\"blue\",\"blue\",\"blue\",\"blue\",\"blue\",\"blue\",\"blue\",\"blue\",\"blue\",\"blue\",\"blue\",\"blue\",\"blue\",\"blue\",\"blue\",\"blue\",\"blue\",\"blue\",\"blue\",\"blue\",\"blue\",\"blue\",\"blue\",\"blue\",\"blue\",\"blue\",\"blue\",\"blue\",\"blue\",\"blue\",\"blue\",\"blue\",\"blue\",\"blue\",\"blue\",\"blue\",\"blue\",\"blue\",\"blue\",\"blue\",\"blue\",\"blue\",\"blue\",\"blue\",\"blue\",\"blue\",\"blue\",\"blue\",\"blue\",\"blue\",\"blue\",\"blue\",\"blue\",\"blue\",\"blue\",\"blue\",\"blue\",\"blue\",\"blue\",\"blue\",\"blue\",\"blue\",\"blue\",\"blue\",\"blue\",\"blue\",\"blue\",\"blue\",\"blue\",\"blue\",\"blue\",\"blue\",\"blue\",\"blue\",\"blue\",\"blue\",\"blue\",\"blue\",\"blue\",\"blue\",\"blue\",\"blue\",\"blue\",\"blue\",\"blue\",\"blue\",\"blue\",\"blue\",\"blue\",\"blue\",\"blue\",\"blue\",\"blue\",\"blue\",\"blue\",\"blue\",\"blue\",\"blue\",\"blue\",\"blue\",\"blue\",\"blue\",\"blue\",\"blue\",\"blue\",\"blue\",\"blue\",\"blue\",\"blue\",\"blue\",\"blue\",\"blue\",\"blue\",\"blue\",\"blue\",\"blue\",\"blue\",\"blue\",\"blue\",\"blue\",\"blue\",\"blue\",\"blue\",\"blue\",\"blue\",\"blue\",\"blue\",\"blue\",\"blue\",\"blue\",\"blue\",\"blue\",\"blue\",\"blue\",\"blue\",\"blue\",\"blue\",\"blue\",\"blue\",\"blue\",\"blue\",\"blue\",\"blue\",\"blue\",\"blue\",\"blue\",\"blue\",\"blue\",\"blue\",\"blue\",\"blue\",\"blue\",\"blue\",\"blue\",\"blue\",\"blue\",\"blue\",\"blue\",\"blue\",\"blue\",\"blue\",\"blue\",\"blue\",\"blue\",\"blue\",\"blue\",\"blue\",\"blue\",\"blue\",\"blue\",\"blue\",\"blue\",\"blue\",\"blue\",\"blue\",\"blue\",\"blue\",\"blue\",\"blue\",\"blue\",\"blue\",\"blue\",\"blue\",\"blue\",\"blue\",\"blue\",\"blue\",\"blue\",\"blue\",\"blue\",\"blue\",\"blue\",\"blue\",\"blue\",\"blue\",\"blue\",\"blue\",\"blue\",\"blue\",\"blue\",\"blue\",\"blue\",\"blue\",\"blue\",\"blue\",\"blue\",\"blue\",\"blue\",\"blue\",\"blue\",\"blue\",\"blue\",\"blue\",\"blue\",\"blue\",\"blue\",\"blue\",\"blue\",\"blue\",\"blue\",\"blue\",\"blue\",\"blue\",\"blue\",\"blue\",\"blue\",\"blue\",\"blue\",\"blue\",\"blue\",\"blue\",\"blue\",\"blue\",\"blue\",\"blue\",\"blue\",\"blue\",\"blue\",\"blue\",\"blue\",\"blue\",\"blue\",\"blue\",\"blue\",\"blue\",\"blue\",\"blue\",\"blue\",\"blue\",\"blue\",\"blue\",\"blue\",\"blue\",\"blue\",\"blue\",\"blue\",\"blue\",\"blue\",\"blue\",\"blue\",\"blue\",\"blue\",\"blue\",\"blue\",\"blue\",\"blue\",\"blue\",\"blue\",\"blue\",\"blue\",\"blue\",\"blue\",\"blue\",\"blue\",\"blue\",\"blue\",\"blue\",\"blue\",\"blue\",\"blue\",\"blue\",\"blue\",\"blue\",\"blue\",\"blue\",\"blue\",\"blue\",\"blue\",\"blue\",\"blue\",\"blue\",\"blue\",\"blue\",\"blue\",\"blue\",\"blue\",\"blue\",\"blue\",\"blue\",\"blue\",\"blue\",\"blue\",\"blue\",\"blue\",\"blue\",\"blue\",\"blue\",\"blue\",\"blue\",\"blue\",\"blue\",\"blue\",\"blue\",\"blue\",\"blue\",\"blue\",\"blue\",\"blue\",\"blue\",\"blue\",\"blue\",\"blue\",\"blue\",\"blue\",\"blue\",\"blue\",\"blue\",\"blue\",\"blue\",\"blue\",\"blue\",\"blue\",\"blue\",\"blue\",\"blue\",\"blue\",\"blue\",\"blue\",\"blue\",\"blue\",\"blue\",\"blue\",\"blue\",\"blue\",\"blue\",\"blue\",\"blue\",\"blue\",\"blue\",\"blue\",\"blue\",\"blue\",\"blue\",\"blue\",\"blue\",\"blue\",\"blue\",\"blue\",\"blue\",\"blue\",\"blue\",\"blue\",\"blue\",\"blue\",\"blue\",\"blue\",\"blue\",\"blue\",\"blue\",\"blue\",\"blue\",\"blue\",\"blue\",\"blue\",\"blue\",\"blue\",\"blue\",\"blue\",\"blue\",\"blue\",\"blue\",\"blue\",\"blue\",\"blue\",\"blue\",\"blue\",\"blue\",\"blue\",\"blue\",\"blue\",\"blue\",\"blue\",\"blue\",\"blue\",\"blue\",\"blue\",\"blue\",\"blue\",\"blue\",\"blue\",\"blue\",\"blue\",\"blue\",\"blue\",\"blue\",\"blue\",\"blue\",\"blue\",\"blue\",\"blue\",\"blue\",\"blue\",\"blue\",\"blue\",\"blue\",\"blue\",\"blue\",\"blue\",\"blue\",\"blue\",\"blue\",\"blue\",\"blue\",\"blue\",\"blue\",\"blue\",\"blue\",\"blue\",\"blue\",\"blue\",\"blue\",\"blue\",\"blue\",\"blue\",\"blue\",\"blue\",\"blue\",\"blue\",\"blue\",\"blue\",\"blue\",\"blue\",\"blue\",\"blue\",\"blue\",\"blue\",\"blue\",\"blue\",\"blue\",\"blue\",\"blue\",\"blue\",\"blue\",\"blue\",\"blue\",\"blue\",\"blue\",\"blue\",\"blue\",\"blue\",\"blue\",\"blue\",\"blue\",\"blue\",\"blue\",\"blue\",\"blue\",\"blue\",\"blue\",\"blue\",\"blue\",\"blue\",\"blue\",\"blue\",\"blue\",\"blue\",\"blue\",\"blue\",\"blue\",\"blue\",\"blue\",\"blue\",\"blue\",\"blue\",\"blue\",\"blue\",\"blue\",\"blue\",\"blue\"],\"phrase\":[\"Can I get back with my ex even though she is pregn\",\"What is the best way to become an arms dealer in t\",\"Why doesn't Japan contribute to peace and prosperi\",\"Which is the best Panasonic air conditioner servic\",\"What did ancient Egyptians believe about the after\",\"How does one prepare for the RBI grade B officers \",\"Which institutions in Kolkata give coaching for en\",\"Will omar bravo be in fifa 17?\\n\",\"What are the pros and cons of arranged marriages?\\n\",\"What will happen if all the vegetable dies?\\n\",\"Why do people hate hypocrites?\\n\",\"What do you consider poor, middle class, wealthy a\",\"How do I concentrate on my studies?\\n\",\"What is new age psychobabble?\\n\",\"How can you tell if your man is cheating even if h\",\"Can you see yourself during lucid dreaming?\\n\",\"Which browser is most safe in terms of privacy and\",\"Can Google Assistant run on OnePlus 3T?\\n\",\"Apart from the VW Vento / Polo and Skoda Rapid, ar\",\"What is Panera Bread?\\n\",\"Do athletes live longer and healthier? If not, why\",\"Could a pitbull take on a wolf in a fight?\\n\",\"What has Obama done for Latinos/Hispanics?\\n\",\"How much is |x|^2?\\n\",\"How does operator.com work?\\n\",\"Why do people not make movies/talk about the Romas\",\"What were the major contributions of the political\",\"Company Secretaries (CS): How do I prepare for CS \",\"What are the job prospects of chemical engineers a\",\"I have never gone to a bank. How do I put money in\",\"What is the best strategy to prepare for the GATE \",\"Who is this porn star?\\n\",\"Why are specs & sunglasses so expensive?\\n\",\"I installed the movie torrent with Ultra XVid Code\",\"Can we ride scootry with learning lisence age of 1\",\"Two cards were drawn, without replacement, from a \",\"How much money is needed per month to live in indi\",\"Why do companies issue bonus shares?\\n\",\"Why are Iranians and Afghans considered white Amer\",\"Could mumps cause deafness?\\n\",\"What is meaning of sadaka?\\n\",\"What should I know before starting a YouTube caree\",\"Is the ITI College Principal is gazetted officer?\\n\",\"How do you feel now that Donald Trump is now the P\",\"What is the difference between imperial units and \",\"What is the easiest way to do effective self hypno\",\"Why has China increased its involvement in the Syr\",\"From which year CBSE class 10th exam be reintroduc\",\"Is 1080p a Blu-ray?\\n\",\"Does using mirrors to concentrate thermal energy d\",\"How do I avoid attractions by phones?\\n\",\"What are some of the effects of education can you \",\"What are the characteristics of a Pisces Sun/Libra\",\"What is the most cost-effective option to ship pac\",\"Are red and blue complementary colors?\\n\",\"Is it possible to make a material that is a superc\",\"What is the best Shonen Jump manga?\\n\",\"Are Oracle and Cisco good companies for a new grad\",\"If lighting a match is considered a chemical chang\",\"Why is Hillary so afraid of Putin?\\n\",\"Which is the best book to study electronics basics\",\"What are the basics I should know before learning \",\"Can I use Cph4 on a day to day basis?\\n\",\"Is it safe when I buy things from China?\\n\",\"Why did some ethnic minorities support Brexit?\\n\",\"How much money has tinder made?\\n\",\"What is the limit?\\n\",\"Will browsing Facebook while connected to Tor reve\",\"If I get 68.4 percent in ftre 2016 class 10 then w\",\"No product market fit: change product or market fi\",\"What makes you sad about India?\\n\",\"How do I know if someone has read my messages on w\",\"Why there is a sound when we crack our knuckles?\\n\",\"Why do I only make friends with guys?\\n\",\"What is 'open-mindedness'?\\n\",\"What is the cause of carpal tunnel syndrome?\\n\",\"What is the difference between a \\\"slow cooker\\\" and\",\"What is Hillary Clinton's stance on nuclear energy\",\"Do IIT colleges require a caste validity for an ST\",\"How do I listen a song from you?\\n\",\"Why do so many Iranians immigrate to Canada?\\n\",\"What will happen to India-U.S. relations after Tru\",\"A program that stored five words in the memory the\",\"What are ways of joining to ISRO as engineer other\",\"Can Magneto defeat Hulk?\\n\",\"What time of year is it best to visit Singapore?\\n\",\"How do I study for ib?\\n\",\"What should I do if someone doesn't reply to my em\",\"How much does Manveer Singh Phogat gets for Dangal\",\"What is it like to be cannibal?\\n\",\"How can the Android app development companies help\",\"Who would you say is the most fun person in Israel\",\"How can one improve her figure and butt size witho\",\"As a company that provides travel agencies and tou\",\"What is the most beautiful thing you saw today?\\n\",\"Is gay flirting good?\\n\",\"Can I use Stripe in Europe?\\n\",\"Will Britain leaving the European Union lead to th\",\"Why are so many East Asian immigrants so averse to\",\"Why do we need computer networking?\\n\",\"What is retina detachment?\\n\",\"Why don't more bars have mechanical bulls?\\n\",\"How do I get better understanding of C++?\\n\",\"Which is the most profitable Porsche US dealer?\\n\",\"What are the best over the ear headphones for abou\",\"Is it true that the first kill is the hardest?\\n\",\"Which is best 32 inch led tv to buy below 20,000 I\",\"I am scoring 130/506 in FiitJEE aits part test adv\",\"What kind of websites are missing from the Interne\",\"What is the best way to use free time at IITB?\\n\",\"Is it possible for me to buy my first company usin\",\"What should I do to have sex with as many women as\",\"What is the scope of Executive MBA in India?\\n\",\"Which BMW models do not have a Hofmeister Kink?\\n\",\"What is yellow journalism?\\n\",\"Why do doctors charge uninsured patients 10 times \",\"Which one is the best public sector job or private\",\"Will social media ever help to spur on the US youn\",\"How should I know a video is 360 degree?\\n\",\"Is a practice manual sufficient for the CA Final I\",\"Career Advice: Being an Indian college student, ho\",\"What are the advantages and disadvantages of Li-Fi\",\"On Snapchat, I deleted someone. Can they re-add me\",\"Are there any cereals that taste good with water?\\n\",\"Why does a woman's vagina push a mans penis out?\\n\",\"What is the British word for bullpen?\\n\",\"How hard is it for international students to get a\",\"How did Revan build his foundation of his army in \",\"What is the best way to read a fictional book? Do \",\"How do you replace a ignition lock cylinder?\\n\",\"How can I prevent business failure?\\n\",\"How often do tides occur? What causes it?\\n\",\"How do I learn Calculus on my own?\\n\",\"What is the reason for Priyanka Gandhi not changin\",\"What should I eat when I'm sick with a cold or flu\",\"What is a Business Intelligence Analyst?\\n\",\"Which sports should I start to play to paticipate \",\"How should I prepare for Java fresher interview?\\n\",\"How different are cuisines of Arab countries?\\n\",\"What is the meaning of the phrase, all is fair in \",\"Why does Quora send me a notification that my ques\",\"What are the hardest obstacles to breaking into a \",\"What makes a falling snowflake large (or not)?\\n\",\"What is the compensation for Partners/Principals a\",\"What is the difference between an array and a vect\",\"If you kiss the NC State wolf do you become an NC \",\"Is it boring (from a social perspective) to live i\",\"What would have happened if in 1971 war all 93000 \",\"What are the easiest things to do while being abro\",\"Does getting root canal cause problem in speaking \",\"What is the definition of a truncated sentence and\",\"Would I look good with a nose ring? if yes which n\",\"What are the perks of working in Amazon?\\n\",\"How can we say that climate change does not bring \",\"What it is like to meet \\\"Shahid Kapoor\\\"?\\n\",\"How does it feel when you are dead?\\n\",\"Which is the best juicer, grinder or mixer in Indi\",\"How do I learn to think more logically?\\n\",\"Which movie has the best beginning ever?\\n\",\"Which laws been enacted to prevent family members \",\"What is iPhone 6s plus cost present?\\n\",\"What is Ohm's law and amperage I?\\n\",\"What is the nicest thing a stranger has done for y\",\"Why do some heroic people who do good things choos\",\"How will Hindus react if Babri Masjid is reconstru\",\"R2I - How did you plan R2I from US if you own the \",\"How can I master C programming in 7 days?\\n\",\"What is the right way to clean ear wax?\\n\",\"What are some good games to play during class?\\n\",\"Is it possible to hack WhatsApp messenger?\\n\",\"Why do airplanes carry more weight than helicopter\",\"Shaving: Do electric shavers work better than manu\",\"Has anyone benefited, health-wise, from essential \",\"Can Students at Hogwarts have sex while there? Doe\",\"How can we enhance our efficiency with Yoga?\\n\",\"What are the best app review sites and blogs?\\n\",\"Can two companies be registered on the same addres\",\"Is it true that as per Indian law, one can't be ha\",\"Who would win in a war between Bangladesh and Myan\",\"How do you reply when someone thanks you for forgi\",\"Who would win a fight between wolverine and Batman\",\"What is one thing you wish for yourself in the fut\",\"Can you cry underwater?\\n\",\"What's the difference between SSL, TLS, and HTTPS?\",\"Why are antigravity muscles more affected in Upper\",\"In order to buy a house, does one have to rent fir\",\"What is the probability of choosing a pink ball fr\",\"Which is the best car to get under 8 lakhs?\\n\",\"Why isn't China's role in the Korean and Vietnam w\",\"What is the Laplace transform of t^(1/2) * e^ (-1/\",\"To those who told a big lie to their parents and t\",\"What is runtime polymorphism or dynamic method dis\",\"I had sex 5 days after my period, what are the cha\",\"How would you describe yourself in one tweet?\\n\",\"How do fairy tales influence creativity in humans?\",\"How do I add delay() and sound() in Dev-C++?\\n\",\"What is the pathophysiology of ADHD?\\n\",\"What are the top benefits of life insurance polici\",\"Can I get a TV from Bang & Olufsen for under $2500\",\"How is the life of an ece student at dayananda sag\",\"What is meditation?\\n\",\"Were the Ancient Greeks scientists, or just philos\",\"How does Google authenticator work?\\n\",\"Wouldn't it be better if kids were allowed to focu\",\"Can you apply for a certificate on Coursera/edX af\",\"Why do Quora engineers use large monitors?\\n\",\"How do I start an online clothing business?\\n\",\"How will the government meet the challenges of acc\",\"I saw a charge on my credit card under from a comp\",\"What is the difference between socialization and r\",\"How would the world be different if everyone spoke\",\"Who receives the fares in a cab service?\\n\",\"As a non-resident alien doing a summer internship \",\"Which is the best camera smartphone under 20k?\\n\",\"What does it mean to dream about someone before th\",\"What are the subjects in which I can apply for my \",\"What are the basics of Jainism?\\n\",\"What is the Difference between existential nihilis\",\"How can I see my girlfriend's WhatsApp chat messag\",\"What are some ways to enjoy sex with my newly marr\",\"How can I study the Bible?\\n\",\"How can someone be a friend, girlfriend, wife and \",\"What are the Snapchat usernames of punjabi celebri\",\"What is 1/2 times 1/2?\\n\",\"Where does the word restaurant come from and what \",\"What can I do with a computational linguistics deg\",\"Will trump win as president?\\n\",\"What impact will AI eventually have on how we plan\",\"Why is eating too unhealthy?\\n\",\"What if the Syrian civil war never happened?\\n\",\"How do the teachings, learning, followership and/o\",\"Did you ever been in a group of stupid people?\\n\",\"What are the multiple types of social issues?\\n\",\"Where can I find beginner NodeJS tutorials that us\",\"If I got a 7.4 CGPA in the SA1 10 class, then can \",\"Which the best time table for 10th class exams pre\",\"Elite Escorts in DHA Lahore?\\n\",\"My ex bf says he doesn't have feelings for me righ\",\"What are the questions in the interview for a fres\",\"What do you think are some of benefits to humans f\",\"Which one is the best medical college hostel in in\",\"Have you lived in a tiny house?\\n\",\"What are some things new employees should know goi\",\"Where can I hire high pressure cleaning service in\",\"How many Bollywood Actresses consume alcohol in re\",\"How does PayU earn money?\\n\",\"Is it possible to change your personality as a chi\",\"How do I apply to London School of Economics as an\",\"How do I build a profile to get accepted into a st\",\"How can I get real ghost stories?\\n\",\"Is it possible to hack NASA's New Horizons satelli\",\"What is the best way of getting good at answering \",\"How would you deal with jerks?\\n\",\"How can I do internship in Accenture India?\\n\",\"Why would an Indian girl not want to get married?\\n\",\"My WhatsApp chat backup got deleted from Google, I\",\"Is going to college really worth it or just a wast\",\"How many prophets did God send to the Jews?\\n\",\"What is the relation and difference between Artifi\",\"If you don\\u2019t have a good network, what would be th\",\"What are the best place to visit in Rio de Janeiro\",\"Which is the best college for PG in Cyber Security\",\"Which are the best English serials?\\n\",\"How do you say \\u201cWhat\\u2019s up?\\u201d in Chinese?\\n\",\"Is it bad to take expired fish oil pills because t\",\"Will there ever be a genuine Authoritarian candida\",\"Is World War III on its way right now?\\n\",\"How can you use time formats in Excel?\\n\",\"What is the best antivirus for Windows 8?\\n\",\"Why do people like Metal/Hard rock so much?\\n\",\"What are the worst smelling things in the world?\\n\",\"Could someone explain the following electives at N\",\"What's a funny thing?\\n\",\"What are the main reason of cracks?\\n\",\"How do I hitchhike in Europe?\\n\",\"What is the physical significance of quantum mecha\",\"How do we get dead people off business junk mail l\",\"Who among the four in the picture given in descrip\",\"How do I know if I authentically, genuinely, hones\",\"On average, how long does it take a letter mail fr\",\"When will One Piece have episode 517 dubbed?\\n\",\"What should I do if I fell in love with my best fr\",\"How do criminal lawyers sleep at night even when t\",\"Can I get refund for Tatkal e-ticket because train\",\"How can I buy the new Macbook 12\\\" M7 512GB model i\",\"What are the different e-governance methods used b\",\"How do I run smoother GTA V? I have intel core i3 \",\"What is the use of tanpura?\\n\",\"What are the Snapchat usernames of celebrities?\\n\",\"Which is better- cracking gate and going for IIT/i\",\"Can you lose weight without exercising?\\n\",\"What is the best way to make life more interesting\",\"Is Delhi a must for UPSC coaching?\\n\",\"Which are the best colleges for electronics and in\",\"I have been a .Net developer for over 2 years and \",\"Has a smartphone ever been taken to space? If yes \",\"What questions should I ask my boyfriend, we are b\",\"How do I delete a contact blocked in WhatsApp?\\n\",\"Is it a good time to buy real estate in Cyprus?\\n\",\"South India: Why is South India much more develope\",\"What is the formula for a hydrocarbon?\\n\",\"What if an alien comes and tells us that the physi\",\"What are the pros & cons of democracy?\\n\",\"I'm 16 years old and wanted to lose weight and bod\",\"Can I add more peers to the torrent for max speed \",\"What are the best neighborhoods to Airbnb in Chica\",\"What we will get in mahabalipuram beach sunrise or\",\"How fast can you accelerate to the speed of light?\",\"What is the difference between R-squared and Adjus\",\"How many times can women reach orgasm in a hour an\",\"Why didn't Johor, Batam & Singapore integrate more\",\"Which products are more profitable in online sell?\",\"How do I get rid of muscle?\\n\",\"What is the process of directing and casting child\",\"Is the 7th pay commission needed?\\n\",\"What are the best games that are compatible on a C\",\"What was the significance of the battle of Somme, \",\"How do you see Pakistan PM Nawaz Sharif's speech a\",\"Where can I publish my apps?\\n\",\"What was your darkest moment?\\n\",\"Why does the UK have an unwritten Constitution?\\n\",\"What are the necessary steps in documenting a mobi\",\"Why was life created? Why was life so painful?\\n\",\"How can I use explainer video to review products o\",\"What is difference between residue and error?\\n\",\"If 6.5 to 8.5 will be the safe level of pH value i\",\"I am 23 and don't know what I want. My life is ver\",\"What are your three favorite websites for reading?\",\"Why do people choose to be a GAY?\\n\",\"What is the process of death?\\n\",\"Why does light red deserve the special name \\\"pink\\\"\",\"Who are millennials?\\n\",\"What it's like doing CA articleship from Big 4s?\\n\",\"What is the most important right or freedom guaran\",\"Why do some porn stars have unprotected sex?\\n\",\"What are my reasons to live?\\n\",\"How small would a planet need to be to plainly see\",\"Some religion speaks of burning in hell after deat\",\"What does it feel like to be an IITian?\\n\",\"How does cognitive behavioural therapy work?\\n\",\"Why should you visit India?\\n\",\"I lost my Google account information. How can I re\",\"What if I port a number from Airtel to Vodafone in\",\"What are the reasons why time travel is impossible\",\"Will my iPhone alarm still go off if \\\"Do Not Distu\",\"Did South Korea cheat during the 2014 Asian Games?\",\"Take the minimum lethal volume of a gaz, put it in\",\"\\\"How to improve Project Management skills?\\\"\\n\",\"When you were small, did you ever think that your \",\"Where did the pointy \\\"S\\\" symbol come from?\\n\",\"How does it feels like to have a rich boyfriend?\\n\",\"What have you used your intelligence for?\\n\",\"What is a freewheeling diode?\\n\",\"How do we derive pi?\\n\",\"What is the importance of communication skills in \",\"How can I put icons on YouTube video titles? Also \",\"What does the phrase \\\"resonate with me\\\" mean?\\n\",\"How many types do we have of Manual testing?\\n\",\"What are IBAN numbers?\\n\",\"What is regret?\\n\",\"As a student specializing in English language, lit\",\"What is the corporate culture like at Corning? How\",\"How can I convert jazz standards to jazz guitar so\",\"How good was the surgical strike by Indian Army on\",\"What recipes are most conducive to romance?\\n\",\"What are the unknown facts about Tamil people whic\",\"Where do I find the most beautiful woman in the wo\",\"What does the grey phone icon mean on the messenge\",\"How do I share 360\\u00b0 photos on WhatsApp?\\n\",\"What is the difference between working stress meth\",\"What are the opportunities for an MBA in finance?\\n\",\"Can you patent clothing or fashion designs?\\n\",\"My in laws are apologists for Nazi war criminals a\",\"Which is the safest city in India for women?\\n\",\"What horse breed were commonly used during the \\\"Wi\",\"Is it weird to sometimes feel almost overwhelmed b\",\"Can anyone please list all the SAP SD topics a per\",\"In the filling of ibps application I put martial s\",\"In a restaurant, what are the different types of t\",\"Why does amir khan never go to any filmy awards fu\",\"What is a good inpatient drug and alcohol rehab ce\",\"Why does UV light cause contamination on optics, b\",\"How do I invest in mutual funds in India?\\n\",\"How comfortable are you with failure?\\n\",\"What skills are required to become a quant?\\n\",\"Why do startups announce fundraising?\\n\",\"What is your review of Amazon Video?\\n\",\"Why there is no team from Tamil nadu in pro kabbad\",\"How do I auto forward texts from my Verizon phone \",\"How do the Chinese people view Americans?\\n\",\"What is virgin or virginity?\\n\",\"What are the different ways of submitting a Reques\",\"Can a high school teacher legally force students t\",\"Why does water droplets form on the outer surface \",\"Which mammals have dark circles around eyes beside\",\"How do each components of a printer work?\\n\",\"What are some foods beginning with the letter W?\\n\",\"What are symptoms of a bad transmission control mo\",\"How do astronauts in ISS vote for Presidential ele\",\"What is the difference between Aim and Goal?\\n\",\"What is AT & C?\\n\",\"Who was Jackson Pollock? Was he mentally ill?\\n\",\"How do I make good vine edits?\\n\",\"How can I cut my penis?\\n\",\"How can I change my Quora profile photo?\\n\",\"My husband was here seeking asylum before we got m\",\"Is it good to use Laravel to develop a web app wit\",\"I have a mild sore throat an headache. What is tha\",\"When will a working nintendo 3DS emulator release \",\"What do we know about the health effects of vaping\",\"INSEAD: Worth the investment?\\n\",\"How is long rides in royal Enfield classic 350?\\n\",\"What famous boxers have participated on Dancing wi\",\"Will season 10 of Big Bang Theory be the final sea\",\"Can I crack KVPY (SX) with only three months left \",\"What are some little-known facts from World War II\",\"What is the most unique way of exam cheating you'v\",\"When was the last time a slam dunk broke a basketb\",\"What should I do for my excessive hair loss?\\n\",\"How do I find people's psychological weakness?\\n\",\"What is the difference between Awareness and Consc\",\"I hate everything that people around me like. Is i\",\"I think I am pretty good at thinking of a business\",\"How do you determine the thickness of a footing ba\",\"Why does vapours are formed when we pressurize alc\",\"Is it easy to adjust in German Universities withou\",\"What is UNIX and UNIX-like?\\n\",\"What is the best way to promote www.dorkyard.com?\\n\",\"What's up in Addis Abeba tonight?\\n\",\"Is there any point to going to college if you have\",\"How much would it cost to construct 800 sqft area \",\"What is an ideal wife? What is an ideal husband? W\",\"What information does port scanning provide?\\n\",\"What are the application of quasicrystals?\\n\",\"What is the determinant of the inverse of a matrix\",\"How is Brad Pitt in \\\"real Life\\\"?\\n\",\"I have a 3 yr bachelor's degree in Computer Scienc\",\"Demonetisation is good for county like India or no\",\"My parents think I am rude for being so introverte\",\"How many people have jumped off the Golden Gate br\",\"What are Osho's views on Islam?\\n\",\"Why does the government regulate health care?\\n\",\"Which phone has the best sound recording quality?\\n\",\"What is the best part of your life, and why is it \",\"Which is better hair wax or hair clay?\\n\",\"How do I charge my motorcycle battery?\\n\",\"What are the updates we get after miui 8.0.6.0?\\n\",\"Why does Robinhood need to bypass the App Store?\\n\",\"Which is a better route, Alipiri or Sri Vaari?\\n\",\"How much extra would it cost if Apple manufactured\",\"When will the next recession be?\\n\",\"What are some arguments in support of electing Don\",\"What does Russia want with Ukraine?\\n\",\"What is the difference between a recorder (block f\",\"What is the meaning of random number?\\n\",\"Which one is good for health: tea or coffee?\\n\",\"Is Texas good state for non-resident to register a\",\"What is kirchoff's law?\\n\",\"Is it wrong for a family member to keep making com\",\"My parents are forcing to marry a girl of their ch\",\"Which is better, Windows+Linux or OSX?\\n\",\"Why aren\\u2019t Christians that pray to/have a relation\",\"How much TDS will I have to pay for an RD account \",\"What is the meaning of thematic connection?\\n\",\"How should you prepare to take your maneuverabilit\",\"What are the best materials/videos/resources to ge\",\"Can a \\\"dirty\\\" finish be added back to jeans?\\n\",\"Why does my dog keep whining at night?\\n\",\"Is it bad to turn off my PC using the power button\",\"What is image processing?\\n\",\"I went to school with mostly black kids, they bull\",\"Does Donald Trump actually think he can become Pre\",\"Which are the 5 best movies you have ever seen?\\n\",\"How do I get traffic to excursions travel website?\",\"Where can I download the Android game Leo's Fortun\",\"How do I get more followers and upvotes on Quora?\\n\",\"What is a factory reset on a phone?\\n\",\"Which phone should I buy if my budget is 12000?\\n\",\"I have GPU implementation as a graduation project.\",\"What are the libertarian views on the Antarctic Tr\",\"What would the world be like if it were ruled by a\",\"How do you choose your first bank?\\n\",\"Who runs berkuliah.com?\\n\",\"What does Godel's incompleteness theorem mean for \",\"How do I delete a Gmail account?\\n\",\"If my ultimate goal is to become a vegan, should I\",\"Did the US win the war in Afghanistan?\\n\",\"How can I become a good engineering student?\\n\",\"What are some ways to increase intuition?\\n\",\"What causes depression in humans?\\n\",\"How can I control my anxiety and worries?\\n\",\"How can we jump in between the working regions of \",\"How do I stop loving someone who loves me?\\n\",\"Can personality and insecurity create a liar?\\n\",\"What is the best country and university to do a Ph\",\"How do I edit a video offline?\\n\",\"What is the rent of kiosk in an upscale mall?\\n\",\"What should I start reading if I want to attempt t\",\"Which is the best anti-virus for computers?\\n\",\"Does food unite people?\\n\",\"What do you like most about Internet?\\n\",\"What is a good model of federalism in the Philippi\",\"How do you know if a girl secretly loves you?\\n\",\"Who is the most annoying fictional character you h\",\"How do you feel when your question is unanswered o\",\"Did early humans know how babies were made?\\n\",\"If I cancel xfinity, how can I sign up as a new cu\",\"Are there any TV series similar to House MD?\\n\",\"What you need to know before buying furniture for \",\"Have you ever had a dream happen in reality?\\n\",\"Is dark matter just a scientific theory or has its\",\"How can you increase your tolerance for pain?\\n\",\"How many logical fallacies are there?\\n\",\"How do buttercream icing frosting separate?\\n\",\"Which is the cheapest cinema hall of India?\\n\",\"What do you think would be a good gre score?\\n\",\"What is the best way to update Xiaomi redmi 3 to M\",\"What does toe jam cheese taste like?\\n\",\"How do I know if a YouTube video is copyrighted?\\n\",\"How should I start a business reselling shoes?\\n\",\"How do I hire a mobile app development company?\\n\",\"What is paras pathar?\\n\",\"How is the word \\\"colony\\\" used in a sentence?\\n\",\"What is Rebecca Fugate known for?\\n\",\"What should I consider before starting my consulta\",\"Do you feel that many attractive women get away wi\",\"Why do I feel so much guilt for kissing a girl?\\n\",\"What are some good tutorials for learning Blender?\",\"Is it deceitful to befriend someone in the hopes t\",\"Who do you think BJP will put as a candidate for t\",\"Which protein supplement is best for gym to gain w\",\"What is your review of KVPY SX/SB 2016?\\n\",\"How do I get people's attention for my work?\\n\",\"What are some of your own personal stories and exp\",\"If salt concentration of the sea(3%) were differen\",\"What is the chemical name for mothballs? How was i\",\"Vitamin D receptors in the Testes?\\n\",\"How do I lose weight without working out?\\n\",\"Where can I watch anime?\\n\",\"What is BusyBox used for?\\n\",\"What would be a good desktop computer for software\",\"What are your top five favorite books and why?\\n\",\"What are some good Harry/Ginny fanfiction?\\n\",\"What are the pros and cons of having sex during pe\",\"Which device will you enjoy watching movies in: a \",\"Will there be \\\"faithless\\\" electors this election?\\n\",\"Is Donald Trump an undercover democrat?\\n\",\"Why am I the way I am?\\n\",\"Why do some women get their nipples pierced?\\n\",\"What do Delhi University girls (especially North C\",\"What is the name of this TV series?\\n\",\"My salary is below the Basic Exemption Limit, yet \",\"What is a foliated rock?\\n\",\"What are some of the best books to start learning \",\"How should I prepare for IIT-JEE 2018?\\n\",\"How do unions work?\\n\",\"Can we give neet coaching in class 11?\\n\",\"Which is the best dish TV connection in Hyderabad?\",\"How can you train a Doberman/Lab mix?\\n\",\"How do you reduce stress at work?\\n\",\"What is the best algorithm for finding the number \",\"How can I earn $250 in 2 months?\\n\",\"Why did GE buy NBC?\\n\",\"What is the highest level of c?\\n\",\"How do you mash potatoes without a masher? What el\",\"How difficult is it to learn Python?\\n\",\"How do you convert years into seconds?\\n\",\"How do you view bisexuality?\\n\",\"What is information technology? What are some exam\",\"Why are Altoids so strong?\\n\",\"How effective is email marketing?\\n\",\"Why does my tutor keep winding me up. He says he i\",\"How can I start my Tok essay which is about accura\",\"How do I repair my corrupt memory card?\\n\",\"I have 3 years to prepare for IIT JAM Physics. How\",\"What are the best Instagram hack tools that have n\",\"I am studing interior design. What are some good i\",\"What are some stupid jokes that make you laugh?\\n\",\"What are the factors affecting Real estate investm\",\"How can I get rid of white dry spot on my face? It\",\"What is it like to have an ugly wife/partner?\\n\",\"What do you love most about your life and why?\\n\",\"In the unlikely event that the Electoral College t\",\"How is life as an Engineer?\\n\",\"Where and why are the imaginary numbers used?\\n\",\"What are some good hypo-allergenic lipsticks?\\n\",\"Did the United Nations play a part in the divide o\",\"When and Why did America become a world power?\\n\",\"What are some recipes using Hormel Black Label Ham\",\"Which is the best company to invest shares on Nove\",\"The man I'm about 2 marry says when I have my peri\",\"What can be the best answer for why finance?\\n\",\"What are the best facts about the universe?\\n\",\"What's the sweetest thing you did for a bestfriend\",\"What is the difference between techno and trance m\",\"TV Sitcoms: Why do English comedy shows have peopl\",\"Does percentile system would affect neet 1 student\",\"Is there Uber in Valencia, Madrid and Barcelona?\\n\",\"Have real-life siblings ever shot intimate scenes \",\"How should I improve my writing skill for blogging\",\"Can cold weather affect a menstrual cycle?\\n\",\"How can we earn money online while studying?\\n\",\"Can a tablet keyboard be used on any kind of table\",\"What are the Upcoming development projects in Chha\",\"Where can I buy cheap Twitter followers?\\n\",\"Why do passengers from aircraft are not given a bu\",\"When should I tell my crush I like her?\\n\",\"Why does Pakistan have a better image and reputati\",\"What are Andrea Pirlo's strengths as a midfielder?\",\"From a point in space billions of light years away\",\"Will Medicaid pay for electrologist to do the shav\",\"Why do technical employees despise sales people so\",\"What are the best freelance websites for C#?\\n\",\"Will I be successful without educations?\\n\",\"How can I learn about cars?\\n\",\"What is the best question asked in an interview?\\n\",\"Why there is so much hatred against Brahmins in In\",\"How do I learn to enter journal entries online in \",\"Will CS be issuing a PR message for Boston?\\n\",\"Why do some people 'hate' drugs or people who ever\",\"How do I know my passion? What is my talent and wh\",\"How do pessimists and optimists differ?\\n\",\"How many pulleys did it take for Archimedes to lif\",\"What is the best course after 12th for a medical s\",\"What are the steps that I should follow to get in \",\"Where was the boston marathon?\\n\",\"What is it like to be in or around a bomb blast?\\n\",\"Will Trump destroy international US-companies thro\",\"Should celebrities have the right to voice their o\",\"Can I say that: \\\"A battery can be seem as a capaci\",\"What is it like to be an ENTP?\\n\",\"How do I start designing on glass?\\n\",\"What is the market risk premium formula?\\n\",\"How can I pay the parking meter if I have no coins\",\"Is it true that Obama has a secret son named \\\"Luth\",\"Which is the best coaching for IAS in up?\\n\",\"How big is the equity funding market in North Amer\",\"Which are the good government medical colleges in \",\"How do I control my hair fall?\\n\",\"Is it really worth creating Shopify themes?\\n\",\"What can cause knee pain? It only hurts when I sta\",\"Where can you find a list of common 9 letter words\",\"NSFW: Is this penis color normal or should I see a\",\"Why do most women remove the hair from their arm p\",\"Which processor is better (faster/more efficient),\",\"Which two statements are true regarding views in s\",\"What is the easiest and quickest Indian food recip\",\"What are the best local SEO companies in India?\\n\",\"How do I get rid of adult content on my Quora feed\",\"Can the zombie fungi attack humans as well?\\n\",\"If I wanted to learn about the Roman Empire,what w\",\"What are the key differences between LXDE and XFCE\",\"Can people see the sellers real name, e-mail addre\",\"Should I still watch The Matrix movie?\\n\",\"Is there any truth to the rumor that the youngest \",\"Is it ok that I don't want to hang out with my fam\",\"I am in class 9. If i want to crack IIT JEE, then \",\"Will Obama's gang stalking/surveillance program be\",\"What are some good songs to lyric text prank a fri\",\"Where can I get best quality video DJ for party in\",\"How long does it take for your hair to grow?\\n\",\"Should I update my Redmi 3s from MIUI 7 to MIUI 8?\",\"How do muscles work?\\n\",\"WHAT IS THE BEST ROUT FOR NEPAL PASUPATI NATH TEMP\",\"How to make a website similar to feedwiser.com in \",\"Why does India so scared of CPEC?\\n\",\"What did your first sex feel like as a girl?\\n\",\"In International ODI/T20 cricket matches, if a bat\",\"Why can humans feel acceleration, but not constant\",\"Can the Microsoft Surface Pro 4 run AutoCAD?\\n\",\"What are the differences between stock Crown Victo\",\"What are the good ways to download Lynda.com's tut\",\"How much is the average salary package for a 1.5 y\",\"How can you reduce the barriers of communication?\\n\",\"Why would someone use Instagram Stories over Snapc\",\"Whiskey: How many 'shots' are in a fifth of Jack D\",\"What might happen now that President-elect Donald \",\"How do I write a waiver letter for school?\\n\",\"I am interested in persuing ma industrial psycholo\",\"Does modafinil shows up on a drug test? Because my\",\"Is it possible to get high off Vyvanse?\\n\",\"Is an agnostic necessarily a skeptic, and how?\\n\",\"Where can I get best support in Sydney for buying \",\"What are the duties of a lieutenant in Indian army\",\"Why is smileys not used on Quora?\\n\",\"What does it feel like for a man when someone who \",\"How does post graduation permit impact .lets say I\",\"Online Payment Gateways and Processing: What is th\",\"What are the best books to learn c programing lang\",\"Solid State Physics: What is The Theory of Alloys?\",\"How do I fill in my first name in a PAN card dupli\",\"Why is egg yolk not good for you?\\n\",\"Anatomy of Female Pelvis: Do women really have an \",\"How much does it cost to develop mobile applicatio\",\"Who is the most honest Game of Thrones character?\\n\",\"What is a high quality Apple MacBook Air charger?\\n\",\"Where and how is the WWE championship belt made?\\n\",\"What is green communication?\\n\",\"I have been a good student since chiild hood but j\",\"I'm solving exercises of artificial neural network\",\"Compared to your own compensation, and in consider\",\"How can I keep browsing Quora forever?\\n\",\"Having built web stuff the old way (PHP/MySQL) bac\",\"Is our new currency note of Rs.2000 equipped with \",\"What's the best way to join a startup in DC?\\n\",\"What would happen if we added a second Earth of eq\",\"When will piracy on Android stop?\\n\",\"What do you mean by executive consultant and suppo\",\"Why do I always feel like I am missing something?\\n\",\"What does a user see when he/she gets a new messag\",\"How can I become a web developer?\\n\",\"Is there any good alternative softwares to Tally?\\n\",\"Would you have sex during period?\\n\",\"Are there prominent Bangladeshi Hindus?\\n\",\"I have registered for PhD (no NET) (phy) in 2013, \",\"I changed my name, but the person did a mistake. M\",\"At what age do your breasts stop growing?\\n\",\"How do I get a girl's phone number in a library?\\n\",\"I am into a habit of over thinking things. How do \",\"What is the average salary of a civil engineer?\\n\",\"What is the difference between rote learning vs me\",\"What are the ways to compete in the Olympics in 20\",\"What trivia (and/or little-known facts) do you fin\",\"Xiaomi Redmi note 3: Which is the best colour to b\",\"What does \\\" the Hadamard Perron theorem\\\" means?\\n\",\"Is there a way to see the viewing history and chat\",\"What is the best place for trekking in Goa?\\n\",\"How does an instant messenger work?\\n\",\"What are the disadvantages of the World Trade Orga\",\"Why does the US military not use AK series rifles?\",\"Does Moto m have gorilla glass?\\n\",\"What is the hierarchy of an associate consultant a\",\"What are some major landforms in Texas, and how do\",\"What other jobs can a medical degree holder do mea\",\"MY HP DEXTOP DOESNOT CONNECT WIFI WHY?\\n\",\"How can I get motivated to workout?\\n\",\"What should I gift it to my mom on her birthday?\\n\",\"Which is the best video you have ever seen?\\n\",\"I was selected in campus and was issued a joining \",\"What makes a poem a good way to express emotions? \",\"What would happen if I cut down a tree outside my \",\"Can you make money in Amway?\\n\",\"Body Weight: How many pounds can I gain every week\",\"What are the impacts (both positive & negative) of\",\"I forgot the password which I used to login n n lo\",\"What are the best websites for career?\\n\",\"What is your favourite episode of the office (USA)\",\"Why is time slower down near heavy objects?\\n\",\"How do l update any version after rooting the mobi\",\"Why is 3 am called the witching hour?\\n\",\"How do I run a shell script from Java code?\\n\",\"What are the advertising campaigns of 2011?\\n\",\"Should I opt for computer science if I don't take \",\"What are the polymers of protein?\\n\",\"How much better will the JWST be than Hubble?\\n\",\"What are the greatest examples of absence of mind?\",\"How can I understand the STOCK market from the bas\",\"How do I make Gazpacho?\\n\",\"What is the typical role of a brand manager?\\n\",\"Who are the top 5 hottest women ever?\\n\",\"What is the name of the game that Aamir Khan was r\",\"How long does it take to learn dance?\\n\",\"What's the funniest thing that's happened to you a\",\"Why are metals malleable and ductile?\\n\",\"List of national daily in India?\\n\",\"Are Volvos actually safer than comparable cars?\\n\",\"Can you tell who has been looking at your Instagra\",\"A ball dropped from the roof of a building takes 4\",\"What percentage of Hillary Clinton's supporters ha\",\"Do you think you are beautiful?\\n\",\"Which are the free email marketing tools?\\n\",\"What topic of discussion do people hate the most? \",\"What is the point in having hyper-politicised stud\",\"Why Steve Jobs is considered as innovator?\\n\",\"How long would it take an average programmer to wr\",\"Why are conservatives defending Holly Fisher? (see\",\"What is so important about Adam Smith's pin factor\",\"What is the Arizona bark scorpion, and how do anim\",\"How do I stop smoking cigarettes?\\n\",\"What are the functions of a computer's motherboard\",\"How can tea bags help for styes?\\n\",\"How can I get a patent for my really effective inn\",\"Can India ever become 'Sone Ki Chidiya' again?\\n\",\"Is there any way to play Android games LAN multipl\",\"Why should I ask my first question?\\n\",\"Who are the top writers on Hinduism on Quora? Who \",\"How do I wake up at 4:00 A.M.?\\n\",\"Why is Quora moderation collapsing all my answers?\",\"In an honest assessment, what do you think of Trum\",\"What type of bonding is present in a coordinate bo\",\"Is it possible to delete your Wikipedia account hi\",\"I'm a +2 CBSE non-medical student. Is there any pr\",\"Are there any limitations as to setting up a forei\",\"How will the drought in California affect its econ\",\"What is Informatica online training?\\n\",\"Is it compulsory for a Web designer and developer \",\"How could the US realistically pay off its debt?\\n\",\"Who is Barry Soetoro?\\n\",\"How do I solve [math]2x^3-x^2+11x+3=0[/math]?\\n\",\"What are some hobbies couples can do at home?\\n\",\"How have meerkats adapted to the desert?\\n\",\"What causes dizziness when you lay down?\\n\",\"What should one do after a civil engineering degre\",\"What are the advantages of hiring skip bins servic\",\"Why is it necessary that singers lip-sync?\\n\",\"How can I turn off the screen overlay detected on \",\"How do you clean or polish a pair of Woodland shoe\",\"What are some classes you wish you took in high sc\",\"What is the formula of [math](a+b)^3[/math]?\\n\",\"What is it like to commit yourself to a psychiatri\",\"Is there any way to slow or reverse the late effec\",\"What would the implications be if we discovered th\",\"Any other program to help on code contribution for\",\"What is the bond order of [math]H_2[/math]?\\n\",\"What is the best way to create a website without c\",\"What were some causes and effects of the French Re\",\"What are some catchy headlines for a dating site?\\n\",\"Should I get Company of Heroes, World in Conflict \",\"How do I remove a person from a group in Skype?\\n\",\"Why was Manmohan Singh briefed by PM Modi after su\",\"Does anybody want to learn Chinese?\\n\",\"Is Xiaomi going the Nokia way to oblivion?\\n\",\"Should I buy hp 17.3 AMD laptop or lenovo 17.3 i5 \",\"Which is better a government job or a software job\",\"How can the word \\\"credulity\\\" be used in a sentence\",\"Does uber track time on app?\\n\",\"How do I get over direct rejection?\\n\",\"How can any institute get an ISO certificate?\\n\",\"What are the best pranks?\\n\",\"Are non-solicit agreements enforceable if the pers\",\"Which phone is best in 2016 for a 18 years boy my \",\"What is the definition of an archetypal hero?\\n\",\"Why are some \\\"ugly\\\" people still very attractive?\\n\",\"What are the chances of Donald Trump's impeachment\",\"What would a society based on laws enforcing only \",\"What is the full form of \\\"veto\\\" power?\\n\",\"How much do people get paid to do a TED talk?\\n\",\"What does it mean to say \\\"enriching herself off of\",\"How can I be more persuasive at work?\\n\",\"What is the corporate culture like at National Bev\",\"What is the fastest way to get a PAN card?\\n\",\"Who will win in America presidential elections in \",\"How do I solve this differential problem?\\n\",\"How is Banjara's Saffron Facial Kit used?\\n\",\"How do you understand life?\\n\",\"Will an MS from NUS in electrical engineering prov\",\"How does one create a strong password? Any tips?\\n\",\"Who was the best dressed at the 2016 Emmy's?\\n\",\"What is the cost of manufacturing a SIM card?\\n\",\"Are you tolerant?\\n\",\"Is [math]\\\\{1,2,3\\\\}[/math] a compact subset of a me\",\"What kind of energy is involved in hearing and vis\",\"What happened with Lehman Brothers?\\n\",\"What is a good web page publisher?\\n\",\"Why does eating radishes cause diarrhea?\\n\",\"How do I encrypt the data on my Android phone?\\n\",\"If there were an Oscar for \\\"Best Line in a Movie\\\",\",\"Why are tyres black?\\n\",\"What is the best way to unlock a Motorola Droid Bi\",\"Is a $45 a month job worth the experience?\\n\",\"Should I settle in Canada or Japan?\\n\",\"How is the appraisal process in Accenture? How wil\",\"How does sand turn into glass?\\n\",\"What effect will increased automation of jobs and \",\"I am 25 years old Indian guy, want to settle in Ne\",\"What are some Raksha Bandhan gift suggestions for \",\"How do I write a multi-dimensional villain that is\",\"Why is there no nucleus in a red blood cell?\\n\",\"Why do Quora allow anonymous fake questions from A\",\"Is it possible to merge a foursquare venue into a \",\"How do I find out if I have Siri on my phone?\\n\",\"Why do I feel like I'm not living my life?\\n\",\"What will happen to global stock market if Donald \",\"What makes weeds grow so much faster and easier th\",\"Do people with extremely high IQ need higher sugar\",\"What should teaching assistants do?\\n\",\"Why is Perth one of the most liveable cities in th\",\"How do you get to the entrance for Resolution Cave\",\"How do I get involved in research as an undergradu\",\"If you have one option to remove anything, what wi\",\"What are the risk after angioplasty?\\n\",\"Why can't men read the signals women give off when\",\"How can a non-EU medical graduate get into residen\",\"How do I stay active?\\n\",\"I'm going to Paris. What is the equivalent \\\"neighb\",\"How do I get rid of dandruff, or at least prevent \",\"Is Medicaid going to pay for the electrologist for\",\"When Australia became a nation in 1901, Did aborig\",\"What is the difference between SSL and Sitelock?\\n\",\"What are some unsolved problems in deep machine le\",\"What's the difference between computer engineering\",\"Is it possible to get a decent job after completin\",\"What is the difference between MG & BG in railway \",\"How do I control an Arduino with a Raspberry Pi?\\n\",\"What is the best field to pursue MS after doing el\",\"What is the difference between Directx and graphic\",\"How do I wirelessly charge the electrical devices \",\"Can you upload Numbers sheets from iPad to Google \",\"What's the best movie franchise you have ever watc\",\"If light does not have mass, then how can it be ab\",\"Why is the book of Esther in the Bible?\\n\",\"What makes comic books worth reading?\\n\",\"What are the advantages of outsourcing property ma\",\"What is a Quora credit competition?\\n\",\"Are data analyst/data science jobs boring?\\n\",\"Why don't satellites crash into each other?\\n\",\"How do dermatologists remove blackheads?\\n\",\"How can I choose between my dad and my mom?\\n\",\"Can you really not change people?\\n\",\"Being a non believer of a spiritual entity, I have\",\"Is black coffee fattening? If so, what makes it fa\",\"The education system is outdated. What would you d\",\"Who are the founders of Quora?\\n\",\"What is it like to be a landlord?\\n\",\"How many stamps do I need to send a letter to germ\",\"My father just recently got married. His wife goes\",\"Which countries are best to migrate from the US?\\n\",\"Can any one tell me a basketball club in Bangalore\",\"How can Spotify download songs offline?\\n\",\"How do I make money online for free in Spain?\\n\",\"Why is Tornado Alley prone to tornadoes?\\n\",\"How does helium change the inhaler's voice?\\n\",\"What is a bedding ceremony in Game of Thrones?\\n\",\"What is it like living in former East Germany as a\",\"Did the USA or NATO commit any war crimes in Iraq?\",\"Why don't we capture terrorist and behead them?\\n\",\"What is your favorite quote (books, movies, people\",\"What mixes well with peach vodka?\\n\",\"Which Patanjali products contain cow urine?\\n\",\"Why are three phases denoted by RYB?\\n\",\"Where could I learn JavaScript online?\\n\",\"Is it appropriate to wear a sports bra simply to t\",\"What are the differences between Jenkins CI and Dr\",\"T right do you think we should be entitled to?\\n\",\"What was the public's reaction to Crystal Pepsi?\\n\",\"How can I crack MH-CET 2017 engineering by self-st\",\"What is the way to become a dental hygienist in th\",\"Why do solving math/statistics problems causes my \",\"Does your name sound as awkward to others as it so\",\"What is the proper format of writing formal-inform\",\"How does doc2vec represent feature vector of a doc\",\"Why are software development task estimations regu\",\"How can I set up molecular pathology lab?\\n\",\"How do I score a rank in CA - IPCC?\\n\",\"What are some examples of strong organic acids?\\n\",\"What can be a good hindi (indian) name for a tea b\",\"Is the Google host matching process different for \",\"Is Cuba considered part of Latin America?\\n\",\"Does the following script (\\u0256\\u2200\\u0f61\\u0632\\u2202 \\u0250\\u0167 \\u01ab\\u04bf\\u03de\\u026e\\u2609 \\u027d\\u03c6\\u0289\\u029b\\u0195), \",\"How can I increase my website's DA?\\n\",\"Is it normal to imagine having sex with other guy \",\"What is the percent purity (approx) of consumable \",\"Do soulmates just come walking into your life when\",\"If I use marijuana with my boyfriend, is there a p\",\"Can you analyze everything in soil?\\n\",\"What difference it would make if India Nuked and K\",\"What are the advantages of a dominant party system\",\"What were some things India did not do but takes c\",\"How many total women have accused Bill Clinton of \",\"Why do I wish some fictional characters existed?\\n\",\"Where can I find best hotel at Ranikhet?\\n\",\"How do I make good memes?\\n\",\"What are some of the common sayings or proverbs in\",\"What kind of writing style makes someone a \\\"dark w\",\"Are Trump and Hillary really the best America has \",\"How can I make my career in embedded system and ro\",\"Will adding a USB to VGA adapter always give an ex\",\"We will never be able to see our own faces with ou\",\"What are the ways you can stop a friend from pitch\",\"What is the average time for preparation of IAS?\\n\",\"How can I learn new things quickly?\\n\",\"What is the definition of political courage?\\n\",\"What makes death scary?\\n\",\"I'm really pretty but I don't want to be I hate th\",\"Is Assam Down Town University good?\\n\",\"How do the brain structures of bonobos change as t\",\"What's the biggest scam?\\n\",\"Does the US government have an alien flying saucer\",\"I need to gain weight, but I don't have abs. It's \",\"Why should I study Calculus?\\n\",\"Do you think your childhood contributed to your fi\",\"How does the Goods and Services Tax (GST) works?\\n\",\"Where can I download Cisco 500-285 exam dumps?\\n\",\"How do I can make a second nation in Cybernations \",\"Did Neil Armstrong really land on the moon?\\n\",\"Why is Devil any other than God head of state?\\n\",\"How do I stop being possessive over my girlfriend?\",\"How does Kongregate compute the statistics of adve\",\"Who is the best nuero physician at NIMHANS, Bangal\",\"What are nonprofit organizations?\\n\",\"I want to know the process of starting outbound ca\",\"Which are some of the best hotels to stay in Helsi\",\"What is good about Deloitte Chicago?\\n\",\"How do I recover data from a formatted hard drive?\",\"Could India and Pakistan unite again?\\n\",\"How often should I massage my face with Argan oil?\",\"How is psychodynamic therapy different from psycho\",\"What are some of Barack Obama's character traits?\\n\",\"Would it make sense to replace the B-52's 8 1960s \",\"Is it possible to bring forward my flight date of \",\"How can I learn marathons?\\n\"],\"x\":{\"__ndarray__\":\"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\",\"dtype\":\"float32\",\"shape\":[1001]},\"y\":{\"__ndarray__\":\"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\",\"dtype\":\"float32\",\"shape\":[1001]}}},\"id\":\"043ee3ee-0aa1-4a58-9244-923edbb714e0\",\"type\":\"ColumnDataSource\"},{\"attributes\":{\"source\":{\"id\":\"043ee3ee-0aa1-4a58-9244-923edbb714e0\",\"type\":\"ColumnDataSource\"}},\"id\":\"a362c0aa-ee55-43f1-88b0-bb4dcd1edcbf\",\"type\":\"CDSView\"},{\"attributes\":{\"bottom_units\":\"screen\",\"fill_alpha\":{\"value\":0.5},\"fill_color\":{\"value\":\"lightgrey\"},\"left_units\":\"screen\",\"level\":\"overlay\",\"line_alpha\":{\"value\":1.0},\"line_color\":{\"value\":\"black\"},\"line_dash\":[4,4],\"line_width\":{\"value\":2},\"plot\":null,\"render_mode\":\"css\",\"right_units\":\"screen\",\"top_units\":\"screen\"},\"id\":\"4f8b8f0b-ac0f-4f59-b2c2-6c08a17ba7b6\",\"type\":\"BoxAnnotation\"},{\"attributes\":{},\"id\":\"1e629458-9acd-48da-89f3-4b606558c2e6\",\"type\":\"SaveTool\"},{\"attributes\":{},\"id\":\"5982021b-6ad2-41c6-b760-8319e8dbbfd5\",\"type\":\"BasicTickFormatter\"},{\"attributes\":{\"dimension\":1,\"plot\":{\"id\":\"0f3fd755-855b-4821-86dc-690768efa19d\",\"subtype\":\"Figure\",\"type\":\"Plot\"},\"ticker\":{\"id\":\"b4748d2d-1f74-4d26-81f2-8f06cec4804f\",\"type\":\"BasicTicker\"}},\"id\":\"70a29f2e-df85-4b5f-8b5f-f70af786c487\",\"type\":\"Grid\"},{\"attributes\":{\"below\":[{\"id\":\"d2fa4ac4-987e-4ff2-ab4f-cbc69f83df6b\",\"type\":\"LinearAxis\"}],\"left\":[{\"id\":\"9a47faa1-21f0-4253-b17e-54fb14f5449d\",\"type\":\"LinearAxis\"}],\"plot_height\":400,\"renderers\":[{\"id\":\"d2fa4ac4-987e-4ff2-ab4f-cbc69f83df6b\",\"type\":\"LinearAxis\"},{\"id\":\"b3eda045-15a7-46f9-af07-9e5b1f060bad\",\"type\":\"Grid\"},{\"id\":\"9a47faa1-21f0-4253-b17e-54fb14f5449d\",\"type\":\"LinearAxis\"},{\"id\":\"70a29f2e-df85-4b5f-8b5f-f70af786c487\",\"type\":\"Grid\"},{\"id\":\"4f8b8f0b-ac0f-4f59-b2c2-6c08a17ba7b6\",\"type\":\"BoxAnnotation\"},{\"id\":\"9ea4732d-468d-4391-8749-250fdf6aaf30\",\"type\":\"GlyphRenderer\"}],\"title\":{\"id\":\"57e25c3c-47e8-4fc6-8581-c62a0208aeb5\",\"type\":\"Title\"},\"toolbar\":{\"id\":\"17c7c6e6-cd0b-4a81-89fe-4f9fa5749bfd\",\"type\":\"Toolbar\"},\"x_range\":{\"id\":\"5f7d20e5-5c1f-4153-a1bd-a9270079ed54\",\"type\":\"DataRange1d\"},\"x_scale\":{\"id\":\"1cc3b246-9e38-4da4-b3b7-fdda898eaea6\",\"type\":\"LinearScale\"},\"y_range\":{\"id\":\"0820559f-b5ba-44f0-ac75-14349ec3e704\",\"type\":\"DataRange1d\"},\"y_scale\":{\"id\":\"85f033a0-cfe4-402d-bcae-ef32c8ebe7a5\",\"type\":\"LinearScale\"}},\"id\":\"0f3fd755-855b-4821-86dc-690768efa19d\",\"subtype\":\"Figure\",\"type\":\"Plot\"},{\"attributes\":{},\"id\":\"b4748d2d-1f74-4d26-81f2-8f06cec4804f\",\"type\":\"BasicTicker\"},{\"attributes\":{\"fill_alpha\":{\"value\":0.25},\"fill_color\":{\"field\":\"color\"},\"line_alpha\":{\"value\":0.25},\"line_color\":{\"field\":\"color\"},\"size\":{\"units\":\"screen\",\"value\":20},\"x\":{\"field\":\"x\"},\"y\":{\"field\":\"y\"}},\"id\":\"19bb5871-7507-49cd-8475-25f1713e92f4\",\"type\":\"Circle\"},{\"attributes\":{\"overlay\":{\"id\":\"4f8b8f0b-ac0f-4f59-b2c2-6c08a17ba7b6\",\"type\":\"BoxAnnotation\"}},\"id\":\"82cbf8eb-c76a-4e94-b172-f57461e768fe\",\"type\":\"BoxZoomTool\"},{\"attributes\":{\"formatter\":{\"id\":\"7fc38be1-5509-4f1a-b48b-817778c9a590\",\"type\":\"BasicTickFormatter\"},\"plot\":{\"id\":\"0f3fd755-855b-4821-86dc-690768efa19d\",\"subtype\":\"Figure\",\"type\":\"Plot\"},\"ticker\":{\"id\":\"b4748d2d-1f74-4d26-81f2-8f06cec4804f\",\"type\":\"BasicTicker\"}},\"id\":\"9a47faa1-21f0-4253-b17e-54fb14f5449d\",\"type\":\"LinearAxis\"},{\"attributes\":{\"callback\":null},\"id\":\"5f7d20e5-5c1f-4153-a1bd-a9270079ed54\",\"type\":\"DataRange1d\"},{\"attributes\":{},\"id\":\"320e70f2-efbb-4f58-b9e0-38e830266217\",\"type\":\"PanTool\"},{\"attributes\":{\"formatter\":{\"id\":\"5982021b-6ad2-41c6-b760-8319e8dbbfd5\",\"type\":\"BasicTickFormatter\"},\"plot\":{\"id\":\"0f3fd755-855b-4821-86dc-690768efa19d\",\"subtype\":\"Figure\",\"type\":\"Plot\"},\"ticker\":{\"id\":\"ddfce8fa-3426-4439-94d1-fc05d9f9c168\",\"type\":\"BasicTicker\"}},\"id\":\"d2fa4ac4-987e-4ff2-ab4f-cbc69f83df6b\",\"type\":\"LinearAxis\"},{\"attributes\":{\"callback\":null},\"id\":\"0820559f-b5ba-44f0-ac75-14349ec3e704\",\"type\":\"DataRange1d\"},{\"attributes\":{},\"id\":\"ddfce8fa-3426-4439-94d1-fc05d9f9c168\",\"type\":\"BasicTicker\"},{\"attributes\":{},\"id\":\"1cc3b246-9e38-4da4-b3b7-fdda898eaea6\",\"type\":\"LinearScale\"},{\"attributes\":{\"plot\":null,\"text\":\"\"},\"id\":\"57e25c3c-47e8-4fc6-8581-c62a0208aeb5\",\"type\":\"Title\"},{\"attributes\":{\"callback\":null,\"tooltips\":[[\"phrase\",\"@phrase\"]]},\"id\":\"a1a41ffb-5770-492e-8857-dcb405170a70\",\"type\":\"HoverTool\"},{\"attributes\":{\"fill_alpha\":{\"value\":0.1},\"fill_color\":{\"value\":\"#1f77b4\"},\"line_alpha\":{\"value\":0.1},\"line_color\":{\"value\":\"#1f77b4\"},\"size\":{\"units\":\"screen\",\"value\":20},\"x\":{\"field\":\"x\"},\"y\":{\"field\":\"y\"}},\"id\":\"42a1cb89-f133-4063-8b08-0a5ffeff5b15\",\"type\":\"Circle\"},{\"attributes\":{\"plot\":{\"id\":\"0f3fd755-855b-4821-86dc-690768efa19d\",\"subtype\":\"Figure\",\"type\":\"Plot\"},\"ticker\":{\"id\":\"ddfce8fa-3426-4439-94d1-fc05d9f9c168\",\"type\":\"BasicTicker\"}},\"id\":\"b3eda045-15a7-46f9-af07-9e5b1f060bad\",\"type\":\"Grid\"},{\"attributes\":{\"active_drag\":\"auto\",\"active_inspect\":\"auto\",\"active_scroll\":{\"id\":\"6331a0b7-5677-43ce-b3cb-1062fa8c625d\",\"type\":\"WheelZoomTool\"},\"active_tap\":\"auto\",\"tools\":[{\"id\":\"320e70f2-efbb-4f58-b9e0-38e830266217\",\"type\":\"PanTool\"},{\"id\":\"6331a0b7-5677-43ce-b3cb-1062fa8c625d\",\"type\":\"WheelZoomTool\"},{\"id\":\"82cbf8eb-c76a-4e94-b172-f57461e768fe\",\"type\":\"BoxZoomTool\"},{\"id\":\"1e629458-9acd-48da-89f3-4b606558c2e6\",\"type\":\"SaveTool\"},{\"id\":\"e92a3c0c-76d8-4b52-ab78-29b38f825f3a\",\"type\":\"ResetTool\"},{\"id\":\"882790fa-5e67-4592-bdd4-2b58c9c31050\",\"type\":\"HelpTool\"},{\"id\":\"a1a41ffb-5770-492e-8857-dcb405170a70\",\"type\":\"HoverTool\"}]},\"id\":\"17c7c6e6-cd0b-4a81-89fe-4f9fa5749bfd\",\"type\":\"Toolbar\"},{\"attributes\":{\"data_source\":{\"id\":\"043ee3ee-0aa1-4a58-9244-923edbb714e0\",\"type\":\"ColumnDataSource\"},\"glyph\":{\"id\":\"19bb5871-7507-49cd-8475-25f1713e92f4\",\"type\":\"Circle\"},\"hover_glyph\":null,\"muted_glyph\":null,\"nonselection_glyph\":{\"id\":\"42a1cb89-f133-4063-8b08-0a5ffeff5b15\",\"type\":\"Circle\"},\"selection_glyph\":null,\"view\":{\"id\":\"a362c0aa-ee55-43f1-88b0-bb4dcd1edcbf\",\"type\":\"CDSView\"}},\"id\":\"9ea4732d-468d-4391-8749-250fdf6aaf30\",\"type\":\"GlyphRenderer\"},{\"attributes\":{},\"id\":\"e92a3c0c-76d8-4b52-ab78-29b38f825f3a\",\"type\":\"ResetTool\"},{\"attributes\":{},\"id\":\"85f033a0-cfe4-402d-bcae-ef32c8ebe7a5\",\"type\":\"LinearScale\"}],\"root_ids\":[\"0f3fd755-855b-4821-86dc-690768efa19d\"]},\"title\":\"Bokeh Application\",\"version\":\"0.12.10\"}};\n",
       "    var render_items = [{\"docid\":\"5c862f92-6fa1-42d3-b412-634f2af71426\",\"elementid\":\"76513b73-14d9-46f9-a4dc-982cc4b687fa\",\"modelid\":\"0f3fd755-855b-4821-86dc-690768efa19d\"}];\n",
       "\n",
       "    root.Bokeh.embed.embed_items(docs_json, render_items);\n",
       "  }\n",
       "\n",
       "  if (root.Bokeh !== undefined) {\n",
       "    embed_document(root);\n",
       "  } else {\n",
       "    var attempts = 0;\n",
       "    var timer = setInterval(function(root) {\n",
       "      if (root.Bokeh !== undefined) {\n",
       "        embed_document(root);\n",
       "        clearInterval(timer);\n",
       "      }\n",
       "      attempts++;\n",
       "      if (attempts > 100) {\n",
       "        console.log(\"Bokeh: ERROR: Unable to embed document because BokehJS library is missing\")\n",
       "        clearInterval(timer);\n",
       "      }\n",
       "    }, 10, root)\n",
       "  }\n",
       "})(window);"
      ],
      "application/vnd.bokehjs_exec.v0+json": ""
     },
     "metadata": {
      "application/vnd.bokehjs_exec.v0+json": {
       "id": "0f3fd755-855b-4821-86dc-690768efa19d"
      }
     },
     "output_type": "display_data"
    },
    {
     "data": {
      "text/html": [
       "<div style=\"display: table;\"><div style=\"display: table-row;\"><div style=\"display: table-cell;\"><b title=\"bokeh.plotting.figure.Figure\">Figure</b>(</div><div style=\"display: table-cell;\">id&nbsp;=&nbsp;'0f3fd755-855b-4821-86dc-690768efa19d', <span id=\"f371c7c3-723d-4a9b-9e20-45d311726c61\" style=\"cursor: pointer;\">&hellip;)</span></div></div><div class=\"78970b79-548f-48fd-85b1-6bbf9d37658a\" style=\"display: none;\"><div style=\"display: table-cell;\"></div><div style=\"display: table-cell;\">above&nbsp;=&nbsp;[],</div></div><div class=\"78970b79-548f-48fd-85b1-6bbf9d37658a\" style=\"display: none;\"><div style=\"display: table-cell;\"></div><div style=\"display: table-cell;\">aspect_scale&nbsp;=&nbsp;1,</div></div><div class=\"78970b79-548f-48fd-85b1-6bbf9d37658a\" style=\"display: none;\"><div style=\"display: table-cell;\"></div><div style=\"display: table-cell;\">background_fill_alpha&nbsp;=&nbsp;{'value': 1.0},</div></div><div class=\"78970b79-548f-48fd-85b1-6bbf9d37658a\" style=\"display: none;\"><div style=\"display: table-cell;\"></div><div style=\"display: table-cell;\">background_fill_color&nbsp;=&nbsp;{'value': '#ffffff'},</div></div><div class=\"78970b79-548f-48fd-85b1-6bbf9d37658a\" style=\"display: none;\"><div style=\"display: table-cell;\"></div><div style=\"display: table-cell;\">below&nbsp;=&nbsp;[LinearAxis(id='d2fa4ac4-987e-4ff2-ab4f-cbc69f83df6b', ...)],</div></div><div class=\"78970b79-548f-48fd-85b1-6bbf9d37658a\" style=\"display: none;\"><div style=\"display: table-cell;\"></div><div style=\"display: table-cell;\">border_fill_alpha&nbsp;=&nbsp;{'value': 1.0},</div></div><div class=\"78970b79-548f-48fd-85b1-6bbf9d37658a\" style=\"display: none;\"><div style=\"display: table-cell;\"></div><div style=\"display: table-cell;\">border_fill_color&nbsp;=&nbsp;{'value': '#ffffff'},</div></div><div class=\"78970b79-548f-48fd-85b1-6bbf9d37658a\" style=\"display: none;\"><div style=\"display: table-cell;\"></div><div style=\"display: table-cell;\">css_classes&nbsp;=&nbsp;None,</div></div><div class=\"78970b79-548f-48fd-85b1-6bbf9d37658a\" style=\"display: none;\"><div style=\"display: table-cell;\"></div><div style=\"display: table-cell;\">disabled&nbsp;=&nbsp;False,</div></div><div class=\"78970b79-548f-48fd-85b1-6bbf9d37658a\" style=\"display: none;\"><div style=\"display: table-cell;\"></div><div style=\"display: table-cell;\">extra_x_ranges&nbsp;=&nbsp;{},</div></div><div class=\"78970b79-548f-48fd-85b1-6bbf9d37658a\" style=\"display: none;\"><div style=\"display: table-cell;\"></div><div style=\"display: table-cell;\">extra_y_ranges&nbsp;=&nbsp;{},</div></div><div class=\"78970b79-548f-48fd-85b1-6bbf9d37658a\" style=\"display: none;\"><div style=\"display: table-cell;\"></div><div style=\"display: table-cell;\">h_symmetry&nbsp;=&nbsp;True,</div></div><div class=\"78970b79-548f-48fd-85b1-6bbf9d37658a\" style=\"display: none;\"><div style=\"display: table-cell;\"></div><div style=\"display: table-cell;\">height&nbsp;=&nbsp;None,</div></div><div class=\"78970b79-548f-48fd-85b1-6bbf9d37658a\" style=\"display: none;\"><div style=\"display: table-cell;\"></div><div style=\"display: table-cell;\">hidpi&nbsp;=&nbsp;True,</div></div><div class=\"78970b79-548f-48fd-85b1-6bbf9d37658a\" style=\"display: none;\"><div style=\"display: table-cell;\"></div><div style=\"display: table-cell;\">js_event_callbacks&nbsp;=&nbsp;{},</div></div><div class=\"78970b79-548f-48fd-85b1-6bbf9d37658a\" style=\"display: none;\"><div style=\"display: table-cell;\"></div><div style=\"display: table-cell;\">js_property_callbacks&nbsp;=&nbsp;{},</div></div><div class=\"78970b79-548f-48fd-85b1-6bbf9d37658a\" style=\"display: none;\"><div style=\"display: table-cell;\"></div><div style=\"display: table-cell;\">left&nbsp;=&nbsp;[LinearAxis(id='9a47faa1-21f0-4253-b17e-54fb14f5449d', ...)],</div></div><div class=\"78970b79-548f-48fd-85b1-6bbf9d37658a\" style=\"display: none;\"><div style=\"display: table-cell;\"></div><div style=\"display: table-cell;\">lod_factor&nbsp;=&nbsp;10,</div></div><div class=\"78970b79-548f-48fd-85b1-6bbf9d37658a\" style=\"display: none;\"><div style=\"display: table-cell;\"></div><div style=\"display: table-cell;\">lod_interval&nbsp;=&nbsp;300,</div></div><div class=\"78970b79-548f-48fd-85b1-6bbf9d37658a\" style=\"display: none;\"><div style=\"display: table-cell;\"></div><div style=\"display: table-cell;\">lod_threshold&nbsp;=&nbsp;2000,</div></div><div class=\"78970b79-548f-48fd-85b1-6bbf9d37658a\" style=\"display: none;\"><div style=\"display: table-cell;\"></div><div style=\"display: table-cell;\">lod_timeout&nbsp;=&nbsp;500,</div></div><div class=\"78970b79-548f-48fd-85b1-6bbf9d37658a\" style=\"display: none;\"><div style=\"display: table-cell;\"></div><div style=\"display: table-cell;\">match_aspect&nbsp;=&nbsp;False,</div></div><div class=\"78970b79-548f-48fd-85b1-6bbf9d37658a\" style=\"display: none;\"><div style=\"display: table-cell;\"></div><div style=\"display: table-cell;\">min_border&nbsp;=&nbsp;5,</div></div><div class=\"78970b79-548f-48fd-85b1-6bbf9d37658a\" style=\"display: none;\"><div style=\"display: table-cell;\"></div><div style=\"display: table-cell;\">min_border_bottom&nbsp;=&nbsp;None,</div></div><div class=\"78970b79-548f-48fd-85b1-6bbf9d37658a\" style=\"display: none;\"><div style=\"display: table-cell;\"></div><div style=\"display: table-cell;\">min_border_left&nbsp;=&nbsp;None,</div></div><div class=\"78970b79-548f-48fd-85b1-6bbf9d37658a\" style=\"display: none;\"><div style=\"display: table-cell;\"></div><div style=\"display: table-cell;\">min_border_right&nbsp;=&nbsp;None,</div></div><div class=\"78970b79-548f-48fd-85b1-6bbf9d37658a\" style=\"display: none;\"><div style=\"display: table-cell;\"></div><div style=\"display: table-cell;\">min_border_top&nbsp;=&nbsp;None,</div></div><div class=\"78970b79-548f-48fd-85b1-6bbf9d37658a\" style=\"display: none;\"><div style=\"display: table-cell;\"></div><div style=\"display: table-cell;\">name&nbsp;=&nbsp;None,</div></div><div class=\"78970b79-548f-48fd-85b1-6bbf9d37658a\" style=\"display: none;\"><div style=\"display: table-cell;\"></div><div style=\"display: table-cell;\">outline_line_alpha&nbsp;=&nbsp;{'value': 1.0},</div></div><div class=\"78970b79-548f-48fd-85b1-6bbf9d37658a\" style=\"display: none;\"><div style=\"display: table-cell;\"></div><div style=\"display: table-cell;\">outline_line_cap&nbsp;=&nbsp;'butt',</div></div><div class=\"78970b79-548f-48fd-85b1-6bbf9d37658a\" style=\"display: none;\"><div style=\"display: table-cell;\"></div><div style=\"display: table-cell;\">outline_line_color&nbsp;=&nbsp;{'value': '#e5e5e5'},</div></div><div class=\"78970b79-548f-48fd-85b1-6bbf9d37658a\" style=\"display: none;\"><div style=\"display: table-cell;\"></div><div style=\"display: table-cell;\">outline_line_dash&nbsp;=&nbsp;[],</div></div><div class=\"78970b79-548f-48fd-85b1-6bbf9d37658a\" style=\"display: none;\"><div style=\"display: table-cell;\"></div><div style=\"display: table-cell;\">outline_line_dash_offset&nbsp;=&nbsp;0,</div></div><div class=\"78970b79-548f-48fd-85b1-6bbf9d37658a\" style=\"display: none;\"><div style=\"display: table-cell;\"></div><div style=\"display: table-cell;\">outline_line_join&nbsp;=&nbsp;'miter',</div></div><div class=\"78970b79-548f-48fd-85b1-6bbf9d37658a\" style=\"display: none;\"><div style=\"display: table-cell;\"></div><div style=\"display: table-cell;\">outline_line_width&nbsp;=&nbsp;{'value': 1},</div></div><div class=\"78970b79-548f-48fd-85b1-6bbf9d37658a\" style=\"display: none;\"><div style=\"display: table-cell;\"></div><div style=\"display: table-cell;\">output_backend&nbsp;=&nbsp;'canvas',</div></div><div class=\"78970b79-548f-48fd-85b1-6bbf9d37658a\" style=\"display: none;\"><div style=\"display: table-cell;\"></div><div style=\"display: table-cell;\">plot_height&nbsp;=&nbsp;400,</div></div><div class=\"78970b79-548f-48fd-85b1-6bbf9d37658a\" style=\"display: none;\"><div style=\"display: table-cell;\"></div><div style=\"display: table-cell;\">plot_width&nbsp;=&nbsp;600,</div></div><div class=\"78970b79-548f-48fd-85b1-6bbf9d37658a\" style=\"display: none;\"><div style=\"display: table-cell;\"></div><div style=\"display: table-cell;\">renderers&nbsp;=&nbsp;[LinearAxis(id='d2fa4ac4-987e-4ff2-ab4f-cbc69f83df6b', ...), Grid(id='b3eda045-15a7-46f9-af07-9e5b1f060bad', ...), LinearAxis(id='9a47faa1-21f0-4253-b17e-54fb14f5449d', ...), Grid(id='70a29f2e-df85-4b5f-8b5f-f70af786c487', ...), BoxAnnotation(id='4f8b8f0b-ac0f-4f59-b2c2-6c08a17ba7b6', ...), GlyphRenderer(id='9ea4732d-468d-4391-8749-250fdf6aaf30', ...)],</div></div><div class=\"78970b79-548f-48fd-85b1-6bbf9d37658a\" style=\"display: none;\"><div style=\"display: table-cell;\"></div><div style=\"display: table-cell;\">right&nbsp;=&nbsp;[],</div></div><div class=\"78970b79-548f-48fd-85b1-6bbf9d37658a\" style=\"display: none;\"><div style=\"display: table-cell;\"></div><div style=\"display: table-cell;\">sizing_mode&nbsp;=&nbsp;'fixed',</div></div><div class=\"78970b79-548f-48fd-85b1-6bbf9d37658a\" style=\"display: none;\"><div style=\"display: table-cell;\"></div><div style=\"display: table-cell;\">subscribed_events&nbsp;=&nbsp;[],</div></div><div class=\"78970b79-548f-48fd-85b1-6bbf9d37658a\" style=\"display: none;\"><div style=\"display: table-cell;\"></div><div style=\"display: table-cell;\">tags&nbsp;=&nbsp;[],</div></div><div class=\"78970b79-548f-48fd-85b1-6bbf9d37658a\" style=\"display: none;\"><div style=\"display: table-cell;\"></div><div style=\"display: table-cell;\">title&nbsp;=&nbsp;Title(id='57e25c3c-47e8-4fc6-8581-c62a0208aeb5', ...),</div></div><div class=\"78970b79-548f-48fd-85b1-6bbf9d37658a\" style=\"display: none;\"><div style=\"display: table-cell;\"></div><div style=\"display: table-cell;\">title_location&nbsp;=&nbsp;'above',</div></div><div class=\"78970b79-548f-48fd-85b1-6bbf9d37658a\" style=\"display: none;\"><div style=\"display: table-cell;\"></div><div style=\"display: table-cell;\">toolbar&nbsp;=&nbsp;Toolbar(id='17c7c6e6-cd0b-4a81-89fe-4f9fa5749bfd', ...),</div></div><div class=\"78970b79-548f-48fd-85b1-6bbf9d37658a\" style=\"display: none;\"><div style=\"display: table-cell;\"></div><div style=\"display: table-cell;\">toolbar_location&nbsp;=&nbsp;'right',</div></div><div class=\"78970b79-548f-48fd-85b1-6bbf9d37658a\" style=\"display: none;\"><div style=\"display: table-cell;\"></div><div style=\"display: table-cell;\">toolbar_sticky&nbsp;=&nbsp;True,</div></div><div class=\"78970b79-548f-48fd-85b1-6bbf9d37658a\" style=\"display: none;\"><div style=\"display: table-cell;\"></div><div style=\"display: table-cell;\">v_symmetry&nbsp;=&nbsp;False,</div></div><div class=\"78970b79-548f-48fd-85b1-6bbf9d37658a\" style=\"display: none;\"><div style=\"display: table-cell;\"></div><div style=\"display: table-cell;\">width&nbsp;=&nbsp;None,</div></div><div class=\"78970b79-548f-48fd-85b1-6bbf9d37658a\" style=\"display: none;\"><div style=\"display: table-cell;\"></div><div style=\"display: table-cell;\">x_range&nbsp;=&nbsp;DataRange1d(id='5f7d20e5-5c1f-4153-a1bd-a9270079ed54', ...),</div></div><div class=\"78970b79-548f-48fd-85b1-6bbf9d37658a\" style=\"display: none;\"><div style=\"display: table-cell;\"></div><div style=\"display: table-cell;\">x_scale&nbsp;=&nbsp;LinearScale(id='1cc3b246-9e38-4da4-b3b7-fdda898eaea6', ...),</div></div><div class=\"78970b79-548f-48fd-85b1-6bbf9d37658a\" style=\"display: none;\"><div style=\"display: table-cell;\"></div><div style=\"display: table-cell;\">y_range&nbsp;=&nbsp;DataRange1d(id='0820559f-b5ba-44f0-ac75-14349ec3e704', ...),</div></div><div class=\"78970b79-548f-48fd-85b1-6bbf9d37658a\" style=\"display: none;\"><div style=\"display: table-cell;\"></div><div style=\"display: table-cell;\">y_scale&nbsp;=&nbsp;LinearScale(id='85f033a0-cfe4-402d-bcae-ef32c8ebe7a5', ...))</div></div></div>\n",
       "<script>\n",
       "(function() {\n",
       "  var expanded = false;\n",
       "  var ellipsis = document.getElementById(\"f371c7c3-723d-4a9b-9e20-45d311726c61\");\n",
       "  ellipsis.addEventListener(\"click\", function() {\n",
       "    var rows = document.getElementsByClassName(\"78970b79-548f-48fd-85b1-6bbf9d37658a\");\n",
       "    for (var i = 0; i < rows.length; i++) {\n",
       "      var el = rows[i];\n",
       "      el.style.display = expanded ? \"none\" : \"table-row\";\n",
       "    }\n",
       "    ellipsis.innerHTML = expanded ? \"&hellip;)\" : \"&lsaquo;&lsaquo;&lsaquo;\";\n",
       "    expanded = !expanded;\n",
       "  });\n",
       "})();\n",
       "</script>\n"
      ],
      "text/plain": [
       "Figure(id='0f3fd755-855b-4821-86dc-690768efa19d', ...)"
      ]
     },
     "execution_count": 45,
     "metadata": {},
     "output_type": "execute_result"
    }
   ],
   "source": [
    "draw_vectors(phrase_vectors_2d[:, 0], phrase_vectors_2d[:, 1],\n",
    "             phrase=[phrase[:50] for phrase in chosen_phrases],\n",
    "             radius=20,)"
   ]
  },
  {
   "cell_type": "markdown",
   "metadata": {},
   "source": [
    "Finally, let's build a simple \"similar question\" engine with phrase embeddings we've built."
   ]
  },
  {
   "cell_type": "code",
   "execution_count": 47,
   "metadata": {
    "collapsed": true
   },
   "outputs": [],
   "source": [
    "# compute vector embedding for all lines in data\n",
    "data_vectors = np.array([get_phrase_embedding(l) for l in data])"
   ]
  },
  {
   "cell_type": "code",
   "execution_count": 96,
   "metadata": {},
   "outputs": [
    {
     "data": {
      "text/plain": [
       "array([0.07947016, 0.05718321, 0.12193191], dtype=float32)"
      ]
     },
     "execution_count": 96,
     "metadata": {},
     "output_type": "execute_result"
    }
   ],
   "source": [
    "def cosine_distance(X, y):\n",
    "    epsilon = 10 ** -40 # to avoid divide by 0\n",
    "    return 1. - X.dot(y) / np.maximum(np.linalg.norm(X, axis=1), epsilon) / np.maximum(np.linalg.norm(y), epsilon)\n",
    "\n",
    "# check:\n",
    "cosine_distance(data_vectors[:3], data_vectors[5])"
   ]
  },
  {
   "cell_type": "code",
   "execution_count": 97,
   "metadata": {
    "collapsed": true
   },
   "outputs": [],
   "source": [
    "def find_nearest(query, k=10):\n",
    "    \"\"\"\n",
    "    given text line (query), return k most similar lines from data, sorted from most to least similar\n",
    "    similarity should be measured as cosine between query and line embedding vectors\n",
    "    hint: it's okay to use global variables: data and data_vectors. see also: np.argpartition, np.argsort\n",
    "    \"\"\"\n",
    "    query_vector = get_phrase_embedding(query)\n",
    "    distances = cosine_distance(data_vectors, query_vector)\n",
    "    \n",
    "    # find wanted idxs\n",
    "    found_idxs = np.argpartition(distances, k)[:k]\n",
    "    # should sort distances of found_idxs\n",
    "    right_order = np.argsort(distances[found_idxs])\n",
    "    found_idxs = [found_idxs[idx] for idx in right_order]\n",
    "    return [data[idx] for idx in found_idxs]"
   ]
  },
  {
   "cell_type": "code",
   "execution_count": 98,
   "metadata": {},
   "outputs": [
    {
     "name": "stdout",
     "output_type": "stream",
     "text": [
      "How do I get to the dark web?\n",
      "What should I do to enter hollywood?\n",
      "How do I use the Greenify app?\n",
      "What can I do to save the world?\n",
      "How do I win this?\n",
      "How do I think out of the box? How do I learn to think out of the box?\n",
      "How do I find the 5th dimension?\n",
      "How do I use the pad in MMA?\n",
      "How do I estimate the competition?\n",
      "What do I do to enter the line of event management?\n",
      "\n"
     ]
    }
   ],
   "source": [
    "results = find_nearest(query=\"How do i enter the matrix?\", k=10)\n",
    "\n",
    "print(''.join(results))\n",
    "\n",
    "assert len(results) == 10 and isinstance(results[0], str)\n",
    "assert results[0] == 'How do I get to the dark web?\\n'\n",
    "assert results[3] == 'What can I do to save the world?\\n'"
   ]
  },
  {
   "cell_type": "code",
   "execution_count": 99,
   "metadata": {},
   "outputs": [
    {
     "data": {
      "text/plain": [
       "['What does Donald Trump think about Israel?\\n',\n",
       " 'What books does Donald Trump like?\\n',\n",
       " 'What does Donald Trump think of India?\\n',\n",
       " 'What does India think of Donald Trump?\\n',\n",
       " 'What does Donald Trump think of China?\\n',\n",
       " 'What does Donald Trump think about Pakistan?\\n',\n",
       " 'What companies does Donald Trump own?\\n',\n",
       " 'What does Dushka Zapata think about Donald Trump?\\n',\n",
       " 'How does it feel to date Ivanka Trump?\\n',\n",
       " 'What does salesforce mean?\\n']"
      ]
     },
     "execution_count": 99,
     "metadata": {},
     "output_type": "execute_result"
    }
   ],
   "source": [
    "find_nearest(query=\"How does Trump?\", k=10)"
   ]
  },
  {
   "cell_type": "code",
   "execution_count": 100,
   "metadata": {},
   "outputs": [
    {
     "data": {
      "text/plain": [
       "[\"Why don't I get a date?\\n\",\n",
       " \"Why do you always answer a question with a question? I don't, or do I?\\n\",\n",
       " \"Why can't I ask a question anonymously?\\n\",\n",
       " \"Why don't I get a girlfriend?\\n\",\n",
       " \"Why don't I have a boyfriend?\\n\",\n",
       " \"I don't have no question?\\n\",\n",
       " \"Why can't I take a joke?\\n\",\n",
       " \"Why don't I ever get a girl?\\n\",\n",
       " \"Can I ask a girl out that I don't know?\\n\",\n",
       " \"Why don't I have a girlfriend?\\n\"]"
      ]
     },
     "execution_count": 100,
     "metadata": {},
     "output_type": "execute_result"
    }
   ],
   "source": [
    "find_nearest(query=\"Why don't i ask a question myself?\", k=10)"
   ]
  },
  {
   "cell_type": "markdown",
   "metadata": {
    "collapsed": true
   },
   "source": [
    "__Now what?__\n",
    "* Try running TSNE on all data, not just 1000 phrases\n",
    "* See what other embeddings are there in the model zoo: `gensim.downloader.info()`\n",
    "* Take a look at [FastText](https://github.com/facebookresearch/fastText) embeddings\n",
    "* Optimize find_nearest with locality-sensitive hashing: use [nearpy](https://github.com/pixelogik/NearPy) or `sklearn.neighbors`."
   ]
  }
 ],
 "metadata": {
  "kernelspec": {
   "display_name": "Python 3",
   "language": "python",
   "name": "python3"
  },
  "language_info": {
   "codemirror_mode": {
    "name": "ipython",
    "version": 3
   },
   "file_extension": ".py",
   "mimetype": "text/x-python",
   "name": "python",
   "nbconvert_exporter": "python",
   "pygments_lexer": "ipython3",
   "version": "3.6.3"
  }
 },
 "nbformat": 4,
 "nbformat_minor": 2
}
